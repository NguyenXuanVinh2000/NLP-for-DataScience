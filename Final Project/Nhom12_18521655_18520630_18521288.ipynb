{
  "nbformat": 4,
  "nbformat_minor": 0,
  "metadata": {
    "colab": {
      "name": "Source_code_NLPforDS.ipynb",
      "provenance": [],
      "collapsed_sections": [],
      "toc_visible": true
    },
    "kernelspec": {
      "name": "python3",
      "display_name": "Python 3"
    },
    "language_info": {
      "name": "python"
    }
  },
  "cells": [
    {
      "cell_type": "markdown",
      "metadata": {
        "id": "Zs1HeIb5Mngb"
      },
      "source": [
        "#Tiền xử lý"
      ]
    },
    {
      "cell_type": "code",
      "execution_count": null,
      "metadata": {
        "id": "jqVlMaFrOI21"
      },
      "outputs": [],
      "source": [
        "import numpy as np\n",
        "import pandas as pd\n",
        "from keras.layers import Dense, Input, LSTM, Bidirectional, Conv1D\n",
        "from keras.layers import Dropout, Embedding\n",
        "from keras.preprocessing import text, sequence\n",
        "from keras.layers import GlobalMaxPooling1D, GlobalAveragePooling1D, concatenate, SpatialDropout1D\n",
        "from keras.models import Model\n",
        "from keras import backend as K\n",
        "from keras.models import model_from_json\n",
        "from keras.models import load_model\n",
        "import matplotlib.pyplot as plt\n",
        "import pickle\n"
      ]
    },
    {
      "cell_type": "code",
      "execution_count": null,
      "metadata": {
        "id": "SVlmPdh5iV64",
        "colab": {
          "base_uri": "https://localhost:8080/"
        },
        "outputId": "bc59dd74-3b78-4532-fc05-058b01977fcc"
      },
      "outputs": [
        {
          "output_type": "stream",
          "name": "stdout",
          "text": [
            "Drive already mounted at /content/drive; to attempt to forcibly remount, call drive.mount(\"/content/drive\", force_remount=True).\n"
          ]
        }
      ],
      "source": [
        "from google.colab import drive\n",
        "drive.mount('/content/drive')"
      ]
    },
    {
      "cell_type": "markdown",
      "metadata": {
        "id": "TjECpVUN6Zy9"
      },
      "source": [
        "##cài đặt thư viện"
      ]
    },
    {
      "cell_type": "code",
      "execution_count": null,
      "metadata": {
        "id": "CHkt7ju34MCh",
        "colab": {
          "base_uri": "https://localhost:8080/"
        },
        "outputId": "60e85c2a-8708-401f-ab35-231f36b3ff6a"
      },
      "outputs": [
        {
          "output_type": "stream",
          "name": "stdout",
          "text": [
            "Requirement already satisfied: pyvi in /usr/local/lib/python3.7/dist-packages (0.1.1)\n",
            "Requirement already satisfied: sklearn-crfsuite in /usr/local/lib/python3.7/dist-packages (from pyvi) (0.3.6)\n",
            "Requirement already satisfied: scikit-learn in /usr/local/lib/python3.7/dist-packages (from pyvi) (1.0.1)\n",
            "Requirement already satisfied: joblib>=0.11 in /usr/local/lib/python3.7/dist-packages (from scikit-learn->pyvi) (1.1.0)\n",
            "Requirement already satisfied: threadpoolctl>=2.0.0 in /usr/local/lib/python3.7/dist-packages (from scikit-learn->pyvi) (3.0.0)\n",
            "Requirement already satisfied: scipy>=1.1.0 in /usr/local/lib/python3.7/dist-packages (from scikit-learn->pyvi) (1.4.1)\n",
            "Requirement already satisfied: numpy>=1.14.6 in /usr/local/lib/python3.7/dist-packages (from scikit-learn->pyvi) (1.19.5)\n",
            "Requirement already satisfied: python-crfsuite>=0.8.3 in /usr/local/lib/python3.7/dist-packages (from sklearn-crfsuite->pyvi) (0.9.7)\n",
            "Requirement already satisfied: six in /usr/local/lib/python3.7/dist-packages (from sklearn-crfsuite->pyvi) (1.15.0)\n",
            "Requirement already satisfied: tabulate in /usr/local/lib/python3.7/dist-packages (from sklearn-crfsuite->pyvi) (0.8.9)\n",
            "Requirement already satisfied: tqdm>=2.0 in /usr/local/lib/python3.7/dist-packages (from sklearn-crfsuite->pyvi) (4.62.3)\n"
          ]
        }
      ],
      "source": [
        "pip install pyvi"
      ]
    },
    {
      "cell_type": "code",
      "execution_count": null,
      "metadata": {
        "id": "anaJlLSymlw1"
      },
      "outputs": [],
      "source": [
        "import pandas as pd \n",
        "import re\n",
        "import sys\n",
        "from pyvi.ViTokenizer import ViTokenizer\n",
        "import numpy as np"
      ]
    },
    {
      "cell_type": "markdown",
      "metadata": {
        "id": "3P46nOHO6eRO"
      },
      "source": [
        "##Đọc dữ liệu"
      ]
    },
    {
      "cell_type": "code",
      "execution_count": null,
      "metadata": {
        "id": "aalhIv2GiJLL",
        "colab": {
          "base_uri": "https://localhost:8080/"
        },
        "outputId": "b7d9bc3f-7e62-4425-a218-de403f37c35b"
      },
      "outputs": [
        {
          "output_type": "stream",
          "name": "stdout",
          "text": [
            "24048\n",
            "2672\n",
            "6680\n"
          ]
        }
      ],
      "source": [
        "import pandas as pd \n",
        "import numpy as np \n",
        "\n",
        "DATA = '/content/drive/MyDrive/Download(Win11)/vihsd/data/vihsd/vihsd/train.csv'\n",
        "DEV_DATA = '/content/drive/MyDrive/Download(Win11)/vihsd/data/vihsd/vihsd/dev.csv'\n",
        "TEST_DATA = '/content/drive/MyDrive/Download(Win11)/vihsd/data/vihsd/vihsd/test.csv'\n",
        "\n",
        "# read data\n",
        "train_data = pd.read_csv(DATA)\n",
        "dev_data = pd.read_csv(DEV_DATA)\n",
        "test_data = pd.read_csv(TEST_DATA)\n",
        "\n",
        "print(len(train_data))\n",
        "print(len(dev_data))\n",
        "print(len(test_data))\n",
        "\n",
        "X_train = train_data['free_text']\n",
        "y_train = train_data['label_id'].values\n",
        "\n",
        "X_dev = dev_data['free_text']\n",
        "y_dev = dev_data['label_id'].values\n",
        "\n",
        "X_test = test_data['free_text']\n",
        "y_test = test_data['label_id'].values"
      ]
    },
    {
      "cell_type": "code",
      "execution_count": null,
      "metadata": {
        "id": "e6cLpgnRMHRD",
        "colab": {
          "base_uri": "https://localhost:8080/"
        },
        "outputId": "a9f3aba5-88a8-4dc5-de0d-5c5ac26eb073"
      },
      "outputs": [
        {
          "output_type": "execute_result",
          "data": {
            "text/plain": [
              "0        Em được làm fan cứng luôn rồi nè ❤️ reaction q...\n",
              "1        Đúng là bọn mắt híp lò xo thụt :))) bên việt n...\n",
              "2                 Đậu Văn Cường giờ giống thằng sida hơn à\n",
              "3        CÔN ĐỒ CỤC SÚC VÔ NHÂN TÍNH ĐỀ NGHI VN. NHÀ NƯ...\n",
              "4        Từ lý thuyết đến thực hành là cả 1 câu chuyện ...\n",
              "                               ...                        \n",
              "24043                    Thả tim cho sự cống hiến của ngài\n",
              "24044                                               Thua !\n",
              "24045    Ở Việt Nam thì có khánh sky..hải ngoại có trần...\n",
              "24046      1:22 ai lớp du chu cờ moo, Duyên dáng quá cô ơi\n",
              "24047    Cụ này mắt mới cắt mý sao ta kkk đấy vnch đấy ...\n",
              "Name: free_text, Length: 24048, dtype: object"
            ]
          },
          "metadata": {},
          "execution_count": 49
        }
      ],
      "source": [
        "X_train"
      ]
    },
    {
      "cell_type": "code",
      "execution_count": null,
      "metadata": {
        "id": "2sRWazEgMJWk",
        "colab": {
          "base_uri": "https://localhost:8080/"
        },
        "outputId": "64e02cc3-a3e7-4ef3-a321-c03dfb7838e8"
      },
      "outputs": [
        {
          "output_type": "execute_result",
          "data": {
            "text/plain": [
              "0                        Đừng cố biện minh =)))) choi lon\n",
              "1                         Haizz. Nthe này thì dân khổ quá\n",
              "2       the nay ma chi phat gay roi trat tu cong cong ...\n",
              "3                   Mua cho em hộp bcs mĩ sài cho oai :))\n",
              "4                                            coin card :3\n",
              "                              ...                        \n",
              "6675                  Nghe cũng được. Nhưng vẫn cày views\n",
              "6676    Pha team up căng cực đến từ vị trí ông chủ đầm...\n",
              "6677    Thanh Nhường sao m đọc đc cmt của t thế tiên s...\n",
              "6678    Đúng rồi, nhìn có ria mép , với mặt giống đàn ...\n",
              "6679    Chưa chắc Mỹ bị nhiễm virus corona Vũ hán (của...\n",
              "Name: free_text, Length: 6680, dtype: object"
            ]
          },
          "metadata": {},
          "execution_count": 50
        }
      ],
      "source": [
        "X_test"
      ]
    },
    {
      "cell_type": "markdown",
      "metadata": {
        "id": "PdXTdtflio-W"
      },
      "source": [
        "##Chuẩn hóa Unicode tiếng Việt"
      ]
    },
    {
      "cell_type": "code",
      "execution_count": null,
      "metadata": {
        "id": "6ZcSVvlwilgu"
      },
      "outputs": [],
      "source": [
        "import regex as re\n",
        " \n",
        "uniChars = \"àáảãạâầấẩẫậăằắẳẵặèéẻẽẹêềếểễệđìíỉĩịòóỏõọôồốổỗộơờớởỡợùúủũụưừứửữựỳýỷỹỵÀÁẢÃẠÂẦẤẨẪẬĂẰẮẲẴẶÈÉẺẼẸÊỀẾỂỄỆĐÌÍỈĨỊÒÓỎÕỌÔỒỐỔỖỘƠỜỚỞỠỢÙÚỦŨỤƯỪỨỬỮỰỲÝỶỸỴÂĂĐÔƠƯ\"\n",
        "unsignChars = \"aaaaaaaaaaaaaaaaaeeeeeeeeeeediiiiiooooooooooooooooouuuuuuuuuuuyyyyyAAAAAAAAAAAAAAAAAEEEEEEEEEEEDIIIOOOOOOOOOOOOOOOOOOOUUUUUUUUUUUYYYYYAADOOU\"\n",
        " \n",
        "def loaddicchar():\n",
        "    dic = {}\n",
        "    char1252 = 'à|á|ả|ã|ạ|ầ|ấ|ẩ|ẫ|ậ|ằ|ắ|ẳ|ẵ|ặ|è|é|ẻ|ẽ|ẹ|ề|ế|ể|ễ|ệ|ì|í|ỉ|ĩ|ị|ò|ó|ỏ|õ|ọ|ồ|ố|ổ|ỗ|ộ|ờ|ớ|ở|ỡ|ợ|ù|ú|ủ|ũ|ụ|ừ|ứ|ử|ữ|ự|ỳ|ý|ỷ|ỹ|ỵ|À|Á|Ả|Ã|Ạ|Ầ|Ấ|Ẩ|Ẫ|Ậ|Ằ|Ắ|Ẳ|Ẵ|Ặ|È|É|Ẻ|Ẽ|Ẹ|Ề|Ế|Ể|Ễ|Ệ|Ì|Í|Ỉ|Ĩ|Ị|Ò|Ó|Ỏ|Õ|Ọ|Ồ|Ố|Ổ|Ỗ|Ộ|Ờ|Ớ|Ở|Ỡ|Ợ|Ù|Ú|Ủ|Ũ|Ụ|Ừ|Ứ|Ử|Ữ|Ự|Ỳ|Ý|Ỷ|Ỹ|Ỵ'.split(\n",
        "        '|')\n",
        "    charutf8 = \"à|á|ả|ã|ạ|ầ|ấ|ẩ|ẫ|ậ|ằ|ắ|ẳ|ẵ|ặ|è|é|ẻ|ẽ|ẹ|ề|ế|ể|ễ|ệ|ì|í|ỉ|ĩ|ị|ò|ó|ỏ|õ|ọ|ồ|ố|ổ|ỗ|ộ|ờ|ớ|ở|ỡ|ợ|ù|ú|ủ|ũ|ụ|ừ|ứ|ử|ữ|ự|ỳ|ý|ỷ|ỹ|ỵ|À|Á|Ả|Ã|Ạ|Ầ|Ấ|Ẩ|Ẫ|Ậ|Ằ|Ắ|Ẳ|Ẵ|Ặ|È|É|Ẻ|Ẽ|Ẹ|Ề|Ế|Ể|Ễ|Ệ|Ì|Í|Ỉ|Ĩ|Ị|Ò|Ó|Ỏ|Õ|Ọ|Ồ|Ố|Ổ|Ỗ|Ộ|Ờ|Ớ|Ở|Ỡ|Ợ|Ù|Ú|Ủ|Ũ|Ụ|Ừ|Ứ|Ử|Ữ|Ự|Ỳ|Ý|Ỷ|Ỹ|Ỵ\".split(\n",
        "        '|')\n",
        "    for i in range(len(char1252)):\n",
        "        dic[char1252[i]] = charutf8[i]\n",
        "    return dic\n",
        "\n",
        "dicchar = loaddicchar()\n",
        " \n",
        "# Đưa toàn bộ dữ liệu qua hàm này để chuẩn hóa lại\n",
        "def covert_unicode(txt):\n",
        "    return re.sub(\n",
        "        r'à|á|ả|ã|ạ|ầ|ấ|ẩ|ẫ|ậ|ằ|ắ|ẳ|ẵ|ặ|è|é|ẻ|ẽ|ẹ|ề|ế|ể|ễ|ệ|ì|í|ỉ|ĩ|ị|ò|ó|ỏ|õ|ọ|ồ|ố|ổ|ỗ|ộ|ờ|ớ|ở|ỡ|ợ|ù|ú|ủ|ũ|ụ|ừ|ứ|ử|ữ|ự|ỳ|ý|ỷ|ỹ|ỵ|À|Á|Ả|Ã|Ạ|Ầ|Ấ|Ẩ|Ẫ|Ậ|Ằ|Ắ|Ẳ|Ẵ|Ặ|È|É|Ẻ|Ẽ|Ẹ|Ề|Ế|Ể|Ễ|Ệ|Ì|Í|Ỉ|Ĩ|Ị|Ò|Ó|Ỏ|Õ|Ọ|Ồ|Ố|Ổ|Ỗ|Ộ|Ờ|Ớ|Ở|Ỡ|Ợ|Ù|Ú|Ủ|Ũ|Ụ|Ừ|Ứ|Ử|Ữ|Ự|Ỳ|Ý|Ỷ|Ỹ|Ỵ',\n",
        "        lambda x: dicchar[x.group()], txt)"
      ]
    },
    {
      "cell_type": "code",
      "execution_count": null,
      "metadata": {
        "id": "Eua8_fcNkAdh"
      },
      "outputs": [],
      "source": [
        "def unicode(df):\n",
        "  for i in range(df.shape[0]):\n",
        "    tmp = df.iloc[i]\n",
        "    tmp =str(tmp)\n",
        "    tmp =covert_unicode(tmp)\n",
        "    df.iloc._setitem_with_indexer(i,tmp)\n",
        "  return df"
      ]
    },
    {
      "cell_type": "markdown",
      "metadata": {
        "id": "ejmpqoK8bw4R"
      },
      "source": [
        "##Lọc các link spam"
      ]
    },
    {
      "cell_type": "code",
      "execution_count": null,
      "metadata": {
        "id": "Xbw3oTgjb9gw"
      },
      "outputs": [],
      "source": [
        "spam_list = ['http','Http','HTTP','.com','.vn','.net']\n",
        "def remove_spam_link(df):\n",
        "  for i in range(df.shape[0]):\n",
        "      tmp = df.loc[i]\n",
        "      tmp =str(tmp)\n",
        "      for link in spam_list:\n",
        "        if link in tmp:\n",
        "          df.iloc._setitem_with_indexer(i,'')\n",
        "          break\n",
        "  return df"
      ]
    },
    {
      "cell_type": "markdown",
      "metadata": {
        "id": "ED0f4djB4UNE"
      },
      "source": [
        "##Chuyển đổi các từ teencode, sai chính tả về chuẩn"
      ]
    },
    {
      "cell_type": "code",
      "execution_count": null,
      "metadata": {
        "id": "UgbADwVOviTr",
        "colab": {
          "base_uri": "https://localhost:8080/"
        },
        "outputId": "cb119b16-b682-424c-a082-cfb93c52e263"
      },
      "outputs": [
        {
          "output_type": "stream",
          "name": "stdout",
          "text": [
            "Requirement already satisfied: viet_text_tools in /usr/local/lib/python3.7/dist-packages (0.1.4)\n"
          ]
        }
      ],
      "source": [
        "pip install viet_text_tools\n"
      ]
    },
    {
      "cell_type": "code",
      "execution_count": null,
      "metadata": {
        "id": "AjQMA7W-vFk6"
      },
      "outputs": [],
      "source": [
        "import viet_text_tools as vtt\n",
        "def chuanhoadauchinhta(df):\n",
        "  for i in range(df.shape[0]):\n",
        "    tmp = df.iloc[i]\n",
        "    tmp = str(tmp)\n",
        "    tmp = vtt.normalize_diacritics(tmp)\n",
        "    df.iloc._setitem_with_indexer(i,tmp)\n",
        "  return df"
      ]
    },
    {
      "cell_type": "code",
      "execution_count": null,
      "metadata": {
        "id": "AFWBVqZvIzNw"
      },
      "outputs": [],
      "source": [
        "def LoadRuleDict(file_path):\n",
        "\t'''Load the dictionary file contain rules to correct spelling error (such as dk, hog ->được, không)'''\n",
        "\t\n",
        "\tdf = pd.read_excel(file_path)\n",
        "\tthe_dict = df.to_dict()\n",
        "\trule_dict = {}\n",
        "\tfor k, v in the_dict.items():\n",
        "\t\tfor key, elem in v.items():\n",
        "\t\t\tif type(elem) == str:\n",
        "\t\t\t\trule_dict[elem] = k\n",
        "\t\t\t\t\n",
        "\treturn rule_dict"
      ]
    },
    {
      "cell_type": "code",
      "execution_count": null,
      "metadata": {
        "id": "0OnXwuahI0tt"
      },
      "outputs": [],
      "source": [
        "rule_dict = LoadRuleDict('/content/drive/MyDrive/Dinh++/preprocessing/Copy of Loi_ngu_phap (1).xlsx')"
      ]
    },
    {
      "cell_type": "code",
      "execution_count": null,
      "metadata": {
        "id": "KVzty8WGJnl0"
      },
      "outputs": [],
      "source": [
        "def ChangeWord(sentence, the_list, rule_dict):\n",
        "\n",
        "\tword_list = []\n",
        "\tchange = False\n",
        "\tnew_sentence = sentence\n",
        "\tfor word in the_list:\n",
        "\t\tif word in rule_dict:\n",
        "\t\t\tword = rule_dict[word]\n",
        "\t\t\tchange = True\n",
        "\t\tword_list.append(word)\n",
        "\t\tif change:\n",
        "\t\t\tnew_sentence = \" \".join(word_list)\n",
        "\treturn new_sentence"
      ]
    },
    {
      "cell_type": "code",
      "execution_count": null,
      "metadata": {
        "id": "ap_pPeWmKlEP"
      },
      "outputs": [],
      "source": [
        "def chuanhoasaichinhta(df):\n",
        "  for i in range(df.shape[0]):\n",
        "    tmp = df.iloc[i]\n",
        "    tmp = str(tmp)\n",
        "    tmp = ChangeWord(tmp,tmp.split(),rule_dict)\n",
        "    df.iloc._setitem_with_indexer(i,tmp)\n",
        "  return df"
      ]
    },
    {
      "cell_type": "code",
      "execution_count": null,
      "metadata": {
        "id": "b7hxDSqCMxj2"
      },
      "outputs": [],
      "source": [
        "records = [\"lol ngu\", \"oc cho\", \" có cái nịt j mà nói kkk\", \"ngày 07 đêm 03\",\" 35 may mắn\"]\n",
        "df = pd.DataFrame(data = records, columns = ['sentens'])"
      ]
    },
    {
      "cell_type": "code",
      "execution_count": null,
      "metadata": {
        "id": "tvI_HzRiMqZy",
        "colab": {
          "base_uri": "https://localhost:8080/"
        },
        "outputId": "f7f7ac0c-9ad3-4738-d33f-d88e19e07493"
      },
      "outputs": [
        {
          "output_type": "stream",
          "name": "stdout",
          "text": [
            "                                             sentens\n",
            "0             sentens lồn ngu Name: 0, dtype: object\n",
            "1          sentens    oc cho\\nName: 1, dtype: object\n",
            "2  sentens có cái nịt j mà nói ha ha Name: 2, dty...\n",
            "3  sentens    ngày 07 đêm 03\\nName: 3, dtype: object\n",
            "4     sentens     35 may mắn\\nName: 4, dtype: object\n"
          ]
        }
      ],
      "source": [
        "print(chuanhoasaichinhta(df))"
      ]
    },
    {
      "cell_type": "markdown",
      "metadata": {
        "id": "L1yrzyorBa-B"
      },
      "source": [
        "##Chuyển đổi các danh từ riêng thành NER"
      ]
    },
    {
      "cell_type": "code",
      "execution_count": null,
      "metadata": {
        "id": "QsUaGtMyBgLE"
      },
      "outputs": [],
      "source": [
        "P = re.compile(\"[A-Z]\\w+(?:\\s[A-Z]\\w+)+\")\n",
        "def replace_NER(df):\n",
        "  lst = []\n",
        "  for i in range(df.shape[0]):\n",
        "    tmp = df.iloc[i]\n",
        "    tmp = str(tmp)\n",
        "    ner = P.findall(tmp)\n",
        "    for i in ner:\n",
        "     lst.append(i)\n",
        "  for ner in lst:\n",
        "      df = df.str.replace(ner, 'NER')\n",
        "  df =df.apply(str)\n",
        "  return df"
      ]
    },
    {
      "cell_type": "markdown",
      "metadata": {
        "id": "8BBOLr9tt5-5"
      },
      "source": [
        "##Lọc icon cảm xúc"
      ]
    },
    {
      "cell_type": "code",
      "execution_count": null,
      "metadata": {
        "id": "GE7S34gJt5cE"
      },
      "outputs": [],
      "source": [
        "def remove_emoji(text):\n",
        "    emoji_pattern = re.compile(\"[\"\n",
        "                               u\"\\U0001F600-\\U0001F64F\"  # emoticons\n",
        "                               u\"\\U0001F300-\\U0001F5FF\"  # symbols & pictographs\n",
        "                               u\"\\U0001F680-\\U0001F6FF\"  # transport & map symbols\n",
        "                               u\"\\U0001F1E0-\\U0001F1FF\"  # flags (iOS)\n",
        "                               u\"\\U00002500-\\U00002BEF\"  # chinese char\n",
        "                               u\"\\U00002702-\\U000027B0\"\n",
        "                               u\"\\U00002702-\\U000027B0\"\n",
        "                               u\"\\U000024C2-\\U0001F251\"\n",
        "                               u\"\\U0001f926-\\U0001f937\"\n",
        "                               u\"\\U00010000-\\U0010ffff\"\n",
        "                               u\"\\u2640-\\u2642\"\n",
        "                               u\"\\u2600-\\u2B55\"\n",
        "                               u\"\\u200d\"\n",
        "                               u\"\\u23cf\"\n",
        "                               u\"\\u23e9\"\n",
        "                               u\"\\u231a\"\n",
        "                               u\"\\ufe0f\"  # dingbats\n",
        "                               u\"\\u3030\"\n",
        "                               u\"\\u2764\"\n",
        "                               u\"\\u2639\"\n",
        "                               u\"\\u270C\"\n",
        "                               \n",
        "                               \"]+\", flags=re.UNICODE)\n",
        "    return emoji_pattern.sub(r'', text)"
      ]
    },
    {
      "cell_type": "code",
      "execution_count": null,
      "metadata": {
        "id": "qj6fYfZPuk_c"
      },
      "outputs": [],
      "source": [
        "def deEmojify(df):\n",
        "  for i in range(df.shape[0]):\n",
        "    tmp = df.iloc[i]\n",
        "    tmp = str(tmp)\n",
        "    tmp = ViTokenizer.tokenize(tmp)\n",
        "    tmp=remove_emoji(tmp)\n",
        "    df.iloc._setitem_with_indexer(i,tmp)\n",
        "  return df"
      ]
    },
    {
      "cell_type": "markdown",
      "metadata": {
        "id": "M_Y7BhGSnkh8"
      },
      "source": [
        "##Lọc ký tự đặc biệt"
      ]
    },
    {
      "cell_type": "code",
      "execution_count": null,
      "metadata": {
        "id": "kCLEQ12grtsZ"
      },
      "outputs": [],
      "source": [
        "def remove_char(df):\n",
        "  chars_to_remove = ['[',']','=',')','(',\"'\",'?','!','@','$','%','^','&','*',':',';','.',',','<','>',':v','-',':D','/','+']\n",
        "  for char in chars_to_remove:\n",
        "      df = df.str.replace(char, '')\n",
        "  df =df.apply(str)\n",
        "  return df"
      ]
    },
    {
      "cell_type": "markdown",
      "metadata": {
        "id": "nrhXuMe0BEmJ"
      },
      "source": [
        "##Xóa số"
      ]
    },
    {
      "cell_type": "code",
      "execution_count": null,
      "metadata": {
        "id": "xVaerzlzBENX"
      },
      "outputs": [],
      "source": [
        "def remove_number(df):\n",
        "  num_to_remove = ['0','1','2','3','4','5','6','7','8','9']\n",
        "  for number in num_to_remove:\n",
        "      df = df.str.replace(number, '')\n",
        "  df =df.apply(str)\n",
        "  return df"
      ]
    },
    {
      "cell_type": "markdown",
      "metadata": {
        "id": "CEqlUAfJ1wpc"
      },
      "source": [
        "##Stop word"
      ]
    },
    {
      "cell_type": "code",
      "execution_count": null,
      "metadata": {
        "id": "FOo4WZad2KxP"
      },
      "outputs": [],
      "source": [
        "\n",
        "STOPWORDS = '/content/drive/MyDrive/Stop_word/stopword.txt'\n",
        "with open(STOPWORDS, \"r\") as ins:\n",
        "    stopwords = []\n",
        "    for line in ins:\n",
        "        dd = line.strip('\\n')\n",
        "        stopwords.append(dd)\n",
        "    stopwords = set(stopwords)\n",
        "\n",
        "def filter_stop_words(text, stop_words):\n",
        "    new_sent = [word for word in text.split() if word not in stop_words]\n",
        "    text = ' '.join(new_sent)\n",
        "        \n",
        "    return text"
      ]
    },
    {
      "cell_type": "code",
      "execution_count": null,
      "metadata": {
        "id": "MhzuCY8Y2g3M"
      },
      "outputs": [],
      "source": [
        "def stopword(df):\n",
        "  for i in range(df.shape[0]):\n",
        "    tmp = df.iloc[i]\n",
        "    tmp = str(tmp)\n",
        "    tmp = ViTokenizer.tokenize(tmp)\n",
        "    tmp=filter_stop_words(tmp,stopwords)\n",
        "    df.iloc._setitem_with_indexer(i,tmp)\n",
        "  return df"
      ]
    },
    {
      "cell_type": "markdown",
      "metadata": {
        "id": "NqUq763dOhxt"
      },
      "source": [
        "##PREPROCESSING TỔNG HỢP"
      ]
    },
    {
      "cell_type": "code",
      "execution_count": null,
      "metadata": {
        "id": "0jzYDRfxOmYd"
      },
      "outputs": [],
      "source": [
        "def preprocessing(df):\n",
        "  df = unicode(df)\n",
        "  df = remove_spam_link(df)\n",
        "  df = replace_NER(df)\n",
        "  df = chuanhoadauchinhta(df)\n",
        "  df = chuanhoasaichinhta(df)\n",
        "  df = deEmojify(df)\n",
        "  df = remove_char(df)\n",
        "  df = remove_number(df)\n",
        "  df = df.str.lower()\n",
        "  df = stopword(df)\n",
        "  return df"
      ]
    },
    {
      "cell_type": "markdown",
      "source": [
        ""
      ],
      "metadata": {
        "id": "rbQ1yqLKg8nB"
      }
    },
    {
      "cell_type": "markdown",
      "metadata": {
        "id": "pOumWfnCvmbq"
      },
      "source": [
        "# Bi-LSTM + Embedding tự tạo"
      ]
    },
    {
      "cell_type": "code",
      "execution_count": null,
      "metadata": {
        "colab": {
          "base_uri": "https://localhost:8080/"
        },
        "outputId": "b7d9bc3f-7e62-4425-a218-de403f37c35b",
        "id": "L7BRKuBKgikz"
      },
      "outputs": [
        {
          "output_type": "stream",
          "name": "stdout",
          "text": [
            "24048\n",
            "2672\n",
            "6680\n"
          ]
        }
      ],
      "source": [
        "import pandas as pd \n",
        "import numpy as np \n",
        "\n",
        "DATA = '/content/drive/MyDrive/Download(Win11)/vihsd/data/vihsd/vihsd/train.csv'\n",
        "DEV_DATA = '/content/drive/MyDrive/Download(Win11)/vihsd/data/vihsd/vihsd/dev.csv'\n",
        "TEST_DATA = '/content/drive/MyDrive/Download(Win11)/vihsd/data/vihsd/vihsd/test.csv'\n",
        "\n",
        "# read data\n",
        "train_data = pd.read_csv(DATA)\n",
        "dev_data = pd.read_csv(DEV_DATA)\n",
        "test_data = pd.read_csv(TEST_DATA)\n",
        "\n",
        "print(len(train_data))\n",
        "print(len(dev_data))\n",
        "print(len(test_data))\n",
        "\n",
        "X_train = train_data['free_text']\n",
        "y_train = train_data['label_id'].values\n",
        "\n",
        "X_dev = dev_data['free_text']\n",
        "y_dev = dev_data['label_id'].values\n",
        "\n",
        "X_test = test_data['free_text']\n",
        "y_test = test_data['label_id'].values"
      ]
    },
    {
      "cell_type": "code",
      "execution_count": null,
      "metadata": {
        "id": "KEficVBeC-6-",
        "colab": {
          "base_uri": "https://localhost:8080/"
        },
        "outputId": "a576894e-3170-4c15-a4a1-43759b827ffc"
      },
      "outputs": [
        {
          "output_type": "stream",
          "name": "stderr",
          "text": [
            "/usr/local/lib/python3.7/dist-packages/ipykernel_launcher.py:6: SettingWithCopyWarning: \n",
            "A value is trying to be set on a copy of a slice from a DataFrame\n",
            "\n",
            "See the caveats in the documentation: https://pandas.pydata.org/pandas-docs/stable/user_guide/indexing.html#returning-a-view-versus-a-copy\n",
            "  \n",
            "/usr/local/lib/python3.7/dist-packages/ipykernel_launcher.py:8: SettingWithCopyWarning: \n",
            "A value is trying to be set on a copy of a slice from a DataFrame\n",
            "\n",
            "See the caveats in the documentation: https://pandas.pydata.org/pandas-docs/stable/user_guide/indexing.html#returning-a-view-versus-a-copy\n",
            "  \n"
          ]
        }
      ],
      "source": [
        "X_train = preprocessing(X_train)\n",
        "X_test = preprocessing(X_test)\n",
        "X_dev = preprocessing(X_dev)\n"
      ]
    },
    {
      "cell_type": "code",
      "execution_count": null,
      "metadata": {
        "colab": {
          "base_uri": "https://localhost:8080/"
        },
        "id": "j3bQUCnOF0lS",
        "outputId": "59ceabe5-ef69-4209-f7a6-5e0c90aad751"
      },
      "outputs": [
        {
          "output_type": "stream",
          "name": "stdout",
          "text": [
            "Requirement already satisfied: pyvi in /usr/local/lib/python3.7/dist-packages (0.1.1)\n",
            "Requirement already satisfied: sklearn-crfsuite in /usr/local/lib/python3.7/dist-packages (from pyvi) (0.3.6)\n",
            "Requirement already satisfied: scikit-learn in /usr/local/lib/python3.7/dist-packages (from pyvi) (1.0.1)\n",
            "Requirement already satisfied: numpy>=1.14.6 in /usr/local/lib/python3.7/dist-packages (from scikit-learn->pyvi) (1.19.5)\n",
            "Requirement already satisfied: scipy>=1.1.0 in /usr/local/lib/python3.7/dist-packages (from scikit-learn->pyvi) (1.4.1)\n",
            "Requirement already satisfied: joblib>=0.11 in /usr/local/lib/python3.7/dist-packages (from scikit-learn->pyvi) (1.1.0)\n",
            "Requirement already satisfied: threadpoolctl>=2.0.0 in /usr/local/lib/python3.7/dist-packages (from scikit-learn->pyvi) (3.0.0)\n",
            "Requirement already satisfied: tabulate in /usr/local/lib/python3.7/dist-packages (from sklearn-crfsuite->pyvi) (0.8.9)\n",
            "Requirement already satisfied: tqdm>=2.0 in /usr/local/lib/python3.7/dist-packages (from sklearn-crfsuite->pyvi) (4.62.3)\n",
            "Requirement already satisfied: python-crfsuite>=0.8.3 in /usr/local/lib/python3.7/dist-packages (from sklearn-crfsuite->pyvi) (0.9.7)\n",
            "Requirement already satisfied: six in /usr/local/lib/python3.7/dist-packages (from sklearn-crfsuite->pyvi) (1.15.0)\n"
          ]
        }
      ],
      "source": [
        "pip install pyvi"
      ]
    },
    {
      "cell_type": "code",
      "execution_count": null,
      "metadata": {
        "id": "iqg4hdbtvn9g"
      },
      "outputs": [],
      "source": [
        "# make vocabulary \n",
        "from pyvi import ViTokenizer\n",
        "\n",
        "V = []\n",
        "\n",
        "for t in X_train:\n",
        "    tokenized_sentence = ViTokenizer.tokenize(t)\n",
        "    V = V + tokenized_sentence.split()\n",
        "\n",
        "V = list(set(V))"
      ]
    },
    {
      "cell_type": "code",
      "execution_count": null,
      "metadata": {
        "colab": {
          "base_uri": "https://localhost:8080/"
        },
        "id": "9PisUp5ZF7et",
        "outputId": "37010e74-aca6-4764-8442-b62c7ae856b0"
      },
      "outputs": [
        {
          "output_type": "execute_result",
          "data": {
            "text/plain": [
              "15411"
            ]
          },
          "metadata": {},
          "execution_count": 31
        }
      ],
      "source": [
        "len(V)"
      ]
    },
    {
      "cell_type": "markdown",
      "metadata": {
        "id": "VIBX2gU5Dqet"
      },
      "source": [
        "## Cach 1: Tu build "
      ]
    },
    {
      "cell_type": "code",
      "execution_count": null,
      "metadata": {
        "id": "OL3UL8Huw75-"
      },
      "outputs": [],
      "source": [
        "# Building dictionary \n",
        "word_to_index = {w : (i+2) for i, w in enumerate(V)}\n",
        "\n",
        "word_to_index['UNK'] = 1\n",
        "word_to_index['PAD'] = 0\n",
        "\n",
        "# Build index2w\n",
        "index_to_word = {i: w for w, i in word_to_index.items()}"
      ]
    },
    {
      "cell_type": "code",
      "execution_count": null,
      "metadata": {
        "colab": {
          "base_uri": "https://localhost:8080/"
        },
        "id": "utRj5mICGIBv",
        "outputId": "4f6870e8-7f95-4652-a803-ca021f89cb80"
      },
      "outputs": [
        {
          "output_type": "execute_result",
          "data": {
            "text/plain": [
              "{'đuok': 2,\n",
              " 'thôi_thề': 3,\n",
              " 'đài_nhá': 4,\n",
              " 'gja': 5,\n",
              " 'kiêng': 6,\n",
              " 'nha_anh_em': 7,\n",
              " 'tat': 8,\n",
              " 'chụy': 9,\n",
              " 're': 10,\n",
              " 'vag': 11,\n",
              " 'ngta_di': 12,\n",
              " 'tiểu_tiểu_': 13,\n",
              " 'sàm_sỡ': 14,\n",
              " 'ăn_vạ': 15,\n",
              " 'qcao': 16,\n",
              " 'câm_như_hến': 17,\n",
              " 'maii_đây': 18,\n",
              " 'doi': 19,\n",
              " 'thiệt_thà': 20,\n",
              " 'cưs': 21,\n",
              " 'thẳng_đứng': 22,\n",
              " 'cụm': 23,\n",
              " 'dích': 24,\n",
              " 'èn': 25,\n",
              " 'bjk': 26,\n",
              " 'điêu': 27,\n",
              " 'sức': 28,\n",
              " 'mắc_vậy': 29,\n",
              " 'vế': 30,\n",
              " 'day': 31,\n",
              " 'lởm_khởm': 32,\n",
              " 'rài': 33,\n",
              " 'tụt_hậu': 34,\n",
              " 'từ_thiên': 35,\n",
              " 'muoons': 36,\n",
              " 'điểu': 37,\n",
              " 'thiên_nga': 38,\n",
              " 'ib': 39,\n",
              " 'sịn': 40,\n",
              " 'sếp_lạc': 41,\n",
              " 'trung_thắng': 42,\n",
              " 'bướm': 43,\n",
              " 'khoác': 44,\n",
              " 'ĩ': 45,\n",
              " 'mưu': 46,\n",
              " 'chuong_trinh': 47,\n",
              " 'lạlol': 48,\n",
              " 'hog': 49,\n",
              " 'qtrong': 50,\n",
              " 'lộ_trình': 51,\n",
              " 'tôn_vinh': 52,\n",
              " 'trì_trệ': 53,\n",
              " 'tiêu_điểm': 54,\n",
              " 'cổ': 55,\n",
              " 'hoan_ho': 56,\n",
              " 'cay_thế': 57,\n",
              " 'giống_thế': 58,\n",
              " 'codonqua': 59,\n",
              " '´': 60,\n",
              " 'cao_quý': 61,\n",
              " 'đần_tấu': 62,\n",
              " 'xuôi': 63,\n",
              " 'toai': 64,\n",
              " 'sanfansixlong': 65,\n",
              " 'chào_đón': 66,\n",
              " 'quả_thực': 67,\n",
              " 'nguyện_vọng': 68,\n",
              " 'felt': 69,\n",
              " 'ngoại_hình': 70,\n",
              " 'duyệt': 71,\n",
              " 'thay_thế': 72,\n",
              " 'pômôsa': 73,\n",
              " 'su_dụng': 74,\n",
              " 'bầu_sô': 75,\n",
              " 'xuối': 76,\n",
              " 'thành_công': 77,\n",
              " 'biếm_họa': 78,\n",
              " 'mả': 79,\n",
              " 'tố_cáo': 80,\n",
              " 'đại_gia_đình': 81,\n",
              " 'tốc': 82,\n",
              " 'nha_cô': 83,\n",
              " 'xui_khiến': 84,\n",
              " 'mẫu': 85,\n",
              " 'tsua': 86,\n",
              " 'lỏng': 87,\n",
              " 'người_yêu': 88,\n",
              " 'tlh': 89,\n",
              " 'nhớ_bả': 90,\n",
              " 'tịch': 91,\n",
              " 'chinh': 92,\n",
              " 'xe_tăng': 93,\n",
              " 'trụ': 94,\n",
              " 'bảo_tồn': 95,\n",
              " 'di_kkk': 96,\n",
              " 'ngoại_xâm': 97,\n",
              " 'lưu': 98,\n",
              " 'thủ_tướng': 99,\n",
              " 'chiens': 100,\n",
              " 'di_mieng': 101,\n",
              " 'hot': 102,\n",
              " 'dlv_mất': 103,\n",
              " 'anw': 104,\n",
              " 'nhi': 105,\n",
              " 'năng_lực': 106,\n",
              " 'chế_độ': 107,\n",
              " 'vỗ_về': 108,\n",
              " 'xòm': 109,\n",
              " 'vô_nghĩa': 110,\n",
              " 'ddm': 111,\n",
              " 'trùng': 112,\n",
              " 'hồng_phúc': 113,\n",
              " 'trợn': 114,\n",
              " 'ác_khẩu': 115,\n",
              " 'lý': 116,\n",
              " 'đặc_trị': 117,\n",
              " 'hây': 118,\n",
              " 'xâu': 119,\n",
              " 'nông': 120,\n",
              " 'clmmm': 121,\n",
              " 'discod': 122,\n",
              " 'đánh_đổi': 123,\n",
              " 'đên': 124,\n",
              " 'bích': 125,\n",
              " 'giường': 126,\n",
              " 'pháp_lý': 127,\n",
              " 'việt': 128,\n",
              " 'huy_hiệu': 129,\n",
              " 'ngta': 130,\n",
              " 'rơm_rớm': 131,\n",
              " 'có_thể_nào': 132,\n",
              " 'ngất_ngây': 133,\n",
              " 'động_dục': 134,\n",
              " 'ngôn_luận': 135,\n",
              " 'khox': 136,\n",
              " 'vô_lại': 137,\n",
              " 'con_rơi': 138,\n",
              " 'thứ_hạng': 139,\n",
              " 'bơm': 140,\n",
              " 'loai': 141,\n",
              " 'thêgioi': 142,\n",
              " 'not': 143,\n",
              " 'chương': 144,\n",
              " 'nham_nhở': 145,\n",
              " 'khải_á': 146,\n",
              " 'khau_nghep': 147,\n",
              " 'come': 148,\n",
              " 'eyyyyyyyy': 149,\n",
              " 'thơm_tho': 150,\n",
              " 'thoòng': 151,\n",
              " 'hôn_gió': 152,\n",
              " 'hahhaaa': 153,\n",
              " 'xủ': 154,\n",
              " 'trần_huyền_kưmmi': 155,\n",
              " 'chịu_thua': 156,\n",
              " 't_lãnh_đạo': 157,\n",
              " 'xóa_đói': 158,\n",
              " 'bút': 159,\n",
              " 'contairner': 160,\n",
              " 'lose': 161,\n",
              " 'trở_về': 162,\n",
              " 'toàn_thắng': 163,\n",
              " 'kích_động': 164,\n",
              " 'douma': 165,\n",
              " 'ner_vi_hành': 166,\n",
              " 'lau_chau': 167,\n",
              " 'vô_sỉ': 168,\n",
              " 'mo': 169,\n",
              " 'thần_chú': 170,\n",
              " 'coronavirus': 171,\n",
              " 'ku': 172,\n",
              " 'trần_long': 173,\n",
              " 'đích_đáng': 174,\n",
              " 'ca_sĩ': 175,\n",
              " 'ngiu': 176,\n",
              " 'tập_thể': 177,\n",
              " 'toang_x': 178,\n",
              " 'vũ_đạo': 179,\n",
              " 'mongg': 180,\n",
              " 'sam_nhe': 181,\n",
              " 'xe_ôm': 182,\n",
              " 'điêu_linh': 183,\n",
              " 'ra_đời': 184,\n",
              " 'ơiiiiiiii': 185,\n",
              " 'mong_k': 186,\n",
              " 'đún': 187,\n",
              " 'boss': 188,\n",
              " 'mike': 189,\n",
              " 'noi_lai': 190,\n",
              " 'chai_nửa': 191,\n",
              " 'khổ_thân': 192,\n",
              " 'rf': 193,\n",
              " 'nhu': 194,\n",
              " 'br': 195,\n",
              " 'khắp_phương': 196,\n",
              " 'hoa_vậy': 197,\n",
              " 'cao_xạ': 198,\n",
              " 'lãng_tử': 199,\n",
              " 'ruột_thừa': 200,\n",
              " 'tác_động': 201,\n",
              " 'kiểu_dáng': 202,\n",
              " 'pháp_luật': 203,\n",
              " 't_fan': 204,\n",
              " 'lái': 205,\n",
              " 'nha_má': 206,\n",
              " 'đón_chào': 207,\n",
              " 'cháo': 208,\n",
              " 'vẹo': 209,\n",
              " 'liên_luỵ': 210,\n",
              " 'bắn_k': 211,\n",
              " 'im_luông': 212,\n",
              " 'vcl': 213,\n",
              " 'di_linh': 214,\n",
              " 'click': 215,\n",
              " 'beba': 216,\n",
              " 'đè': 217,\n",
              " 'trình_bày': 218,\n",
              " 'zọooo': 219,\n",
              " 'dùa': 220,\n",
              " 'gucci_trend': 221,\n",
              " 'cất_giấu': 222,\n",
              " 'tế': 223,\n",
              " 'summer': 224,\n",
              " 'quôc': 225,\n",
              " 'yêuu': 226,\n",
              " 'nhịn': 227,\n",
              " 'xinn': 228,\n",
              " 'chạy': 229,\n",
              " 'kiến_thức': 230,\n",
              " 'vui_k': 231,\n",
              " 'mới_đó': 232,\n",
              " 'ròii_giáo': 233,\n",
              " 'núa': 234,\n",
              " 'comeout': 235,\n",
              " 'dử': 236,\n",
              " 'tháp': 237,\n",
              " 'có_lẽ': 238,\n",
              " 'hoảng_hốt': 239,\n",
              " 'việt_tân': 240,\n",
              " 'ngt': 241,\n",
              " 'pos': 242,\n",
              " 'di_ban': 243,\n",
              " 'ten': 244,\n",
              " 'vô_danh': 245,\n",
              " 'tiền_mặt': 246,\n",
              " 'nghị_quyết': 247,\n",
              " 'nhunh': 248,\n",
              " 'ner_di': 249,\n",
              " 'vực': 250,\n",
              " 'tác_chiến': 251,\n",
              " 'riệp': 252,\n",
              " 'rống': 253,\n",
              " 'xoạc': 254,\n",
              " 'hà_chỗ_nói': 255,\n",
              " 'qwa': 256,\n",
              " 'tút': 257,\n",
              " 'ngoại_hạng': 258,\n",
              " 'sanh': 259,\n",
              " 'mu_này': 260,\n",
              " 'vietnamfootball': 261,\n",
              " 'sounded': 262,\n",
              " 'cắt': 263,\n",
              " 'mát_mẻ': 264,\n",
              " 'wua': 265,\n",
              " 'mẹ_vẻ': 266,\n",
              " 'wifi': 267,\n",
              " 'buscu': 268,\n",
              " 'hài_xách': 269,\n",
              " 'chói': 270,\n",
              " 'tiếu': 271,\n",
              " 'tiêu_diệt': 272,\n",
              " 'nieu': 273,\n",
              " 'vc_cụ': 274,\n",
              " 'meow': 275,\n",
              " 'đậy': 276,\n",
              " 'did': 277,\n",
              " 'chòi': 278,\n",
              " 'phep': 279,\n",
              " 'ngại_y': 280,\n",
              " 'hàn_quắc': 281,\n",
              " 'xoa': 282,\n",
              " 'củ_cứt': 283,\n",
              " 'chịu_chơi': 284,\n",
              " 'đặng_trang': 285,\n",
              " 'canh': 286,\n",
              " 'lunnnnn': 287,\n",
              " 'wiro': 288,\n",
              " 'after': 289,\n",
              " 'hahhahaha': 290,\n",
              " 'goi': 291,\n",
              " 'vck': 292,\n",
              " 'cho_xong': 293,\n",
              " 'random': 294,\n",
              " 'quê_k': 295,\n",
              " 'vler': 296,\n",
              " 'ứg': 297,\n",
              " 'nhunge': 298,\n",
              " 'sốt': 299,\n",
              " 'đấy': 300,\n",
              " 'hỗn': 301,\n",
              " 'la_ok': 302,\n",
              " 'lcl': 303,\n",
              " 'quả_đấm': 304,\n",
              " 'phi_thường': 305,\n",
              " 'kím': 306,\n",
              " 'thấu': 307,\n",
              " 'rịa': 308,\n",
              " 'quái_vật': 309,\n",
              " 'cường_vậy': 310,\n",
              " 'nghị_lực': 311,\n",
              " 'viếc': 312,\n",
              " 'thong': 313,\n",
              " 'tyi': 314,\n",
              " 'lknh': 315,\n",
              " 'đánh_bài': 316,\n",
              " 'thủ_dâm': 317,\n",
              " 'hành': 318,\n",
              " 'nhẽo': 319,\n",
              " 'cười_vãi': 320,\n",
              " 'thuôi': 321,\n",
              " 'khang': 322,\n",
              " 'danh_ca': 323,\n",
              " 'gãi': 324,\n",
              " 'tứt_nhiên': 325,\n",
              " 'nghiêm_cấm': 326,\n",
              " 'cưng': 327,\n",
              " 'ấm_no': 328,\n",
              " 'chửi_mắng': 329,\n",
              " 'đau': 330,\n",
              " 'đại_lục': 331,\n",
              " 'móng': 332,\n",
              " 'vô_sinh': 333,\n",
              " 'xét_xử': 334,\n",
              " 'cay_cay_cay': 335,\n",
              " 'nương_tựa': 336,\n",
              " 'bhxh': 337,\n",
              " 'phật_khẩu_nghiệp': 338,\n",
              " 'chuyển_giao': 339,\n",
              " 'mjeg': 340,\n",
              " 'học_tập': 341,\n",
              " 'lf': 342,\n",
              " 'nhận_lời': 343,\n",
              " 'hello_abe': 344,\n",
              " 'middle': 345,\n",
              " 'lai': 346,\n",
              " 'thoo': 347,\n",
              " 'kout': 348,\n",
              " 'nguồn_gốc': 349,\n",
              " 'khế': 350,\n",
              " 'kéo_giảm': 351,\n",
              " 'lyric': 352,\n",
              " 'del': 353,\n",
              " 'tận_thu': 354,\n",
              " 'kì_lạ': 355,\n",
              " 'zẽ': 356,\n",
              " 'nhở': 357,\n",
              " 'ơii': 358,\n",
              " 'vấp_ngã': 359,\n",
              " 'ngkhac': 360,\n",
              " 'câu_nệ': 361,\n",
              " 'lạc_đề': 362,\n",
              " 'du_đấu': 363,\n",
              " 'thuế_ng': 364,\n",
              " 'nồi': 365,\n",
              " 'bẹp': 366,\n",
              " 'bội': 367,\n",
              " 'lẽ_ra': 368,\n",
              " 'quần_dài': 369,\n",
              " 'hazzz': 370,\n",
              " 'nhắc_k': 371,\n",
              " 'bảo_trọng': 372,\n",
              " 'chút_xíu': 373,\n",
              " 'việt_ma_c': 374,\n",
              " 'tất_hàiiii': 375,\n",
              " 'nhớ_nhung': 376,\n",
              " 'mảng': 377,\n",
              " 'độ_tày': 378,\n",
              " 'lặp': 379,\n",
              " 'rick': 380,\n",
              " 'bảo_thiên_kỳ_duyên': 381,\n",
              " 'lac': 382,\n",
              " 'châu_âu': 383,\n",
              " 'hậu_quả': 384,\n",
              " 'tập_thể_dục': 385,\n",
              " 'p_k': 386,\n",
              " 'rợn': 387,\n",
              " 'căm_thù': 388,\n",
              " 'dự': 389,\n",
              " 'sát_thủ': 390,\n",
              " 'bình_thản': 391,\n",
              " 'mocphin': 392,\n",
              " 'pnw': 393,\n",
              " 'khó_ở': 394,\n",
              " 'ngu': 395,\n",
              " 'trộ': 396,\n",
              " 'nắm_bắt': 397,\n",
              " 'công_dụng': 398,\n",
              " 'đâyyy': 399,\n",
              " 'vhl': 400,\n",
              " 'ảo_giác': 401,\n",
              " 'qên': 402,\n",
              " 'ᴗ': 403,\n",
              " 'tình_hình_như': 404,\n",
              " 'katm': 405,\n",
              " 'nhie': 406,\n",
              " 'kog': 407,\n",
              " 'giếng': 408,\n",
              " 'kê_khai': 409,\n",
              " 'trẩu': 410,\n",
              " 'đức_tin': 411,\n",
              " 'thâm_': 412,\n",
              " 'đình_ngọc': 413,\n",
              " 'hợp_tác': 414,\n",
              " 'oan': 415,\n",
              " 'học_bổng': 416,\n",
              " 'gia_quyến': 417,\n",
              " 'đế_vương': 418,\n",
              " 'thấp_kém': 419,\n",
              " 'nguy_hiểm_chớt': 420,\n",
              " 'nhảy': 421,\n",
              " 'nói_thế': 422,\n",
              " 'hếttt': 423,\n",
              " 'dẫn_dắt': 424,\n",
              " 'dmcs': 425,\n",
              " 'chăm_sóc': 426,\n",
              " 'cảnh_giới': 427,\n",
              " 'tuởng': 428,\n",
              " 'đóng_góp': 429,\n",
              " 'chui_oi': 430,\n",
              " 'thâm_hậu': 431,\n",
              " 'dân_chủ_nhiệm_vụ': 432,\n",
              " 'xiểu': 433,\n",
              " 'sách_vở': 434,\n",
              " 'nhạ': 435,\n",
              " 'thuỷ_triều': 436,\n",
              " 'hình_như': 437,\n",
              " 'chếtttt': 438,\n",
              " 'live': 439,\n",
              " 'gián_tiếp': 440,\n",
              " 'nhiêm': 441,\n",
              " 'thông_điệp': 442,\n",
              " 'nhiềuuuu': 443,\n",
              " 'xách': 444,\n",
              " 'cân': 445,\n",
              " 'bỏ_tù': 446,\n",
              " 'kiếc': 447,\n",
              " 'từ_bi': 448,\n",
              " 'très': 449,\n",
              " 'gạo_cội': 450,\n",
              " 'xưn': 451,\n",
              " 'duog': 452,\n",
              " 'cắn': 453,\n",
              " 'ma_y': 454,\n",
              " 'bổ_sung': 455,\n",
              " 'đeeeee': 456,\n",
              " '⃣': 457,\n",
              " 'coô': 458,\n",
              " 'ak': 459,\n",
              " 'hi': 460,\n",
              " 'ln': 461,\n",
              " 'thuốc_lá': 462,\n",
              " 'vừa_miệng': 463,\n",
              " 'siêm': 464,\n",
              " 'tính_chất': 465,\n",
              " 'mòng': 466,\n",
              " 'mini': 467,\n",
              " 'con_di_linh': 468,\n",
              " 'bill': 469,\n",
              " 'hảo': 470,\n",
              " 'vá_hà': 471,\n",
              " 't_bảo': 472,\n",
              " 'khổ_bl': 473,\n",
              " 'tik': 474,\n",
              " 'văn_hoa': 475,\n",
              " 'đau_khổ': 476,\n",
              " 'viu': 477,\n",
              " 'danh_hiệu': 478,\n",
              " 'mjh': 479,\n",
              " 'tay_dinh': 480,\n",
              " 'dũng': 481,\n",
              " 'nọong': 482,\n",
              " 'rồiiiiiiii': 483,\n",
              " 'nước_mũi': 484,\n",
              " 'đội_trưởng': 485,\n",
              " 'húp': 486,\n",
              " 'cười_hoài': 487,\n",
              " 'liên_hệ': 488,\n",
              " 'taoooo': 489,\n",
              " 'kỹ': 490,\n",
              " 'hêhhehe': 491,\n",
              " 'mohamed': 492,\n",
              " 'thở_dài': 493,\n",
              " 'đèo': 494,\n",
              " 'tự_giác': 495,\n",
              " 'nô_lệ': 496,\n",
              " 'mynas': 497,\n",
              " 'lri': 498,\n",
              " 'tổ_sư': 499,\n",
              " 'qtâm': 500,\n",
              " 'vậy_vậy': 501,\n",
              " 'chipu': 502,\n",
              " 'chấp_bút': 503,\n",
              " 'hình_tròn': 504,\n",
              " 'xưng_hô': 505,\n",
              " 'niêm_yết': 506,\n",
              " 'ma_kieu': 507,\n",
              " 'tu': 508,\n",
              " 'cười_tỏa': 509,\n",
              " 'quảng_cáo_lộ': 510,\n",
              " 'tự_khắc': 511,\n",
              " 'nóng_lòng': 512,\n",
              " 'thân': 513,\n",
              " 'tán': 514,\n",
              " 'tông': 515,\n",
              " 'pết': 516,\n",
              " 'cụng': 517,\n",
              " 'trang_web': 518,\n",
              " 'mù_đéo': 519,\n",
              " 'chủ_lực': 520,\n",
              " 'áo_chất': 521,\n",
              " 'xấu_hổ': 522,\n",
              " 'đại_họa': 523,\n",
              " 'loăng_quăng': 524,\n",
              " 'phấn': 525,\n",
              " 'lả': 526,\n",
              " 'tém': 527,\n",
              " 'ễm': 528,\n",
              " 'khu': 529,\n",
              " 'taxi': 530,\n",
              " 'qhat': 531,\n",
              " 'ời': 532,\n",
              " 'ngốc': 533,\n",
              " 'cuqr': 534,\n",
              " '}': 535,\n",
              " 'rấtt': 536,\n",
              " 'thời_đại': 537,\n",
              " 'củg': 538,\n",
              " 'sóp': 539,\n",
              " 'thuế_láp': 540,\n",
              " 'backpacker': 541,\n",
              " 'thiêu': 542,\n",
              " 'diễn_đạt': 543,\n",
              " 'thuế_doanh_nghiệp': 544,\n",
              " 'am_binh': 545,\n",
              " 'cái_vẻ': 546,\n",
              " 'quyên_góp': 547,\n",
              " 'định_mệnh': 548,\n",
              " 'ma_phai': 549,\n",
              " 'ớt': 550,\n",
              " 'diễn_xuất_sắc': 551,\n",
              " 'anb': 552,\n",
              " 'ghồ': 553,\n",
              " 'sác': 554,\n",
              " 'uầy': 555,\n",
              " 'beautiful': 556,\n",
              " 'như_điên': 557,\n",
              " 'dở_xứ': 558,\n",
              " 'quịt': 559,\n",
              " 'hoang_phuong': 560,\n",
              " 't_thích': 561,\n",
              " 'nai': 562,\n",
              " 'dem': 563,\n",
              " 'ghê_kakaka': 564,\n",
              " 'ma_dan': 565,\n",
              " 'nượng': 566,\n",
              " 'trộm': 567,\n",
              " 'an_bài': 568,\n",
              " 'on': 569,\n",
              " 'doạ': 570,\n",
              " 'dalat': 571,\n",
              " 'nây': 572,\n",
              " 'xem_xét_lại': 573,\n",
              " 'hơi_đâu': 574,\n",
              " 'huh': 575,\n",
              " 'khoing': 576,\n",
              " 'văn_vật': 577,\n",
              " 'sàm': 578,\n",
              " 'dzô': 579,\n",
              " 'at': 580,\n",
              " 'lắmmmm': 581,\n",
              " 'lăm': 582,\n",
              " 'ner_vẻ': 583,\n",
              " 'yeb': 584,\n",
              " 'khỏe_bụng': 585,\n",
              " 'gar': 586,\n",
              " 'phát_tán': 587,\n",
              " 'sái': 588,\n",
              " 'ứ': 589,\n",
              " 'ăn_mừng': 590,\n",
              " 'hào_quang': 591,\n",
              " 'trung_đồ': 592,\n",
              " 'bù_đắp': 593,\n",
              " 'vô_thao': 594,\n",
              " 'he_he': 595,\n",
              " 'chác': 596,\n",
              " 'oki': 597,\n",
              " 'cười_vl': 598,\n",
              " 'mảnh': 599,\n",
              " 'asimov': 600,\n",
              " 'backdoor': 601,\n",
              " 'ngực': 602,\n",
              " 'ma_túy': 603,\n",
              " 'đờm': 604,\n",
              " 'quốc_phòng': 605,\n",
              " 've_xịt': 606,\n",
              " 'chế_biến': 607,\n",
              " 'hưu': 608,\n",
              " 'tuyệt_phẩm': 609,\n",
              " 'take': 610,\n",
              " 'chàng': 611,\n",
              " 'trồng_răng': 612,\n",
              " 'cam_kết': 613,\n",
              " 'cgai': 614,\n",
              " 'ờm': 615,\n",
              " 'đương_nhiên': 616,\n",
              " 'truyền_thông': 617,\n",
              " 'ooke': 618,\n",
              " 'ka_ka': 619,\n",
              " 'v_tự_do': 620,\n",
              " 'đỗ_soi': 621,\n",
              " 'mạnh_duy_changg': 622,\n",
              " 'kì_vọng': 623,\n",
              " 'gió_khỏe': 624,\n",
              " 'chuôi': 625,\n",
              " 'chui_e': 626,\n",
              " 'canh_cánh': 627,\n",
              " 'bảo_hiểm_corona': 628,\n",
              " 'dị_đồng_bào': 629,\n",
              " 'bất_cẩn': 630,\n",
              " 'cơ_cấu': 631,\n",
              " 'em_nguyện': 632,\n",
              " 'xà_lách': 633,\n",
              " 'bình_luận': 634,\n",
              " 'phe': 635,\n",
              " 'vạch_mặt': 636,\n",
              " 'thuê': 637,\n",
              " 'kbiet': 638,\n",
              " 'ọe': 639,\n",
              " 'thử_nghiệm': 640,\n",
              " 'myz': 641,\n",
              " 'zạy': 642,\n",
              " 'làm_chứng': 643,\n",
              " 'copy': 644,\n",
              " 'vcc': 645,\n",
              " 'chz': 646,\n",
              " 'thái_ib': 647,\n",
              " 'xúm': 648,\n",
              " 'tao_vậy': 649,\n",
              " 'loãng': 650,\n",
              " 'alo_nhe': 651,\n",
              " 'cận': 652,\n",
              " 'soang': 653,\n",
              " 'gala': 654,\n",
              " 'hài_khẩu_nghiệp': 655,\n",
              " 'xa_xỉ': 656,\n",
              " 'ngõ': 657,\n",
              " 'cua_biển': 658,\n",
              " 'tùy_địa_phương': 659,\n",
              " 'mlem': 660,\n",
              " 'xóm': 661,\n",
              " 'chiếm': 662,\n",
              " 'vailin': 663,\n",
              " 'phong_khen': 664,\n",
              " 'lác': 665,\n",
              " 'chà_trộn': 666,\n",
              " 'quá_khích': 667,\n",
              " 'hoắc': 668,\n",
              " 'kingdom': 669,\n",
              " 'gẩy': 670,\n",
              " 'food': 671,\n",
              " 'nguyên_mẫu': 672,\n",
              " 'phụcccc': 673,\n",
              " 'hiem': 674,\n",
              " 'ước_vọng': 675,\n",
              " 'ưiiiiiiii': 676,\n",
              " 'trang_mưa': 677,\n",
              " 'trúng_gió': 678,\n",
              " 'thiên_hạ': 679,\n",
              " 'uhmmmm': 680,\n",
              " 'thưownc': 681,\n",
              " 'team_iteawon': 682,\n",
              " 'quý_tộc': 683,\n",
              " 'diễn_xuất': 684,\n",
              " 'hủy_hoại': 685,\n",
              " 'kiếp': 686,\n",
              " 'ner_độ': 687,\n",
              " 'cơm_gạo': 688,\n",
              " 'cưu_mang': 689,\n",
              " 'ana': 690,\n",
              " 'a_châu': 691,\n",
              " 'meiii': 692,\n",
              " 'như_thần': 693,\n",
              " 'sandyh': 694,\n",
              " 'chân_thật': 695,\n",
              " 'di_dag': 696,\n",
              " 'ma_ám': 697,\n",
              " 'liễu': 698,\n",
              " 'bọc': 699,\n",
              " 'giới_hạn': 700,\n",
              " 'truất': 701,\n",
              " 'chúng_bạn': 702,\n",
              " 'xương': 703,\n",
              " 'căc_vậy': 704,\n",
              " 'uyên_phương': 705,\n",
              " 'khỏe_đẹp': 706,\n",
              " 'tắc_trách_vậy': 707,\n",
              " 'egg': 708,\n",
              " 'mua_vui': 709,\n",
              " 'hoạ': 710,\n",
              " 'phi': 711,\n",
              " 'land': 712,\n",
              " 'chửi_vầy': 713,\n",
              " 'tii_đô': 714,\n",
              " 'im_v': 715,\n",
              " 'mạo_danh': 716,\n",
              " 'tàn_bạo': 717,\n",
              " 'bạo_hành': 718,\n",
              " 'khu_phố': 719,\n",
              " 'thuyet': 720,\n",
              " 'gài': 721,\n",
              " 'vùng_sâu': 722,\n",
              " 'xs': 723,\n",
              " 'diện': 724,\n",
              " 'leaf': 725,\n",
              " 'man_di_chả': 726,\n",
              " 'ghiền': 727,\n",
              " 'huy_hiệu_thần': 728,\n",
              " 'vữa': 729,\n",
              " 'prô': 730,\n",
              " 'xiếc': 731,\n",
              " 'tâm_trí': 732,\n",
              " 'ra_mặt': 733,\n",
              " 'thoát_án': 734,\n",
              " 'lầu': 735,\n",
              " 'hon': 736,\n",
              " 't_follow': 737,\n",
              " 'làm_chi': 738,\n",
              " 'tarkov': 739,\n",
              " 'cô_đơn': 740,\n",
              " 'phong_cách_âm_nhạc_vẻ': 741,\n",
              " 'chửi_tục': 742,\n",
              " 'hi_hi_hi': 743,\n",
              " 'vlone': 744,\n",
              " 'nước_thải': 745,\n",
              " 'rickit': 746,\n",
              " 'phi_giới_tính': 747,\n",
              " 'di_mua': 748,\n",
              " 'tan_tành': 749,\n",
              " 'u_ner': 750,\n",
              " 'cọ': 751,\n",
              " 'troi': 752,\n",
              " 'nầm': 753,\n",
              " 'váy': 754,\n",
              " 'cá_chép': 755,\n",
              " 'đàm_nhuận': 756,\n",
              " 'chống_chọi': 757,\n",
              " 'ck_em': 758,\n",
              " 'luon': 759,\n",
              " 'vncc': 760,\n",
              " 'sốbom': 761,\n",
              " 'kế_hoạch_hóa': 762,\n",
              " 'rôi': 763,\n",
              " 'mai_e': 764,\n",
              " 'ô': 765,\n",
              " 'tác_hại': 766,\n",
              " 'non_sông': 767,\n",
              " 'hua': 768,\n",
              " 'dính_dáng': 769,\n",
              " 'y_như_thế': 770,\n",
              " 'phật_di_k': 771,\n",
              " 'longlon': 772,\n",
              " 'nhj': 773,\n",
              " 'gián_điệp': 774,\n",
              " 'xúât': 775,\n",
              " 'chuột_cống': 776,\n",
              " 'chỉnh': 777,\n",
              " 'siêu': 778,\n",
              " 'dzìa': 779,\n",
              " 'li': 780,\n",
              " 'tự_nhiên': 781,\n",
              " 'vui_ghê': 782,\n",
              " 'bứm': 783,\n",
              " 'hno_hứng': 784,\n",
              " 'xe_máy': 785,\n",
              " 'h_hhhhh': 786,\n",
              " 'điều_hoà': 787,\n",
              " 'đối_phó_virus': 788,\n",
              " 'zzz': 789,\n",
              " 'bùi_đức_hậu': 790,\n",
              " 'bơi': 791,\n",
              " 'đòng': 792,\n",
              " 'ngta_cai': 793,\n",
              " 'vc': 794,\n",
              " 'mong_đc': 795,\n",
              " 'air': 796,\n",
              " 'ngột_ngạt_đồ': 797,\n",
              " 'qq': 798,\n",
              " 'đoan': 799,\n",
              " 'tòi': 800,\n",
              " 'triển': 801,\n",
              " 'mon_men': 802,\n",
              " 'gioqf': 803,\n",
              " 'khanh': 804,\n",
              " 'hôn_nhân': 805,\n",
              " 'giao_dịch': 806,\n",
              " 'lảm': 807,\n",
              " 'chương_trình_tấu': 808,\n",
              " 'xăng': 809,\n",
              " 'tiền_đạo': 810,\n",
              " 'baby': 811,\n",
              " 'quýt': 812,\n",
              " 'bực_bội': 813,\n",
              " 'hot_d': 814,\n",
              " 'chơ': 815,\n",
              " 'lập_nghiệp_vẻ': 816,\n",
              " 'địa_bàn_là': 817,\n",
              " 'nghẻ': 818,\n",
              " 'tài_xế': 819,\n",
              " 'écoutant': 820,\n",
              " 't_phạt': 821,\n",
              " 'nhug': 822,\n",
              " 'chực': 823,\n",
              " 'nha_k': 824,\n",
              " 'thoả_đáng': 825,\n",
              " 'pacman': 826,\n",
              " 'bgio': 827,\n",
              " 'xác': 828,\n",
              " 'nghiệp_chướng': 829,\n",
              " 'chức_sắc': 830,\n",
              " 'xô_đẩy': 831,\n",
              " 'trợ_cấp': 832,\n",
              " 'bất_xuất_ngoại': 833,\n",
              " 'sám_hối': 834,\n",
              " 'sông': 835,\n",
              " 'oét': 836,\n",
              " 'iiiiiii': 837,\n",
              " 'kiện': 838,\n",
              " 'đk': 839,\n",
              " 'dịu': 840,\n",
              " 'tiểu_ba': 841,\n",
              " 'đen_vậy': 842,\n",
              " 'có_nhân_tài': 843,\n",
              " 'gục': 844,\n",
              " 'thẩm': 845,\n",
              " 'bão': 846,\n",
              " 'dân_chủ': 847,\n",
              " 'thầ': 848,\n",
              " 'oiiiiiiii': 849,\n",
              " 'đếnh': 850,\n",
              " 'kn': 851,\n",
              " 'chuối': 852,\n",
              " 'khoảnh_khắc': 853,\n",
              " 'neh': 854,\n",
              " 'quangquảng': 855,\n",
              " 'tin_tưởng': 856,\n",
              " 'hoaxpox': 857,\n",
              " 'chang': 858,\n",
              " 'mù_chữ': 859,\n",
              " 'giám_khảo': 860,\n",
              " 'thuế_cá_nhân': 861,\n",
              " 'from': 862,\n",
              " 'dut': 863,\n",
              " 'bâyyy': 864,\n",
              " 'ckung': 865,\n",
              " 'dis': 866,\n",
              " 'chê_bai': 867,\n",
              " 'đẩu_đâuuuuu': 868,\n",
              " 'đz': 869,\n",
              " 'kha': 870,\n",
              " 'chiêu': 871,\n",
              " 'giềng': 872,\n",
              " 'đỗ_giang': 873,\n",
              " 'nguyen_van_giang': 874,\n",
              " 'ici': 875,\n",
              " 'gạch_ngang': 876,\n",
              " 'hhhh': 877,\n",
              " 'đẻ_r': 878,\n",
              " 'nhầm': 879,\n",
              " 'có_học': 880,\n",
              " 'bca': 881,\n",
              " 'khôn_ngoan': 882,\n",
              " 'chúng_nó': 883,\n",
              " 'suy_vong': 884,\n",
              " 'con_nuôi': 885,\n",
              " 'tiểu_tiểu': 886,\n",
              " 'bejp': 887,\n",
              " 'phụ_huynh': 888,\n",
              " 'friends': 889,\n",
              " 'giẫy': 890,\n",
              " 'vuot': 891,\n",
              " 'mép': 892,\n",
              " 'biến_thái': 893,\n",
              " 'bộn_bề': 894,\n",
              " 'ngăn_chặn': 895,\n",
              " 'tin_vậy': 896,\n",
              " 'vỡ_nợ': 897,\n",
              " 'nhắc_nhẹ': 898,\n",
              " 'khack': 899,\n",
              " 'hue': 900,\n",
              " 'lòng_vòng': 901,\n",
              " 'xắcccc': 902,\n",
              " 'bổn': 903,\n",
              " 'mỹ_viện': 904,\n",
              " 'hightlight': 905,\n",
              " 'đại_hội': 906,\n",
              " 'td': 907,\n",
              " 'iu_chị': 908,\n",
              " 'dỡ': 909,\n",
              " 'di_thay': 910,\n",
              " 'chib': 911,\n",
              " 'tỷ_giá': 912,\n",
              " 'sub': 913,\n",
              " 'mời': 914,\n",
              " 'ngón_giữa': 915,\n",
              " 'lão': 916,\n",
              " 'tươi_vui': 917,\n",
              " 'hộ_chiếu': 918,\n",
              " 'tiền_lương': 919,\n",
              " 'nguy_hiểm_': 920,\n",
              " 'chóng': 921,\n",
              " 'trở_lại': 922,\n",
              " 'tổ': 923,\n",
              " 'nhẹt': 924,\n",
              " 'lơ_ngơ': 925,\n",
              " 'trl': 926,\n",
              " 'đàn_em': 927,\n",
              " 'gai_tre': 928,\n",
              " 'cơ_á': 929,\n",
              " 'tiên_tiến': 930,\n",
              " 'zu': 931,\n",
              " 'supap': 932,\n",
              " 'hoạt_động': 933,\n",
              " 'nhập_tịch': 934,\n",
              " 'saoo': 935,\n",
              " 'trâu_bò': 936,\n",
              " 'anhem': 937,\n",
              " 'bến': 938,\n",
              " 'conđên': 939,\n",
              " 'cuteee': 940,\n",
              " 'nhắn_tin': 941,\n",
              " 'giao': 942,\n",
              " 'rađể': 943,\n",
              " 'chân_dung': 944,\n",
              " 'phung': 945,\n",
              " 'mãn_kinh_vậy': 946,\n",
              " 'chau': 947,\n",
              " 'thuế_dc': 948,\n",
              " 'balenciaga': 949,\n",
              " 'buon': 950,\n",
              " 'cãi_lộn': 951,\n",
              " 've_nói_chuyện': 952,\n",
              " 'cực_khổ': 953,\n",
              " 'tại_chỗ': 954,\n",
              " 'mất_trộm': 955,\n",
              " 'xerm': 956,\n",
              " 'girl': 957,\n",
              " 'quái_thai': 958,\n",
              " 'đạp_mái': 959,\n",
              " 'mọi_rợ': 960,\n",
              " 'chúg': 961,\n",
              " 'rubi': 962,\n",
              " 'nằm_mơ': 963,\n",
              " 'hnm': 964,\n",
              " 'lột': 965,\n",
              " 'huề': 966,\n",
              " 'cọc': 967,\n",
              " 'nuôn': 968,\n",
              " 'khố': 969,\n",
              " 'streetwear': 970,\n",
              " 'ngộ_vậy': 971,\n",
              " 'haa': 972,\n",
              " 'thiến': 973,\n",
              " 'vũ': 974,\n",
              " 'giặc': 975,\n",
              " 'kỹ_thuật': 976,\n",
              " 'thí_sinh': 977,\n",
              " 'trước_e': 978,\n",
              " 'tuột': 979,\n",
              " 'đouma': 980,\n",
              " 'người_ta_vậy': 981,\n",
              " 'pede': 982,\n",
              " 'di_ma': 983,\n",
              " 'thời_cơ': 984,\n",
              " 'nít': 985,\n",
              " 'bâyh': 986,\n",
              " 'thú_vui': 987,\n",
              " 'quan_chức': 988,\n",
              " 'cầm_đầu': 989,\n",
              " 'viettel': 990,\n",
              " 'nganh': 991,\n",
              " 'chẳng_hạn': 992,\n",
              " 'jum': 993,\n",
              " 'cứ_liệu_hồn': 994,\n",
              " 'hom_hem': 995,\n",
              " 'nss': 996,\n",
              " 'chữa_trị': 997,\n",
              " 'vde': 998,\n",
              " 'cạnh_tranh': 999,\n",
              " 'huyền_thoại_': 1000,\n",
              " 'mật_vụ': 1001,\n",
              " ...}"
            ]
          },
          "metadata": {},
          "execution_count": 33
        }
      ],
      "source": [
        "word_to_index"
      ]
    },
    {
      "cell_type": "code",
      "execution_count": null,
      "metadata": {
        "colab": {
          "base_uri": "https://localhost:8080/"
        },
        "id": "aMxuufRDGa_L",
        "outputId": "0f10a132-db36-4c5f-cc48-90f14cf8c768"
      },
      "outputs": [
        {
          "output_type": "execute_result",
          "data": {
            "text/plain": [
              "array(['fan cứng nè reaction cute coi mấy hợp_lí',\n",
              "       'bọn mắt híp lò_xo thụt việt_nam t r bọn t gọi l',\n",
              "       'đậu ner thằng sida', ...,\n",
              "       'ner khánh sky hải ngoại trần dần danh_hài xuất_sắc',\n",
              "       'lớp du chu cờ moo duyên_dáng',\n",
              "       'cụ mắt cắt mý ta kkk đấy vnch đấy oai hoành cháng nhì'],\n",
              "      dtype=object)"
            ]
          },
          "metadata": {},
          "execution_count": 34
        }
      ],
      "source": [
        "X_train.values"
      ]
    },
    {
      "cell_type": "code",
      "execution_count": null,
      "metadata": {
        "colab": {
          "base_uri": "https://localhost:8080/"
        },
        "id": "9xootZL-Hx_V",
        "outputId": "d9f4d07b-e4db-4a89-8167-d42592178949"
      },
      "outputs": [
        {
          "output_type": "execute_result",
          "data": {
            "text/plain": [
              "0"
            ]
          },
          "metadata": {},
          "execution_count": 35
        }
      ],
      "source": [
        "word_to_index[\"PAD\"]"
      ]
    },
    {
      "cell_type": "code",
      "execution_count": null,
      "metadata": {
        "id": "28LxthfKyBr6"
      },
      "outputs": [],
      "source": [
        "from tensorflow.keras.preprocessing.sequence import pad_sequences\n",
        "from pyvi import ViTokenizer\n",
        "\n",
        "max_len = 100\n",
        "\n",
        "def encoding(X):\n",
        "    sentences = []\n",
        "    \n",
        "    for t in X:\n",
        "        # tach tu \n",
        "        tokenized_sentence = ViTokenizer.tokenize(t)\n",
        "        sentences.append(tokenized_sentence)\n",
        "    \n",
        "    X = []\n",
        "    for s in sentences:\n",
        "        sent = []\n",
        "        for w in s.split():\n",
        "            try:\n",
        "                sent.append(word_to_index[w])\n",
        "            except:\n",
        "                sent.append(word_to_index[\"UNK\"])\n",
        "        X.append(sent)\n",
        "    \n",
        "    # Padding du lieu theo do dai cau (maxlen)\n",
        "    X = pad_sequences(maxlen = max_len, sequences = X, padding = \"post\", value = word_to_index[\"PAD\"])\n",
        "\n",
        "    return X"
      ]
    },
    {
      "cell_type": "markdown",
      "metadata": {
        "id": "10vuN8WWDuAS"
      },
      "source": [
        "## Cach 2: dung ham co san trong Keras "
      ]
    },
    {
      "cell_type": "code",
      "execution_count": null,
      "metadata": {
        "id": "oUBrW8tb3S4M"
      },
      "outputs": [],
      "source": [
        "from tensorflow.keras.preprocessing.sequence import pad_sequences\n",
        "from pyvi import ViTokenizer\n",
        "from keras.preprocessing.text import Tokenizer\n",
        "\n",
        "max_len = 100\n",
        "\n",
        "\n",
        "word_tokenizer = Tokenizer(oov_token=-1)\n",
        "word_tokenizer.fit_on_texts(X_train)\n",
        "\n",
        "word_2_index = word_tokenizer.word_index\n",
        "word_2_index['pad'] = 0\n",
        "word_2_index['unk'] = -1\n",
        "\n",
        "\n",
        "index_to_word = {i: w for w, i in word_to_index.items()}\n",
        "\n",
        "def encoding(X):\n",
        "    sentences = []\n",
        "    \n",
        "    for t in X:\n",
        "        tokenized_sentence = ViTokenizer.tokenize(t)\n",
        "        sentences.append(tokenized_sentence)\n",
        "    \n",
        "    X = word_tokenizer.texts_to_sequences(sentences)\n",
        "    X = pad_sequences(maxlen = max_len, sequences = X, padding = \"post\", value = word_2_index['pad'])\n",
        "\n",
        "    return X"
      ]
    },
    {
      "cell_type": "markdown",
      "metadata": {
        "id": "K_zLlOCzEB_m"
      },
      "source": [
        "## Build model "
      ]
    },
    {
      "cell_type": "code",
      "execution_count": null,
      "metadata": {
        "id": "YDmlZdLUH4sq"
      },
      "outputs": [],
      "source": [
        "def recall_m(y_true, y_pred):\n",
        "    true_positives = K.sum(K.round(K.clip(y_true * y_pred, 0, 1)))\n",
        "    possible_positives = K.sum(K.round(K.clip(y_true, 0, 1)))\n",
        "    recall = true_positives / (possible_positives + K.epsilon())\n",
        "    return recall\n",
        " \n",
        "def precision_m(y_true, y_pred):\n",
        "    true_positives = K.sum(K.round(K.clip(y_true * y_pred, 0, 1)))\n",
        "    predicted_positives = K.sum(K.round(K.clip(y_pred, 0, 1)))\n",
        "    precision = true_positives / (predicted_positives + K.epsilon())\n",
        "    return precision\n",
        " \n",
        "def f1_m(y_true, y_pred):\n",
        "    precision = precision_m(y_true, y_pred)\n",
        "    recall = recall_m(y_true, y_pred)\n",
        "    return 2*((precision*recall)/(precision+recall+K.epsilon()))"
      ]
    },
    {
      "cell_type": "code",
      "execution_count": null,
      "metadata": {
        "id": "AwzbnA5kyjx2"
      },
      "outputs": [],
      "source": [
        "X_train_encoded = encoding(X_train)\n",
        "X_dev_encoded = encoding(X_dev)\n",
        "X_test_encoded = encoding(X_test)"
      ]
    },
    {
      "cell_type": "code",
      "execution_count": null,
      "metadata": {
        "id": "BiYZ5u0Oyu-j",
        "colab": {
          "base_uri": "https://localhost:8080/"
        },
        "outputId": "a66460d1-a194-4d03-9f3d-71a1e1093207"
      },
      "outputs": [
        {
          "output_type": "stream",
          "name": "stdout",
          "text": [
            "WARNING:tensorflow:Layer lstm will not use cuDNN kernels since it doesn't meet the criteria. It will use a generic GPU kernel as fallback when running on GPU.\n",
            "WARNING:tensorflow:Layer lstm will not use cuDNN kernels since it doesn't meet the criteria. It will use a generic GPU kernel as fallback when running on GPU.\n",
            "WARNING:tensorflow:Layer lstm will not use cuDNN kernels since it doesn't meet the criteria. It will use a generic GPU kernel as fallback when running on GPU.\n"
          ]
        }
      ],
      "source": [
        "from keras.layers import Dense, Embedding, Flatten\n",
        "from keras.models import Model, Input\n",
        "from keras.initializers import Constant\n",
        "\n",
        "num_words = len(word_2_index)\n",
        "inp = Input(shape=(max_len,))\n",
        " \n",
        "x = Embedding(input_dim=num_words+1,\n",
        "                    output_dim=300,\n",
        "                    input_length=max_len)(inp)\n",
        "x = SpatialDropout1D(0.35)(x)\n",
        " \n",
        "x = Bidirectional(LSTM(64, return_sequences=True, dropout=0.2, recurrent_dropout=0.2))(x)\n",
        "x = Conv1D(64, kernel_size=3, padding='valid', kernel_initializer='glorot_uniform')(x)\n",
        " \n",
        "avg_pool = GlobalAveragePooling1D()(x)\n",
        "max_pool = GlobalMaxPooling1D()(x)\n",
        "x = concatenate([avg_pool, max_pool])\n",
        " \n",
        "out = Dense(3, activation='relu')(x)\n",
        "\n",
        "model = Model(inp, out)\n",
        "model.compile(optimizer='adam', loss='binary_crossentropy', metrics=['acc',f1_m,precision_m, recall_m])"
      ]
    },
    {
      "cell_type": "code",
      "execution_count": null,
      "metadata": {
        "colab": {
          "base_uri": "https://localhost:8080/"
        },
        "id": "RwtsZbUDy_jN",
        "outputId": "2e28bb83-7271-466c-caa6-18ec461362a7"
      },
      "outputs": [
        {
          "output_type": "stream",
          "name": "stdout",
          "text": [
            "Epoch 1/10\n",
            "47/47 [==============================] - 84s 1s/step - loss: 0.4610 - acc: 0.8106 - f1_m: 0.7793 - precision_m: 0.7991 - recall_m: 0.7688 - val_loss: 0.3503 - val_acc: 0.8196 - val_f1_m: 0.8157 - val_precision_m: 0.8166 - val_recall_m: 0.8149\n",
            "Epoch 2/10\n",
            "47/47 [==============================] - 67s 1s/step - loss: 0.2988 - acc: 0.8299 - f1_m: 0.8311 - precision_m: 0.8344 - recall_m: 0.8279 - val_loss: 0.2949 - val_acc: 0.8331 - val_f1_m: 0.8281 - val_precision_m: 0.8515 - val_recall_m: 0.8061\n",
            "Epoch 3/10\n",
            "47/47 [==============================] - 61s 1s/step - loss: 0.2667 - acc: 0.8576 - f1_m: 0.8553 - precision_m: 0.8621 - recall_m: 0.8494 - val_loss: 0.2722 - val_acc: 0.8496 - val_f1_m: 0.8471 - val_precision_m: 0.8645 - val_recall_m: 0.8305\n",
            "Epoch 4/10\n",
            "47/47 [==============================] - 61s 1s/step - loss: 0.2330 - acc: 0.8720 - f1_m: 0.8708 - precision_m: 0.8997 - recall_m: 0.8445 - val_loss: 0.3013 - val_acc: 0.8484 - val_f1_m: 0.8470 - val_precision_m: 0.8746 - val_recall_m: 0.8211\n",
            "Epoch 5/10\n",
            "47/47 [==============================] - 69s 1s/step - loss: 0.1998 - acc: 0.8803 - f1_m: 0.8808 - precision_m: 0.9160 - recall_m: 0.8484 - val_loss: 0.3532 - val_acc: 0.8496 - val_f1_m: 0.8493 - val_precision_m: 0.8639 - val_recall_m: 0.8353\n",
            "Epoch 6/10\n",
            "47/47 [==============================] - 72s 2s/step - loss: 0.1848 - acc: 0.8903 - f1_m: 0.8905 - precision_m: 0.9182 - recall_m: 0.8646 - val_loss: 0.3382 - val_acc: 0.8525 - val_f1_m: 0.8508 - val_precision_m: 0.8854 - val_recall_m: 0.8190\n",
            "Epoch 7/10\n",
            "47/47 [==============================] - 62s 1s/step - loss: 0.2190 - acc: 0.8991 - f1_m: 0.8859 - precision_m: 0.8941 - recall_m: 0.8834 - val_loss: 0.4810 - val_acc: 0.8529 - val_f1_m: 0.8527 - val_precision_m: 0.8790 - val_recall_m: 0.8280\n",
            "Epoch 8/10\n",
            "47/47 [==============================] - 62s 1s/step - loss: 0.3759 - acc: 0.8929 - f1_m: 0.8243 - precision_m: 0.8088 - recall_m: 0.8770 - val_loss: 0.4821 - val_acc: 0.8548 - val_f1_m: 0.8486 - val_precision_m: 0.8823 - val_recall_m: 0.8175\n",
            "Epoch 9/10\n",
            "47/47 [==============================] - 61s 1s/step - loss: 0.1912 - acc: 0.9130 - f1_m: 0.9077 - precision_m: 0.9279 - recall_m: 0.8889 - val_loss: 0.4565 - val_acc: 0.8552 - val_f1_m: 0.8504 - val_precision_m: 0.8667 - val_recall_m: 0.8350\n",
            "Epoch 10/10\n",
            "47/47 [==============================] - 63s 1s/step - loss: 0.1623 - acc: 0.9218 - f1_m: 0.9187 - precision_m: 0.9342 - recall_m: 0.9037 - val_loss: 0.4730 - val_acc: 0.8555 - val_f1_m: 0.8478 - val_precision_m: 0.8780 - val_recall_m: 0.8201\n"
          ]
        },
        {
          "output_type": "execute_result",
          "data": {
            "text/plain": [
              "<keras.callbacks.History at 0x7fa8fd64bc50>"
            ]
          },
          "metadata": {},
          "execution_count": 41
        }
      ],
      "source": [
        "from tensorflow.keras.utils import to_categorical\n",
        "\n",
        "model.fit(X_train_encoded, to_categorical(y_train, num_classes=3), \n",
        "          validation_data=(X_dev_encoded, to_categorical(y_dev, num_classes=3)), \n",
        "          batch_size=512, epochs=10)"
      ]
    },
    {
      "cell_type": "code",
      "execution_count": null,
      "metadata": {
        "id": "c4VJu-_0zCE7"
      },
      "outputs": [],
      "source": [
        "import numpy as np\n",
        "y_pred_test = model.predict(X_test_encoded)\n",
        "y_pred_test = np.argmax(y_pred_test, axis=-1)"
      ]
    },
    {
      "cell_type": "code",
      "execution_count": null,
      "metadata": {
        "id": "oJK5zPzlzLIc",
        "colab": {
          "base_uri": "https://localhost:8080/"
        },
        "outputId": "686e64fa-3e00-4e2b-d27b-d19dcbf7925d"
      },
      "outputs": [
        {
          "output_type": "stream",
          "name": "stdout",
          "text": [
            "58.03824227389455\n"
          ]
        }
      ],
      "source": [
        "from sklearn.metrics import f1_score\n",
        "\n",
        "print(f1_score(y_test, y_pred_test, average='macro')*100)"
      ]
    },
    {
      "cell_type": "code",
      "execution_count": null,
      "metadata": {
        "id": "Ll6VWQDZS33u",
        "colab": {
          "base_uri": "https://localhost:8080/"
        },
        "outputId": "04ffb33d-d571-4c54-c05e-6106aca8af8e"
      },
      "outputs": [
        {
          "output_type": "stream",
          "name": "stdout",
          "text": [
            "              precision    recall  f1-score   support\n",
            "\n",
            "           0       0.90      0.96      0.93      5548\n",
            "           1       0.50      0.20      0.28       444\n",
            "           2       0.58      0.49      0.53       688\n",
            "\n",
            "    accuracy                           0.86      6680\n",
            "   macro avg       0.66      0.55      0.58      6680\n",
            "weighted avg       0.84      0.86      0.85      6680\n",
            "\n"
          ]
        }
      ],
      "source": [
        "from sklearn.metrics import classification_report\n",
        "print(classification_report(y_test,y_pred_test))"
      ]
    },
    {
      "cell_type": "code",
      "execution_count": null,
      "metadata": {
        "id": "fzBYAuZ32gBA"
      },
      "outputs": [],
      "source": [
        ""
      ]
    },
    {
      "cell_type": "markdown",
      "source": [
        ""
      ],
      "metadata": {
        "id": "IR1Dw2GehIND"
      }
    },
    {
      "cell_type": "markdown",
      "metadata": {
        "id": "cF8kx3jzU0mx"
      },
      "source": [
        "#Bi-LSTM + Pre-trained W2V Embedding "
      ]
    },
    {
      "cell_type": "code",
      "execution_count": null,
      "metadata": {
        "colab": {
          "base_uri": "https://localhost:8080/"
        },
        "outputId": "b7d9bc3f-7e62-4425-a218-de403f37c35b",
        "id": "KEN7NzVagQg7"
      },
      "outputs": [
        {
          "output_type": "stream",
          "name": "stdout",
          "text": [
            "24048\n",
            "2672\n",
            "6680\n"
          ]
        }
      ],
      "source": [
        "import pandas as pd \n",
        "import numpy as np \n",
        "\n",
        "DATA = '/content/drive/MyDrive/Download(Win11)/vihsd/data/vihsd/vihsd/train.csv'\n",
        "DEV_DATA = '/content/drive/MyDrive/Download(Win11)/vihsd/data/vihsd/vihsd/dev.csv'\n",
        "TEST_DATA = '/content/drive/MyDrive/Download(Win11)/vihsd/data/vihsd/vihsd/test.csv'\n",
        "\n",
        "# read data\n",
        "train_data = pd.read_csv(DATA)\n",
        "dev_data = pd.read_csv(DEV_DATA)\n",
        "test_data = pd.read_csv(TEST_DATA)\n",
        "\n",
        "print(len(train_data))\n",
        "print(len(dev_data))\n",
        "print(len(test_data))\n",
        "\n",
        "X_train = train_data['free_text']\n",
        "y_train = train_data['label_id'].values\n",
        "\n",
        "X_dev = dev_data['free_text']\n",
        "y_dev = dev_data['label_id'].values\n",
        "\n",
        "X_test = test_data['free_text']\n",
        "y_test = test_data['label_id'].values"
      ]
    },
    {
      "cell_type": "code",
      "source": [
        "X_train = preprocessing(X_train)\n",
        "X_test = preprocessing(X_test)\n",
        "X_dev = preprocessing(X_dev)"
      ],
      "metadata": {
        "colab": {
          "base_uri": "https://localhost:8080/"
        },
        "id": "fQClN0gZdhH5",
        "outputId": "e31d688f-5929-4f51-e6b6-cf009490b388"
      },
      "execution_count": null,
      "outputs": [
        {
          "output_type": "stream",
          "name": "stderr",
          "text": [
            "/usr/local/lib/python3.7/dist-packages/ipykernel_launcher.py:6: SettingWithCopyWarning: \n",
            "A value is trying to be set on a copy of a slice from a DataFrame\n",
            "\n",
            "See the caveats in the documentation: https://pandas.pydata.org/pandas-docs/stable/user_guide/indexing.html#returning-a-view-versus-a-copy\n",
            "  \n",
            "/usr/local/lib/python3.7/dist-packages/ipykernel_launcher.py:8: SettingWithCopyWarning: \n",
            "A value is trying to be set on a copy of a slice from a DataFrame\n",
            "\n",
            "See the caveats in the documentation: https://pandas.pydata.org/pandas-docs/stable/user_guide/indexing.html#returning-a-view-versus-a-copy\n",
            "  \n"
          ]
        }
      ]
    },
    {
      "cell_type": "code",
      "execution_count": null,
      "metadata": {
        "colab": {
          "base_uri": "https://localhost:8080/"
        },
        "id": "79TKWhrMW0BG",
        "outputId": "9cccba82-0a38-4141-f6fa-7444134dfc72"
      },
      "outputs": [
        {
          "output_type": "stream",
          "name": "stdout",
          "text": [
            "Requirement already satisfied: pyvi in /usr/local/lib/python3.7/dist-packages (0.1.1)\n",
            "Requirement already satisfied: scikit-learn in /usr/local/lib/python3.7/dist-packages (from pyvi) (1.0.1)\n",
            "Requirement already satisfied: sklearn-crfsuite in /usr/local/lib/python3.7/dist-packages (from pyvi) (0.3.6)\n",
            "Requirement already satisfied: numpy>=1.14.6 in /usr/local/lib/python3.7/dist-packages (from scikit-learn->pyvi) (1.19.5)\n",
            "Requirement already satisfied: scipy>=1.1.0 in /usr/local/lib/python3.7/dist-packages (from scikit-learn->pyvi) (1.4.1)\n",
            "Requirement already satisfied: joblib>=0.11 in /usr/local/lib/python3.7/dist-packages (from scikit-learn->pyvi) (1.1.0)\n",
            "Requirement already satisfied: threadpoolctl>=2.0.0 in /usr/local/lib/python3.7/dist-packages (from scikit-learn->pyvi) (3.0.0)\n",
            "Requirement already satisfied: tabulate in /usr/local/lib/python3.7/dist-packages (from sklearn-crfsuite->pyvi) (0.8.9)\n",
            "Requirement already satisfied: six in /usr/local/lib/python3.7/dist-packages (from sklearn-crfsuite->pyvi) (1.15.0)\n",
            "Requirement already satisfied: tqdm>=2.0 in /usr/local/lib/python3.7/dist-packages (from sklearn-crfsuite->pyvi) (4.62.3)\n",
            "Requirement already satisfied: python-crfsuite>=0.8.3 in /usr/local/lib/python3.7/dist-packages (from sklearn-crfsuite->pyvi) (0.9.7)\n"
          ]
        }
      ],
      "source": [
        "pip install pyvi"
      ]
    },
    {
      "cell_type": "code",
      "execution_count": null,
      "metadata": {
        "colab": {
          "base_uri": "https://localhost:8080/"
        },
        "id": "kvlxke8pU26f",
        "outputId": "3a93d1fd-24f1-43e5-b4d5-ead6c62f0fb6"
      },
      "outputs": [
        {
          "output_type": "stream",
          "name": "stdout",
          "text": [
            "Embedding data loaded\n"
          ]
        }
      ],
      "source": [
        "# Read embedding\n",
        "word_dict = []\n",
        "embeddings_index = {}\n",
        "embedding_dim = 300\n",
        "max_feature = len(embeddings_index) + 2\n",
        "\n",
        "f = open('/content/drive/MyDrive/Download(Win11)/W2V_ner.vec/W2V_ner.vec')\n",
        "for line in f:\n",
        "    values = line.split(' ')\n",
        "    word = values[0] \n",
        "    word_dict.append(word)\n",
        "    try:\n",
        "        coefs = np.asarray(values[1:], dtype='float32')\n",
        "        embeddings_index[word] = coefs\n",
        "    except Exception as e:\n",
        "        pass\n",
        "f.close()\n",
        "\n",
        "print('Embedding data loaded')"
      ]
    },
    {
      "cell_type": "code",
      "execution_count": null,
      "metadata": {
        "id": "DSZzC5Gk7nzY"
      },
      "outputs": [],
      "source": [
        "from tensorflow.keras.preprocessing.sequence import pad_sequences\n",
        "from pyvi import ViTokenizer\n",
        "from keras.preprocessing.text import Tokenizer\n",
        "\n",
        "max_len = 100\n",
        "\n",
        "word_tokenizer = Tokenizer(oov_token=-1)\n",
        "word_tokenizer.fit_on_texts(X_train.values)\n",
        "word_to_index = word_tokenizer.word_index\n",
        "word_to_index['pad'] = 0\n",
        "word_to_index['unk'] = -1\n",
        "\n",
        "index_to_word = {i: w for w, i in word_to_index.items()}\n",
        "\n",
        "def encoding(X):\n",
        "    sentences = []\n",
        "    \n",
        "    for t in X:\n",
        "        tokenized_sentence = ViTokenizer.tokenize(t)\n",
        "        sentences.append(tokenized_sentence)\n",
        "    \n",
        "    X = word_tokenizer.texts_to_sequences(sentences)\n",
        "    X = pad_sequences(maxlen = max_len, sequences = X, padding = \"post\", value = word_to_index['pad'])\n",
        "\n",
        "    return X"
      ]
    },
    {
      "cell_type": "code",
      "execution_count": null,
      "metadata": {
        "id": "YwX146sL8tyk"
      },
      "outputs": [],
      "source": [
        "import numpy as np \n",
        "# first create a matrix of zeros, this is our embedding matrix\n",
        "num_words = len(word_to_index)\n",
        "\n",
        "embedding_matrix = np.zeros((num_words, embedding_dim))\n",
        "\n",
        "# for each word in out tokenizer lets try to find that work in our w2v model\n",
        "for word, i in word_to_index.items():\n",
        "    if i > max_feature:\n",
        "        continue\n",
        "    embedding_vector = embeddings_index.get(word)\n",
        "    if embedding_vector is not None:\n",
        "        embedding_matrix[i] = embedding_vector\n",
        "    else:\n",
        "        # doesn't exist, assign a random vector\n",
        "        embedding_matrix[i] = np.random.randn(embedding_dim)"
      ]
    },
    {
      "cell_type": "code",
      "execution_count": null,
      "metadata": {
        "id": "0J5BAS3f2n29"
      },
      "outputs": [],
      "source": [
        "X_train_encoded = encoding(X_train)\n",
        "X_dev_encoded = encoding(X_dev)\n",
        "X_test_encoded = encoding(X_test)"
      ]
    },
    {
      "cell_type": "code",
      "source": [
        "def recall_m(y_true, y_pred):\n",
        "    true_positives = K.sum(K.round(K.clip(y_true * y_pred, 0, 1)))\n",
        "    possible_positives = K.sum(K.round(K.clip(y_true, 0, 1)))\n",
        "    recall = true_positives / (possible_positives + K.epsilon())\n",
        "    return recall\n",
        " \n",
        "def precision_m(y_true, y_pred):\n",
        "    true_positives = K.sum(K.round(K.clip(y_true * y_pred, 0, 1)))\n",
        "    predicted_positives = K.sum(K.round(K.clip(y_pred, 0, 1)))\n",
        "    precision = true_positives / (predicted_positives + K.epsilon())\n",
        "    return precision\n",
        " \n",
        "def f1_m(y_true, y_pred):\n",
        "    precision = precision_m(y_true, y_pred)\n",
        "    recall = recall_m(y_true, y_pred)\n",
        "    return 2*((precision*recall)/(precision+recall+K.epsilon()))"
      ],
      "metadata": {
        "id": "gXCZorXBev7l"
      },
      "execution_count": null,
      "outputs": []
    },
    {
      "cell_type": "code",
      "execution_count": null,
      "metadata": {
        "id": "SsplchBf2n2-"
      },
      "outputs": [],
      "source": [
        "from keras.layers import Dense, Embedding, Flatten\n",
        "from keras.models import Model, Input\n",
        "from keras.initializers import Constant\n",
        "\n",
        "num_words = len(word_to_index)\n",
        "inp = Input(shape=(max_len,))\n",
        " \n",
        "x = Embedding(input_dim=num_words,\n",
        "                    output_dim=embedding_dim,\n",
        "                    embeddings_initializer=Constant(embedding_matrix),\n",
        "                    input_length=max_len,\n",
        "                    trainable=True)(inp)\n",
        "x = SpatialDropout1D(0.35)(x)\n",
        " \n",
        "x = Bidirectional(LSTM(64, return_sequences=True, dropout=0.2, recurrent_dropout=0.2))(x)\n",
        "x = Conv1D(64, kernel_size=3, padding='valid', kernel_initializer='glorot_uniform')(x)\n",
        " \n",
        "avg_pool = GlobalAveragePooling1D()(x)\n",
        "max_pool = GlobalMaxPooling1D()(x)\n",
        "x = concatenate([avg_pool, max_pool])\n",
        " \n",
        "out = Dense(3, activation='relu')(x)\n",
        "\n",
        "model = Model(inp, out)\n",
        "model.compile(optimizer='adam', loss='binary_crossentropy', metrics=['acc',f1_m,precision_m, recall_m])"
      ]
    },
    {
      "cell_type": "code",
      "execution_count": null,
      "metadata": {
        "colab": {
          "base_uri": "https://localhost:8080/"
        },
        "id": "XQDhtpSt2n2-",
        "outputId": "3270a9b9-2461-4670-fe96-0e2bf257fdd0"
      },
      "outputs": [
        {
          "output_type": "stream",
          "name": "stderr",
          "text": [
            "/usr/local/lib/python3.7/dist-packages/tensorflow_core/python/framework/indexed_slices.py:433: UserWarning: Converting sparse IndexedSlices to a dense Tensor of unknown shape. This may consume a large amount of memory.\n",
            "  \"Converting sparse IndexedSlices to a dense Tensor of unknown shape. \"\n"
          ]
        },
        {
          "output_type": "stream",
          "name": "stdout",
          "text": [
            "Train on 24048 samples, validate on 2672 samples\n",
            "Epoch 1/10\n",
            "24048/24048 [==============================] - 23s 949us/step - loss: 1.7813 - acc: 0.6124 - f1_m: 0.8174 - precision_m: 0.8186 - recall_m: 0.8167 - val_loss: 1.8444 - val_acc: 0.6065 - val_f1_m: 0.8152 - val_precision_m: 0.8152 - val_recall_m: 0.8152\n",
            "Epoch 2/10\n",
            "24048/24048 [==============================] - 29s 1ms/step - loss: 1.7743 - acc: 0.6090 - f1_m: 0.8269 - precision_m: 0.8270 - recall_m: 0.8268 - val_loss: 1.8444 - val_acc: 0.6065 - val_f1_m: 0.8152 - val_precision_m: 0.8152 - val_recall_m: 0.8152\n",
            "Epoch 3/10\n",
            "24048/24048 [==============================] - 31s 1ms/step - loss: 1.7743 - acc: 0.6090 - f1_m: 0.8269 - precision_m: 0.8269 - recall_m: 0.8269 - val_loss: 1.8444 - val_acc: 0.6065 - val_f1_m: 0.8152 - val_precision_m: 0.8152 - val_recall_m: 0.8152\n",
            "Epoch 4/10\n",
            "24048/24048 [==============================] - 26s 1ms/step - loss: 1.7742 - acc: 0.6090 - f1_m: 0.8270 - precision_m: 0.8270 - recall_m: 0.8269 - val_loss: 1.8444 - val_acc: 0.6065 - val_f1_m: 0.8152 - val_precision_m: 0.8152 - val_recall_m: 0.8152\n",
            "Epoch 5/10\n",
            "24048/24048 [==============================] - 20s 849us/step - loss: 1.7742 - acc: 0.6090 - f1_m: 0.8269 - precision_m: 0.8270 - recall_m: 0.8269 - val_loss: 1.8444 - val_acc: 0.6065 - val_f1_m: 0.8152 - val_precision_m: 0.8152 - val_recall_m: 0.8152\n",
            "Epoch 6/10\n",
            "24048/24048 [==============================] - 15s 643us/step - loss: 1.7741 - acc: 0.6090 - f1_m: 0.8270 - precision_m: 0.8270 - recall_m: 0.8269 - val_loss: 1.8444 - val_acc: 0.6065 - val_f1_m: 0.8152 - val_precision_m: 0.8152 - val_recall_m: 0.8152\n",
            "Epoch 7/10\n",
            "24048/24048 [==============================] - 16s 645us/step - loss: 1.7740 - acc: 0.6090 - f1_m: 0.8269 - precision_m: 0.8270 - recall_m: 0.8269 - val_loss: 1.8444 - val_acc: 0.6065 - val_f1_m: 0.8152 - val_precision_m: 0.8152 - val_recall_m: 0.8152\n",
            "Epoch 8/10\n",
            "24048/24048 [==============================] - 16s 648us/step - loss: 1.7740 - acc: 0.6090 - f1_m: 0.8270 - precision_m: 0.8270 - recall_m: 0.8270 - val_loss: 1.8444 - val_acc: 0.6065 - val_f1_m: 0.8152 - val_precision_m: 0.8152 - val_recall_m: 0.8152\n",
            "Epoch 9/10\n",
            "24048/24048 [==============================] - 16s 648us/step - loss: 1.7740 - acc: 0.6090 - f1_m: 0.8270 - precision_m: 0.8270 - recall_m: 0.8270 - val_loss: 1.8444 - val_acc: 0.6065 - val_f1_m: 0.8152 - val_precision_m: 0.8152 - val_recall_m: 0.8152\n",
            "Epoch 10/10\n",
            "24048/24048 [==============================] - 16s 669us/step - loss: 1.7740 - acc: 0.6090 - f1_m: 0.8270 - precision_m: 0.8270 - recall_m: 0.8270 - val_loss: 1.8444 - val_acc: 0.6065 - val_f1_m: 0.8152 - val_precision_m: 0.8152 - val_recall_m: 0.8152\n"
          ]
        },
        {
          "output_type": "execute_result",
          "data": {
            "text/plain": [
              "<keras.callbacks.callbacks.History at 0x7fa0cefe6410>"
            ]
          },
          "metadata": {},
          "execution_count": 79
        }
      ],
      "source": [
        "from tensorflow.keras.utils import to_categorical\n",
        "\n",
        "model.fit(X_train_encoded, to_categorical(y_train, num_classes=3), \n",
        "          validation_data=(X_dev_encoded, to_categorical(y_dev, num_classes=3)), \n",
        "          batch_size=512, epochs=10)"
      ]
    },
    {
      "cell_type": "code",
      "execution_count": null,
      "metadata": {
        "id": "2vIn-qDh2n2_"
      },
      "outputs": [],
      "source": [
        "import numpy as np\n",
        "y_pred_test = model.predict(X_test_encoded)\n",
        "y_pred_test = np.argmax(y_pred_test, axis=-1)"
      ]
    },
    {
      "cell_type": "code",
      "execution_count": null,
      "metadata": {
        "colab": {
          "base_uri": "https://localhost:8080/"
        },
        "id": "4LjhGtlG2n2_",
        "outputId": "5202b495-52b7-4240-85b8-648c1b464d62"
      },
      "outputs": [
        {
          "output_type": "stream",
          "name": "stdout",
          "text": [
            "30.24751935448697\n"
          ]
        }
      ],
      "source": [
        "from sklearn.metrics import f1_score\n",
        "\n",
        "print(f1_score(y_test, y_pred_test, average='macro')*100)"
      ]
    },
    {
      "cell_type": "code",
      "execution_count": null,
      "metadata": {
        "colab": {
          "base_uri": "https://localhost:8080/"
        },
        "id": "A9dnwGU02n2_",
        "outputId": "e6fd3086-49e4-4c54-843f-cceb065bfac3"
      },
      "outputs": [
        {
          "output_type": "stream",
          "name": "stdout",
          "text": [
            "              precision    recall  f1-score   support\n",
            "\n",
            "           0       0.83      1.00      0.91      5548\n",
            "           1       0.00      0.00      0.00       444\n",
            "           2       0.00      0.00      0.00       688\n",
            "\n",
            "    accuracy                           0.83      6680\n",
            "   macro avg       0.28      0.33      0.30      6680\n",
            "weighted avg       0.69      0.83      0.75      6680\n",
            "\n"
          ]
        },
        {
          "output_type": "stream",
          "name": "stderr",
          "text": [
            "/usr/local/lib/python3.7/dist-packages/sklearn/metrics/_classification.py:1308: UndefinedMetricWarning: Precision and F-score are ill-defined and being set to 0.0 in labels with no predicted samples. Use `zero_division` parameter to control this behavior.\n",
            "  _warn_prf(average, modifier, msg_start, len(result))\n",
            "/usr/local/lib/python3.7/dist-packages/sklearn/metrics/_classification.py:1308: UndefinedMetricWarning: Precision and F-score are ill-defined and being set to 0.0 in labels with no predicted samples. Use `zero_division` parameter to control this behavior.\n",
            "  _warn_prf(average, modifier, msg_start, len(result))\n",
            "/usr/local/lib/python3.7/dist-packages/sklearn/metrics/_classification.py:1308: UndefinedMetricWarning: Precision and F-score are ill-defined and being set to 0.0 in labels with no predicted samples. Use `zero_division` parameter to control this behavior.\n",
            "  _warn_prf(average, modifier, msg_start, len(result))\n"
          ]
        }
      ],
      "source": [
        "from sklearn.metrics import classification_report\n",
        "print(classification_report(y_test,y_pred_test))"
      ]
    },
    {
      "cell_type": "code",
      "execution_count": null,
      "metadata": {
        "id": "nTJ43W4ZZ5Lh"
      },
      "outputs": [],
      "source": [
        ""
      ]
    },
    {
      "cell_type": "markdown",
      "source": [
        ""
      ],
      "metadata": {
        "id": "uZdrYfxLhR96"
      }
    },
    {
      "cell_type": "markdown",
      "metadata": {
        "id": "g-2tBG-DZ5xQ"
      },
      "source": [
        "#Bi-LSTM + Pre-trained fasttext Embedding"
      ]
    },
    {
      "cell_type": "code",
      "execution_count": null,
      "metadata": {
        "colab": {
          "base_uri": "https://localhost:8080/"
        },
        "outputId": "b7d9bc3f-7e62-4425-a218-de403f37c35b",
        "id": "0wqSU6wJgaoU"
      },
      "outputs": [
        {
          "output_type": "stream",
          "name": "stdout",
          "text": [
            "24048\n",
            "2672\n",
            "6680\n"
          ]
        }
      ],
      "source": [
        "import pandas as pd \n",
        "import numpy as np \n",
        "\n",
        "DATA = '/content/drive/MyDrive/Download(Win11)/vihsd/data/vihsd/vihsd/train.csv'\n",
        "DEV_DATA = '/content/drive/MyDrive/Download(Win11)/vihsd/data/vihsd/vihsd/dev.csv'\n",
        "TEST_DATA = '/content/drive/MyDrive/Download(Win11)/vihsd/data/vihsd/vihsd/test.csv'\n",
        "\n",
        "# read data\n",
        "train_data = pd.read_csv(DATA)\n",
        "dev_data = pd.read_csv(DEV_DATA)\n",
        "test_data = pd.read_csv(TEST_DATA)\n",
        "\n",
        "print(len(train_data))\n",
        "print(len(dev_data))\n",
        "print(len(test_data))\n",
        "\n",
        "X_train = train_data['free_text']\n",
        "y_train = train_data['label_id'].values\n",
        "\n",
        "X_dev = dev_data['free_text']\n",
        "y_dev = dev_data['label_id'].values\n",
        "\n",
        "X_test = test_data['free_text']\n",
        "y_test = test_data['label_id'].values"
      ]
    },
    {
      "cell_type": "code",
      "execution_count": null,
      "metadata": {
        "colab": {
          "base_uri": "https://localhost:8080/"
        },
        "id": "UdGQEspBbCxG",
        "outputId": "5a2439b8-ada7-4e5f-ab33-458ba664c841"
      },
      "outputs": [
        {
          "output_type": "stream",
          "name": "stderr",
          "text": [
            "/usr/local/lib/python3.7/dist-packages/ipykernel_launcher.py:6: SettingWithCopyWarning: \n",
            "A value is trying to be set on a copy of a slice from a DataFrame\n",
            "\n",
            "See the caveats in the documentation: https://pandas.pydata.org/pandas-docs/stable/user_guide/indexing.html#returning-a-view-versus-a-copy\n",
            "  \n",
            "/usr/local/lib/python3.7/dist-packages/ipykernel_launcher.py:8: SettingWithCopyWarning: \n",
            "A value is trying to be set on a copy of a slice from a DataFrame\n",
            "\n",
            "See the caveats in the documentation: https://pandas.pydata.org/pandas-docs/stable/user_guide/indexing.html#returning-a-view-versus-a-copy\n",
            "  \n"
          ]
        }
      ],
      "source": [
        "X_train = preprocessing(X_train)\n",
        "X_dev = preprocessing(X_dev)\n",
        "X_test = preprocessing(X_test)"
      ]
    },
    {
      "cell_type": "code",
      "execution_count": null,
      "metadata": {
        "colab": {
          "base_uri": "https://localhost:8080/"
        },
        "id": "qFFkVVn9Z5xR",
        "outputId": "96bfb672-d75e-48cf-f387-2d37dd94811a"
      },
      "outputs": [
        {
          "output_type": "stream",
          "name": "stdout",
          "text": [
            "Requirement already satisfied: pyvi in /usr/local/lib/python3.7/dist-packages (0.1.1)\n",
            "Requirement already satisfied: sklearn-crfsuite in /usr/local/lib/python3.7/dist-packages (from pyvi) (0.3.6)\n",
            "Requirement already satisfied: scikit-learn in /usr/local/lib/python3.7/dist-packages (from pyvi) (1.0.1)\n",
            "Requirement already satisfied: joblib>=0.11 in /usr/local/lib/python3.7/dist-packages (from scikit-learn->pyvi) (1.1.0)\n",
            "Requirement already satisfied: numpy>=1.14.6 in /usr/local/lib/python3.7/dist-packages (from scikit-learn->pyvi) (1.19.5)\n",
            "Requirement already satisfied: threadpoolctl>=2.0.0 in /usr/local/lib/python3.7/dist-packages (from scikit-learn->pyvi) (3.0.0)\n",
            "Requirement already satisfied: scipy>=1.1.0 in /usr/local/lib/python3.7/dist-packages (from scikit-learn->pyvi) (1.4.1)\n",
            "Requirement already satisfied: tqdm>=2.0 in /usr/local/lib/python3.7/dist-packages (from sklearn-crfsuite->pyvi) (4.62.3)\n",
            "Requirement already satisfied: python-crfsuite>=0.8.3 in /usr/local/lib/python3.7/dist-packages (from sklearn-crfsuite->pyvi) (0.9.7)\n",
            "Requirement already satisfied: six in /usr/local/lib/python3.7/dist-packages (from sklearn-crfsuite->pyvi) (1.15.0)\n",
            "Requirement already satisfied: tabulate in /usr/local/lib/python3.7/dist-packages (from sklearn-crfsuite->pyvi) (0.8.9)\n"
          ]
        }
      ],
      "source": [
        "pip install pyvi"
      ]
    },
    {
      "cell_type": "code",
      "execution_count": null,
      "metadata": {
        "colab": {
          "base_uri": "https://localhost:8080/"
        },
        "id": "ixmkT4w5Z5xR",
        "outputId": "5246b5ac-dcc7-48c0-b64f-30f43d968432"
      },
      "outputs": [
        {
          "output_type": "stream",
          "name": "stdout",
          "text": [
            "Embedding data loaded\n"
          ]
        }
      ],
      "source": [
        "# Read embedding\n",
        "word_dict = []\n",
        "embeddings_index = {}\n",
        "embedding_dim = 300\n",
        "max_feature = len(embeddings_index) + 2\n",
        "\n",
        "f = open('/content/drive/My Drive/DS202_Project/Train_model/cc.vi.300.vec')\n",
        "for line in f:\n",
        "    values = line.split(' ')\n",
        "    word = values[0] \n",
        "    word_dict.append(word)\n",
        "    try:\n",
        "        coefs = np.asarray(values[1:], dtype='float32')\n",
        "        embeddings_index[word] = coefs\n",
        "    except Exception as e:\n",
        "        pass\n",
        "f.close()\n",
        "\n",
        "print('Embedding data loaded')"
      ]
    },
    {
      "cell_type": "code",
      "execution_count": null,
      "metadata": {
        "id": "ABlH-oP0hrVV"
      },
      "outputs": [],
      "source": [
        "def recall_m(y_true, y_pred):\n",
        "    true_positives = K.sum(K.round(K.clip(y_true * y_pred, 0, 1)))\n",
        "    possible_positives = K.sum(K.round(K.clip(y_true, 0, 1)))\n",
        "    recall = true_positives / (possible_positives + K.epsilon())\n",
        "    return recall\n",
        " \n",
        "def precision_m(y_true, y_pred):\n",
        "    true_positives = K.sum(K.round(K.clip(y_true * y_pred, 0, 1)))\n",
        "    predicted_positives = K.sum(K.round(K.clip(y_pred, 0, 1)))\n",
        "    precision = true_positives / (predicted_positives + K.epsilon())\n",
        "    return precision\n",
        " \n",
        "def f1_m(y_true, y_pred):\n",
        "    precision = precision_m(y_true, y_pred)\n",
        "    recall = recall_m(y_true, y_pred)\n",
        "    return 2*((precision*recall)/(precision+recall+K.epsilon()))"
      ]
    },
    {
      "cell_type": "code",
      "execution_count": null,
      "metadata": {
        "id": "T-MvPZ6kZ5xR"
      },
      "outputs": [],
      "source": [
        "from tensorflow.keras.preprocessing.sequence import pad_sequences\n",
        "from pyvi import ViTokenizer\n",
        "from keras.preprocessing.text import Tokenizer\n",
        "\n",
        "max_len = 100\n",
        "\n",
        "word_tokenizer = Tokenizer(oov_token=-1)\n",
        "word_tokenizer.fit_on_texts(X_train.values)\n",
        "word_to_index = word_tokenizer.word_index\n",
        "word_to_index['pad'] = 0\n",
        "word_to_index['unk'] = -1\n",
        "\n",
        "index_to_word = {i: w for w, i in word_to_index.items()}\n",
        "\n",
        "def encoding(X):\n",
        "    sentences = []\n",
        "    \n",
        "    for t in X:\n",
        "        tokenized_sentence = ViTokenizer.tokenize(t)\n",
        "        sentences.append(tokenized_sentence)\n",
        "    \n",
        "    X = word_tokenizer.texts_to_sequences(sentences)\n",
        "    X = pad_sequences(maxlen = max_len, sequences = X, padding = \"post\", value = word_to_index['pad'])\n",
        "\n",
        "    return X"
      ]
    },
    {
      "cell_type": "code",
      "execution_count": null,
      "metadata": {
        "id": "n9e1MsXkZ5xS"
      },
      "outputs": [],
      "source": [
        "import numpy as np \n",
        "# first create a matrix of zeros, this is our embedding matrix\n",
        "num_words = len(word_to_index)\n",
        "\n",
        "embedding_matrix = np.zeros((num_words, embedding_dim))\n",
        "\n",
        "# for each word in out tokenizer lets try to find that work in our w2v model\n",
        "for word, i in word_to_index.items():\n",
        "    if i > max_feature:\n",
        "        continue\n",
        "    embedding_vector = embeddings_index.get(word)\n",
        "    if embedding_vector is not None:\n",
        "        embedding_matrix[i] = embedding_vector\n",
        "    else:\n",
        "        # doesn't exist, assign a random vector\n",
        "        embedding_matrix[i] = np.random.randn(embedding_dim)"
      ]
    },
    {
      "cell_type": "code",
      "execution_count": null,
      "metadata": {
        "id": "2A9ikPjqZ5xS"
      },
      "outputs": [],
      "source": [
        "X_train_encoded = encoding(X_train)\n",
        "X_dev_encoded = encoding(X_dev)\n",
        "X_test_encoded = encoding(X_test)"
      ]
    },
    {
      "cell_type": "code",
      "execution_count": null,
      "metadata": {
        "colab": {
          "base_uri": "https://localhost:8080/"
        },
        "id": "g3GZWgEeZ5xS",
        "outputId": "bea62c70-399a-492e-d340-6f06df9108ac"
      },
      "outputs": [
        {
          "output_type": "stream",
          "name": "stdout",
          "text": [
            "WARNING:tensorflow:Layer lstm will not use cuDNN kernels since it doesn't meet the criteria. It will use a generic GPU kernel as fallback when running on GPU.\n",
            "WARNING:tensorflow:Layer lstm will not use cuDNN kernels since it doesn't meet the criteria. It will use a generic GPU kernel as fallback when running on GPU.\n",
            "WARNING:tensorflow:Layer lstm will not use cuDNN kernels since it doesn't meet the criteria. It will use a generic GPU kernel as fallback when running on GPU.\n"
          ]
        }
      ],
      "source": [
        "from keras.layers import Dense, Embedding, Flatten\n",
        "from keras.models import Model, Input\n",
        "from keras.initializers import Constant\n",
        "\n",
        "num_words = len(word_to_index)\n",
        "inp = Input(shape=(max_len,))\n",
        " \n",
        "x = Embedding(input_dim=num_words,\n",
        "                    output_dim=embedding_dim,\n",
        "                    embeddings_initializer=Constant(embedding_matrix),\n",
        "                    input_length=max_len,\n",
        "                    trainable=True)(inp)\n",
        "x = SpatialDropout1D(0.35)(x)\n",
        " \n",
        "x = Bidirectional(LSTM(64, return_sequences=True, dropout=0.2, recurrent_dropout=0.2))(x)\n",
        "x = Conv1D(64, kernel_size=3, padding='valid', kernel_initializer='glorot_uniform')(x)\n",
        " \n",
        "avg_pool = GlobalAveragePooling1D()(x)\n",
        "max_pool = GlobalMaxPooling1D()(x)\n",
        "x = concatenate([avg_pool, max_pool])\n",
        " \n",
        "out = Dense(3, activation='relu')(x)\n",
        "\n",
        "model = Model(inp, out)\n"
      ]
    },
    {
      "cell_type": "code",
      "execution_count": null,
      "metadata": {
        "id": "PPQhmS1Pcj1S"
      },
      "outputs": [],
      "source": [
        "model.compile(optimizer='adam', loss='binary_crossentropy', metrics=['acc',f1_m,precision_m, recall_m])"
      ]
    },
    {
      "cell_type": "code",
      "execution_count": null,
      "metadata": {
        "id": "bw7q-sY2cmTn",
        "colab": {
          "base_uri": "https://localhost:8080/"
        },
        "outputId": "abb59928-4d9f-4c1c-eba7-9bde66f1d19a"
      },
      "outputs": [
        {
          "output_type": "stream",
          "name": "stdout",
          "text": [
            "Model: \"model\"\n",
            "__________________________________________________________________________________________________\n",
            " Layer (type)                   Output Shape         Param #     Connected to                     \n",
            "==================================================================================================\n",
            " input_1 (InputLayer)           [(None, 100)]        0           []                               \n",
            "                                                                                                  \n",
            " embedding (Embedding)          (None, 100, 300)     2554200     ['input_1[0][0]']                \n",
            "                                                                                                  \n",
            " spatial_dropout1d (SpatialDrop  (None, 100, 300)    0           ['embedding[0][0]']              \n",
            " out1D)                                                                                           \n",
            "                                                                                                  \n",
            " bidirectional (Bidirectional)  (None, 100, 128)     186880      ['spatial_dropout1d[0][0]']      \n",
            "                                                                                                  \n",
            " conv1d (Conv1D)                (None, 98, 64)       24640       ['bidirectional[0][0]']          \n",
            "                                                                                                  \n",
            " global_average_pooling1d (Glob  (None, 64)          0           ['conv1d[0][0]']                 \n",
            " alAveragePooling1D)                                                                              \n",
            "                                                                                                  \n",
            " global_max_pooling1d (GlobalMa  (None, 64)          0           ['conv1d[0][0]']                 \n",
            " xPooling1D)                                                                                      \n",
            "                                                                                                  \n",
            " concatenate (Concatenate)      (None, 128)          0           ['global_average_pooling1d[0][0]'\n",
            "                                                                 , 'global_max_pooling1d[0][0]']  \n",
            "                                                                                                  \n",
            " dense (Dense)                  (None, 3)            387         ['concatenate[0][0]']            \n",
            "                                                                                                  \n",
            "==================================================================================================\n",
            "Total params: 2,766,107\n",
            "Trainable params: 2,766,107\n",
            "Non-trainable params: 0\n",
            "__________________________________________________________________________________________________\n"
          ]
        }
      ],
      "source": [
        "model.summary()"
      ]
    },
    {
      "cell_type": "code",
      "execution_count": null,
      "metadata": {
        "id": "FtLvhbWLZ5xS",
        "colab": {
          "base_uri": "https://localhost:8080/"
        },
        "outputId": "94fe4685-cb80-42fe-f782-9d2a8b23c7b6"
      },
      "outputs": [
        {
          "output_type": "stream",
          "name": "stdout",
          "text": [
            "Epoch 1/20\n",
            "188/188 [==============================] - 310s 2s/step - loss: 1.6053 - acc: 0.8269 - f1_m: 0.8118 - precision_m: 0.8010 - recall_m: 0.8313 - val_loss: 1.8444 - val_acc: 0.8196 - val_f1_m: 0.8194 - val_precision_m: 0.8194 - val_recall_m: 0.8194\n",
            "Epoch 2/20\n",
            "188/188 [==============================] - 293s 2s/step - loss: 1.7694 - acc: 0.8269 - f1_m: 0.8269 - precision_m: 0.8270 - recall_m: 0.8269 - val_loss: 1.8444 - val_acc: 0.8196 - val_f1_m: 0.8194 - val_precision_m: 0.8194 - val_recall_m: 0.8194\n",
            "Epoch 3/20\n",
            "188/188 [==============================] - 294s 2s/step - loss: 1.7694 - acc: 0.8269 - f1_m: 0.8269 - precision_m: 0.8269 - recall_m: 0.8269 - val_loss: 1.8444 - val_acc: 0.8196 - val_f1_m: 0.8194 - val_precision_m: 0.8194 - val_recall_m: 0.8194\n",
            "Epoch 4/20\n",
            "188/188 [==============================] - 293s 2s/step - loss: 1.7692 - acc: 0.8270 - f1_m: 0.8269 - precision_m: 0.8270 - recall_m: 0.8269 - val_loss: 1.8444 - val_acc: 0.8196 - val_f1_m: 0.8194 - val_precision_m: 0.8194 - val_recall_m: 0.8194\n",
            "Epoch 5/20\n",
            "188/188 [==============================] - 292s 2s/step - loss: 1.7692 - acc: 0.8270 - f1_m: 0.8270 - precision_m: 0.8270 - recall_m: 0.8270 - val_loss: 1.8444 - val_acc: 0.8196 - val_f1_m: 0.8194 - val_precision_m: 0.8194 - val_recall_m: 0.8194\n",
            "Epoch 6/20\n",
            "188/188 [==============================] - 291s 2s/step - loss: 1.7692 - acc: 0.8270 - f1_m: 0.8269 - precision_m: 0.8269 - recall_m: 0.8269 - val_loss: 1.8444 - val_acc: 0.8196 - val_f1_m: 0.8194 - val_precision_m: 0.8194 - val_recall_m: 0.8194\n",
            "Epoch 7/20\n",
            "188/188 [==============================] - 281s 1s/step - loss: 1.7692 - acc: 0.8270 - f1_m: 0.8270 - precision_m: 0.8270 - recall_m: 0.8270 - val_loss: 1.8444 - val_acc: 0.8196 - val_f1_m: 0.8194 - val_precision_m: 0.8194 - val_recall_m: 0.8194\n",
            "Epoch 8/20\n",
            "188/188 [==============================] - 277s 1s/step - loss: 1.7692 - acc: 0.8270 - f1_m: 0.8269 - precision_m: 0.8269 - recall_m: 0.8269 - val_loss: 1.8444 - val_acc: 0.8196 - val_f1_m: 0.8194 - val_precision_m: 0.8194 - val_recall_m: 0.8194\n",
            "Epoch 9/20\n",
            "188/188 [==============================] - 280s 1s/step - loss: 1.7692 - acc: 0.8270 - f1_m: 0.8270 - precision_m: 0.8270 - recall_m: 0.8270 - val_loss: 1.8444 - val_acc: 0.8196 - val_f1_m: 0.8194 - val_precision_m: 0.8194 - val_recall_m: 0.8194\n",
            "Epoch 10/20\n",
            "188/188 [==============================] - 295s 2s/step - loss: 1.7692 - acc: 0.8270 - f1_m: 0.8270 - precision_m: 0.8270 - recall_m: 0.8270 - val_loss: 1.8444 - val_acc: 0.8196 - val_f1_m: 0.8194 - val_precision_m: 0.8194 - val_recall_m: 0.8194\n",
            "Epoch 11/20\n",
            "188/188 [==============================] - 280s 1s/step - loss: 1.7692 - acc: 0.8270 - f1_m: 0.8270 - precision_m: 0.8270 - recall_m: 0.8270 - val_loss: 1.8444 - val_acc: 0.8196 - val_f1_m: 0.8194 - val_precision_m: 0.8194 - val_recall_m: 0.8194\n",
            "Epoch 12/20\n",
            "188/188 [==============================] - 279s 1s/step - loss: 1.7692 - acc: 0.8270 - f1_m: 0.8270 - precision_m: 0.8270 - recall_m: 0.8270 - val_loss: 1.8444 - val_acc: 0.8196 - val_f1_m: 0.8194 - val_precision_m: 0.8194 - val_recall_m: 0.8194\n",
            "Epoch 13/20\n",
            "188/188 [==============================] - 283s 2s/step - loss: 1.7692 - acc: 0.8270 - f1_m: 0.8270 - precision_m: 0.8270 - recall_m: 0.8270 - val_loss: 1.8444 - val_acc: 0.8196 - val_f1_m: 0.8194 - val_precision_m: 0.8194 - val_recall_m: 0.8194\n",
            "Epoch 14/20\n",
            "188/188 [==============================] - 283s 2s/step - loss: 1.7692 - acc: 0.8270 - f1_m: 0.8269 - precision_m: 0.8269 - recall_m: 0.8269 - val_loss: 1.8444 - val_acc: 0.8196 - val_f1_m: 0.8194 - val_precision_m: 0.8194 - val_recall_m: 0.8194\n",
            "Epoch 15/20\n",
            "188/188 [==============================] - 287s 2s/step - loss: 1.7692 - acc: 0.8270 - f1_m: 0.8269 - precision_m: 0.8269 - recall_m: 0.8269 - val_loss: 1.8444 - val_acc: 0.8196 - val_f1_m: 0.8194 - val_precision_m: 0.8194 - val_recall_m: 0.8194\n",
            "Epoch 16/20\n",
            "188/188 [==============================] - 288s 2s/step - loss: 1.7692 - acc: 0.8270 - f1_m: 0.8270 - precision_m: 0.8270 - recall_m: 0.8270 - val_loss: 1.8444 - val_acc: 0.8196 - val_f1_m: 0.8194 - val_precision_m: 0.8194 - val_recall_m: 0.8194\n",
            "Epoch 17/20\n",
            "188/188 [==============================] - 290s 2s/step - loss: 1.7692 - acc: 0.8270 - f1_m: 0.8270 - precision_m: 0.8270 - recall_m: 0.8270 - val_loss: 1.8444 - val_acc: 0.8196 - val_f1_m: 0.8194 - val_precision_m: 0.8194 - val_recall_m: 0.8194\n",
            "Epoch 18/20\n",
            "188/188 [==============================] - 289s 2s/step - loss: 1.7692 - acc: 0.8270 - f1_m: 0.8270 - precision_m: 0.8270 - recall_m: 0.8270 - val_loss: 1.8444 - val_acc: 0.8196 - val_f1_m: 0.8194 - val_precision_m: 0.8194 - val_recall_m: 0.8194\n",
            "Epoch 19/20\n",
            "188/188 [==============================] - 293s 2s/step - loss: 1.7692 - acc: 0.8270 - f1_m: 0.8270 - precision_m: 0.8270 - recall_m: 0.8270 - val_loss: 1.8444 - val_acc: 0.8196 - val_f1_m: 0.8194 - val_precision_m: 0.8194 - val_recall_m: 0.8194\n",
            "Epoch 20/20\n",
            "188/188 [==============================] - 292s 2s/step - loss: 1.7692 - acc: 0.8270 - f1_m: 0.8270 - precision_m: 0.8270 - recall_m: 0.8270 - val_loss: 1.8444 - val_acc: 0.8196 - val_f1_m: 0.8194 - val_precision_m: 0.8194 - val_recall_m: 0.8194\n"
          ]
        },
        {
          "output_type": "execute_result",
          "data": {
            "text/plain": [
              "<keras.callbacks.History at 0x7f4df52e2910>"
            ]
          },
          "metadata": {},
          "execution_count": 37
        }
      ],
      "source": [
        "from tensorflow.keras.utils import to_categorical\n",
        "\n",
        "model.fit(X_train_encoded, to_categorical(y_train, num_classes=3), \n",
        "          validation_data=(X_dev_encoded, to_categorical(y_dev, num_classes=3)), \n",
        "          batch_size=512, epochs=10)"
      ]
    },
    {
      "cell_type": "code",
      "execution_count": null,
      "metadata": {
        "id": "hfIfCJPuZ5xT"
      },
      "outputs": [],
      "source": [
        "import numpy as np\n",
        "y_pred_test = model.predict(X_test_encoded)\n",
        "y_pred_test = np.argmax(y_pred_test, axis=-1)"
      ]
    },
    {
      "cell_type": "code",
      "execution_count": null,
      "metadata": {
        "id": "Pxz1_8XAZ5xT",
        "colab": {
          "base_uri": "https://localhost:8080/"
        },
        "outputId": "d724daec-f134-4a6f-d466-6a1d8319d5d3"
      },
      "outputs": [
        {
          "output_type": "stream",
          "name": "stdout",
          "text": [
            "30.24751935448697\n"
          ]
        }
      ],
      "source": [
        "from sklearn.metrics import f1_score\n",
        "\n",
        "print(f1_score(y_test, y_pred_test, average='macro')*100)"
      ]
    },
    {
      "cell_type": "code",
      "execution_count": null,
      "metadata": {
        "id": "NPgZ6PHnZ5xT",
        "colab": {
          "base_uri": "https://localhost:8080/"
        },
        "outputId": "33b40253-1bae-4865-e3b1-6ecd35d3048d"
      },
      "outputs": [
        {
          "output_type": "stream",
          "name": "stdout",
          "text": [
            "              precision    recall  f1-score   support\n",
            "\n",
            "           0       0.83      1.00      0.91      5548\n",
            "           1       0.00      0.00      0.00       444\n",
            "           2       0.00      0.00      0.00       688\n",
            "\n",
            "    accuracy                           0.83      6680\n",
            "   macro avg       0.28      0.33      0.30      6680\n",
            "weighted avg       0.69      0.83      0.75      6680\n",
            "\n"
          ]
        },
        {
          "output_type": "stream",
          "name": "stderr",
          "text": [
            "/usr/local/lib/python3.7/dist-packages/sklearn/metrics/_classification.py:1308: UndefinedMetricWarning: Precision and F-score are ill-defined and being set to 0.0 in labels with no predicted samples. Use `zero_division` parameter to control this behavior.\n",
            "  _warn_prf(average, modifier, msg_start, len(result))\n",
            "/usr/local/lib/python3.7/dist-packages/sklearn/metrics/_classification.py:1308: UndefinedMetricWarning: Precision and F-score are ill-defined and being set to 0.0 in labels with no predicted samples. Use `zero_division` parameter to control this behavior.\n",
            "  _warn_prf(average, modifier, msg_start, len(result))\n",
            "/usr/local/lib/python3.7/dist-packages/sklearn/metrics/_classification.py:1308: UndefinedMetricWarning: Precision and F-score are ill-defined and being set to 0.0 in labels with no predicted samples. Use `zero_division` parameter to control this behavior.\n",
            "  _warn_prf(average, modifier, msg_start, len(result))\n"
          ]
        }
      ],
      "source": [
        "from sklearn.metrics import classification_report\n",
        "print(classification_report(y_test,y_pred_test))"
      ]
    },
    {
      "cell_type": "markdown",
      "source": [
        ""
      ],
      "metadata": {
        "id": "9WM9winuYkXg"
      }
    },
    {
      "cell_type": "markdown",
      "source": [
        ""
      ],
      "metadata": {
        "id": "VAr01qD7hacC"
      }
    },
    {
      "cell_type": "markdown",
      "metadata": {
        "id": "ECTxtLblYkdk"
      },
      "source": [
        "#TextCNN + embedding tự tạo"
      ]
    },
    {
      "cell_type": "code",
      "execution_count": null,
      "metadata": {
        "colab": {
          "base_uri": "https://localhost:8080/"
        },
        "outputId": "b7d9bc3f-7e62-4425-a218-de403f37c35b",
        "id": "QRQRFQ81gbkH"
      },
      "outputs": [
        {
          "output_type": "stream",
          "name": "stdout",
          "text": [
            "24048\n",
            "2672\n",
            "6680\n"
          ]
        }
      ],
      "source": [
        "import pandas as pd \n",
        "import numpy as np \n",
        "\n",
        "DATA = '/content/drive/MyDrive/Download(Win11)/vihsd/data/vihsd/vihsd/train.csv'\n",
        "DEV_DATA = '/content/drive/MyDrive/Download(Win11)/vihsd/data/vihsd/vihsd/dev.csv'\n",
        "TEST_DATA = '/content/drive/MyDrive/Download(Win11)/vihsd/data/vihsd/vihsd/test.csv'\n",
        "\n",
        "# read data\n",
        "train_data = pd.read_csv(DATA)\n",
        "dev_data = pd.read_csv(DEV_DATA)\n",
        "test_data = pd.read_csv(TEST_DATA)\n",
        "\n",
        "print(len(train_data))\n",
        "print(len(dev_data))\n",
        "print(len(test_data))\n",
        "\n",
        "X_train = train_data['free_text']\n",
        "y_train = train_data['label_id'].values\n",
        "\n",
        "X_dev = dev_data['free_text']\n",
        "y_dev = dev_data['label_id'].values\n",
        "\n",
        "X_test = test_data['free_text']\n",
        "y_test = test_data['label_id'].values"
      ]
    },
    {
      "cell_type": "code",
      "execution_count": null,
      "metadata": {
        "colab": {
          "base_uri": "https://localhost:8080/"
        },
        "outputId": "f61bb815-9dc5-41f1-ee5c-4d0767a2259d",
        "id": "uNuDTs3CZTyk"
      },
      "outputs": [
        {
          "output_type": "stream",
          "name": "stdout",
          "text": [
            "Requirement already satisfied: pyvi in /usr/local/lib/python3.7/dist-packages (0.1.1)\n",
            "Requirement already satisfied: scikit-learn in /usr/local/lib/python3.7/dist-packages (from pyvi) (1.0.1)\n",
            "Requirement already satisfied: sklearn-crfsuite in /usr/local/lib/python3.7/dist-packages (from pyvi) (0.3.6)\n",
            "Requirement already satisfied: numpy>=1.14.6 in /usr/local/lib/python3.7/dist-packages (from scikit-learn->pyvi) (1.19.5)\n",
            "Requirement already satisfied: scipy>=1.1.0 in /usr/local/lib/python3.7/dist-packages (from scikit-learn->pyvi) (1.4.1)\n",
            "Requirement already satisfied: threadpoolctl>=2.0.0 in /usr/local/lib/python3.7/dist-packages (from scikit-learn->pyvi) (3.0.0)\n",
            "Requirement already satisfied: joblib>=0.11 in /usr/local/lib/python3.7/dist-packages (from scikit-learn->pyvi) (1.1.0)\n",
            "Requirement already satisfied: tabulate in /usr/local/lib/python3.7/dist-packages (from sklearn-crfsuite->pyvi) (0.8.9)\n",
            "Requirement already satisfied: six in /usr/local/lib/python3.7/dist-packages (from sklearn-crfsuite->pyvi) (1.15.0)\n",
            "Requirement already satisfied: python-crfsuite>=0.8.3 in /usr/local/lib/python3.7/dist-packages (from sklearn-crfsuite->pyvi) (0.9.7)\n",
            "Requirement already satisfied: tqdm>=2.0 in /usr/local/lib/python3.7/dist-packages (from sklearn-crfsuite->pyvi) (4.62.3)\n"
          ]
        }
      ],
      "source": [
        "pip install pyvi"
      ]
    },
    {
      "cell_type": "code",
      "source": [
        "train_X = preprocessing(X_train)\n",
        "dev_X = preprocessing(X_dev)\n",
        "test_X = preprocessing(X_test)"
      ],
      "metadata": {
        "colab": {
          "base_uri": "https://localhost:8080/"
        },
        "id": "02mX91NZagyN",
        "outputId": "e9c2e304-2b60-4ee8-a562-97a5ce7aa55f"
      },
      "execution_count": null,
      "outputs": [
        {
          "output_type": "stream",
          "name": "stderr",
          "text": [
            "/usr/local/lib/python3.7/dist-packages/ipykernel_launcher.py:6: SettingWithCopyWarning: \n",
            "A value is trying to be set on a copy of a slice from a DataFrame\n",
            "\n",
            "See the caveats in the documentation: https://pandas.pydata.org/pandas-docs/stable/user_guide/indexing.html#returning-a-view-versus-a-copy\n",
            "  \n",
            "/usr/local/lib/python3.7/dist-packages/ipykernel_launcher.py:8: SettingWithCopyWarning: \n",
            "A value is trying to be set on a copy of a slice from a DataFrame\n",
            "\n",
            "See the caveats in the documentation: https://pandas.pydata.org/pandas-docs/stable/user_guide/indexing.html#returning-a-view-versus-a-copy\n",
            "  \n"
          ]
        }
      ]
    },
    {
      "cell_type": "code",
      "execution_count": null,
      "metadata": {
        "id": "l6TpUqVTZTyl"
      },
      "outputs": [],
      "source": [
        "# make vocabulary \n",
        "from pyvi import ViTokenizer\n",
        "\n",
        "V = []\n",
        "\n",
        "for t in train_X:\n",
        "    tokenized_sentence = ViTokenizer.tokenize(t)\n",
        "    V = V + tokenized_sentence.split()\n",
        "\n",
        "V = list(set(V))"
      ]
    },
    {
      "cell_type": "code",
      "execution_count": null,
      "metadata": {
        "colab": {
          "base_uri": "https://localhost:8080/"
        },
        "outputId": "81538524-1eef-4f76-ba94-c5d6f9d218c3",
        "id": "H3jgzYF2ZTym"
      },
      "outputs": [
        {
          "output_type": "execute_result",
          "data": {
            "text/plain": [
              "15097"
            ]
          },
          "metadata": {},
          "execution_count": 32
        }
      ],
      "source": [
        "len(V)"
      ]
    },
    {
      "cell_type": "markdown",
      "metadata": {
        "id": "XySOeJ3xZTym"
      },
      "source": [
        "## Cach 1: Tu build "
      ]
    },
    {
      "cell_type": "code",
      "execution_count": null,
      "metadata": {
        "id": "7U7xHbSWZTym"
      },
      "outputs": [],
      "source": [
        "# Building dictionary \n",
        "word_to_index = {w : (i+2) for i, w in enumerate(V)}\n",
        "\n",
        "word_to_index['UNK'] = 1\n",
        "word_to_index['PAD'] = 0\n",
        "\n",
        "# Build index2w\n",
        "index_to_word = {i: w for w, i in word_to_index.items()}"
      ]
    },
    {
      "cell_type": "code",
      "execution_count": null,
      "metadata": {
        "colab": {
          "base_uri": "https://localhost:8080/"
        },
        "outputId": "f7f8e07d-92fe-4b4d-b648-526a87356fd6",
        "id": "ZgFYLXgkZTym"
      },
      "outputs": [
        {
          "output_type": "execute_result",
          "data": {
            "text/plain": [
              "{'kinh_thế': 2,\n",
              " 'nhaaaa': 3,\n",
              " 'đắc': 4,\n",
              " 'ngồi_tù': 5,\n",
              " 'ma_ma': 6,\n",
              " 'sam': 7,\n",
              " 'bắn_sml': 8,\n",
              " 'guys': 9,\n",
              " 'thịnh_vượng': 10,\n",
              " 'vùner': 11,\n",
              " 'ghê_': 12,\n",
              " 'nhỏ_xíu': 13,\n",
              " 'mọc_sừng': 14,\n",
              " 'đài_nhá': 15,\n",
              " 'lùm': 16,\n",
              " 'trámg': 17,\n",
              " 'balacaynenvang': 18,\n",
              " 'ô': 19,\n",
              " 'ៅ': 20,\n",
              " 'tựng': 21,\n",
              " 'hòi': 22,\n",
              " 'địa_hình': 23,\n",
              " 'hổm': 24,\n",
              " 'ma_nhap': 25,\n",
              " 'the_time': 26,\n",
              " 'mập': 27,\n",
              " 'pố': 28,\n",
              " 'chưa_thế': 29,\n",
              " 'chửi_ngu': 30,\n",
              " 'tộ': 31,\n",
              " 'ocee': 32,\n",
              " 'c': 33,\n",
              " 'hoàng_đức_tú': 34,\n",
              " 'size': 35,\n",
              " 'quản_trị': 36,\n",
              " 'nâu': 37,\n",
              " 'nhungg': 38,\n",
              " 'hình_ảnh': 39,\n",
              " 'fun': 40,\n",
              " 'bồi_bút': 41,\n",
              " 'điệp_viên': 42,\n",
              " 'cười_rung_rốn': 43,\n",
              " 'trụy': 44,\n",
              " 'view': 45,\n",
              " 'huề': 46,\n",
              " 'đặng_bảo': 47,\n",
              " 'yasuo': 48,\n",
              " 'ghê': 49,\n",
              " 'chỉnh_hình': 50,\n",
              " 'y_học': 51,\n",
              " 'giựt': 52,\n",
              " 'khử_trùng': 53,\n",
              " 'v_tự_do': 54,\n",
              " 'trương_đình_thi': 55,\n",
              " 'phalcon': 56,\n",
              " 'hãng': 57,\n",
              " 'băng': 58,\n",
              " 'anhq': 59,\n",
              " 'ú': 60,\n",
              " 'thịt_thà': 61,\n",
              " 'đóa': 62,\n",
              " 'úi_úi': 63,\n",
              " 'đầy_đủ': 64,\n",
              " 'hà_kiều': 65,\n",
              " 'xúc_cảm': 66,\n",
              " 'vu_khống': 67,\n",
              " 'thăng_đit': 68,\n",
              " 'bạn_đọc': 69,\n",
              " 'giới_hạn': 70,\n",
              " 'té_ra': 71,\n",
              " 'tiệt': 72,\n",
              " 'chặn': 73,\n",
              " 'viewer': 74,\n",
              " 'này_khác': 75,\n",
              " 'ttin': 76,\n",
              " 'ăn_tạp': 77,\n",
              " 'đạp_đổ': 78,\n",
              " 'òa': 79,\n",
              " 'gấu_mèo': 80,\n",
              " 'nuj': 81,\n",
              " 'thuyets': 82,\n",
              " 'soái': 83,\n",
              " 'nge': 84,\n",
              " 'suu': 85,\n",
              " 'khè': 86,\n",
              " 'cơm_gạo': 87,\n",
              " 'đỗ_nam': 88,\n",
              " 'bèo_nhèo': 89,\n",
              " 'fam': 90,\n",
              " 'chxhcnvn': 91,\n",
              " 'xương': 92,\n",
              " 'thoi_di_thang': 93,\n",
              " 'lẫn': 94,\n",
              " 'streamer': 95,\n",
              " 'pod_nha': 96,\n",
              " 'giàu_sang': 97,\n",
              " 'nghiêng_mình': 98,\n",
              " 'đįt': 99,\n",
              " 'chong': 100,\n",
              " 'bùon': 101,\n",
              " 'lóc_mỡ': 102,\n",
              " 'thjx': 103,\n",
              " 'ôm_chân': 104,\n",
              " 'giồ': 105,\n",
              " 'diet': 106,\n",
              " 'vậy_ta': 107,\n",
              " 'anh_đào': 108,\n",
              " 'street': 109,\n",
              " 'diễn_xuất_sắc': 110,\n",
              " 'cner': 111,\n",
              " 'lao_gia': 112,\n",
              " 'hahaaa': 113,\n",
              " 'henry': 114,\n",
              " 'câu_cú': 115,\n",
              " 'dau': 116,\n",
              " 'ị': 117,\n",
              " 'di_dc': 118,\n",
              " 'đại_dịch_bệnh': 119,\n",
              " 'hoan_ho': 120,\n",
              " 'đương_kim': 121,\n",
              " 'đầu_vào': 122,\n",
              " 'ngón': 123,\n",
              " 'loj': 124,\n",
              " 'tục_tằn': 125,\n",
              " 'tục_tĩu': 126,\n",
              " 'a_ưii': 127,\n",
              " 'dê': 128,\n",
              " 'rấtt': 129,\n",
              " 'đau_ốm': 130,\n",
              " 'uyên_phương': 131,\n",
              " 'paper': 132,\n",
              " 'thw': 133,\n",
              " 'ê': 134,\n",
              " 'át': 135,\n",
              " 'nhà_giáo': 136,\n",
              " 'trung_sky': 137,\n",
              " 'ahihii': 138,\n",
              " 'tứk': 139,\n",
              " 'ức': 140,\n",
              " 'y_như_vậy': 141,\n",
              " 'hoàn_kiếm': 142,\n",
              " 'hành_hung': 143,\n",
              " 'uy_tín': 144,\n",
              " 'vơi': 145,\n",
              " 'khuy': 146,\n",
              " 'chui': 147,\n",
              " 'pháo_hoa': 148,\n",
              " 'nhôn': 149,\n",
              " 'ox': 150,\n",
              " 'đăng_tải': 151,\n",
              " 'siêu_sao': 152,\n",
              " 'đồng_ruộng': 153,\n",
              " 'squad': 154,\n",
              " 'ônh': 155,\n",
              " 'di_my': 156,\n",
              " 'rieng': 157,\n",
              " 'ri_độ': 158,\n",
              " 'rà_soát': 159,\n",
              " 'đeii': 160,\n",
              " 'gke': 161,\n",
              " 'tùng_tớ': 162,\n",
              " 'ngon_lành': 163,\n",
              " 'phật': 164,\n",
              " 'nghiêm_túc': 165,\n",
              " 'cã': 166,\n",
              " 'thạt': 167,\n",
              " 'giẫy': 168,\n",
              " 'ưc': 169,\n",
              " 'rằm': 170,\n",
              " 'nha_trò': 171,\n",
              " 'make': 172,\n",
              " 'thế_k': 173,\n",
              " 'moo': 174,\n",
              " 'rồy': 175,\n",
              " 'nốt': 176,\n",
              " 'bọ_xít': 177,\n",
              " 'sơ_sơ': 178,\n",
              " 'clg': 179,\n",
              " 'hiện_đại': 180,\n",
              " 'cực_kì': 181,\n",
              " 'ỳ': 182,\n",
              " 'chi_oi': 183,\n",
              " 'nery': 184,\n",
              " 'điện': 185,\n",
              " 'ă': 186,\n",
              " 'ngu_đần': 187,\n",
              " 'diễn_tập': 188,\n",
              " 'chả_trình': 189,\n",
              " 'lóe': 190,\n",
              " 'nhân_bản': 191,\n",
              " 'khônq': 192,\n",
              " 'tát': 193,\n",
              " 'luốn': 194,\n",
              " 'xme': 195,\n",
              " 'hà_chả': 196,\n",
              " 'mobi': 197,\n",
              " 'theeeé': 198,\n",
              " 'la_la': 199,\n",
              " 'điệp': 200,\n",
              " 'tương_tự': 201,\n",
              " 'dsc': 202,\n",
              " 'đổi_chiêu': 203,\n",
              " 'belike': 204,\n",
              " 'lởm_khởm': 205,\n",
              " 'couple': 206,\n",
              " 'dragon': 207,\n",
              " 'gian_dối': 208,\n",
              " 'đại_đại': 209,\n",
              " 'fụ': 210,\n",
              " 'miễn_sao': 211,\n",
              " 'xuân_đương': 212,\n",
              " 'tức_nhiên': 213,\n",
              " 'húp': 214,\n",
              " 'động_kinh': 215,\n",
              " 'ghê_di': 216,\n",
              " 'tin_tưởng': 217,\n",
              " 'yes': 218,\n",
              " 'đũa': 219,\n",
              " 'giãn_nở': 220,\n",
              " 'đna': 221,\n",
              " 'mạnh_vậy': 222,\n",
              " 'di_dai': 223,\n",
              " 'thái_giới': 224,\n",
              " 'giải_tán': 225,\n",
              " 'thiên_tử': 226,\n",
              " 'samsung': 227,\n",
              " 'vui_đùa': 228,\n",
              " 'tretrau': 229,\n",
              " 'bất_nhập': 230,\n",
              " 'thường_dân': 231,\n",
              " 'xan': 232,\n",
              " 'hoàng_đế_thế': 233,\n",
              " 'trỗi': 234,\n",
              " 'chổ': 235,\n",
              " 'dỏ': 236,\n",
              " 'hài_hước': 237,\n",
              " 'dị_đồng_bào': 238,\n",
              " 'vô_tội': 239,\n",
              " 'đkm': 240,\n",
              " 'vs': 241,\n",
              " 'nhập': 242,\n",
              " 'vĩnh_long': 243,\n",
              " 'cà_lăm': 244,\n",
              " 'tiến_bộ': 245,\n",
              " 'th': 246,\n",
              " 'quan_tâm_sự_thật': 247,\n",
              " 'trầm': 248,\n",
              " 'muu': 249,\n",
              " 'trắng_trợn': 250,\n",
              " 'gdinh': 251,\n",
              " 'gia_tăng': 252,\n",
              " 'chợ_nổi': 253,\n",
              " 'hán': 254,\n",
              " 'chừ': 255,\n",
              " 'trò_hề': 256,\n",
              " 'bôi': 257,\n",
              " 'đào_văn': 258,\n",
              " 'dũng_cảm': 259,\n",
              " 'chủ_bài': 260,\n",
              " 'laj': 261,\n",
              " 'nhà_văn': 262,\n",
              " 'hụt_hẫng': 263,\n",
              " 'tẩy_não': 264,\n",
              " 't_nghe': 265,\n",
              " 'mỷ': 266,\n",
              " 'tình_tiết': 267,\n",
              " 'chén_ngọc': 268,\n",
              " 'ngừi': 269,\n",
              " 'hẳn': 270,\n",
              " 'xin_cụ': 271,\n",
              " 'pham_thai': 272,\n",
              " 'tiến_xã': 273,\n",
              " 'meiii': 274,\n",
              " 'bở': 275,\n",
              " 'sơn_độ': 276,\n",
              " 'cake': 277,\n",
              " 'phản_quốc': 278,\n",
              " 'vcc': 279,\n",
              " 'gây_chuyện': 280,\n",
              " 'truyền_nhiễm': 281,\n",
              " 'phóng': 282,\n",
              " 'cảm_tình_viên': 283,\n",
              " 'cln': 284,\n",
              " 'cảm_thông': 285,\n",
              " 'lương_thực_tế': 286,\n",
              " 'og': 287,\n",
              " 'tiểu_đoàn': 288,\n",
              " 'áp_lực': 289,\n",
              " 'mẩu': 290,\n",
              " 'viên': 291,\n",
              " 'marriot': 292,\n",
              " 'ia': 293,\n",
              " 'coronavirut': 294,\n",
              " 'nhiệt_tình': 295,\n",
              " 'thủ_đô': 296,\n",
              " 'hình': 297,\n",
              " 't_đi': 298,\n",
              " 'cij': 299,\n",
              " 'thu_thập_tjn': 300,\n",
              " 'dell': 301,\n",
              " 'muoons': 302,\n",
              " 'kê_khai': 303,\n",
              " 'blue': 304,\n",
              " 'hog': 305,\n",
              " 've_cut': 306,\n",
              " 'bệnh': 307,\n",
              " 'nhiệt_độ': 308,\n",
              " 'phùng': 309,\n",
              " 'hăng': 310,\n",
              " 'bla': 311,\n",
              " 'cười_sml': 312,\n",
              " 'đăng_bài': 313,\n",
              " 'hết_hồn': 314,\n",
              " 'quý_tướng': 315,\n",
              " 'trai_vậy': 316,\n",
              " 'cảm_tình': 317,\n",
              " 'kiếc': 318,\n",
              " 'tuyệt_chiêu_bổn': 319,\n",
              " 'genr': 320,\n",
              " 'sửu': 321,\n",
              " 'chà_bồn': 322,\n",
              " 'di_khug': 323,\n",
              " 'cút': 324,\n",
              " 'sủy': 325,\n",
              " 'ớn': 326,\n",
              " 'chăc': 327,\n",
              " 'kut': 328,\n",
              " 'nước_hoa': 329,\n",
              " 'phong_khen': 330,\n",
              " 'miệt_vườn': 331,\n",
              " 'kim_cương': 332,\n",
              " 'mâm': 333,\n",
              " 'thiện': 334,\n",
              " 'đăng_ninh': 335,\n",
              " 'thi_hóa': 336,\n",
              " 'mĩ': 337,\n",
              " 'giồi': 338,\n",
              " 'tua': 339,\n",
              " 'cỉa': 340,\n",
              " 'oil': 341,\n",
              " 't_vào': 342,\n",
              " 'rợn': 343,\n",
              " 'trăng': 344,\n",
              " 'òi': 345,\n",
              " 'vật_nuôi': 346,\n",
              " 'chį': 347,\n",
              " 'làm_đẹp': 348,\n",
              " 'nghiện': 349,\n",
              " 'người_nhái': 350,\n",
              " 'mỏ_vịt': 351,\n",
              " 'nha_co': 352,\n",
              " 'thiêt': 353,\n",
              " 'matuc': 354,\n",
              " 'tuân': 355,\n",
              " 'khiếp': 356,\n",
              " 'ăn_hại': 357,\n",
              " 'trach': 358,\n",
              " 'ghê_vậy': 359,\n",
              " 'thảm_thương': 360,\n",
              " 'tập_huấn': 361,\n",
              " 'uupokl': 362,\n",
              " 'thâyyỳy': 363,\n",
              " 'huyet': 364,\n",
              " 'hì': 365,\n",
              " 'dính_dáng': 366,\n",
              " 'lựu': 367,\n",
              " 'started': 368,\n",
              " 'luyên': 369,\n",
              " 'cuốn_hút': 370,\n",
              " 'cá_lóc': 371,\n",
              " 'dòng': 372,\n",
              " 'lộng_quyền': 373,\n",
              " 'cà_phê': 374,\n",
              " 'hóc_búa': 375,\n",
              " 'cẩm_lan': 376,\n",
              " '_thích': 377,\n",
              " 'cải_thiện': 378,\n",
              " 'trao_tặng': 379,\n",
              " 'mở_đầu_óc': 380,\n",
              " 'tự_nhiên': 381,\n",
              " 'lồnn': 382,\n",
              " 'y': 383,\n",
              " 'cừu_đen': 384,\n",
              " 'sặc': 385,\n",
              " 'voice': 386,\n",
              " 'trung_thực': 387,\n",
              " 'bui': 388,\n",
              " 'van': 389,\n",
              " 'ko_cụ_thể': 390,\n",
              " 'bất_đắc_dĩ': 391,\n",
              " 'xê': 392,\n",
              " 'chấp': 393,\n",
              " 'loạj': 394,\n",
              " 'trước_em': 395,\n",
              " 'lại_mặt': 396,\n",
              " 'trá': 397,\n",
              " 'bọt': 398,\n",
              " 'xứng': 399,\n",
              " 'kẹo_hương': 400,\n",
              " 'sịt': 401,\n",
              " 'la_vậy': 402,\n",
              " 'tổng_giám_đốc': 403,\n",
              " 'cắp': 404,\n",
              " 'kinh_nghiệm': 405,\n",
              " 'bực_tức': 406,\n",
              " 'bánh': 407,\n",
              " 'vật_liệu': 408,\n",
              " 'tđ': 409,\n",
              " 'cố': 410,\n",
              " 'dâm_l': 411,\n",
              " 'cắt': 412,\n",
              " 'bravo': 413,\n",
              " 'ý_muốn': 414,\n",
              " 'việt_upin': 415,\n",
              " 'dựg': 416,\n",
              " 'rảnh': 417,\n",
              " 'tình_nghĩa': 418,\n",
              " 'vợ': 419,\n",
              " 'dân_chơi': 420,\n",
              " 'bời': 421,\n",
              " 'khang': 422,\n",
              " 'va_li': 423,\n",
              " 'giãn': 424,\n",
              " 'da': 425,\n",
              " 'ý_nghĩa_vẻ': 426,\n",
              " 'dời': 427,\n",
              " 'ddd': 428,\n",
              " 'chiên': 429,\n",
              " 'ngẫm': 430,\n",
              " 'vượng': 431,\n",
              " 'điện_thoại': 432,\n",
              " 'nhihaothơ': 433,\n",
              " 'gôn': 434,\n",
              " 'chả_vậy': 435,\n",
              " 'tus': 436,\n",
              " 'hột': 437,\n",
              " 'uhmmm': 438,\n",
              " 'duc': 439,\n",
              " 'uon': 440,\n",
              " 'quách': 441,\n",
              " 'sập_tiệm': 442,\n",
              " 'kịp': 443,\n",
              " 'le': 444,\n",
              " 'câu_nệ': 445,\n",
              " 'đkmm': 446,\n",
              " 'kỉ_lục': 447,\n",
              " 'bất_lợi': 448,\n",
              " 'ziêng': 449,\n",
              " 'lạc_đề': 450,\n",
              " 'phận': 451,\n",
              " 'di_noi': 452,\n",
              " 'sai_bảo': 453,\n",
              " 'hoèn': 454,\n",
              " 've_dan': 455,\n",
              " 'sdi': 456,\n",
              " 'ổn': 457,\n",
              " 'lùi': 458,\n",
              " 'vần': 459,\n",
              " 'dàn': 460,\n",
              " 'canxi': 461,\n",
              " 'con_rối': 462,\n",
              " 'covy': 463,\n",
              " 'lây_nhiễm': 464,\n",
              " 'hành_lý': 465,\n",
              " 'kakaaaaaaa': 466,\n",
              " 'chắc_ăn_gian': 467,\n",
              " 'pháo_thủ': 468,\n",
              " 'như_hến': 469,\n",
              " 'quê_hương_họa': 470,\n",
              " 'co_ro': 471,\n",
              " 'ca_tụng': 472,\n",
              " 'kingdom': 473,\n",
              " 'tần_suất': 474,\n",
              " 'md': 475,\n",
              " 'đười_ươi': 476,\n",
              " 'đã_đành': 477,\n",
              " 'sách_vở': 478,\n",
              " 'đút_lót': 479,\n",
              " 'vũ_đức': 480,\n",
              " 'vo': 481,\n",
              " 'hacker': 482,\n",
              " 'tổ_quốc': 483,\n",
              " 'unisex': 484,\n",
              " 'hệ': 485,\n",
              " 'khỏe_trường_tồn': 486,\n",
              " 'báo_công': 487,\n",
              " 'tất_diên': 488,\n",
              " 'bành_trướng': 489,\n",
              " 'a_đổi': 490,\n",
              " 'khoc': 491,\n",
              " 'vếu': 492,\n",
              " 'thảnh_thơi': 493,\n",
              " 'bóng_gió': 494,\n",
              " 'phãi': 495,\n",
              " 'chao_đảo': 496,\n",
              " 'lưư': 497,\n",
              " 'đm': 498,\n",
              " 'miễn_dịch': 499,\n",
              " 'đầu_gối': 500,\n",
              " 'hải_phòng': 501,\n",
              " 'water': 502,\n",
              " 'tom': 503,\n",
              " 'dại': 504,\n",
              " 'lane': 505,\n",
              " 'giám': 506,\n",
              " 'chào_nheeé': 507,\n",
              " 'sars': 508,\n",
              " 'chứng_nhận': 509,\n",
              " 'pik': 510,\n",
              " 'nết': 511,\n",
              " 'khôn_khéo': 512,\n",
              " 'ner_hỏa_thiêu': 513,\n",
              " 'chg': 514,\n",
              " 'vui_hóa': 515,\n",
              " 'giám_thị': 516,\n",
              " 'quy_trình': 517,\n",
              " 'tuiii': 518,\n",
              " 'tiểu_bá_tước': 519,\n",
              " 'con_trai': 520,\n",
              " 'sound': 521,\n",
              " 'giao_ban': 522,\n",
              " 'nhận_thầu': 523,\n",
              " 'quy_trinh': 524,\n",
              " 'di_me': 525,\n",
              " 'giật': 526,\n",
              " 'tố_chất': 527,\n",
              " 'điều_tra': 528,\n",
              " 'trần_đứcanh': 529,\n",
              " 'đtrai': 530,\n",
              " 'tình_trường': 531,\n",
              " 'kích_động': 532,\n",
              " 'nhac': 533,\n",
              " 'nhình': 534,\n",
              " 'wendy': 535,\n",
              " 'cỗ_bàn': 536,\n",
              " 'ma_khói': 537,\n",
              " 'vacin': 538,\n",
              " 'khôn_lỏi': 539,\n",
              " 'adida': 540,\n",
              " 'núi': 541,\n",
              " 'chúc_khỏe': 542,\n",
              " 'quen_thói': 543,\n",
              " 'gập': 544,\n",
              " 'âu': 545,\n",
              " 'tráng': 546,\n",
              " 'cmne': 547,\n",
              " 'pít': 548,\n",
              " 'đặc_trưng': 549,\n",
              " 'vinh_dự': 550,\n",
              " 'di_mây': 551,\n",
              " 'cmmd': 552,\n",
              " 'đụ_mẹ': 553,\n",
              " 'cuccut': 554,\n",
              " 'phản_ánh': 555,\n",
              " 'producer': 556,\n",
              " 'dở_người': 557,\n",
              " 'cừ': 558,\n",
              " 'te': 559,\n",
              " 'naut': 560,\n",
              " 'đảng_viên': 561,\n",
              " 'phao': 562,\n",
              " 'hong_thầy': 563,\n",
              " 'giao_thông': 564,\n",
              " 'sịp': 565,\n",
              " 'lứm': 566,\n",
              " 'freefire': 567,\n",
              " 'cty': 568,\n",
              " 'thị_trường': 569,\n",
              " 'viêt': 570,\n",
              " 'tình_tiết_giảm': 571,\n",
              " 'vãi_l': 572,\n",
              " 'nào_phát_ngôn': 573,\n",
              " 'quangquảng': 574,\n",
              " 'thun': 575,\n",
              " 'yoyo': 576,\n",
              " 'chữa_cháy': 577,\n",
              " 'bệnh_hoạn': 578,\n",
              " 'đeow': 579,\n",
              " 'mua': 580,\n",
              " 'siêu_thoát': 581,\n",
              " 'film': 582,\n",
              " 'tàn_dư': 583,\n",
              " 'quá_khích': 584,\n",
              " 'huynh': 585,\n",
              " 'đươc': 586,\n",
              " 'voz': 587,\n",
              " 'nam_ai': 588,\n",
              " 'mắt_thấy': 589,\n",
              " 'thuyệt': 590,\n",
              " 'lolzz': 591,\n",
              " 'thế_thằng': 592,\n",
              " 'di_ba': 593,\n",
              " 'công_lao': 594,\n",
              " 'okk': 595,\n",
              " 'hà_nội': 596,\n",
              " 'phông': 597,\n",
              " 'râu_quái': 598,\n",
              " 'nguyen_cỏ_xanh': 599,\n",
              " 'sinh_tử': 600,\n",
              " 'chộp': 601,\n",
              " 'khẩn_cấp': 602,\n",
              " 'nguyễn_đức_tú': 603,\n",
              " 'công_việc': 604,\n",
              " 'trôi_chảy': 605,\n",
              " 'gtri': 606,\n",
              " 'ba_rọi': 607,\n",
              " 'la_ho': 608,\n",
              " 'rắc': 609,\n",
              " 'trung_quốc': 610,\n",
              " 'đồng_ánh': 611,\n",
              " 'giáu': 612,\n",
              " 'tiệppppp': 613,\n",
              " 'thời_kì': 614,\n",
              " 'rối_loạn': 615,\n",
              " 'stupid': 616,\n",
              " 'xa_tít': 617,\n",
              " 'cãi_lộn': 618,\n",
              " 'cu_cu': 619,\n",
              " 'ưu_đãi': 620,\n",
              " 'nghịch_ngợm': 621,\n",
              " 'chai_nửa': 622,\n",
              " 'tram': 623,\n",
              " 'ronaldo': 624,\n",
              " 'bác_sĩ': 625,\n",
              " 'chui_em': 626,\n",
              " 'người_dưng': 627,\n",
              " 'xúc': 628,\n",
              " 'thông_cảm': 629,\n",
              " 'tác_dụng': 630,\n",
              " 'nứkg': 631,\n",
              " 'hâm_nóng': 632,\n",
              " 'nguyễn_đăng_duy': 633,\n",
              " 'phach': 634,\n",
              " 'gia_bảo': 635,\n",
              " 'tiger_hả': 636,\n",
              " 'david': 637,\n",
              " 'nerền': 638,\n",
              " 'vàg': 639,\n",
              " 'chủ_tịch': 640,\n",
              " 'đêm': 641,\n",
              " 'chúng_mài': 642,\n",
              " 'cê': 643,\n",
              " 'nổ_cụ': 644,\n",
              " 'ấn_tượq': 645,\n",
              " 'sixe': 646,\n",
              " 'trao': 647,\n",
              " 'tiki': 648,\n",
              " 'chức_năng': 649,\n",
              " 'con_em': 650,\n",
              " 'sock': 651,\n",
              " 'may_mắn': 652,\n",
              " 'yên_lặng': 653,\n",
              " 'viện_trưởng': 654,\n",
              " 'care': 655,\n",
              " 'instructif': 656,\n",
              " 'chênh_vênh': 657,\n",
              " 'quẫy': 658,\n",
              " 'nooo': 659,\n",
              " 'hình_như': 660,\n",
              " 'minh_họa': 661,\n",
              " 'chui_roi': 662,\n",
              " 'đuồi': 663,\n",
              " 'nee': 664,\n",
              " 'lốn': 665,\n",
              " 'hồ_quang': 666,\n",
              " 'thầy_ta': 667,\n",
              " 'mà_túy': 668,\n",
              " 'oày': 669,\n",
              " 'cấu_hình': 670,\n",
              " 'pv': 671,\n",
              " 'nô_đùa': 672,\n",
              " 'nha_nha_chị': 673,\n",
              " 'bạn_hàng': 674,\n",
              " 'đáy': 675,\n",
              " 'khuất_phục': 676,\n",
              " 'quem': 677,\n",
              " 'đô_đô': 678,\n",
              " 'madman': 679,\n",
              " 'thông_thường': 680,\n",
              " 'tính_chất': 681,\n",
              " 'câc': 682,\n",
              " 'đường_mòn': 683,\n",
              " 'hoa_cúc': 684,\n",
              " 'khẩu': 685,\n",
              " 'll': 686,\n",
              " 'đồng_ý': 687,\n",
              " 'rãnh': 688,\n",
              " 'xanh': 689,\n",
              " 'nhed': 690,\n",
              " 'hicc': 691,\n",
              " 'thiên_trâm': 692,\n",
              " 'phiếu': 693,\n",
              " 'ziên': 694,\n",
              " 'lão': 695,\n",
              " 'giảng': 696,\n",
              " 'nhà_máy': 697,\n",
              " 'pos': 698,\n",
              " 'dặm': 699,\n",
              " 'bóng_tối': 700,\n",
              " 'dut': 701,\n",
              " 'khá_tú': 702,\n",
              " 'u_stab': 703,\n",
              " 'thì_': 704,\n",
              " 'pokedex': 705,\n",
              " 'mạng_khỏe_thế': 706,\n",
              " 'xui_khiến': 707,\n",
              " 'hoac': 708,\n",
              " 'ngang': 709,\n",
              " 'zay': 710,\n",
              " 'phụcccc': 711,\n",
              " 'bmw_li': 712,\n",
              " 'bcuoi': 713,\n",
              " 'lee': 714,\n",
              " 'cccd': 715,\n",
              " 'abc': 716,\n",
              " 'dg': 717,\n",
              " 'giày_dép': 718,\n",
              " 'lủng_lẳng': 719,\n",
              " 'dkmm': 720,\n",
              " 'quán': 721,\n",
              " 'tạc': 722,\n",
              " 'phú_đại': 723,\n",
              " 'bình_dân': 724,\n",
              " 'đitme_ngần': 725,\n",
              " 'vx': 726,\n",
              " 'up': 727,\n",
              " 'di_linh': 728,\n",
              " 'vaoxi': 729,\n",
              " 'đa_số': 730,\n",
              " 'chặt_chẽ': 731,\n",
              " 'lí_tưởng': 732,\n",
              " 'superman': 733,\n",
              " 'đại_bàng': 734,\n",
              " 'nhửng': 735,\n",
              " 'bọc': 736,\n",
              " 'toanggggggggggg_': 737,\n",
              " 'hiện_thời': 738,\n",
              " 'mơ_mộng': 739,\n",
              " 'mana': 740,\n",
              " 'trèo': 741,\n",
              " 'lộng': 742,\n",
              " 'phắc': 743,\n",
              " 'nam_e': 744,\n",
              " 'rễ': 745,\n",
              " 'mơ_đê': 746,\n",
              " 'vĩnh': 747,\n",
              " 'giáo_dân': 748,\n",
              " 'cộng_sản': 749,\n",
              " 'cưa': 750,\n",
              " 'sâu_xa': 751,\n",
              " 'lõe': 752,\n",
              " 'đúp': 753,\n",
              " 'ccccc': 754,\n",
              " 'phản_đối': 755,\n",
              " 'chì': 756,\n",
              " 'loáng_thoáng': 757,\n",
              " 'cccđ': 758,\n",
              " 'toai': 759,\n",
              " 'chưaaa': 760,\n",
              " 'vlxd': 761,\n",
              " 'tii_đô': 762,\n",
              " 'sính': 763,\n",
              " 'tok': 764,\n",
              " 'bao_tay': 765,\n",
              " 'muahahahaha': 766,\n",
              " 'tỉ': 767,\n",
              " 'ma_chui_hahaha': 768,\n",
              " 'bơm': 769,\n",
              " 'dẹp': 770,\n",
              " 'nây': 771,\n",
              " 'tres': 772,\n",
              " 'đảng_phái': 773,\n",
              " 'xạt': 774,\n",
              " 'gióng': 775,\n",
              " 'tượng_đài': 776,\n",
              " 'môt': 777,\n",
              " 'âm_binh_khí': 778,\n",
              " 'gấp_khúc': 779,\n",
              " 'thiện_chí': 780,\n",
              " 'theo_đuổi': 781,\n",
              " 'jao': 782,\n",
              " 'bây_h': 783,\n",
              " 'thất_thường': 784,\n",
              " 'khùng_á': 785,\n",
              " 'nai_lưng': 786,\n",
              " 'câm_như_hến': 787,\n",
              " 'nuốt_chửng': 788,\n",
              " 'nguyên_nhân': 789,\n",
              " 'nỡm': 790,\n",
              " 'xung_quanh': 791,\n",
              " 'nhiễm_độc': 792,\n",
              " 'khốn': 793,\n",
              " 'độ_khỏe': 794,\n",
              " 'trangg': 795,\n",
              " 'giới_tính': 796,\n",
              " 'giỏi_giang': 797,\n",
              " 'cuộc_sống_phép': 798,\n",
              " 'mùn': 799,\n",
              " 'tị': 800,\n",
              " 'kh': 801,\n",
              " 'cmnm': 802,\n",
              " 'chăk': 803,\n",
              " 'dm': 804,\n",
              " 'may_đo': 805,\n",
              " 'cừi': 806,\n",
              " 'nghìn_kết_quả': 807,\n",
              " 'lúa': 808,\n",
              " 'tuyệt_đối': 809,\n",
              " 'ngheo': 810,\n",
              " 'thổ_phỉ': 811,\n",
              " 'trìu_mến': 812,\n",
              " 'cơ_thể': 813,\n",
              " 'nhục': 814,\n",
              " 'trau_dồi': 815,\n",
              " 'diu': 816,\n",
              " 'phát_minh': 817,\n",
              " 'hăn': 818,\n",
              " 'city': 819,\n",
              " 'ròi': 820,\n",
              " 'chưởi': 821,\n",
              " 'hõ': 822,\n",
              " 'bánh_tráng_vậy': 823,\n",
              " 'zới': 824,\n",
              " 'tầm_cỡ': 825,\n",
              " 'qươi': 826,\n",
              " 'tky': 827,\n",
              " 'giam': 828,\n",
              " 'kỉ_niệm': 829,\n",
              " 'xác_nhận': 830,\n",
              " 'bap': 831,\n",
              " 'chiến_tuyến': 832,\n",
              " 'li': 833,\n",
              " 'cao_tốc': 834,\n",
              " 'ngỡ_ngàng': 835,\n",
              " 'ma_nhảy': 836,\n",
              " 'cằm': 837,\n",
              " 'mơdi': 838,\n",
              " 'nail': 839,\n",
              " 'phong_bì': 840,\n",
              " 'xứ': 841,\n",
              " 'lồnnnn': 842,\n",
              " 'gian_nan': 843,\n",
              " 'kứng': 844,\n",
              " 'tổng_hã': 845,\n",
              " 'why': 846,\n",
              " 'xuong': 847,\n",
              " 'thuế_cả': 848,\n",
              " 'đồ_đạc': 849,\n",
              " 'phát_phát': 850,\n",
              " 'từ_chối': 851,\n",
              " 'lí': 852,\n",
              " 'nói_chuyện': 853,\n",
              " 'tiên_di': 854,\n",
              " 'đít': 855,\n",
              " 'dit': 856,\n",
              " 'độc_muỗi': 857,\n",
              " 'chê': 858,\n",
              " 'thương_hiệu': 859,\n",
              " 'dâm_loạn_viên': 860,\n",
              " 'đaq': 861,\n",
              " 'qoan': 862,\n",
              " 'phản_cảm': 863,\n",
              " 'qnt': 864,\n",
              " 'quảng_c': 865,\n",
              " 'chùng': 866,\n",
              " 'suốt': 867,\n",
              " 'lượt': 868,\n",
              " 'đẩng': 869,\n",
              " 'truyền': 870,\n",
              " 'tinh_hoa': 871,\n",
              " 'xéo': 872,\n",
              " 'ma_túy': 873,\n",
              " 'kẹp': 874,\n",
              " 'dương': 875,\n",
              " 'gang': 876,\n",
              " 'teamn': 877,\n",
              " 'trang_t': 878,\n",
              " 'thâtj': 879,\n",
              " 'cẩu': 880,\n",
              " 'úp': 881,\n",
              " 'sốg': 882,\n",
              " 'nch': 883,\n",
              " 'dọa': 884,\n",
              " 'khánh_bánh': 885,\n",
              " 'vẩn': 886,\n",
              " 'đoạt': 887,\n",
              " 'đếm': 888,\n",
              " 'oii': 889,\n",
              " 'wut': 890,\n",
              " 'cup': 891,\n",
              " 'lừ': 892,\n",
              " 'cường_vậy': 893,\n",
              " 'từ_thiên_đường': 894,\n",
              " 've_chuyen': 895,\n",
              " 'còng': 896,\n",
              " 'chu_sao': 897,\n",
              " 'sân_bay': 898,\n",
              " 'code': 899,\n",
              " 'đền_tổ': 900,\n",
              " 'cao_đức_thắng': 901,\n",
              " 'cức': 902,\n",
              " 'hão': 903,\n",
              " 'hoài_cổ': 904,\n",
              " 'gion': 905,\n",
              " 'bựa': 906,\n",
              " 'nôn_ghê': 907,\n",
              " 'nguyễn_con': 908,\n",
              " 'lênnn': 909,\n",
              " 'quài': 910,\n",
              " 'cựu_du_học_sinh': 911,\n",
              " 'phụ_đề': 912,\n",
              " 'nịu': 913,\n",
              " 'dúm': 914,\n",
              " 'tổ_v': 915,\n",
              " 'hòa_tao': 916,\n",
              " 'lãnh': 917,\n",
              " 'cbcs': 918,\n",
              " 'mỹ_phẩm': 919,\n",
              " 'nhỏ_bé': 920,\n",
              " 'tỵ': 921,\n",
              " 'vinaphone': 922,\n",
              " 'viêtj': 923,\n",
              " 'thành_phần': 924,\n",
              " 'bền_vững': 925,\n",
              " 've_vay': 926,\n",
              " 'phước': 927,\n",
              " 'bolsatv': 928,\n",
              " 'muaaà': 929,\n",
              " 'thờ': 930,\n",
              " 'phạm_tội': 931,\n",
              " 'đa_khoa': 932,\n",
              " 'bùi': 933,\n",
              " 'tài_đức': 934,\n",
              " 'jam': 935,\n",
              " 'pô': 936,\n",
              " 'thượng_thọ': 937,\n",
              " 'khai_báo': 938,\n",
              " 'mù_mắt': 939,\n",
              " 'ĩ': 940,\n",
              " 'lùng': 941,\n",
              " 'êiiii': 942,\n",
              " 'xứg': 943,\n",
              " 'thông_minh': 944,\n",
              " 'ngưu_ca': 945,\n",
              " 'kkkkk': 946,\n",
              " 'clear': 947,\n",
              " 'btqp': 948,\n",
              " 'gỡ_gạc': 949,\n",
              " 'hậu_duệ': 950,\n",
              " 'lâm': 951,\n",
              " 'nhà_kính': 952,\n",
              " 'thượng_tá': 953,\n",
              " 'mặt_nước': 954,\n",
              " 'nàng': 955,\n",
              " 'rung_chuyển': 956,\n",
              " 'chảo': 957,\n",
              " 'fuho': 958,\n",
              " 'tung_hô': 959,\n",
              " 'pronunciation': 960,\n",
              " 'thuan': 961,\n",
              " 'tí_hon': 962,\n",
              " 'cooking': 963,\n",
              " 'phi': 964,\n",
              " 'xứng_đáng': 965,\n",
              " 'mũ': 966,\n",
              " 'ói': 967,\n",
              " 'người_tình': 968,\n",
              " 'khóa': 969,\n",
              " 'ca': 970,\n",
              " 'toát': 971,\n",
              " 'hahaa': 972,\n",
              " 'chu_khg': 973,\n",
              " 'ra_hồn': 974,\n",
              " 'tình_hình_thí': 975,\n",
              " 'trọng': 976,\n",
              " 'hú': 977,\n",
              " 'ngóc': 978,\n",
              " 'độc_lập': 979,\n",
              " 'uncut': 980,\n",
              " 'lạy_thánh': 981,\n",
              " 'daika': 982,\n",
              " 'hủy': 983,\n",
              " 'quân_phiệt': 984,\n",
              " 'ơiiiii': 985,\n",
              " 'tùy_tiện': 986,\n",
              " 'ngứa_mắt': 987,\n",
              " 'nguyen_anh': 988,\n",
              " 'giải': 989,\n",
              " 've_trao': 990,\n",
              " 'thiếu_răng': 991,\n",
              " 'nhăt': 992,\n",
              " 'thiết_giáp': 993,\n",
              " 'câp': 994,\n",
              " 'bề': 995,\n",
              " 'like_mạnh': 996,\n",
              " 'xủa': 997,\n",
              " 'hoảng_hốt': 998,\n",
              " '∆': 999,\n",
              " 'quá_thể_hóa': 1000,\n",
              " 'quần_vẻ': 1001,\n",
              " ...}"
            ]
          },
          "metadata": {},
          "execution_count": 34
        }
      ],
      "source": [
        "word_to_index"
      ]
    },
    {
      "cell_type": "code",
      "execution_count": null,
      "metadata": {
        "colab": {
          "base_uri": "https://localhost:8080/"
        },
        "outputId": "ccc6500a-3d9e-4f52-b9fc-842aa886fbf7",
        "id": "O6jn5NdfZTyn"
      },
      "outputs": [
        {
          "output_type": "execute_result",
          "data": {
            "text/plain": [
              "array(['fan cứng nè reaction cute coi mấy hop lí',\n",
              "       'bọn mắt híp lò_xo thụt việt nam tao bọn tao gọi l',\n",
              "       'đậu ner thằng sida', ...,\n",
              "       'ner khánh sky hải ngoại trần dần danh_hài xuất_sắc',\n",
              "       'lớp du chu cờ moo duyên_dáng',\n",
              "       'cụ mắt cắt mý ta ha_ha đấy vnch đấy oai hoành cháng nhì'],\n",
              "      dtype=object)"
            ]
          },
          "metadata": {},
          "execution_count": 35
        }
      ],
      "source": [
        "train_X.values"
      ]
    },
    {
      "cell_type": "code",
      "execution_count": null,
      "metadata": {
        "colab": {
          "base_uri": "https://localhost:8080/"
        },
        "outputId": "e344f8de-9375-4f24-b8dd-d1b1a4082f14",
        "id": "cqNOADKdZTyn"
      },
      "outputs": [
        {
          "output_type": "execute_result",
          "data": {
            "text/plain": [
              "0"
            ]
          },
          "metadata": {},
          "execution_count": 36
        }
      ],
      "source": [
        "word_to_index[\"PAD\"]"
      ]
    },
    {
      "cell_type": "code",
      "execution_count": null,
      "metadata": {
        "id": "PmHwLHu2ZTyn"
      },
      "outputs": [],
      "source": [
        "from tensorflow.keras.preprocessing.sequence import pad_sequences\n",
        "from pyvi import ViTokenizer\n",
        "\n",
        "max_len = 100\n",
        "\n",
        "def encoding(X):\n",
        "    sentences = []\n",
        "    \n",
        "    for t in X:\n",
        "        # tach tu \n",
        "        tokenized_sentence = ViTokenizer.tokenize(t)\n",
        "        sentences.append(tokenized_sentence)\n",
        "    \n",
        "    X = []\n",
        "    for s in sentences:\n",
        "        sent = []\n",
        "        for w in s.split():\n",
        "            try:\n",
        "                sent.append(word_to_index[w])\n",
        "            except:\n",
        "                sent.append(word_to_index[\"UNK\"])\n",
        "        X.append(sent)\n",
        "    \n",
        "    # Padding du lieu theo do dai cau (maxlen)\n",
        "    X = pad_sequences(maxlen = max_len, sequences = X, padding = \"post\", value = word_to_index[\"PAD\"])\n",
        "\n",
        "    return X"
      ]
    },
    {
      "cell_type": "markdown",
      "metadata": {
        "id": "J3RQIeq-ZTyn"
      },
      "source": [
        "## Cach 2: dung ham co san trong Keras "
      ]
    },
    {
      "cell_type": "code",
      "execution_count": null,
      "metadata": {
        "id": "ZDJCTFaSZTyo"
      },
      "outputs": [],
      "source": [
        "from tensorflow.keras.preprocessing.sequence import pad_sequences\n",
        "from pyvi import ViTokenizer\n",
        "from keras.preprocessing.text import Tokenizer\n",
        "\n",
        "max_len = 100\n",
        "\n",
        "\n",
        "word_tokenizer = Tokenizer(oov_token=-1)\n",
        "word_tokenizer.fit_on_texts(train_X)\n",
        "\n",
        "word_2_index = word_tokenizer.word_index\n",
        "word_2_index['pad'] = 0\n",
        "word_2_index['unk'] = -1\n",
        "\n",
        "\n",
        "index_to_word = {i: w for w, i in word_to_index.items()}\n",
        "\n",
        "def encoding(X):\n",
        "    sentences = []\n",
        "    \n",
        "    for t in X:\n",
        "        tokenized_sentence = ViTokenizer.tokenize(t)\n",
        "        sentences.append(tokenized_sentence)\n",
        "    \n",
        "    X = word_tokenizer.texts_to_sequences(sentences)\n",
        "    X = pad_sequences(maxlen = max_len, sequences = X, padding = \"post\", value = word_2_index['pad'])\n",
        "\n",
        "    return X"
      ]
    },
    {
      "cell_type": "code",
      "execution_count": null,
      "metadata": {
        "colab": {
          "base_uri": "https://localhost:8080/"
        },
        "outputId": "5a286278-221f-4c67-fb3c-5f1d2d03cfa9",
        "id": "IUF0shxzYkdk"
      },
      "outputs": [
        {
          "output_type": "stream",
          "name": "stdout",
          "text": [
            "Requirement already satisfied: pyvi in /usr/local/lib/python3.7/dist-packages (0.1.1)\n",
            "Requirement already satisfied: sklearn-crfsuite in /usr/local/lib/python3.7/dist-packages (from pyvi) (0.3.6)\n",
            "Requirement already satisfied: scikit-learn in /usr/local/lib/python3.7/dist-packages (from pyvi) (1.0.1)\n",
            "Requirement already satisfied: joblib>=0.11 in /usr/local/lib/python3.7/dist-packages (from scikit-learn->pyvi) (1.1.0)\n",
            "Requirement already satisfied: scipy>=1.1.0 in /usr/local/lib/python3.7/dist-packages (from scikit-learn->pyvi) (1.4.1)\n",
            "Requirement already satisfied: numpy>=1.14.6 in /usr/local/lib/python3.7/dist-packages (from scikit-learn->pyvi) (1.19.5)\n",
            "Requirement already satisfied: threadpoolctl>=2.0.0 in /usr/local/lib/python3.7/dist-packages (from scikit-learn->pyvi) (3.0.0)\n",
            "Requirement already satisfied: six in /usr/local/lib/python3.7/dist-packages (from sklearn-crfsuite->pyvi) (1.15.0)\n",
            "Requirement already satisfied: python-crfsuite>=0.8.3 in /usr/local/lib/python3.7/dist-packages (from sklearn-crfsuite->pyvi) (0.9.7)\n",
            "Requirement already satisfied: tabulate in /usr/local/lib/python3.7/dist-packages (from sklearn-crfsuite->pyvi) (0.8.9)\n",
            "Requirement already satisfied: tqdm>=2.0 in /usr/local/lib/python3.7/dist-packages (from sklearn-crfsuite->pyvi) (4.62.3)\n",
            "Requirement already satisfied: tensorflow-gpu==2.1 in /usr/local/lib/python3.7/dist-packages (2.1.0)\n",
            "Requirement already satisfied: keras-applications>=1.0.8 in /usr/local/lib/python3.7/dist-packages (from tensorflow-gpu==2.1) (1.0.8)\n",
            "Requirement already satisfied: termcolor>=1.1.0 in /usr/local/lib/python3.7/dist-packages (from tensorflow-gpu==2.1) (1.1.0)\n",
            "Requirement already satisfied: astor>=0.6.0 in /usr/local/lib/python3.7/dist-packages (from tensorflow-gpu==2.1) (0.8.1)\n",
            "Requirement already satisfied: opt-einsum>=2.3.2 in /usr/local/lib/python3.7/dist-packages (from tensorflow-gpu==2.1) (3.3.0)\n",
            "Requirement already satisfied: tensorboard<2.2.0,>=2.1.0 in /usr/local/lib/python3.7/dist-packages (from tensorflow-gpu==2.1) (2.1.1)\n",
            "Requirement already satisfied: grpcio>=1.8.6 in /usr/local/lib/python3.7/dist-packages (from tensorflow-gpu==2.1) (1.42.0)\n",
            "Requirement already satisfied: wheel>=0.26 in /usr/local/lib/python3.7/dist-packages (from tensorflow-gpu==2.1) (0.37.0)\n",
            "Requirement already satisfied: numpy<2.0,>=1.16.0 in /usr/local/lib/python3.7/dist-packages (from tensorflow-gpu==2.1) (1.19.5)\n",
            "Requirement already satisfied: absl-py>=0.7.0 in /usr/local/lib/python3.7/dist-packages (from tensorflow-gpu==2.1) (0.12.0)\n",
            "Requirement already satisfied: protobuf>=3.8.0 in /usr/local/lib/python3.7/dist-packages (from tensorflow-gpu==2.1) (3.17.3)\n",
            "Requirement already satisfied: scipy==1.4.1 in /usr/local/lib/python3.7/dist-packages (from tensorflow-gpu==2.1) (1.4.1)\n",
            "Requirement already satisfied: six>=1.12.0 in /usr/local/lib/python3.7/dist-packages (from tensorflow-gpu==2.1) (1.15.0)\n",
            "Requirement already satisfied: tensorflow-estimator<2.2.0,>=2.1.0rc0 in /usr/local/lib/python3.7/dist-packages (from tensorflow-gpu==2.1) (2.1.0)\n",
            "Requirement already satisfied: keras-preprocessing>=1.1.0 in /usr/local/lib/python3.7/dist-packages (from tensorflow-gpu==2.1) (1.1.2)\n",
            "Requirement already satisfied: google-pasta>=0.1.6 in /usr/local/lib/python3.7/dist-packages (from tensorflow-gpu==2.1) (0.2.0)\n",
            "Requirement already satisfied: wrapt>=1.11.1 in /usr/local/lib/python3.7/dist-packages (from tensorflow-gpu==2.1) (1.13.3)\n",
            "Requirement already satisfied: gast==0.2.2 in /usr/local/lib/python3.7/dist-packages (from tensorflow-gpu==2.1) (0.2.2)\n",
            "Requirement already satisfied: h5py in /usr/local/lib/python3.7/dist-packages (from keras-applications>=1.0.8->tensorflow-gpu==2.1) (3.1.0)\n",
            "Requirement already satisfied: markdown>=2.6.8 in /usr/local/lib/python3.7/dist-packages (from tensorboard<2.2.0,>=2.1.0->tensorflow-gpu==2.1) (3.3.6)\n",
            "Requirement already satisfied: google-auth<2,>=1.6.3 in /usr/local/lib/python3.7/dist-packages (from tensorboard<2.2.0,>=2.1.0->tensorflow-gpu==2.1) (1.35.0)\n",
            "Requirement already satisfied: google-auth-oauthlib<0.5,>=0.4.1 in /usr/local/lib/python3.7/dist-packages (from tensorboard<2.2.0,>=2.1.0->tensorflow-gpu==2.1) (0.4.6)\n",
            "Requirement already satisfied: werkzeug>=0.11.15 in /usr/local/lib/python3.7/dist-packages (from tensorboard<2.2.0,>=2.1.0->tensorflow-gpu==2.1) (1.0.1)\n",
            "Requirement already satisfied: requests<3,>=2.21.0 in /usr/local/lib/python3.7/dist-packages (from tensorboard<2.2.0,>=2.1.0->tensorflow-gpu==2.1) (2.23.0)\n",
            "Requirement already satisfied: setuptools>=41.0.0 in /usr/local/lib/python3.7/dist-packages (from tensorboard<2.2.0,>=2.1.0->tensorflow-gpu==2.1) (57.4.0)\n",
            "Requirement already satisfied: pyasn1-modules>=0.2.1 in /usr/local/lib/python3.7/dist-packages (from google-auth<2,>=1.6.3->tensorboard<2.2.0,>=2.1.0->tensorflow-gpu==2.1) (0.2.8)\n",
            "Requirement already satisfied: rsa<5,>=3.1.4 in /usr/local/lib/python3.7/dist-packages (from google-auth<2,>=1.6.3->tensorboard<2.2.0,>=2.1.0->tensorflow-gpu==2.1) (4.8)\n",
            "Requirement already satisfied: cachetools<5.0,>=2.0.0 in /usr/local/lib/python3.7/dist-packages (from google-auth<2,>=1.6.3->tensorboard<2.2.0,>=2.1.0->tensorflow-gpu==2.1) (4.2.4)\n",
            "Requirement already satisfied: requests-oauthlib>=0.7.0 in /usr/local/lib/python3.7/dist-packages (from google-auth-oauthlib<0.5,>=0.4.1->tensorboard<2.2.0,>=2.1.0->tensorflow-gpu==2.1) (1.3.0)\n",
            "Requirement already satisfied: importlib-metadata>=4.4 in /usr/local/lib/python3.7/dist-packages (from markdown>=2.6.8->tensorboard<2.2.0,>=2.1.0->tensorflow-gpu==2.1) (4.8.2)\n",
            "Requirement already satisfied: zipp>=0.5 in /usr/local/lib/python3.7/dist-packages (from importlib-metadata>=4.4->markdown>=2.6.8->tensorboard<2.2.0,>=2.1.0->tensorflow-gpu==2.1) (3.6.0)\n",
            "Requirement already satisfied: typing-extensions>=3.6.4 in /usr/local/lib/python3.7/dist-packages (from importlib-metadata>=4.4->markdown>=2.6.8->tensorboard<2.2.0,>=2.1.0->tensorflow-gpu==2.1) (3.10.0.2)\n",
            "Requirement already satisfied: pyasn1<0.5.0,>=0.4.6 in /usr/local/lib/python3.7/dist-packages (from pyasn1-modules>=0.2.1->google-auth<2,>=1.6.3->tensorboard<2.2.0,>=2.1.0->tensorflow-gpu==2.1) (0.4.8)\n",
            "Requirement already satisfied: chardet<4,>=3.0.2 in /usr/local/lib/python3.7/dist-packages (from requests<3,>=2.21.0->tensorboard<2.2.0,>=2.1.0->tensorflow-gpu==2.1) (3.0.4)\n",
            "Requirement already satisfied: urllib3!=1.25.0,!=1.25.1,<1.26,>=1.21.1 in /usr/local/lib/python3.7/dist-packages (from requests<3,>=2.21.0->tensorboard<2.2.0,>=2.1.0->tensorflow-gpu==2.1) (1.24.3)\n",
            "Requirement already satisfied: certifi>=2017.4.17 in /usr/local/lib/python3.7/dist-packages (from requests<3,>=2.21.0->tensorboard<2.2.0,>=2.1.0->tensorflow-gpu==2.1) (2021.10.8)\n",
            "Requirement already satisfied: idna<3,>=2.5 in /usr/local/lib/python3.7/dist-packages (from requests<3,>=2.21.0->tensorboard<2.2.0,>=2.1.0->tensorflow-gpu==2.1) (2.10)\n",
            "Requirement already satisfied: oauthlib>=3.0.0 in /usr/local/lib/python3.7/dist-packages (from requests-oauthlib>=0.7.0->google-auth-oauthlib<0.5,>=0.4.1->tensorboard<2.2.0,>=2.1.0->tensorflow-gpu==2.1) (3.1.1)\n",
            "Requirement already satisfied: cached-property in /usr/local/lib/python3.7/dist-packages (from h5py->keras-applications>=1.0.8->tensorflow-gpu==2.1) (1.5.2)\n",
            "Requirement already satisfied: keras==2.3.1 in /usr/local/lib/python3.7/dist-packages (2.3.1)\n",
            "Requirement already satisfied: numpy>=1.9.1 in /usr/local/lib/python3.7/dist-packages (from keras==2.3.1) (1.19.5)\n",
            "Requirement already satisfied: scipy>=0.14 in /usr/local/lib/python3.7/dist-packages (from keras==2.3.1) (1.4.1)\n",
            "Requirement already satisfied: six>=1.9.0 in /usr/local/lib/python3.7/dist-packages (from keras==2.3.1) (1.15.0)\n",
            "Requirement already satisfied: keras-applications>=1.0.6 in /usr/local/lib/python3.7/dist-packages (from keras==2.3.1) (1.0.8)\n",
            "Requirement already satisfied: h5py in /usr/local/lib/python3.7/dist-packages (from keras==2.3.1) (3.1.0)\n",
            "Requirement already satisfied: pyyaml in /usr/local/lib/python3.7/dist-packages (from keras==2.3.1) (3.13)\n",
            "Requirement already satisfied: keras-preprocessing>=1.0.5 in /usr/local/lib/python3.7/dist-packages (from keras==2.3.1) (1.1.2)\n",
            "Requirement already satisfied: cached-property in /usr/local/lib/python3.7/dist-packages (from h5py->keras==2.3.1) (1.5.2)\n"
          ]
        }
      ],
      "source": [
        "!pip install pyvi\n",
        "!pip install tensorflow-gpu==2.1\n",
        "!pip install keras==2.3.1\n"
      ]
    },
    {
      "cell_type": "code",
      "execution_count": null,
      "metadata": {
        "id": "chGUzMIoYkdl"
      },
      "outputs": [],
      "source": [
        "import pandas as pd \n",
        "import numpy as np \n",
        "\n",
        "from pyvi.ViTokenizer import ViTokenizer"
      ]
    },
    {
      "cell_type": "code",
      "execution_count": null,
      "metadata": {
        "colab": {
          "base_uri": "https://localhost:8080/",
          "height": 1000
        },
        "outputId": "328d811d-7926-4b09-d904-198a9be070c5",
        "id": "c95IbWjJYkdm"
      },
      "outputs": [
        {
          "output_type": "stream",
          "name": "stdout",
          "text": [
            "Model: \"model_1\"\n",
            "__________________________________________________________________________________________________\n",
            "Layer (type)                    Output Shape         Param #     Connected to                     \n",
            "==================================================================================================\n",
            "input_1 (InputLayer)            (None, 100)          0                                            \n",
            "__________________________________________________________________________________________________\n",
            "embedding_1 (Embedding)         (None, 100, 300)     2554500     input_1[0][0]                    \n",
            "__________________________________________________________________________________________________\n",
            "reshape_1 (Reshape)             (None, 100, 300, 1)  0           embedding_1[0][0]                \n",
            "__________________________________________________________________________________________________\n",
            "conv2d_1 (Conv2D)               (None, 99, 1, 32)    19232       reshape_1[0][0]                  \n",
            "__________________________________________________________________________________________________\n",
            "conv2d_2 (Conv2D)               (None, 98, 1, 32)    28832       reshape_1[0][0]                  \n",
            "__________________________________________________________________________________________________\n",
            "conv2d_3 (Conv2D)               (None, 96, 1, 32)    48032       reshape_1[0][0]                  \n",
            "__________________________________________________________________________________________________\n",
            "max_pooling2d_1 (MaxPooling2D)  (None, 1, 1, 32)     0           conv2d_1[0][0]                   \n",
            "__________________________________________________________________________________________________\n",
            "max_pooling2d_2 (MaxPooling2D)  (None, 1, 1, 32)     0           conv2d_2[0][0]                   \n",
            "__________________________________________________________________________________________________\n",
            "max_pooling2d_3 (MaxPooling2D)  (None, 1, 1, 32)     0           conv2d_3[0][0]                   \n",
            "__________________________________________________________________________________________________\n",
            "concatenate_1 (Concatenate)     (None, 3, 1, 32)     0           max_pooling2d_1[0][0]            \n",
            "                                                                 max_pooling2d_2[0][0]            \n",
            "                                                                 max_pooling2d_3[0][0]            \n",
            "__________________________________________________________________________________________________\n",
            "flatten_1 (Flatten)             (None, 96)           0           concatenate_1[0][0]              \n",
            "__________________________________________________________________________________________________\n",
            "dropout_1 (Dropout)             (None, 96)           0           flatten_1[0][0]                  \n",
            "__________________________________________________________________________________________________\n",
            "dense_1 (Dense)                 (None, 3)            291         dropout_1[0][0]                  \n",
            "==================================================================================================\n",
            "Total params: 2,650,887\n",
            "Trainable params: 2,650,887\n",
            "Non-trainable params: 0\n",
            "__________________________________________________________________________________________________\n",
            "Train on 24048 samples, validate on 2672 samples\n",
            "Epoch 1/40\n",
            "24048/24048 [==============================] - 10s 396us/step - loss: 0.7345 - accuracy: 0.8027 - val_loss: 0.5677 - val_accuracy: 0.8196\n",
            "Epoch 2/40\n",
            "24048/24048 [==============================] - 5s 225us/step - loss: 0.5536 - accuracy: 0.8269 - val_loss: 0.5542 - val_accuracy: 0.8196\n",
            "Epoch 3/40\n",
            "24048/24048 [==============================] - 5s 223us/step - loss: 0.5314 - accuracy: 0.8273 - val_loss: 0.5378 - val_accuracy: 0.8196\n",
            "Epoch 4/40\n",
            "24048/24048 [==============================] - 5s 223us/step - loss: 0.5040 - accuracy: 0.8301 - val_loss: 0.5138 - val_accuracy: 0.8237\n",
            "Epoch 5/40\n",
            "24048/24048 [==============================] - 5s 223us/step - loss: 0.4706 - accuracy: 0.8416 - val_loss: 0.4864 - val_accuracy: 0.8308\n",
            "Epoch 6/40\n",
            "24048/24048 [==============================] - 5s 224us/step - loss: 0.4367 - accuracy: 0.8529 - val_loss: 0.4622 - val_accuracy: 0.8372\n",
            "Epoch 7/40\n",
            "24048/24048 [==============================] - 5s 226us/step - loss: 0.4035 - accuracy: 0.8606 - val_loss: 0.4408 - val_accuracy: 0.8406\n",
            "Epoch 8/40\n",
            "24048/24048 [==============================] - 5s 223us/step - loss: 0.3754 - accuracy: 0.8677 - val_loss: 0.4249 - val_accuracy: 0.8454\n",
            "Epoch 9/40\n",
            "24048/24048 [==============================] - 5s 224us/step - loss: 0.3482 - accuracy: 0.8758 - val_loss: 0.4132 - val_accuracy: 0.8488\n",
            "Epoch 10/40\n",
            "24048/24048 [==============================] - 6s 229us/step - loss: 0.3252 - accuracy: 0.8825 - val_loss: 0.4051 - val_accuracy: 0.8533\n",
            "Epoch 11/40\n",
            "24048/24048 [==============================] - 5s 223us/step - loss: 0.3095 - accuracy: 0.8879 - val_loss: 0.3987 - val_accuracy: 0.8537\n",
            "Epoch 12/40\n",
            "24048/24048 [==============================] - 5s 213us/step - loss: 0.2923 - accuracy: 0.8932 - val_loss: 0.3948 - val_accuracy: 0.8552\n",
            "Epoch 13/40\n",
            "24048/24048 [==============================] - 5s 216us/step - loss: 0.2778 - accuracy: 0.8996 - val_loss: 0.3920 - val_accuracy: 0.8570\n",
            "Epoch 14/40\n",
            "24048/24048 [==============================] - 5s 216us/step - loss: 0.2669 - accuracy: 0.9027 - val_loss: 0.3909 - val_accuracy: 0.8570\n",
            "Epoch 15/40\n",
            "24048/24048 [==============================] - 5s 223us/step - loss: 0.2544 - accuracy: 0.9090 - val_loss: 0.3922 - val_accuracy: 0.8578\n",
            "Epoch 16/40\n",
            "24048/24048 [==============================] - 5s 215us/step - loss: 0.2430 - accuracy: 0.9144 - val_loss: 0.3934 - val_accuracy: 0.8563\n",
            "Epoch 17/40\n",
            "24048/24048 [==============================] - 5s 215us/step - loss: 0.2312 - accuracy: 0.9180 - val_loss: 0.3936 - val_accuracy: 0.8597\n",
            "Epoch 18/40\n",
            "24048/24048 [==============================] - 5s 221us/step - loss: 0.2230 - accuracy: 0.9217 - val_loss: 0.3972 - val_accuracy: 0.8615\n",
            "Epoch 19/40\n",
            "24048/24048 [==============================] - 5s 216us/step - loss: 0.2129 - accuracy: 0.9259 - val_loss: 0.3995 - val_accuracy: 0.8630\n",
            "Epoch 20/40\n",
            "24048/24048 [==============================] - 5s 215us/step - loss: 0.2060 - accuracy: 0.9298 - val_loss: 0.4008 - val_accuracy: 0.8626\n",
            "Epoch 21/40\n",
            "24048/24048 [==============================] - 5s 216us/step - loss: 0.1966 - accuracy: 0.9331 - val_loss: 0.4057 - val_accuracy: 0.8612\n",
            "Epoch 22/40\n",
            "24048/24048 [==============================] - 5s 216us/step - loss: 0.1899 - accuracy: 0.9343 - val_loss: 0.4094 - val_accuracy: 0.8638\n",
            "Epoch 23/40\n",
            "24048/24048 [==============================] - 5s 216us/step - loss: 0.1834 - accuracy: 0.9380 - val_loss: 0.4141 - val_accuracy: 0.8623\n",
            "Epoch 24/40\n",
            "24048/24048 [==============================] - 5s 216us/step - loss: 0.1754 - accuracy: 0.9424 - val_loss: 0.4176 - val_accuracy: 0.8619\n",
            "Epoch 25/40\n",
            "24048/24048 [==============================] - 5s 215us/step - loss: 0.1705 - accuracy: 0.9438 - val_loss: 0.4249 - val_accuracy: 0.8608\n",
            "Epoch 26/40\n",
            "24048/24048 [==============================] - 5s 213us/step - loss: 0.1647 - accuracy: 0.9452 - val_loss: 0.4283 - val_accuracy: 0.8600\n",
            "Epoch 27/40\n",
            "24048/24048 [==============================] - 5s 214us/step - loss: 0.1586 - accuracy: 0.9482 - val_loss: 0.4347 - val_accuracy: 0.8585\n",
            "Epoch 28/40\n",
            "24048/24048 [==============================] - 5s 216us/step - loss: 0.1524 - accuracy: 0.9497 - val_loss: 0.4431 - val_accuracy: 0.8593\n",
            "Epoch 29/40\n",
            "24048/24048 [==============================] - 5s 215us/step - loss: 0.1481 - accuracy: 0.9516 - val_loss: 0.4447 - val_accuracy: 0.8582\n",
            "Epoch 30/40\n",
            "24048/24048 [==============================] - 5s 212us/step - loss: 0.1415 - accuracy: 0.9564 - val_loss: 0.4537 - val_accuracy: 0.8555\n",
            "Epoch 31/40\n",
            "24048/24048 [==============================] - 5s 214us/step - loss: 0.1397 - accuracy: 0.9550 - val_loss: 0.4584 - val_accuracy: 0.8548\n",
            "Epoch 32/40\n",
            "24048/24048 [==============================] - 5s 219us/step - loss: 0.1353 - accuracy: 0.9575 - val_loss: 0.4675 - val_accuracy: 0.8552\n",
            "Epoch 33/40\n",
            "24048/24048 [==============================] - 5s 222us/step - loss: 0.1305 - accuracy: 0.9591 - val_loss: 0.4723 - val_accuracy: 0.8552\n",
            "Epoch 34/40\n",
            "24048/24048 [==============================] - 5s 224us/step - loss: 0.1270 - accuracy: 0.9611 - val_loss: 0.4775 - val_accuracy: 0.8548\n",
            "Epoch 35/40\n",
            "24048/24048 [==============================] - 6s 232us/step - loss: 0.1234 - accuracy: 0.9621 - val_loss: 0.4864 - val_accuracy: 0.8563\n",
            "Epoch 36/40\n",
            "24048/24048 [==============================] - 5s 223us/step - loss: 0.1189 - accuracy: 0.9632 - val_loss: 0.4915 - val_accuracy: 0.8540\n",
            "Epoch 37/40\n",
            "24048/24048 [==============================] - 5s 224us/step - loss: 0.1168 - accuracy: 0.9640 - val_loss: 0.4990 - val_accuracy: 0.8514\n",
            "Epoch 38/40\n",
            "24048/24048 [==============================] - 5s 223us/step - loss: 0.1137 - accuracy: 0.9657 - val_loss: 0.5069 - val_accuracy: 0.8533\n",
            "Epoch 39/40\n",
            "24048/24048 [==============================] - 5s 222us/step - loss: 0.1094 - accuracy: 0.9656 - val_loss: 0.5153 - val_accuracy: 0.8533\n",
            "Epoch 40/40\n",
            "24048/24048 [==============================] - 5s 223us/step - loss: 0.1076 - accuracy: 0.9667 - val_loss: 0.5209 - val_accuracy: 0.8522\n"
          ]
        },
        {
          "output_type": "stream",
          "name": "stderr",
          "text": [
            "/usr/local/lib/python3.7/dist-packages/keras/engine/saving.py:165: UserWarning: TensorFlow optimizers do not make it possible to access optimizer attributes or optimizer state after instantiation. As a result, we cannot save the optimizer as part of the model save file.You will have to compile your model again after loading it. Prefer using a Keras optimizer instead (see keras.io/optimizers).\n",
            "  'TensorFlow optimizers do not '\n"
          ]
        },
        {
          "output_type": "stream",
          "name": "stdout",
          "text": [
            "[[5274   80  194]\n",
            " [ 246  113   85]\n",
            " [ 313   49  326]]\n",
            "F1 - micro: 0.8552395209580839\n",
            "F1 - macro: 0.5868358584637585\n",
            "Accuracy: 0.8552395209580839\n"
          ]
        },
        {
          "output_type": "execute_result",
          "data": {
            "text/plain": [
              "<matplotlib.axes._subplots.AxesSubplot at 0x7fa0ce8c5f50>"
            ]
          },
          "metadata": {},
          "execution_count": 42
        },
        {
          "output_type": "display_data",
          "data": {
            "image/png": "[encoded data removed]",
            "text/plain": [
              "<Figure size 432x288 with 2 Axes>"
            ]
          },
          "metadata": {
            "needs_background": "light"
          }
        }
      ],
      "source": [
        "# Text CNN \n",
        "import pandas as pd \n",
        "import numpy as np \n",
        "import re\n",
        "import pickle\n",
        "\n",
        "import seaborn as sn\n",
        "import pandas as pd\n",
        "import matplotlib.pyplot as plt\n",
        "\n",
        "from keras.layers import Input, Dense, Embedding, Conv2D, MaxPool2D\n",
        "from keras.layers import Reshape, Flatten, Dropout, Concatenate\n",
        "from keras.callbacks import ModelCheckpoint\n",
        "from tensorflow.keras.optimizers import Adam\n",
        "from keras.models import Model\n",
        "from tensorflow.keras.utils import to_categorical\n",
        "from keras.preprocessing import text, sequence\n",
        "\n",
        "from sklearn.metrics import f1_score, confusion_matrix, accuracy_score\n",
        "from sklearn.model_selection import train_test_split, StratifiedShuffleSplit\n",
        "\n",
        "\n",
        "\n",
        "train_y = y_train\n",
        "dev_y = y_dev\n",
        "test_y =y_test\n",
        "MODEL_FILE = 'Text_CNN_model_1.h5'\n",
        "\n",
        "def make_featues(X, y, tokenizer, is_one_hot_label=True):\n",
        "    X = tokenizer.texts_to_sequences(X)\n",
        "    X = sequence.pad_sequences(X, maxlen=sequence_length)\n",
        "    if is_one_hot_label: \n",
        "        y = to_categorical(y, num_classes=3)\n",
        "\n",
        "    return X, y\n",
        "num_words = len(word_2_index)\n",
        "tokenizer = text.Tokenizer(lower=False, filters='!\"#$%&()*+,-./:;<=>?@[\\\\]^`{|}~\\t\\n')\n",
        "tokenizer.fit_on_texts(train_X)\n",
        "vocabulary_size = 10000\n",
        "sequence_length = 100\n",
        "\n",
        "embedding_dim = 300\n",
        "batch_size = 256\n",
        "epochs = 40\n",
        "drop = 0.5\n",
        "\n",
        "filter_sizes = [2,3,5]\n",
        "num_filters = 32\n",
        "\n",
        "\n",
        "# Make features\n",
        "train_X, train_y = make_featues(train_X, train_y, tokenizer)\n",
        "dev_X, dev_y = make_featues(dev_X, dev_y, tokenizer)\n",
        "test_X, test_y = make_featues(test_X, test_y, tokenizer, is_one_hot_label=False)\n",
        "\n",
        "\n",
        "inputs = Input(shape=(sequence_length,), dtype='int32')\n",
        "embedding  = Embedding(input_dim=num_words+1,\n",
        "                    output_dim=300,\n",
        "                    input_length=max_len)(inputs)\n",
        "reshape = Reshape((sequence_length,embedding_dim,1))(embedding)\n",
        "\n",
        "conv_0 = Conv2D(num_filters, kernel_size=(filter_sizes[0], embedding_dim), padding='valid', kernel_initializer='normal', activation='elu')(reshape)\n",
        "conv_1 = Conv2D(num_filters, kernel_size=(filter_sizes[1], embedding_dim), padding='valid', kernel_initializer='normal', activation='elu')(reshape)\n",
        "conv_2 = Conv2D(num_filters, kernel_size=(filter_sizes[2], embedding_dim), padding='valid', kernel_initializer='normal', activation='elu')(reshape)\n",
        "\n",
        "maxpool_0 = MaxPool2D(pool_size=(sequence_length - filter_sizes[0] + 1, 1), strides=(1,1), padding='valid')(conv_0)\n",
        "maxpool_1 = MaxPool2D(pool_size=(sequence_length - filter_sizes[1] + 1, 1), strides=(1,1), padding='valid')(conv_1)\n",
        "maxpool_2 = MaxPool2D(pool_size=(sequence_length - filter_sizes[2] + 1, 1), strides=(1,1), padding='valid')(conv_2)\n",
        "\n",
        "concatenated_tensor = Concatenate(axis=1)([maxpool_0, maxpool_1, maxpool_2])\n",
        "flatten = Flatten()(concatenated_tensor)\n",
        "dropout = Dropout(drop)(flatten)\n",
        "output = Dense(units=3, activation='softmax')(dropout)\n",
        "\n",
        "# this creates a model that includes\n",
        "model = Model(inputs=inputs, outputs=output)\n",
        "\n",
        "model.summary()\n",
        "\n",
        "checkpoint = ModelCheckpoint('weights.{epoch:03d}-{val_acc:.4f}.hdf5', monitor='val_acc', verbose=1, save_best_only=True, mode='auto')\n",
        "adam = Adam(lr=1e-4, beta_1=0.9, beta_2=0.999, epsilon=1e-08, decay=0.0)\n",
        "\n",
        "model.compile(optimizer=adam, loss='categorical_crossentropy', metrics=['accuracy'])\n",
        "\n",
        "model.fit(train_X, train_y, batch_size=batch_size, epochs=epochs, verbose=1, \n",
        "          validation_data=(dev_X, dev_y))  \n",
        "model.save(MODEL_FILE)\n",
        "\n",
        "prediction = model.predict(test_X, batch_size=batch_size, verbose=0)\n",
        "y_pred = prediction.argmax(axis=-1)\n",
        "\n",
        "cf1 = confusion_matrix(test_y, y_pred)\n",
        "print(cf1)\n",
        "\n",
        "evaluation = f1_score(test_y, y_pred, average='micro')\n",
        "\n",
        "print(\"F1 - micro: \" + str(evaluation))\n",
        "\n",
        "evaluation = f1_score(test_y, y_pred, average='macro')\n",
        "print(\"F1 - macro: \" + str(evaluation))\n",
        "\n",
        "evaluation = accuracy_score(test_y, y_pred)\n",
        "print(\"Accuracy: \" + str(evaluation))\n",
        "\n",
        "df_cm1 = pd.DataFrame(cf1, index = [\"clean\",\"offensive\",\"hate\"],\n",
        "                  columns = [\"clean\",\"offensive\",\"hate\"])\n",
        "plt.clf()\n",
        "sn.heatmap(df_cm1, annot=True, cmap=\"Greys\",fmt='g', cbar=True, annot_kws={\"size\": 30})"
      ]
    },
    {
      "cell_type": "code",
      "source": [
        "# serialize model to JSON\n",
        "model_json = model.to_json()\n",
        "with open(\"model.json\", \"w\") as json_file:\n",
        "    json_file.write(model_json)\n",
        "# serialize weights to HDF5\n",
        "model.save_weights(\"model.h5\")\n",
        "print(\"Saved model to disk\")"
      ],
      "metadata": {
        "colab": {
          "base_uri": "https://localhost:8080/"
        },
        "outputId": "d68bc5d9-d687-4b09-f867-f7f807205337",
        "id": "k2tdTh8qYkdm"
      },
      "execution_count": null,
      "outputs": [
        {
          "output_type": "stream",
          "name": "stdout",
          "text": [
            "Saved model to disk\n"
          ]
        }
      ]
    },
    {
      "cell_type": "markdown",
      "source": [
        ""
      ],
      "metadata": {
        "id": "cDqYH3zThb39"
      }
    },
    {
      "cell_type": "markdown",
      "metadata": {
        "id": "KX1KYqrCWvIb"
      },
      "source": [
        "#TextCNN + Pretrain fasttext Embedding "
      ]
    },
    {
      "cell_type": "code",
      "execution_count": null,
      "metadata": {
        "colab": {
          "base_uri": "https://localhost:8080/"
        },
        "outputId": "b7d9bc3f-7e62-4425-a218-de403f37c35b",
        "id": "Iek99-ppgcRp"
      },
      "outputs": [
        {
          "output_type": "stream",
          "name": "stdout",
          "text": [
            "24048\n",
            "2672\n",
            "6680\n"
          ]
        }
      ],
      "source": [
        "import pandas as pd \n",
        "import numpy as np \n",
        "\n",
        "DATA = '/content/drive/MyDrive/Download(Win11)/vihsd/data/vihsd/vihsd/train.csv'\n",
        "DEV_DATA = '/content/drive/MyDrive/Download(Win11)/vihsd/data/vihsd/vihsd/dev.csv'\n",
        "TEST_DATA = '/content/drive/MyDrive/Download(Win11)/vihsd/data/vihsd/vihsd/test.csv'\n",
        "\n",
        "# read data\n",
        "train_data = pd.read_csv(DATA)\n",
        "dev_data = pd.read_csv(DEV_DATA)\n",
        "test_data = pd.read_csv(TEST_DATA)\n",
        "\n",
        "print(len(train_data))\n",
        "print(len(dev_data))\n",
        "print(len(test_data))\n",
        "\n",
        "X_train = train_data['free_text']\n",
        "y_train = train_data['label_id'].values\n",
        "\n",
        "X_dev = dev_data['free_text']\n",
        "y_dev = dev_data['label_id'].values\n",
        "\n",
        "X_test = test_data['free_text']\n",
        "y_test = test_data['label_id'].values"
      ]
    },
    {
      "cell_type": "code",
      "execution_count": null,
      "metadata": {
        "id": "TkJqH6zU2buN",
        "colab": {
          "base_uri": "https://localhost:8080/"
        },
        "outputId": "2963c3b5-d8d7-4e8d-8a42-88d8298c129a"
      },
      "outputs": [
        {
          "output_type": "stream",
          "name": "stdout",
          "text": [
            "Requirement already satisfied: pyvi in /usr/local/lib/python3.7/dist-packages (0.1.1)\n",
            "Requirement already satisfied: scikit-learn in /usr/local/lib/python3.7/dist-packages (from pyvi) (1.0.1)\n",
            "Requirement already satisfied: sklearn-crfsuite in /usr/local/lib/python3.7/dist-packages (from pyvi) (0.3.6)\n",
            "Requirement already satisfied: threadpoolctl>=2.0.0 in /usr/local/lib/python3.7/dist-packages (from scikit-learn->pyvi) (3.0.0)\n",
            "Requirement already satisfied: scipy>=1.1.0 in /usr/local/lib/python3.7/dist-packages (from scikit-learn->pyvi) (1.4.1)\n",
            "Requirement already satisfied: joblib>=0.11 in /usr/local/lib/python3.7/dist-packages (from scikit-learn->pyvi) (1.1.0)\n",
            "Requirement already satisfied: numpy>=1.14.6 in /usr/local/lib/python3.7/dist-packages (from scikit-learn->pyvi) (1.19.5)\n",
            "Requirement already satisfied: tqdm>=2.0 in /usr/local/lib/python3.7/dist-packages (from sklearn-crfsuite->pyvi) (4.62.3)\n",
            "Requirement already satisfied: six in /usr/local/lib/python3.7/dist-packages (from sklearn-crfsuite->pyvi) (1.15.0)\n",
            "Requirement already satisfied: python-crfsuite>=0.8.3 in /usr/local/lib/python3.7/dist-packages (from sklearn-crfsuite->pyvi) (0.9.7)\n",
            "Requirement already satisfied: tabulate in /usr/local/lib/python3.7/dist-packages (from sklearn-crfsuite->pyvi) (0.8.9)\n",
            "Requirement already satisfied: tensorflow-gpu==2.1 in /usr/local/lib/python3.7/dist-packages (2.1.0)\n",
            "Requirement already satisfied: scipy==1.4.1 in /usr/local/lib/python3.7/dist-packages (from tensorflow-gpu==2.1) (1.4.1)\n",
            "Requirement already satisfied: gast==0.2.2 in /usr/local/lib/python3.7/dist-packages (from tensorflow-gpu==2.1) (0.2.2)\n",
            "Requirement already satisfied: tensorflow-estimator<2.2.0,>=2.1.0rc0 in /usr/local/lib/python3.7/dist-packages (from tensorflow-gpu==2.1) (2.1.0)\n",
            "Requirement already satisfied: absl-py>=0.7.0 in /usr/local/lib/python3.7/dist-packages (from tensorflow-gpu==2.1) (0.12.0)\n",
            "Requirement already satisfied: numpy<2.0,>=1.16.0 in /usr/local/lib/python3.7/dist-packages (from tensorflow-gpu==2.1) (1.19.5)\n",
            "Requirement already satisfied: keras-preprocessing>=1.1.0 in /usr/local/lib/python3.7/dist-packages (from tensorflow-gpu==2.1) (1.1.2)\n",
            "Requirement already satisfied: wheel>=0.26 in /usr/local/lib/python3.7/dist-packages (from tensorflow-gpu==2.1) (0.37.0)\n",
            "Requirement already satisfied: protobuf>=3.8.0 in /usr/local/lib/python3.7/dist-packages (from tensorflow-gpu==2.1) (3.17.3)\n",
            "Requirement already satisfied: six>=1.12.0 in /usr/local/lib/python3.7/dist-packages (from tensorflow-gpu==2.1) (1.15.0)\n",
            "Requirement already satisfied: keras-applications>=1.0.8 in /usr/local/lib/python3.7/dist-packages (from tensorflow-gpu==2.1) (1.0.8)\n",
            "Requirement already satisfied: termcolor>=1.1.0 in /usr/local/lib/python3.7/dist-packages (from tensorflow-gpu==2.1) (1.1.0)\n",
            "Requirement already satisfied: tensorboard<2.2.0,>=2.1.0 in /usr/local/lib/python3.7/dist-packages (from tensorflow-gpu==2.1) (2.1.1)\n",
            "Requirement already satisfied: wrapt>=1.11.1 in /usr/local/lib/python3.7/dist-packages (from tensorflow-gpu==2.1) (1.13.3)\n",
            "Requirement already satisfied: google-pasta>=0.1.6 in /usr/local/lib/python3.7/dist-packages (from tensorflow-gpu==2.1) (0.2.0)\n",
            "Requirement already satisfied: opt-einsum>=2.3.2 in /usr/local/lib/python3.7/dist-packages (from tensorflow-gpu==2.1) (3.3.0)\n",
            "Requirement already satisfied: astor>=0.6.0 in /usr/local/lib/python3.7/dist-packages (from tensorflow-gpu==2.1) (0.8.1)\n",
            "Requirement already satisfied: grpcio>=1.8.6 in /usr/local/lib/python3.7/dist-packages (from tensorflow-gpu==2.1) (1.42.0)\n",
            "Requirement already satisfied: h5py in /usr/local/lib/python3.7/dist-packages (from keras-applications>=1.0.8->tensorflow-gpu==2.1) (3.1.0)\n",
            "Requirement already satisfied: setuptools>=41.0.0 in /usr/local/lib/python3.7/dist-packages (from tensorboard<2.2.0,>=2.1.0->tensorflow-gpu==2.1) (57.4.0)\n",
            "Requirement already satisfied: google-auth-oauthlib<0.5,>=0.4.1 in /usr/local/lib/python3.7/dist-packages (from tensorboard<2.2.0,>=2.1.0->tensorflow-gpu==2.1) (0.4.6)\n",
            "Requirement already satisfied: werkzeug>=0.11.15 in /usr/local/lib/python3.7/dist-packages (from tensorboard<2.2.0,>=2.1.0->tensorflow-gpu==2.1) (1.0.1)\n",
            "Requirement already satisfied: markdown>=2.6.8 in /usr/local/lib/python3.7/dist-packages (from tensorboard<2.2.0,>=2.1.0->tensorflow-gpu==2.1) (3.3.6)\n",
            "Requirement already satisfied: requests<3,>=2.21.0 in /usr/local/lib/python3.7/dist-packages (from tensorboard<2.2.0,>=2.1.0->tensorflow-gpu==2.1) (2.23.0)\n",
            "Requirement already satisfied: google-auth<2,>=1.6.3 in /usr/local/lib/python3.7/dist-packages (from tensorboard<2.2.0,>=2.1.0->tensorflow-gpu==2.1) (1.35.0)\n",
            "Requirement already satisfied: cachetools<5.0,>=2.0.0 in /usr/local/lib/python3.7/dist-packages (from google-auth<2,>=1.6.3->tensorboard<2.2.0,>=2.1.0->tensorflow-gpu==2.1) (4.2.4)\n",
            "Requirement already satisfied: pyasn1-modules>=0.2.1 in /usr/local/lib/python3.7/dist-packages (from google-auth<2,>=1.6.3->tensorboard<2.2.0,>=2.1.0->tensorflow-gpu==2.1) (0.2.8)\n",
            "Requirement already satisfied: rsa<5,>=3.1.4 in /usr/local/lib/python3.7/dist-packages (from google-auth<2,>=1.6.3->tensorboard<2.2.0,>=2.1.0->tensorflow-gpu==2.1) (4.8)\n",
            "Requirement already satisfied: requests-oauthlib>=0.7.0 in /usr/local/lib/python3.7/dist-packages (from google-auth-oauthlib<0.5,>=0.4.1->tensorboard<2.2.0,>=2.1.0->tensorflow-gpu==2.1) (1.3.0)\n",
            "Requirement already satisfied: importlib-metadata>=4.4 in /usr/local/lib/python3.7/dist-packages (from markdown>=2.6.8->tensorboard<2.2.0,>=2.1.0->tensorflow-gpu==2.1) (4.8.2)\n",
            "Requirement already satisfied: zipp>=0.5 in /usr/local/lib/python3.7/dist-packages (from importlib-metadata>=4.4->markdown>=2.6.8->tensorboard<2.2.0,>=2.1.0->tensorflow-gpu==2.1) (3.6.0)\n",
            "Requirement already satisfied: typing-extensions>=3.6.4 in /usr/local/lib/python3.7/dist-packages (from importlib-metadata>=4.4->markdown>=2.6.8->tensorboard<2.2.0,>=2.1.0->tensorflow-gpu==2.1) (3.10.0.2)\n",
            "Requirement already satisfied: pyasn1<0.5.0,>=0.4.6 in /usr/local/lib/python3.7/dist-packages (from pyasn1-modules>=0.2.1->google-auth<2,>=1.6.3->tensorboard<2.2.0,>=2.1.0->tensorflow-gpu==2.1) (0.4.8)\n",
            "Requirement already satisfied: certifi>=2017.4.17 in /usr/local/lib/python3.7/dist-packages (from requests<3,>=2.21.0->tensorboard<2.2.0,>=2.1.0->tensorflow-gpu==2.1) (2021.10.8)\n",
            "Requirement already satisfied: urllib3!=1.25.0,!=1.25.1,<1.26,>=1.21.1 in /usr/local/lib/python3.7/dist-packages (from requests<3,>=2.21.0->tensorboard<2.2.0,>=2.1.0->tensorflow-gpu==2.1) (1.24.3)\n",
            "Requirement already satisfied: idna<3,>=2.5 in /usr/local/lib/python3.7/dist-packages (from requests<3,>=2.21.0->tensorboard<2.2.0,>=2.1.0->tensorflow-gpu==2.1) (2.10)\n",
            "Requirement already satisfied: chardet<4,>=3.0.2 in /usr/local/lib/python3.7/dist-packages (from requests<3,>=2.21.0->tensorboard<2.2.0,>=2.1.0->tensorflow-gpu==2.1) (3.0.4)\n",
            "Requirement already satisfied: oauthlib>=3.0.0 in /usr/local/lib/python3.7/dist-packages (from requests-oauthlib>=0.7.0->google-auth-oauthlib<0.5,>=0.4.1->tensorboard<2.2.0,>=2.1.0->tensorflow-gpu==2.1) (3.1.1)\n",
            "Requirement already satisfied: cached-property in /usr/local/lib/python3.7/dist-packages (from h5py->keras-applications>=1.0.8->tensorflow-gpu==2.1) (1.5.2)\n",
            "Requirement already satisfied: keras==2.3.1 in /usr/local/lib/python3.7/dist-packages (2.3.1)\n",
            "Requirement already satisfied: numpy>=1.9.1 in /usr/local/lib/python3.7/dist-packages (from keras==2.3.1) (1.19.5)\n",
            "Requirement already satisfied: keras-preprocessing>=1.0.5 in /usr/local/lib/python3.7/dist-packages (from keras==2.3.1) (1.1.2)\n",
            "Requirement already satisfied: six>=1.9.0 in /usr/local/lib/python3.7/dist-packages (from keras==2.3.1) (1.15.0)\n",
            "Requirement already satisfied: h5py in /usr/local/lib/python3.7/dist-packages (from keras==2.3.1) (3.1.0)\n",
            "Requirement already satisfied: keras-applications>=1.0.6 in /usr/local/lib/python3.7/dist-packages (from keras==2.3.1) (1.0.8)\n",
            "Requirement already satisfied: scipy>=0.14 in /usr/local/lib/python3.7/dist-packages (from keras==2.3.1) (1.4.1)\n",
            "Requirement already satisfied: pyyaml in /usr/local/lib/python3.7/dist-packages (from keras==2.3.1) (3.13)\n",
            "Requirement already satisfied: cached-property in /usr/local/lib/python3.7/dist-packages (from h5py->keras==2.3.1) (1.5.2)\n"
          ]
        }
      ],
      "source": [
        "!pip install pyvi\n",
        "!pip install tensorflow-gpu==2.1\n",
        "!pip install keras==2.3.1\n"
      ]
    },
    {
      "cell_type": "code",
      "execution_count": null,
      "metadata": {
        "id": "PF31TNQJ2buO"
      },
      "outputs": [],
      "source": [
        "import pandas as pd \n",
        "import numpy as np \n",
        "\n",
        "from pyvi.ViTokenizer import ViTokenizer"
      ]
    },
    {
      "cell_type": "code",
      "execution_count": null,
      "metadata": {
        "id": "52c8vMa72buO",
        "colab": {
          "base_uri": "https://localhost:8080/",
          "height": 1000
        },
        "outputId": "200bfe36-d76c-42e2-9c08-8b5171f71adf"
      },
      "outputs": [
        {
          "output_type": "stream",
          "name": "stderr",
          "text": [
            "/usr/local/lib/python3.7/dist-packages/ipykernel_launcher.py:6: SettingWithCopyWarning: \n",
            "A value is trying to be set on a copy of a slice from a DataFrame\n",
            "\n",
            "See the caveats in the documentation: https://pandas.pydata.org/pandas-docs/stable/user_guide/indexing.html#returning-a-view-versus-a-copy\n",
            "  \n",
            "/usr/local/lib/python3.7/dist-packages/ipykernel_launcher.py:8: SettingWithCopyWarning: \n",
            "A value is trying to be set on a copy of a slice from a DataFrame\n",
            "\n",
            "See the caveats in the documentation: https://pandas.pydata.org/pandas-docs/stable/user_guide/indexing.html#returning-a-view-versus-a-copy\n",
            "  \n"
          ]
        },
        {
          "output_type": "stream",
          "name": "stdout",
          "text": [
            "Model: \"model_1\"\n",
            "__________________________________________________________________________________________________\n",
            "Layer (type)                    Output Shape         Param #     Connected to                     \n",
            "==================================================================================================\n",
            "input_1 (InputLayer)            (None, 100)          0                                            \n",
            "__________________________________________________________________________________________________\n",
            "embedding_1 (Embedding)         (None, 100, 300)     4370700     input_1[0][0]                    \n",
            "__________________________________________________________________________________________________\n",
            "reshape_1 (Reshape)             (None, 100, 300, 1)  0           embedding_1[0][0]                \n",
            "__________________________________________________________________________________________________\n",
            "conv2d_1 (Conv2D)               (None, 99, 1, 32)    19232       reshape_1[0][0]                  \n",
            "__________________________________________________________________________________________________\n",
            "conv2d_2 (Conv2D)               (None, 98, 1, 32)    28832       reshape_1[0][0]                  \n",
            "__________________________________________________________________________________________________\n",
            "conv2d_3 (Conv2D)               (None, 96, 1, 32)    48032       reshape_1[0][0]                  \n",
            "__________________________________________________________________________________________________\n",
            "max_pooling2d_1 (MaxPooling2D)  (None, 1, 1, 32)     0           conv2d_1[0][0]                   \n",
            "__________________________________________________________________________________________________\n",
            "max_pooling2d_2 (MaxPooling2D)  (None, 1, 1, 32)     0           conv2d_2[0][0]                   \n",
            "__________________________________________________________________________________________________\n",
            "max_pooling2d_3 (MaxPooling2D)  (None, 1, 1, 32)     0           conv2d_3[0][0]                   \n",
            "__________________________________________________________________________________________________\n",
            "concatenate_1 (Concatenate)     (None, 3, 1, 32)     0           max_pooling2d_1[0][0]            \n",
            "                                                                 max_pooling2d_2[0][0]            \n",
            "                                                                 max_pooling2d_3[0][0]            \n",
            "__________________________________________________________________________________________________\n",
            "flatten_1 (Flatten)             (None, 96)           0           concatenate_1[0][0]              \n",
            "__________________________________________________________________________________________________\n",
            "dropout_1 (Dropout)             (None, 96)           0           flatten_1[0][0]                  \n",
            "__________________________________________________________________________________________________\n",
            "dense_1 (Dense)                 (None, 3)            291         dropout_1[0][0]                  \n",
            "==================================================================================================\n",
            "Total params: 4,467,087\n",
            "Trainable params: 4,467,087\n",
            "Non-trainable params: 0\n",
            "__________________________________________________________________________________________________\n",
            "Train on 24048 samples, validate on 2672 samples\n",
            "Epoch 1/40\n",
            "24048/24048 [==============================] - 8s 343us/step - loss: 0.8257 - accuracy: 0.7868 - val_loss: 0.6862 - val_accuracy: 0.8196\n",
            "Epoch 2/40\n",
            "24048/24048 [==============================] - 4s 172us/step - loss: 0.6093 - accuracy: 0.8273 - val_loss: 0.5530 - val_accuracy: 0.8204\n",
            "Epoch 3/40\n",
            "24048/24048 [==============================] - 4s 174us/step - loss: 0.5112 - accuracy: 0.8342 - val_loss: 0.4989 - val_accuracy: 0.8275\n",
            "Epoch 4/40\n",
            "24048/24048 [==============================] - 4s 170us/step - loss: 0.4650 - accuracy: 0.8417 - val_loss: 0.4733 - val_accuracy: 0.8316\n",
            "Epoch 5/40\n",
            "24048/24048 [==============================] - 4s 173us/step - loss: 0.4381 - accuracy: 0.8478 - val_loss: 0.4565 - val_accuracy: 0.8353\n",
            "Epoch 6/40\n",
            "24048/24048 [==============================] - 4s 172us/step - loss: 0.4138 - accuracy: 0.8535 - val_loss: 0.4433 - val_accuracy: 0.8409\n",
            "Epoch 7/40\n",
            "24048/24048 [==============================] - 4s 175us/step - loss: 0.3946 - accuracy: 0.8593 - val_loss: 0.4306 - val_accuracy: 0.8473\n",
            "Epoch 8/40\n",
            "24048/24048 [==============================] - 4s 180us/step - loss: 0.3752 - accuracy: 0.8660 - val_loss: 0.4219 - val_accuracy: 0.8503\n",
            "Epoch 9/40\n",
            "24048/24048 [==============================] - 4s 176us/step - loss: 0.3582 - accuracy: 0.8703 - val_loss: 0.4150 - val_accuracy: 0.8522\n",
            "Epoch 10/40\n",
            "24048/24048 [==============================] - 4s 172us/step - loss: 0.3420 - accuracy: 0.8738 - val_loss: 0.4094 - val_accuracy: 0.8540\n",
            "Epoch 11/40\n",
            "24048/24048 [==============================] - 4s 174us/step - loss: 0.3258 - accuracy: 0.8804 - val_loss: 0.4027 - val_accuracy: 0.8570\n",
            "Epoch 12/40\n",
            "24048/24048 [==============================] - 4s 172us/step - loss: 0.3105 - accuracy: 0.8861 - val_loss: 0.3975 - val_accuracy: 0.8585\n",
            "Epoch 13/40\n",
            "24048/24048 [==============================] - 4s 175us/step - loss: 0.2975 - accuracy: 0.8901 - val_loss: 0.3943 - val_accuracy: 0.8585\n",
            "Epoch 14/40\n",
            "24048/24048 [==============================] - 4s 171us/step - loss: 0.2848 - accuracy: 0.8945 - val_loss: 0.3926 - val_accuracy: 0.8593\n",
            "Epoch 15/40\n",
            "24048/24048 [==============================] - 4s 176us/step - loss: 0.2738 - accuracy: 0.8988 - val_loss: 0.3912 - val_accuracy: 0.8615\n",
            "Epoch 16/40\n",
            "24048/24048 [==============================] - 4s 176us/step - loss: 0.2612 - accuracy: 0.9036 - val_loss: 0.3879 - val_accuracy: 0.8634\n",
            "Epoch 17/40\n",
            "24048/24048 [==============================] - 4s 173us/step - loss: 0.2494 - accuracy: 0.9096 - val_loss: 0.3863 - val_accuracy: 0.8623\n",
            "Epoch 18/40\n",
            "24048/24048 [==============================] - 4s 173us/step - loss: 0.2384 - accuracy: 0.9124 - val_loss: 0.3866 - val_accuracy: 0.8623\n",
            "Epoch 19/40\n",
            "24048/24048 [==============================] - 4s 176us/step - loss: 0.2291 - accuracy: 0.9159 - val_loss: 0.3847 - val_accuracy: 0.8619\n",
            "Epoch 20/40\n",
            "24048/24048 [==============================] - 4s 172us/step - loss: 0.2172 - accuracy: 0.9223 - val_loss: 0.3852 - val_accuracy: 0.8619\n",
            "Epoch 21/40\n",
            "24048/24048 [==============================] - 4s 175us/step - loss: 0.2095 - accuracy: 0.9248 - val_loss: 0.3862 - val_accuracy: 0.8623\n",
            "Epoch 22/40\n",
            "24048/24048 [==============================] - 4s 176us/step - loss: 0.2009 - accuracy: 0.9293 - val_loss: 0.3869 - val_accuracy: 0.8626\n",
            "Epoch 23/40\n",
            "24048/24048 [==============================] - 4s 173us/step - loss: 0.1923 - accuracy: 0.9321 - val_loss: 0.3897 - val_accuracy: 0.8626\n",
            "Epoch 24/40\n",
            "24048/24048 [==============================] - 4s 170us/step - loss: 0.1858 - accuracy: 0.9363 - val_loss: 0.3908 - val_accuracy: 0.8623\n",
            "Epoch 25/40\n",
            "24048/24048 [==============================] - 4s 175us/step - loss: 0.1782 - accuracy: 0.9381 - val_loss: 0.3912 - val_accuracy: 0.8612\n",
            "Epoch 26/40\n",
            "24048/24048 [==============================] - 4s 170us/step - loss: 0.1685 - accuracy: 0.9439 - val_loss: 0.3949 - val_accuracy: 0.8615\n",
            "Epoch 27/40\n",
            "24048/24048 [==============================] - 4s 171us/step - loss: 0.1627 - accuracy: 0.9464 - val_loss: 0.3963 - val_accuracy: 0.8608\n",
            "Epoch 28/40\n",
            "24048/24048 [==============================] - 4s 176us/step - loss: 0.1569 - accuracy: 0.9485 - val_loss: 0.3998 - val_accuracy: 0.8608\n",
            "Epoch 29/40\n",
            "24048/24048 [==============================] - 4s 172us/step - loss: 0.1520 - accuracy: 0.9500 - val_loss: 0.4032 - val_accuracy: 0.8612\n",
            "Epoch 30/40\n",
            "24048/24048 [==============================] - 4s 178us/step - loss: 0.1471 - accuracy: 0.9528 - val_loss: 0.4050 - val_accuracy: 0.8604\n",
            "Epoch 31/40\n",
            "24048/24048 [==============================] - 4s 175us/step - loss: 0.1416 - accuracy: 0.9545 - val_loss: 0.4073 - val_accuracy: 0.8612\n",
            "Epoch 32/40\n",
            "24048/24048 [==============================] - 4s 172us/step - loss: 0.1356 - accuracy: 0.9562 - val_loss: 0.4139 - val_accuracy: 0.8619\n",
            "Epoch 33/40\n",
            "24048/24048 [==============================] - 4s 177us/step - loss: 0.1305 - accuracy: 0.9588 - val_loss: 0.4150 - val_accuracy: 0.8604\n",
            "Epoch 34/40\n",
            "24048/24048 [==============================] - 4s 173us/step - loss: 0.1247 - accuracy: 0.9608 - val_loss: 0.4211 - val_accuracy: 0.8615\n",
            "Epoch 35/40\n",
            "24048/24048 [==============================] - 4s 173us/step - loss: 0.1214 - accuracy: 0.9622 - val_loss: 0.4239 - val_accuracy: 0.8649\n",
            "Epoch 36/40\n",
            "24048/24048 [==============================] - 4s 177us/step - loss: 0.1178 - accuracy: 0.9631 - val_loss: 0.4298 - val_accuracy: 0.8630\n",
            "Epoch 37/40\n",
            "24048/24048 [==============================] - 4s 177us/step - loss: 0.1137 - accuracy: 0.9644 - val_loss: 0.4346 - val_accuracy: 0.8641\n",
            "Epoch 38/40\n",
            "24048/24048 [==============================] - 4s 172us/step - loss: 0.1101 - accuracy: 0.9673 - val_loss: 0.4373 - val_accuracy: 0.8626\n",
            "Epoch 39/40\n",
            "24048/24048 [==============================] - 4s 175us/step - loss: 0.1050 - accuracy: 0.9686 - val_loss: 0.4463 - val_accuracy: 0.8626\n",
            "Epoch 40/40\n",
            "24048/24048 [==============================] - 4s 180us/step - loss: 0.1018 - accuracy: 0.9691 - val_loss: 0.4525 - val_accuracy: 0.8612\n"
          ]
        },
        {
          "output_type": "stream",
          "name": "stderr",
          "text": [
            "/usr/local/lib/python3.7/dist-packages/keras/engine/saving.py:165: UserWarning: TensorFlow optimizers do not make it possible to access optimizer attributes or optimizer state after instantiation. As a result, we cannot save the optimizer as part of the model save file.You will have to compile your model again after loading it. Prefer using a Keras optimizer instead (see keras.io/optimizers).\n",
            "  'TensorFlow optimizers do not '\n"
          ]
        },
        {
          "output_type": "stream",
          "name": "stdout",
          "text": [
            "[[5327   61  160]\n",
            " [ 248  111   85]\n",
            " [ 312   39  337]]\n",
            "F1 - micro: 0.8645209580838323\n",
            "F1 - macro: 0.6004469591202467\n",
            "Accuracy: 0.8645209580838323\n"
          ]
        },
        {
          "output_type": "execute_result",
          "data": {
            "text/plain": [
              "<matplotlib.axes._subplots.AxesSubplot at 0x7fa5887595d0>"
            ]
          },
          "metadata": {},
          "execution_count": 30
        },
        {
          "output_type": "display_data",
          "data": {
            "image/png": "[encoded data removed]",
            "text/plain": [
              "<Figure size 432x288 with 2 Axes>"
            ]
          },
          "metadata": {
            "needs_background": "light"
          }
        }
      ],
      "source": [
        "# Text CNN \n",
        "import pandas as pd \n",
        "import numpy as np \n",
        "import re\n",
        "import pickle\n",
        "\n",
        "import seaborn as sn\n",
        "import pandas as pd\n",
        "import matplotlib.pyplot as plt\n",
        "\n",
        "from keras.layers import Input, Dense, Embedding, Conv2D, MaxPool2D\n",
        "from keras.layers import Reshape, Flatten, Dropout, Concatenate\n",
        "from keras.callbacks import ModelCheckpoint\n",
        "from tensorflow.keras.optimizers import Adam\n",
        "from keras.models import Model\n",
        "from tensorflow.keras.utils import to_categorical\n",
        "from keras.preprocessing import text, sequence\n",
        "\n",
        "from sklearn.metrics import f1_score, confusion_matrix, accuracy_score\n",
        "from sklearn.model_selection import train_test_split, StratifiedShuffleSplit\n",
        "train_X = preprocessing(X_train)\n",
        "dev_X = preprocessing(X_dev)\n",
        "test_X = preprocessing(X_test)\n",
        "\n",
        "\n",
        "train_y = y_train\n",
        "dev_y = y_dev\n",
        "test_y =y_test\n",
        "EMBEDDING_FILE = '/content/drive/My Drive/DS202_Project/Train_model/cc.vi.300.vec'\n",
        "MODEL_FILE = 'Text_CNN_model_2.h5'\n",
        "\n",
        "def make_featues(X, y, tokenizer, is_one_hot_label=True):\n",
        "    X = tokenizer.texts_to_sequences(X)\n",
        "    X = sequence.pad_sequences(X, maxlen=sequence_length)\n",
        "    if is_one_hot_label: \n",
        "        y = to_categorical(y, num_classes=3)\n",
        "\n",
        "    return X, y\n",
        "\n",
        "vocabulary_size = 10000\n",
        "sequence_length = 100\n",
        "\n",
        "embedding_dim = 300\n",
        "batch_size = 256\n",
        "epochs = 40\n",
        "drop = 0.5\n",
        "\n",
        "filter_sizes = [2,3,5]\n",
        "num_filters = 32\n",
        "\n",
        "# --------------LOAD WORD EMBEDDING -------------------------\n",
        "embeddings_index = {}\n",
        "with open(EMBEDDING_FILE, encoding='utf8') as f:\n",
        "    for line in f:\n",
        "        values = line.rstrip().rsplit(' ')\n",
        "        word = values[0]\n",
        "        coefs = np.asarray(values[1:], dtype='float32')\n",
        "        embeddings_index[word] = coefs\n",
        "\n",
        "\n",
        "tokenizer = text.Tokenizer(lower=False, filters='!\"#$%&()*+,-./:;<=>?@[\\\\]^`{|}~\\t\\n')\n",
        "tokenizer.fit_on_texts(train_X)\n",
        "with open('tokenizer.pickle', 'wb') as handle:\n",
        "    pickle.dump(tokenizer, handle, protocol=pickle.HIGHEST_PROTOCOL)\n",
        "\n",
        "word_index = tokenizer.word_index\n",
        "# num_words = min(vocabulary_size, len(word_index) + 1)\n",
        "num_words = len(word_index) + 1\n",
        "embedding_matrix = np.zeros((num_words, embedding_dim))\n",
        "\n",
        "for word, i in word_index.items():\n",
        "    if i >= vocabulary_size:\n",
        "        continue\n",
        "\n",
        "    embedding_vector = embeddings_index.get(word)\n",
        "    if embedding_vector is not None:\n",
        "        embedding_matrix[i] = embedding_vector\n",
        "\n",
        "# Make features\n",
        "train_X, train_y = make_featues(train_X, train_y, tokenizer)\n",
        "dev_X, dev_y = make_featues(dev_X, dev_y, tokenizer)\n",
        "test_X, test_y = make_featues(test_X, test_y, tokenizer, is_one_hot_label=False)\n",
        "\n",
        "\n",
        "inputs = Input(shape=(sequence_length,), dtype='int32')\n",
        "embedding = Embedding(input_dim=num_words, output_dim=embedding_dim, input_length=sequence_length, weights=[embedding_matrix])(inputs)\n",
        "reshape = Reshape((sequence_length,embedding_dim,1))(embedding)\n",
        "\n",
        "conv_0 = Conv2D(num_filters, kernel_size=(filter_sizes[0], embedding_dim), padding='valid', kernel_initializer='normal', activation='elu')(reshape)\n",
        "conv_1 = Conv2D(num_filters, kernel_size=(filter_sizes[1], embedding_dim), padding='valid', kernel_initializer='normal', activation='elu')(reshape)\n",
        "conv_2 = Conv2D(num_filters, kernel_size=(filter_sizes[2], embedding_dim), padding='valid', kernel_initializer='normal', activation='elu')(reshape)\n",
        "\n",
        "maxpool_0 = MaxPool2D(pool_size=(sequence_length - filter_sizes[0] + 1, 1), strides=(1,1), padding='valid')(conv_0)\n",
        "maxpool_1 = MaxPool2D(pool_size=(sequence_length - filter_sizes[1] + 1, 1), strides=(1,1), padding='valid')(conv_1)\n",
        "maxpool_2 = MaxPool2D(pool_size=(sequence_length - filter_sizes[2] + 1, 1), strides=(1,1), padding='valid')(conv_2)\n",
        "\n",
        "concatenated_tensor = Concatenate(axis=1)([maxpool_0, maxpool_1, maxpool_2])\n",
        "flatten = Flatten()(concatenated_tensor)\n",
        "dropout = Dropout(drop)(flatten)\n",
        "output = Dense(units=3, activation='softmax')(dropout)\n",
        "\n",
        "# this creates a model that includes\n",
        "model = Model(inputs=inputs, outputs=output)\n",
        "\n",
        "model.summary()\n",
        "\n",
        "checkpoint = ModelCheckpoint('weights.{epoch:03d}-{val_acc:.4f}.hdf5', monitor='val_acc', verbose=1, save_best_only=True, mode='auto')\n",
        "adam = Adam(lr=1e-4, beta_1=0.9, beta_2=0.999, epsilon=1e-08, decay=0.0)\n",
        "\n",
        "model.compile(optimizer=adam, loss='categorical_crossentropy', metrics=['accuracy'])\n",
        "\n",
        "model.fit(train_X, train_y, batch_size=batch_size, epochs=epochs, verbose=1, \n",
        "          validation_data=(dev_X, dev_y))  \n",
        "model.save(MODEL_FILE)\n",
        "\n",
        "prediction = model.predict(test_X, batch_size=batch_size, verbose=0)\n",
        "y_pred = prediction.argmax(axis=-1)\n",
        "\n",
        "cf1 = confusion_matrix(test_y, y_pred)\n",
        "print(cf1)\n",
        "\n",
        "evaluation = f1_score(test_y, y_pred, average='micro')\n",
        "\n",
        "print(\"F1 - micro: \" + str(evaluation))\n",
        "\n",
        "evaluation = f1_score(test_y, y_pred, average='macro')\n",
        "print(\"F1 - macro: \" + str(evaluation))\n",
        "\n",
        "evaluation = accuracy_score(test_y, y_pred)\n",
        "print(\"Accuracy: \" + str(evaluation))\n",
        "\n",
        "df_cm1 = pd.DataFrame(cf1, index = [\"clean\",\"offensive\",\"hate\"],\n",
        "                  columns = [\"clean\",\"offensive\",\"hate\"])\n",
        "plt.clf()\n",
        "sn.heatmap(df_cm1, annot=True, cmap=\"Greys\",fmt='g', cbar=True, annot_kws={\"size\": 30})"
      ]
    },
    {
      "cell_type": "code",
      "source": [
        "# serialize model to JSON\n",
        "model_json = model.to_json()\n",
        "with open(\"model.json\", \"w\") as json_file:\n",
        "    json_file.write(model_json)\n",
        "# serialize weights to HDF5\n",
        "model.save_weights(\"model.h5\")\n",
        "print(\"Saved model to disk\")"
      ],
      "metadata": {
        "colab": {
          "base_uri": "https://localhost:8080/"
        },
        "id": "LEwGLlOnEIcd",
        "outputId": "6d82e820-1171-4b6e-d6f3-54c1a4cdd245"
      },
      "execution_count": null,
      "outputs": [
        {
          "output_type": "stream",
          "name": "stdout",
          "text": [
            "Saved model to disk\n"
          ]
        }
      ]
    },
    {
      "cell_type": "markdown",
      "source": [
        ""
      ],
      "metadata": {
        "id": "sN8tbDEshhH3"
      }
    },
    {
      "cell_type": "markdown",
      "metadata": {
        "id": "WAfPSc0-s64e"
      },
      "source": [
        "#TextCNN + Pretrain W2V Embedding "
      ]
    },
    {
      "cell_type": "code",
      "execution_count": null,
      "metadata": {
        "colab": {
          "base_uri": "https://localhost:8080/"
        },
        "outputId": "b7d9bc3f-7e62-4425-a218-de403f37c35b",
        "id": "JYP-_4q1geQm"
      },
      "outputs": [
        {
          "output_type": "stream",
          "name": "stdout",
          "text": [
            "24048\n",
            "2672\n",
            "6680\n"
          ]
        }
      ],
      "source": [
        "import pandas as pd \n",
        "import numpy as np \n",
        "\n",
        "DATA = '/content/drive/MyDrive/Download(Win11)/vihsd/data/vihsd/vihsd/train.csv'\n",
        "DEV_DATA = '/content/drive/MyDrive/Download(Win11)/vihsd/data/vihsd/vihsd/dev.csv'\n",
        "TEST_DATA = '/content/drive/MyDrive/Download(Win11)/vihsd/data/vihsd/vihsd/test.csv'\n",
        "\n",
        "# read data\n",
        "train_data = pd.read_csv(DATA)\n",
        "dev_data = pd.read_csv(DEV_DATA)\n",
        "test_data = pd.read_csv(TEST_DATA)\n",
        "\n",
        "print(len(train_data))\n",
        "print(len(dev_data))\n",
        "print(len(test_data))\n",
        "\n",
        "X_train = train_data['free_text']\n",
        "y_train = train_data['label_id'].values\n",
        "\n",
        "X_dev = dev_data['free_text']\n",
        "y_dev = dev_data['label_id'].values\n",
        "\n",
        "X_test = test_data['free_text']\n",
        "y_test = test_data['label_id'].values"
      ]
    },
    {
      "cell_type": "code",
      "execution_count": null,
      "metadata": {
        "id": "dXKb3d6Hs64f",
        "colab": {
          "base_uri": "https://localhost:8080/"
        },
        "outputId": "c3c0596b-dce9-4659-8a18-8304b88a5379"
      },
      "outputs": [
        {
          "output_type": "stream",
          "name": "stdout",
          "text": [
            "Requirement already satisfied: pyvi in /usr/local/lib/python3.7/dist-packages (0.1.1)\n",
            "Requirement already satisfied: scikit-learn in /usr/local/lib/python3.7/dist-packages (from pyvi) (1.0.1)\n",
            "Requirement already satisfied: sklearn-crfsuite in /usr/local/lib/python3.7/dist-packages (from pyvi) (0.3.6)\n",
            "Requirement already satisfied: joblib>=0.11 in /usr/local/lib/python3.7/dist-packages (from scikit-learn->pyvi) (1.1.0)\n",
            "Requirement already satisfied: threadpoolctl>=2.0.0 in /usr/local/lib/python3.7/dist-packages (from scikit-learn->pyvi) (3.0.0)\n",
            "Requirement already satisfied: numpy>=1.14.6 in /usr/local/lib/python3.7/dist-packages (from scikit-learn->pyvi) (1.19.5)\n",
            "Requirement already satisfied: scipy>=1.1.0 in /usr/local/lib/python3.7/dist-packages (from scikit-learn->pyvi) (1.4.1)\n",
            "Requirement already satisfied: six in /usr/local/lib/python3.7/dist-packages (from sklearn-crfsuite->pyvi) (1.15.0)\n",
            "Requirement already satisfied: tabulate in /usr/local/lib/python3.7/dist-packages (from sklearn-crfsuite->pyvi) (0.8.9)\n",
            "Requirement already satisfied: tqdm>=2.0 in /usr/local/lib/python3.7/dist-packages (from sklearn-crfsuite->pyvi) (4.62.3)\n",
            "Requirement already satisfied: python-crfsuite>=0.8.3 in /usr/local/lib/python3.7/dist-packages (from sklearn-crfsuite->pyvi) (0.9.7)\n",
            "Requirement already satisfied: tensorflow-gpu==2.1 in /usr/local/lib/python3.7/dist-packages (2.1.0)\n",
            "Requirement already satisfied: tensorflow-estimator<2.2.0,>=2.1.0rc0 in /usr/local/lib/python3.7/dist-packages (from tensorflow-gpu==2.1) (2.1.0)\n",
            "Requirement already satisfied: grpcio>=1.8.6 in /usr/local/lib/python3.7/dist-packages (from tensorflow-gpu==2.1) (1.42.0)\n",
            "Requirement already satisfied: opt-einsum>=2.3.2 in /usr/local/lib/python3.7/dist-packages (from tensorflow-gpu==2.1) (3.3.0)\n",
            "Requirement already satisfied: numpy<2.0,>=1.16.0 in /usr/local/lib/python3.7/dist-packages (from tensorflow-gpu==2.1) (1.19.5)\n",
            "Requirement already satisfied: six>=1.12.0 in /usr/local/lib/python3.7/dist-packages (from tensorflow-gpu==2.1) (1.15.0)\n",
            "Requirement already satisfied: absl-py>=0.7.0 in /usr/local/lib/python3.7/dist-packages (from tensorflow-gpu==2.1) (0.12.0)\n",
            "Requirement already satisfied: scipy==1.4.1 in /usr/local/lib/python3.7/dist-packages (from tensorflow-gpu==2.1) (1.4.1)\n",
            "Requirement already satisfied: astor>=0.6.0 in /usr/local/lib/python3.7/dist-packages (from tensorflow-gpu==2.1) (0.8.1)\n",
            "Requirement already satisfied: keras-applications>=1.0.8 in /usr/local/lib/python3.7/dist-packages (from tensorflow-gpu==2.1) (1.0.8)\n",
            "Requirement already satisfied: termcolor>=1.1.0 in /usr/local/lib/python3.7/dist-packages (from tensorflow-gpu==2.1) (1.1.0)\n",
            "Requirement already satisfied: wrapt>=1.11.1 in /usr/local/lib/python3.7/dist-packages (from tensorflow-gpu==2.1) (1.13.3)\n",
            "Requirement already satisfied: tensorboard<2.2.0,>=2.1.0 in /usr/local/lib/python3.7/dist-packages (from tensorflow-gpu==2.1) (2.1.1)\n",
            "Requirement already satisfied: protobuf>=3.8.0 in /usr/local/lib/python3.7/dist-packages (from tensorflow-gpu==2.1) (3.17.3)\n",
            "Requirement already satisfied: google-pasta>=0.1.6 in /usr/local/lib/python3.7/dist-packages (from tensorflow-gpu==2.1) (0.2.0)\n",
            "Requirement already satisfied: keras-preprocessing>=1.1.0 in /usr/local/lib/python3.7/dist-packages (from tensorflow-gpu==2.1) (1.1.2)\n",
            "Requirement already satisfied: wheel>=0.26 in /usr/local/lib/python3.7/dist-packages (from tensorflow-gpu==2.1) (0.37.0)\n",
            "Requirement already satisfied: gast==0.2.2 in /usr/local/lib/python3.7/dist-packages (from tensorflow-gpu==2.1) (0.2.2)\n",
            "Requirement already satisfied: h5py in /usr/local/lib/python3.7/dist-packages (from keras-applications>=1.0.8->tensorflow-gpu==2.1) (3.1.0)\n",
            "Requirement already satisfied: setuptools>=41.0.0 in /usr/local/lib/python3.7/dist-packages (from tensorboard<2.2.0,>=2.1.0->tensorflow-gpu==2.1) (57.4.0)\n",
            "Requirement already satisfied: requests<3,>=2.21.0 in /usr/local/lib/python3.7/dist-packages (from tensorboard<2.2.0,>=2.1.0->tensorflow-gpu==2.1) (2.23.0)\n",
            "Requirement already satisfied: markdown>=2.6.8 in /usr/local/lib/python3.7/dist-packages (from tensorboard<2.2.0,>=2.1.0->tensorflow-gpu==2.1) (3.3.6)\n",
            "Requirement already satisfied: google-auth<2,>=1.6.3 in /usr/local/lib/python3.7/dist-packages (from tensorboard<2.2.0,>=2.1.0->tensorflow-gpu==2.1) (1.35.0)\n",
            "Requirement already satisfied: werkzeug>=0.11.15 in /usr/local/lib/python3.7/dist-packages (from tensorboard<2.2.0,>=2.1.0->tensorflow-gpu==2.1) (1.0.1)\n",
            "Requirement already satisfied: google-auth-oauthlib<0.5,>=0.4.1 in /usr/local/lib/python3.7/dist-packages (from tensorboard<2.2.0,>=2.1.0->tensorflow-gpu==2.1) (0.4.6)\n",
            "Requirement already satisfied: pyasn1-modules>=0.2.1 in /usr/local/lib/python3.7/dist-packages (from google-auth<2,>=1.6.3->tensorboard<2.2.0,>=2.1.0->tensorflow-gpu==2.1) (0.2.8)\n",
            "Requirement already satisfied: cachetools<5.0,>=2.0.0 in /usr/local/lib/python3.7/dist-packages (from google-auth<2,>=1.6.3->tensorboard<2.2.0,>=2.1.0->tensorflow-gpu==2.1) (4.2.4)\n",
            "Requirement already satisfied: rsa<5,>=3.1.4 in /usr/local/lib/python3.7/dist-packages (from google-auth<2,>=1.6.3->tensorboard<2.2.0,>=2.1.0->tensorflow-gpu==2.1) (4.8)\n",
            "Requirement already satisfied: requests-oauthlib>=0.7.0 in /usr/local/lib/python3.7/dist-packages (from google-auth-oauthlib<0.5,>=0.4.1->tensorboard<2.2.0,>=2.1.0->tensorflow-gpu==2.1) (1.3.0)\n",
            "Requirement already satisfied: importlib-metadata>=4.4 in /usr/local/lib/python3.7/dist-packages (from markdown>=2.6.8->tensorboard<2.2.0,>=2.1.0->tensorflow-gpu==2.1) (4.8.2)\n",
            "Requirement already satisfied: typing-extensions>=3.6.4 in /usr/local/lib/python3.7/dist-packages (from importlib-metadata>=4.4->markdown>=2.6.8->tensorboard<2.2.0,>=2.1.0->tensorflow-gpu==2.1) (3.10.0.2)\n",
            "Requirement already satisfied: zipp>=0.5 in /usr/local/lib/python3.7/dist-packages (from importlib-metadata>=4.4->markdown>=2.6.8->tensorboard<2.2.0,>=2.1.0->tensorflow-gpu==2.1) (3.6.0)\n",
            "Requirement already satisfied: pyasn1<0.5.0,>=0.4.6 in /usr/local/lib/python3.7/dist-packages (from pyasn1-modules>=0.2.1->google-auth<2,>=1.6.3->tensorboard<2.2.0,>=2.1.0->tensorflow-gpu==2.1) (0.4.8)\n",
            "Requirement already satisfied: chardet<4,>=3.0.2 in /usr/local/lib/python3.7/dist-packages (from requests<3,>=2.21.0->tensorboard<2.2.0,>=2.1.0->tensorflow-gpu==2.1) (3.0.4)\n",
            "Requirement already satisfied: idna<3,>=2.5 in /usr/local/lib/python3.7/dist-packages (from requests<3,>=2.21.0->tensorboard<2.2.0,>=2.1.0->tensorflow-gpu==2.1) (2.10)\n",
            "Requirement already satisfied: urllib3!=1.25.0,!=1.25.1,<1.26,>=1.21.1 in /usr/local/lib/python3.7/dist-packages (from requests<3,>=2.21.0->tensorboard<2.2.0,>=2.1.0->tensorflow-gpu==2.1) (1.24.3)\n",
            "Requirement already satisfied: certifi>=2017.4.17 in /usr/local/lib/python3.7/dist-packages (from requests<3,>=2.21.0->tensorboard<2.2.0,>=2.1.0->tensorflow-gpu==2.1) (2021.10.8)\n",
            "Requirement already satisfied: oauthlib>=3.0.0 in /usr/local/lib/python3.7/dist-packages (from requests-oauthlib>=0.7.0->google-auth-oauthlib<0.5,>=0.4.1->tensorboard<2.2.0,>=2.1.0->tensorflow-gpu==2.1) (3.1.1)\n",
            "Requirement already satisfied: cached-property in /usr/local/lib/python3.7/dist-packages (from h5py->keras-applications>=1.0.8->tensorflow-gpu==2.1) (1.5.2)\n",
            "Requirement already satisfied: keras==2.3.1 in /usr/local/lib/python3.7/dist-packages (2.3.1)\n",
            "Requirement already satisfied: six>=1.9.0 in /usr/local/lib/python3.7/dist-packages (from keras==2.3.1) (1.15.0)\n",
            "Requirement already satisfied: pyyaml in /usr/local/lib/python3.7/dist-packages (from keras==2.3.1) (3.13)\n",
            "Requirement already satisfied: h5py in /usr/local/lib/python3.7/dist-packages (from keras==2.3.1) (3.1.0)\n",
            "Requirement already satisfied: numpy>=1.9.1 in /usr/local/lib/python3.7/dist-packages (from keras==2.3.1) (1.19.5)\n",
            "Requirement already satisfied: keras-preprocessing>=1.0.5 in /usr/local/lib/python3.7/dist-packages (from keras==2.3.1) (1.1.2)\n",
            "Requirement already satisfied: scipy>=0.14 in /usr/local/lib/python3.7/dist-packages (from keras==2.3.1) (1.4.1)\n",
            "Requirement already satisfied: keras-applications>=1.0.6 in /usr/local/lib/python3.7/dist-packages (from keras==2.3.1) (1.0.8)\n",
            "Requirement already satisfied: cached-property in /usr/local/lib/python3.7/dist-packages (from h5py->keras==2.3.1) (1.5.2)\n"
          ]
        }
      ],
      "source": [
        "!pip install pyvi\n",
        "!pip install tensorflow-gpu==2.1\n",
        "!pip install keras==2.3.1\n"
      ]
    },
    {
      "cell_type": "code",
      "execution_count": null,
      "metadata": {
        "id": "pf_ogwC1s64f"
      },
      "outputs": [],
      "source": [
        "import pandas as pd \n",
        "import numpy as np \n",
        "\n",
        "from pyvi.ViTokenizer import ViTokenizer\n",
        "\n"
      ]
    },
    {
      "cell_type": "code",
      "execution_count": null,
      "metadata": {
        "id": "oK1EjkPxs64f",
        "colab": {
          "base_uri": "https://localhost:8080/",
          "height": 1000
        },
        "outputId": "1bbeba10-4a8a-482c-f495-db93d6fc811f"
      },
      "outputs": [
        {
          "output_type": "stream",
          "name": "stderr",
          "text": [
            "/usr/local/lib/python3.7/dist-packages/ipykernel_launcher.py:6: SettingWithCopyWarning: \n",
            "A value is trying to be set on a copy of a slice from a DataFrame\n",
            "\n",
            "See the caveats in the documentation: https://pandas.pydata.org/pandas-docs/stable/user_guide/indexing.html#returning-a-view-versus-a-copy\n",
            "  \n",
            "/usr/local/lib/python3.7/dist-packages/ipykernel_launcher.py:8: SettingWithCopyWarning: \n",
            "A value is trying to be set on a copy of a slice from a DataFrame\n",
            "\n",
            "See the caveats in the documentation: https://pandas.pydata.org/pandas-docs/stable/user_guide/indexing.html#returning-a-view-versus-a-copy\n",
            "  \n"
          ]
        },
        {
          "output_type": "stream",
          "name": "stdout",
          "text": [
            "Model: \"model_2\"\n",
            "__________________________________________________________________________________________________\n",
            "Layer (type)                    Output Shape         Param #     Connected to                     \n",
            "==================================================================================================\n",
            "input_2 (InputLayer)            (None, 100)          0                                            \n",
            "__________________________________________________________________________________________________\n",
            "embedding_2 (Embedding)         (None, 100, 300)     4370700     input_2[0][0]                    \n",
            "__________________________________________________________________________________________________\n",
            "reshape_2 (Reshape)             (None, 100, 300, 1)  0           embedding_2[0][0]                \n",
            "__________________________________________________________________________________________________\n",
            "conv2d_4 (Conv2D)               (None, 99, 1, 32)    19232       reshape_2[0][0]                  \n",
            "__________________________________________________________________________________________________\n",
            "conv2d_5 (Conv2D)               (None, 98, 1, 32)    28832       reshape_2[0][0]                  \n",
            "__________________________________________________________________________________________________\n",
            "conv2d_6 (Conv2D)               (None, 96, 1, 32)    48032       reshape_2[0][0]                  \n",
            "__________________________________________________________________________________________________\n",
            "max_pooling2d_4 (MaxPooling2D)  (None, 1, 1, 32)     0           conv2d_4[0][0]                   \n",
            "__________________________________________________________________________________________________\n",
            "max_pooling2d_5 (MaxPooling2D)  (None, 1, 1, 32)     0           conv2d_5[0][0]                   \n",
            "__________________________________________________________________________________________________\n",
            "max_pooling2d_6 (MaxPooling2D)  (None, 1, 1, 32)     0           conv2d_6[0][0]                   \n",
            "__________________________________________________________________________________________________\n",
            "concatenate_2 (Concatenate)     (None, 3, 1, 32)     0           max_pooling2d_4[0][0]            \n",
            "                                                                 max_pooling2d_5[0][0]            \n",
            "                                                                 max_pooling2d_6[0][0]            \n",
            "__________________________________________________________________________________________________\n",
            "flatten_2 (Flatten)             (None, 96)           0           concatenate_2[0][0]              \n",
            "__________________________________________________________________________________________________\n",
            "dropout_2 (Dropout)             (None, 96)           0           flatten_2[0][0]                  \n",
            "__________________________________________________________________________________________________\n",
            "dense_2 (Dense)                 (None, 3)            291         dropout_2[0][0]                  \n",
            "==================================================================================================\n",
            "Total params: 4,467,087\n",
            "Trainable params: 4,467,087\n",
            "Non-trainable params: 0\n",
            "__________________________________________________________________________________________________\n",
            "Train on 24048 samples, validate on 2672 samples\n",
            "Epoch 1/40\n",
            "24048/24048 [==============================] - 4s 180us/step - loss: 0.9135 - accuracy: 0.7193 - val_loss: 0.6975 - val_accuracy: 0.8196\n",
            "Epoch 2/40\n",
            "24048/24048 [==============================] - 4s 167us/step - loss: 0.5961 - accuracy: 0.8269 - val_loss: 0.5503 - val_accuracy: 0.8196\n",
            "Epoch 3/40\n",
            "24048/24048 [==============================] - 4s 166us/step - loss: 0.5148 - accuracy: 0.8274 - val_loss: 0.5197 - val_accuracy: 0.8196\n",
            "Epoch 4/40\n",
            "24048/24048 [==============================] - 4s 165us/step - loss: 0.4776 - accuracy: 0.8323 - val_loss: 0.4908 - val_accuracy: 0.8249\n",
            "Epoch 5/40\n",
            "24048/24048 [==============================] - 4s 165us/step - loss: 0.4406 - accuracy: 0.8433 - val_loss: 0.4644 - val_accuracy: 0.8312\n",
            "Epoch 6/40\n",
            "24048/24048 [==============================] - 4s 166us/step - loss: 0.4050 - accuracy: 0.8555 - val_loss: 0.4408 - val_accuracy: 0.8376\n",
            "Epoch 7/40\n",
            "24048/24048 [==============================] - 4s 167us/step - loss: 0.3727 - accuracy: 0.8657 - val_loss: 0.4233 - val_accuracy: 0.8417\n",
            "Epoch 8/40\n",
            "24048/24048 [==============================] - 4s 169us/step - loss: 0.3452 - accuracy: 0.8726 - val_loss: 0.4101 - val_accuracy: 0.8458\n",
            "Epoch 9/40\n",
            "24048/24048 [==============================] - 4s 165us/step - loss: 0.3191 - accuracy: 0.8823 - val_loss: 0.4003 - val_accuracy: 0.8518\n",
            "Epoch 10/40\n",
            "24048/24048 [==============================] - 4s 166us/step - loss: 0.2985 - accuracy: 0.8899 - val_loss: 0.3931 - val_accuracy: 0.8555\n",
            "Epoch 11/40\n",
            "24048/24048 [==============================] - 4s 166us/step - loss: 0.2797 - accuracy: 0.8964 - val_loss: 0.3888 - val_accuracy: 0.8585\n",
            "Epoch 12/40\n",
            "24048/24048 [==============================] - 4s 167us/step - loss: 0.2605 - accuracy: 0.9045 - val_loss: 0.3857 - val_accuracy: 0.8589\n",
            "Epoch 13/40\n",
            "24048/24048 [==============================] - 4s 167us/step - loss: 0.2463 - accuracy: 0.9094 - val_loss: 0.3835 - val_accuracy: 0.8578\n",
            "Epoch 14/40\n",
            "24048/24048 [==============================] - 4s 168us/step - loss: 0.2310 - accuracy: 0.9161 - val_loss: 0.3844 - val_accuracy: 0.8600\n",
            "Epoch 15/40\n",
            "24048/24048 [==============================] - 4s 167us/step - loss: 0.2194 - accuracy: 0.9213 - val_loss: 0.3845 - val_accuracy: 0.8593\n",
            "Epoch 16/40\n",
            "24048/24048 [==============================] - 4s 169us/step - loss: 0.2077 - accuracy: 0.9273 - val_loss: 0.3873 - val_accuracy: 0.8597\n",
            "Epoch 17/40\n",
            "24048/24048 [==============================] - 4s 168us/step - loss: 0.1972 - accuracy: 0.9326 - val_loss: 0.3878 - val_accuracy: 0.8630\n",
            "Epoch 18/40\n",
            "24048/24048 [==============================] - 4s 167us/step - loss: 0.1880 - accuracy: 0.9361 - val_loss: 0.3916 - val_accuracy: 0.8634\n",
            "Epoch 19/40\n",
            "24048/24048 [==============================] - 4s 167us/step - loss: 0.1782 - accuracy: 0.9405 - val_loss: 0.3961 - val_accuracy: 0.8626\n",
            "Epoch 20/40\n",
            "24048/24048 [==============================] - 4s 167us/step - loss: 0.1710 - accuracy: 0.9427 - val_loss: 0.4011 - val_accuracy: 0.8630\n",
            "Epoch 21/40\n",
            "24048/24048 [==============================] - 4s 169us/step - loss: 0.1625 - accuracy: 0.9456 - val_loss: 0.4049 - val_accuracy: 0.8623\n",
            "Epoch 22/40\n",
            "24048/24048 [==============================] - 4s 169us/step - loss: 0.1550 - accuracy: 0.9486 - val_loss: 0.4084 - val_accuracy: 0.8604\n",
            "Epoch 23/40\n",
            "24048/24048 [==============================] - 4s 169us/step - loss: 0.1484 - accuracy: 0.9518 - val_loss: 0.4162 - val_accuracy: 0.8615\n",
            "Epoch 24/40\n",
            "24048/24048 [==============================] - 4s 167us/step - loss: 0.1412 - accuracy: 0.9543 - val_loss: 0.4212 - val_accuracy: 0.8608\n",
            "Epoch 25/40\n",
            "24048/24048 [==============================] - 4s 167us/step - loss: 0.1360 - accuracy: 0.9570 - val_loss: 0.4259 - val_accuracy: 0.8600\n",
            "Epoch 26/40\n",
            "24048/24048 [==============================] - 4s 167us/step - loss: 0.1299 - accuracy: 0.9578 - val_loss: 0.4311 - val_accuracy: 0.8604\n",
            "Epoch 27/40\n",
            "24048/24048 [==============================] - 4s 168us/step - loss: 0.1244 - accuracy: 0.9618 - val_loss: 0.4375 - val_accuracy: 0.8600\n",
            "Epoch 28/40\n",
            "24048/24048 [==============================] - 4s 166us/step - loss: 0.1184 - accuracy: 0.9626 - val_loss: 0.4452 - val_accuracy: 0.8593\n",
            "Epoch 29/40\n",
            "24048/24048 [==============================] - 4s 166us/step - loss: 0.1143 - accuracy: 0.9649 - val_loss: 0.4495 - val_accuracy: 0.8578\n",
            "Epoch 30/40\n",
            "24048/24048 [==============================] - 4s 166us/step - loss: 0.1097 - accuracy: 0.9664 - val_loss: 0.4582 - val_accuracy: 0.8548\n",
            "Epoch 31/40\n",
            "24048/24048 [==============================] - 4s 167us/step - loss: 0.1063 - accuracy: 0.9671 - val_loss: 0.4645 - val_accuracy: 0.8555\n",
            "Epoch 32/40\n",
            "24048/24048 [==============================] - 4s 168us/step - loss: 0.1016 - accuracy: 0.9686 - val_loss: 0.4698 - val_accuracy: 0.8540\n",
            "Epoch 33/40\n",
            "24048/24048 [==============================] - 4s 167us/step - loss: 0.0972 - accuracy: 0.9698 - val_loss: 0.4789 - val_accuracy: 0.8540\n",
            "Epoch 34/40\n",
            "24048/24048 [==============================] - 4s 168us/step - loss: 0.0944 - accuracy: 0.9707 - val_loss: 0.4847 - val_accuracy: 0.8518\n",
            "Epoch 35/40\n",
            "24048/24048 [==============================] - 4s 165us/step - loss: 0.0905 - accuracy: 0.9717 - val_loss: 0.4939 - val_accuracy: 0.8533\n",
            "Epoch 36/40\n",
            "24048/24048 [==============================] - 4s 166us/step - loss: 0.0884 - accuracy: 0.9733 - val_loss: 0.5000 - val_accuracy: 0.8525\n",
            "Epoch 37/40\n",
            "24048/24048 [==============================] - 4s 169us/step - loss: 0.0850 - accuracy: 0.9733 - val_loss: 0.5092 - val_accuracy: 0.8522\n",
            "Epoch 38/40\n",
            "24048/24048 [==============================] - 4s 167us/step - loss: 0.0816 - accuracy: 0.9747 - val_loss: 0.5143 - val_accuracy: 0.8507\n",
            "Epoch 39/40\n",
            "24048/24048 [==============================] - 4s 168us/step - loss: 0.0795 - accuracy: 0.9749 - val_loss: 0.5217 - val_accuracy: 0.8499\n",
            "Epoch 40/40\n",
            "24048/24048 [==============================] - 4s 167us/step - loss: 0.0770 - accuracy: 0.9763 - val_loss: 0.5311 - val_accuracy: 0.8507\n"
          ]
        },
        {
          "output_type": "stream",
          "name": "stderr",
          "text": [
            "/usr/local/lib/python3.7/dist-packages/keras/engine/saving.py:165: UserWarning: TensorFlow optimizers do not make it possible to access optimizer attributes or optimizer state after instantiation. As a result, we cannot save the optimizer as part of the model save file.You will have to compile your model again after loading it. Prefer using a Keras optimizer instead (see keras.io/optimizers).\n",
            "  'TensorFlow optimizers do not '\n"
          ]
        },
        {
          "output_type": "stream",
          "name": "stdout",
          "text": [
            "[[5280   87  181]\n",
            " [ 234  122   88]\n",
            " [ 302   58  328]]\n",
            "F1 - micro: 0.8577844311377246\n",
            "F1 - macro: 0.5943115740756874\n",
            "Accuracy: 0.8577844311377245\n"
          ]
        },
        {
          "output_type": "execute_result",
          "data": {
            "text/plain": [
              "<matplotlib.axes._subplots.AxesSubplot at 0x7fcf8b50a510>"
            ]
          },
          "metadata": {},
          "execution_count": 58
        },
        {
          "output_type": "display_data",
          "data": {
            "image/png": "[encoded data removed]",
            "text/plain": [
              "<Figure size 432x288 with 2 Axes>"
            ]
          },
          "metadata": {
            "needs_background": "light"
          }
        }
      ],
      "source": [
        "# Text CNN \n",
        "import pandas as pd \n",
        "import numpy as np \n",
        "import re\n",
        "import pickle\n",
        "\n",
        "import seaborn as sn\n",
        "import pandas as pd\n",
        "import matplotlib.pyplot as plt\n",
        "\n",
        "from keras.layers import Input, Dense, Embedding, Conv2D, MaxPool2D\n",
        "from keras.layers import Reshape, Flatten, Dropout, Concatenate\n",
        "from keras.callbacks import ModelCheckpoint\n",
        "from tensorflow.keras.optimizers import Adam\n",
        "from keras.models import Model\n",
        "from tensorflow.keras.utils import to_categorical\n",
        "from keras.preprocessing import text, sequence\n",
        "\n",
        "from sklearn.metrics import f1_score, confusion_matrix, accuracy_score\n",
        "from sklearn.model_selection import train_test_split, StratifiedShuffleSplit\n",
        "\n",
        "train_X = preprocessing(X_train)\n",
        "dev_X = preprocessing(X_dev)\n",
        "test_X = preprocessing(X_test)\n",
        "\n",
        "train_y = y_train\n",
        "dev_y = y_dev\n",
        "test_y =y_test\n",
        "EMBEDDING_FILE = '/content/drive/MyDrive/Download(Win11)/W2V_ner.vec/W2V_ner.vec'\n",
        "MODEL_FILE = 'Text_CNN_model_3.h5'\n",
        "\n",
        "def make_featues(X, y, tokenizer, is_one_hot_label=True):\n",
        "    X = tokenizer.texts_to_sequences(X)\n",
        "    X = sequence.pad_sequences(X, maxlen=sequence_length)\n",
        "    if is_one_hot_label: \n",
        "        y = to_categorical(y, num_classes=3)\n",
        "\n",
        "    return X, y\n",
        "\n",
        "vocabulary_size = 10000\n",
        "sequence_length = 100\n",
        "\n",
        "embedding_dim = 300\n",
        "batch_size = 256\n",
        "epochs = 40\n",
        "drop = 0.5\n",
        "\n",
        "filter_sizes = [2,3,5]\n",
        "num_filters = 32\n",
        "\n",
        "# --------------LOAD WORD EMBEDDING -------------------------\n",
        "embeddings_index = {}\n",
        "with open(EMBEDDING_FILE, encoding='utf8') as f:\n",
        "    for line in f:\n",
        "        values = line.rstrip().rsplit(' ')\n",
        "        word = values[0]\n",
        "        coefs = np.asarray(values[1:], dtype='float32')\n",
        "        embeddings_index[word] = coefs\n",
        "\n",
        "\n",
        "tokenizer = text.Tokenizer(lower=False, filters='!\"#$%&()*+,-./:;<=>?@[\\\\]^`{|}~\\t\\n')\n",
        "tokenizer.fit_on_texts(train_X)\n",
        "with open('tokenizer.pickle', 'wb') as handle:\n",
        "    pickle.dump(tokenizer, handle, protocol=pickle.HIGHEST_PROTOCOL)\n",
        "\n",
        "word_index = tokenizer.word_index\n",
        "# num_words = min(vocabulary_size, len(word_index) + 1)\n",
        "num_words = len(word_index) + 1\n",
        "embedding_matrix = np.zeros((num_words, embedding_dim))\n",
        "\n",
        "for word, i in word_index.items():\n",
        "    if i >= vocabulary_size:\n",
        "        continue\n",
        "\n",
        "    embedding_vector = embeddings_index.get(word)\n",
        "    if embedding_vector is not None:\n",
        "        embedding_matrix[i] = embedding_vector\n",
        "\n",
        "# Make features\n",
        "train_X, train_y = make_featues(train_X, train_y, tokenizer)\n",
        "dev_X, dev_y = make_featues(dev_X, dev_y, tokenizer)\n",
        "test_X, test_y = make_featues(test_X, test_y, tokenizer, is_one_hot_label=False)\n",
        "\n",
        "\n",
        "inputs = Input(shape=(sequence_length,), dtype='int32')\n",
        "embedding = Embedding(input_dim=num_words, output_dim=embedding_dim, input_length=sequence_length, weights=[embedding_matrix])(inputs)\n",
        "reshape = Reshape((sequence_length,embedding_dim,1))(embedding)\n",
        "\n",
        "conv_0 = Conv2D(num_filters, kernel_size=(filter_sizes[0], embedding_dim), padding='valid', kernel_initializer='normal', activation='elu')(reshape)\n",
        "conv_1 = Conv2D(num_filters, kernel_size=(filter_sizes[1], embedding_dim), padding='valid', kernel_initializer='normal', activation='elu')(reshape)\n",
        "conv_2 = Conv2D(num_filters, kernel_size=(filter_sizes[2], embedding_dim), padding='valid', kernel_initializer='normal', activation='elu')(reshape)\n",
        "\n",
        "maxpool_0 = MaxPool2D(pool_size=(sequence_length - filter_sizes[0] + 1, 1), strides=(1,1), padding='valid')(conv_0)\n",
        "maxpool_1 = MaxPool2D(pool_size=(sequence_length - filter_sizes[1] + 1, 1), strides=(1,1), padding='valid')(conv_1)\n",
        "maxpool_2 = MaxPool2D(pool_size=(sequence_length - filter_sizes[2] + 1, 1), strides=(1,1), padding='valid')(conv_2)\n",
        "\n",
        "concatenated_tensor = Concatenate(axis=1)([maxpool_0, maxpool_1, maxpool_2])\n",
        "flatten = Flatten()(concatenated_tensor)\n",
        "dropout = Dropout(drop)(flatten)\n",
        "output = Dense(units=3, activation='softmax')(dropout)\n",
        "\n",
        "# this creates a model that includes\n",
        "model = Model(inputs=inputs, outputs=output)\n",
        "\n",
        "model.summary()\n",
        "\n",
        "checkpoint = ModelCheckpoint('weights.{epoch:03d}-{val_acc:.4f}.hdf5', monitor='val_acc', verbose=1, save_best_only=True, mode='auto')\n",
        "adam = Adam(lr=1e-4, beta_1=0.9, beta_2=0.999, epsilon=1e-08, decay=0.0)\n",
        "\n",
        "model.compile(optimizer=adam, loss='categorical_crossentropy', metrics=['accuracy'])\n",
        "\n",
        "model.fit(train_X, train_y, batch_size=batch_size, epochs=epochs, verbose=1, \n",
        "          validation_data=(dev_X, dev_y))  \n",
        "model.save(MODEL_FILE)\n",
        "\n",
        "prediction = model.predict(test_X, batch_size=batch_size, verbose=0)\n",
        "y_pred = prediction.argmax(axis=-1)\n",
        "\n",
        "cf1 = confusion_matrix(test_y, y_pred)\n",
        "print(cf1)\n",
        "\n",
        "evaluation = f1_score(test_y, y_pred, average='micro')\n",
        "\n",
        "print(\"F1 - micro: \" + str(evaluation))\n",
        "\n",
        "evaluation = f1_score(test_y, y_pred, average='macro')\n",
        "print(\"F1 - macro: \" + str(evaluation))\n",
        "\n",
        "evaluation = accuracy_score(test_y, y_pred)\n",
        "print(\"Accuracy: \" + str(evaluation))\n",
        "\n",
        "df_cm1 = pd.DataFrame(cf1, index = [\"clean\",\"offensive\",\"hate\"],\n",
        "                  columns = [\"clean\",\"offensive\",\"hate\"])\n",
        "plt.clf()\n",
        "sn.heatmap(df_cm1, annot=True, cmap=\"Greys\",fmt='g', cbar=True, annot_kws={\"size\": 30})"
      ]
    },
    {
      "cell_type": "markdown",
      "source": [
        ""
      ],
      "metadata": {
        "id": "viS7KJuwhmD1"
      }
    },
    {
      "cell_type": "markdown",
      "metadata": {
        "id": "gSTkvXScOSS9"
      },
      "source": [
        "#TextCNN + Pretrain PhoW2V Embedding "
      ]
    },
    {
      "cell_type": "code",
      "execution_count": null,
      "metadata": {
        "colab": {
          "base_uri": "https://localhost:8080/"
        },
        "outputId": "b7d9bc3f-7e62-4425-a218-de403f37c35b",
        "id": "NpaC0JYRgf1X"
      },
      "outputs": [
        {
          "output_type": "stream",
          "name": "stdout",
          "text": [
            "24048\n",
            "2672\n",
            "6680\n"
          ]
        }
      ],
      "source": [
        "import pandas as pd \n",
        "import numpy as np \n",
        "\n",
        "DATA = '/content/drive/MyDrive/Download(Win11)/vihsd/data/vihsd/vihsd/train.csv'\n",
        "DEV_DATA = '/content/drive/MyDrive/Download(Win11)/vihsd/data/vihsd/vihsd/dev.csv'\n",
        "TEST_DATA = '/content/drive/MyDrive/Download(Win11)/vihsd/data/vihsd/vihsd/test.csv'\n",
        "\n",
        "# read data\n",
        "train_data = pd.read_csv(DATA)\n",
        "dev_data = pd.read_csv(DEV_DATA)\n",
        "test_data = pd.read_csv(TEST_DATA)\n",
        "\n",
        "print(len(train_data))\n",
        "print(len(dev_data))\n",
        "print(len(test_data))\n",
        "\n",
        "X_train = train_data['free_text']\n",
        "y_train = train_data['label_id'].values\n",
        "\n",
        "X_dev = dev_data['free_text']\n",
        "y_dev = dev_data['label_id'].values\n",
        "\n",
        "X_test = test_data['free_text']\n",
        "y_test = test_data['label_id'].values"
      ]
    },
    {
      "cell_type": "code",
      "source": [
        "!wget https://public.vinai.io/word2vec_vi_words_300dims.zip\n",
        "!unzip word2vec_vi_words_300dims.zip"
      ],
      "metadata": {
        "colab": {
          "base_uri": "https://localhost:8080/"
        },
        "id": "WP9pvFuuOa4F",
        "outputId": "ba31e1ec-2d85-44dc-d775-b0e71b2491e8"
      },
      "execution_count": null,
      "outputs": [
        {
          "output_type": "stream",
          "name": "stdout",
          "text": [
            "--2021-12-16 04:21:50--  https://public.vinai.io/word2vec_vi_words_300dims.zip\n",
            "Resolving public.vinai.io (public.vinai.io)... 65.8.49.95, 65.8.49.47, 65.8.49.107, ...\n",
            "Connecting to public.vinai.io (public.vinai.io)|65.8.49.95|:443... connected.\n",
            "HTTP request sent, awaiting response... 200 OK\n",
            "Length: 2315583928 (2.2G) [application/zip]\n",
            "Saving to: ‘word2vec_vi_words_300dims.zip’\n",
            "\n",
            "word2vec_vi_words_3 100%[===================>]   2.16G  25.0MB/s    in 97s     \n",
            "\n",
            "2021-12-16 04:23:28 (22.8 MB/s) - ‘word2vec_vi_words_300dims.zip’ saved [2315583928/2315583928]\n",
            "\n",
            "Archive:  word2vec_vi_words_300dims.zip\n",
            "  inflating: word2vec_vi_words_300dims.txt  \n"
          ]
        }
      ]
    },
    {
      "cell_type": "code",
      "execution_count": null,
      "metadata": {
        "colab": {
          "base_uri": "https://localhost:8080/"
        },
        "outputId": "5efedf46-2b13-4847-d9c2-76764a0b9b89",
        "id": "rtbey6hbOSS-"
      },
      "outputs": [
        {
          "output_type": "stream",
          "name": "stdout",
          "text": [
            "Requirement already satisfied: pyvi in /usr/local/lib/python3.7/dist-packages (0.1.1)\n",
            "Requirement already satisfied: sklearn-crfsuite in /usr/local/lib/python3.7/dist-packages (from pyvi) (0.3.6)\n",
            "Requirement already satisfied: scikit-learn in /usr/local/lib/python3.7/dist-packages (from pyvi) (1.0.1)\n",
            "Requirement already satisfied: threadpoolctl>=2.0.0 in /usr/local/lib/python3.7/dist-packages (from scikit-learn->pyvi) (3.0.0)\n",
            "Requirement already satisfied: numpy>=1.14.6 in /usr/local/lib/python3.7/dist-packages (from scikit-learn->pyvi) (1.19.5)\n",
            "Requirement already satisfied: scipy>=1.1.0 in /usr/local/lib/python3.7/dist-packages (from scikit-learn->pyvi) (1.4.1)\n",
            "Requirement already satisfied: joblib>=0.11 in /usr/local/lib/python3.7/dist-packages (from scikit-learn->pyvi) (1.1.0)\n",
            "Requirement already satisfied: six in /usr/local/lib/python3.7/dist-packages (from sklearn-crfsuite->pyvi) (1.15.0)\n",
            "Requirement already satisfied: tqdm>=2.0 in /usr/local/lib/python3.7/dist-packages (from sklearn-crfsuite->pyvi) (4.62.3)\n",
            "Requirement already satisfied: python-crfsuite>=0.8.3 in /usr/local/lib/python3.7/dist-packages (from sklearn-crfsuite->pyvi) (0.9.7)\n",
            "Requirement already satisfied: tabulate in /usr/local/lib/python3.7/dist-packages (from sklearn-crfsuite->pyvi) (0.8.9)\n",
            "Requirement already satisfied: tensorflow-gpu==2.1 in /usr/local/lib/python3.7/dist-packages (2.1.0)\n",
            "Requirement already satisfied: scipy==1.4.1 in /usr/local/lib/python3.7/dist-packages (from tensorflow-gpu==2.1) (1.4.1)\n",
            "Requirement already satisfied: wheel>=0.26 in /usr/local/lib/python3.7/dist-packages (from tensorflow-gpu==2.1) (0.37.0)\n",
            "Requirement already satisfied: gast==0.2.2 in /usr/local/lib/python3.7/dist-packages (from tensorflow-gpu==2.1) (0.2.2)\n",
            "Requirement already satisfied: tensorflow-estimator<2.2.0,>=2.1.0rc0 in /usr/local/lib/python3.7/dist-packages (from tensorflow-gpu==2.1) (2.1.0)\n",
            "Requirement already satisfied: grpcio>=1.8.6 in /usr/local/lib/python3.7/dist-packages (from tensorflow-gpu==2.1) (1.42.0)\n",
            "Requirement already satisfied: tensorboard<2.2.0,>=2.1.0 in /usr/local/lib/python3.7/dist-packages (from tensorflow-gpu==2.1) (2.1.1)\n",
            "Requirement already satisfied: keras-applications>=1.0.8 in /usr/local/lib/python3.7/dist-packages (from tensorflow-gpu==2.1) (1.0.8)\n",
            "Requirement already satisfied: wrapt>=1.11.1 in /usr/local/lib/python3.7/dist-packages (from tensorflow-gpu==2.1) (1.13.3)\n",
            "Requirement already satisfied: six>=1.12.0 in /usr/local/lib/python3.7/dist-packages (from tensorflow-gpu==2.1) (1.15.0)\n",
            "Requirement already satisfied: numpy<2.0,>=1.16.0 in /usr/local/lib/python3.7/dist-packages (from tensorflow-gpu==2.1) (1.19.5)\n",
            "Requirement already satisfied: absl-py>=0.7.0 in /usr/local/lib/python3.7/dist-packages (from tensorflow-gpu==2.1) (0.12.0)\n",
            "Requirement already satisfied: protobuf>=3.8.0 in /usr/local/lib/python3.7/dist-packages (from tensorflow-gpu==2.1) (3.17.3)\n",
            "Requirement already satisfied: termcolor>=1.1.0 in /usr/local/lib/python3.7/dist-packages (from tensorflow-gpu==2.1) (1.1.0)\n",
            "Requirement already satisfied: keras-preprocessing>=1.1.0 in /usr/local/lib/python3.7/dist-packages (from tensorflow-gpu==2.1) (1.1.2)\n",
            "Requirement already satisfied: google-pasta>=0.1.6 in /usr/local/lib/python3.7/dist-packages (from tensorflow-gpu==2.1) (0.2.0)\n",
            "Requirement already satisfied: opt-einsum>=2.3.2 in /usr/local/lib/python3.7/dist-packages (from tensorflow-gpu==2.1) (3.3.0)\n",
            "Requirement already satisfied: astor>=0.6.0 in /usr/local/lib/python3.7/dist-packages (from tensorflow-gpu==2.1) (0.8.1)\n",
            "Requirement already satisfied: h5py in /usr/local/lib/python3.7/dist-packages (from keras-applications>=1.0.8->tensorflow-gpu==2.1) (3.1.0)\n",
            "Requirement already satisfied: werkzeug>=0.11.15 in /usr/local/lib/python3.7/dist-packages (from tensorboard<2.2.0,>=2.1.0->tensorflow-gpu==2.1) (1.0.1)\n",
            "Requirement already satisfied: google-auth-oauthlib<0.5,>=0.4.1 in /usr/local/lib/python3.7/dist-packages (from tensorboard<2.2.0,>=2.1.0->tensorflow-gpu==2.1) (0.4.6)\n",
            "Requirement already satisfied: markdown>=2.6.8 in /usr/local/lib/python3.7/dist-packages (from tensorboard<2.2.0,>=2.1.0->tensorflow-gpu==2.1) (3.3.6)\n",
            "Requirement already satisfied: requests<3,>=2.21.0 in /usr/local/lib/python3.7/dist-packages (from tensorboard<2.2.0,>=2.1.0->tensorflow-gpu==2.1) (2.23.0)\n",
            "Requirement already satisfied: setuptools>=41.0.0 in /usr/local/lib/python3.7/dist-packages (from tensorboard<2.2.0,>=2.1.0->tensorflow-gpu==2.1) (57.4.0)\n",
            "Requirement already satisfied: google-auth<2,>=1.6.3 in /usr/local/lib/python3.7/dist-packages (from tensorboard<2.2.0,>=2.1.0->tensorflow-gpu==2.1) (1.35.0)\n",
            "Requirement already satisfied: pyasn1-modules>=0.2.1 in /usr/local/lib/python3.7/dist-packages (from google-auth<2,>=1.6.3->tensorboard<2.2.0,>=2.1.0->tensorflow-gpu==2.1) (0.2.8)\n",
            "Requirement already satisfied: rsa<5,>=3.1.4 in /usr/local/lib/python3.7/dist-packages (from google-auth<2,>=1.6.3->tensorboard<2.2.0,>=2.1.0->tensorflow-gpu==2.1) (4.8)\n",
            "Requirement already satisfied: cachetools<5.0,>=2.0.0 in /usr/local/lib/python3.7/dist-packages (from google-auth<2,>=1.6.3->tensorboard<2.2.0,>=2.1.0->tensorflow-gpu==2.1) (4.2.4)\n",
            "Requirement already satisfied: requests-oauthlib>=0.7.0 in /usr/local/lib/python3.7/dist-packages (from google-auth-oauthlib<0.5,>=0.4.1->tensorboard<2.2.0,>=2.1.0->tensorflow-gpu==2.1) (1.3.0)\n",
            "Requirement already satisfied: importlib-metadata>=4.4 in /usr/local/lib/python3.7/dist-packages (from markdown>=2.6.8->tensorboard<2.2.0,>=2.1.0->tensorflow-gpu==2.1) (4.8.2)\n",
            "Requirement already satisfied: typing-extensions>=3.6.4 in /usr/local/lib/python3.7/dist-packages (from importlib-metadata>=4.4->markdown>=2.6.8->tensorboard<2.2.0,>=2.1.0->tensorflow-gpu==2.1) (3.10.0.2)\n",
            "Requirement already satisfied: zipp>=0.5 in /usr/local/lib/python3.7/dist-packages (from importlib-metadata>=4.4->markdown>=2.6.8->tensorboard<2.2.0,>=2.1.0->tensorflow-gpu==2.1) (3.6.0)\n",
            "Requirement already satisfied: pyasn1<0.5.0,>=0.4.6 in /usr/local/lib/python3.7/dist-packages (from pyasn1-modules>=0.2.1->google-auth<2,>=1.6.3->tensorboard<2.2.0,>=2.1.0->tensorflow-gpu==2.1) (0.4.8)\n",
            "Requirement already satisfied: urllib3!=1.25.0,!=1.25.1,<1.26,>=1.21.1 in /usr/local/lib/python3.7/dist-packages (from requests<3,>=2.21.0->tensorboard<2.2.0,>=2.1.0->tensorflow-gpu==2.1) (1.24.3)\n",
            "Requirement already satisfied: chardet<4,>=3.0.2 in /usr/local/lib/python3.7/dist-packages (from requests<3,>=2.21.0->tensorboard<2.2.0,>=2.1.0->tensorflow-gpu==2.1) (3.0.4)\n",
            "Requirement already satisfied: idna<3,>=2.5 in /usr/local/lib/python3.7/dist-packages (from requests<3,>=2.21.0->tensorboard<2.2.0,>=2.1.0->tensorflow-gpu==2.1) (2.10)\n",
            "Requirement already satisfied: certifi>=2017.4.17 in /usr/local/lib/python3.7/dist-packages (from requests<3,>=2.21.0->tensorboard<2.2.0,>=2.1.0->tensorflow-gpu==2.1) (2021.10.8)\n",
            "Requirement already satisfied: oauthlib>=3.0.0 in /usr/local/lib/python3.7/dist-packages (from requests-oauthlib>=0.7.0->google-auth-oauthlib<0.5,>=0.4.1->tensorboard<2.2.0,>=2.1.0->tensorflow-gpu==2.1) (3.1.1)\n",
            "Requirement already satisfied: cached-property in /usr/local/lib/python3.7/dist-packages (from h5py->keras-applications>=1.0.8->tensorflow-gpu==2.1) (1.5.2)\n",
            "Requirement already satisfied: keras==2.3.1 in /usr/local/lib/python3.7/dist-packages (2.3.1)\n",
            "Requirement already satisfied: numpy>=1.9.1 in /usr/local/lib/python3.7/dist-packages (from keras==2.3.1) (1.19.5)\n",
            "Requirement already satisfied: h5py in /usr/local/lib/python3.7/dist-packages (from keras==2.3.1) (3.1.0)\n",
            "Requirement already satisfied: scipy>=0.14 in /usr/local/lib/python3.7/dist-packages (from keras==2.3.1) (1.4.1)\n",
            "Requirement already satisfied: keras-applications>=1.0.6 in /usr/local/lib/python3.7/dist-packages (from keras==2.3.1) (1.0.8)\n",
            "Requirement already satisfied: six>=1.9.0 in /usr/local/lib/python3.7/dist-packages (from keras==2.3.1) (1.15.0)\n",
            "Requirement already satisfied: keras-preprocessing>=1.0.5 in /usr/local/lib/python3.7/dist-packages (from keras==2.3.1) (1.1.2)\n",
            "Requirement already satisfied: pyyaml in /usr/local/lib/python3.7/dist-packages (from keras==2.3.1) (3.13)\n",
            "Requirement already satisfied: cached-property in /usr/local/lib/python3.7/dist-packages (from h5py->keras==2.3.1) (1.5.2)\n"
          ]
        }
      ],
      "source": [
        "!pip install pyvi\n",
        "!pip install tensorflow-gpu==2.1\n",
        "!pip install keras==2.3.1\n"
      ]
    },
    {
      "cell_type": "code",
      "execution_count": null,
      "metadata": {
        "id": "YSvdGvcWOSS-"
      },
      "outputs": [],
      "source": [
        "import pandas as pd \n",
        "import numpy as np \n",
        "\n",
        "from pyvi.ViTokenizer import ViTokenizer\n",
        "\n"
      ]
    },
    {
      "cell_type": "code",
      "execution_count": null,
      "metadata": {
        "colab": {
          "base_uri": "https://localhost:8080/",
          "height": 1000
        },
        "outputId": "dc7a2f44-3e30-4bb4-99f6-d8d89c7d5bdd",
        "id": "NaKe4FfsOSS-"
      },
      "outputs": [
        {
          "output_type": "stream",
          "name": "stderr",
          "text": [
            "/usr/local/lib/python3.7/dist-packages/ipykernel_launcher.py:6: SettingWithCopyWarning: \n",
            "A value is trying to be set on a copy of a slice from a DataFrame\n",
            "\n",
            "See the caveats in the documentation: https://pandas.pydata.org/pandas-docs/stable/user_guide/indexing.html#returning-a-view-versus-a-copy\n",
            "  \n",
            "/usr/local/lib/python3.7/dist-packages/ipykernel_launcher.py:8: SettingWithCopyWarning: \n",
            "A value is trying to be set on a copy of a slice from a DataFrame\n",
            "\n",
            "See the caveats in the documentation: https://pandas.pydata.org/pandas-docs/stable/user_guide/indexing.html#returning-a-view-versus-a-copy\n",
            "  \n"
          ]
        },
        {
          "output_type": "stream",
          "name": "stdout",
          "text": [
            "Model: \"model_1\"\n",
            "__________________________________________________________________________________________________\n",
            "Layer (type)                    Output Shape         Param #     Connected to                     \n",
            "==================================================================================================\n",
            "input_1 (InputLayer)            (None, 100)          0                                            \n",
            "__________________________________________________________________________________________________\n",
            "embedding_1 (Embedding)         (None, 100, 300)     4370700     input_1[0][0]                    \n",
            "__________________________________________________________________________________________________\n",
            "reshape_1 (Reshape)             (None, 100, 300, 1)  0           embedding_1[0][0]                \n",
            "__________________________________________________________________________________________________\n",
            "conv2d_1 (Conv2D)               (None, 99, 1, 32)    19232       reshape_1[0][0]                  \n",
            "__________________________________________________________________________________________________\n",
            "conv2d_2 (Conv2D)               (None, 98, 1, 32)    28832       reshape_1[0][0]                  \n",
            "__________________________________________________________________________________________________\n",
            "conv2d_3 (Conv2D)               (None, 96, 1, 32)    48032       reshape_1[0][0]                  \n",
            "__________________________________________________________________________________________________\n",
            "max_pooling2d_1 (MaxPooling2D)  (None, 1, 1, 32)     0           conv2d_1[0][0]                   \n",
            "__________________________________________________________________________________________________\n",
            "max_pooling2d_2 (MaxPooling2D)  (None, 1, 1, 32)     0           conv2d_2[0][0]                   \n",
            "__________________________________________________________________________________________________\n",
            "max_pooling2d_3 (MaxPooling2D)  (None, 1, 1, 32)     0           conv2d_3[0][0]                   \n",
            "__________________________________________________________________________________________________\n",
            "concatenate_1 (Concatenate)     (None, 3, 1, 32)     0           max_pooling2d_1[0][0]            \n",
            "                                                                 max_pooling2d_2[0][0]            \n",
            "                                                                 max_pooling2d_3[0][0]            \n",
            "__________________________________________________________________________________________________\n",
            "flatten_1 (Flatten)             (None, 96)           0           concatenate_1[0][0]              \n",
            "__________________________________________________________________________________________________\n",
            "dropout_1 (Dropout)             (None, 96)           0           flatten_1[0][0]                  \n",
            "__________________________________________________________________________________________________\n",
            "dense_1 (Dense)                 (None, 3)            291         dropout_1[0][0]                  \n",
            "==================================================================================================\n",
            "Total params: 4,467,087\n",
            "Trainable params: 4,467,087\n",
            "Non-trainable params: 0\n",
            "__________________________________________________________________________________________________\n",
            "Train on 24048 samples, validate on 2672 samples\n",
            "Epoch 1/40\n",
            "24048/24048 [==============================] - 10s 408us/step - loss: 0.8546 - accuracy: 0.7628 - val_loss: 0.6656 - val_accuracy: 0.8196\n",
            "Epoch 2/40\n",
            "24048/24048 [==============================] - 5s 226us/step - loss: 0.5914 - accuracy: 0.8270 - val_loss: 0.5626 - val_accuracy: 0.8196\n",
            "Epoch 3/40\n",
            "24048/24048 [==============================] - 5s 228us/step - loss: 0.5205 - accuracy: 0.8275 - val_loss: 0.5206 - val_accuracy: 0.8196\n",
            "Epoch 4/40\n",
            "24048/24048 [==============================] - 5s 227us/step - loss: 0.4772 - accuracy: 0.8339 - val_loss: 0.4873 - val_accuracy: 0.8275\n",
            "Epoch 5/40\n",
            "24048/24048 [==============================] - 6s 234us/step - loss: 0.4380 - accuracy: 0.8451 - val_loss: 0.4599 - val_accuracy: 0.8320\n",
            "Epoch 6/40\n",
            "24048/24048 [==============================] - 5s 225us/step - loss: 0.4041 - accuracy: 0.8555 - val_loss: 0.4381 - val_accuracy: 0.8406\n",
            "Epoch 7/40\n",
            "24048/24048 [==============================] - 5s 228us/step - loss: 0.3734 - accuracy: 0.8638 - val_loss: 0.4222 - val_accuracy: 0.8432\n",
            "Epoch 8/40\n",
            "24048/24048 [==============================] - 6s 231us/step - loss: 0.3465 - accuracy: 0.8728 - val_loss: 0.4102 - val_accuracy: 0.8466\n",
            "Epoch 9/40\n",
            "24048/24048 [==============================] - 6s 230us/step - loss: 0.3270 - accuracy: 0.8791 - val_loss: 0.4004 - val_accuracy: 0.8507\n",
            "Epoch 10/40\n",
            "24048/24048 [==============================] - 6s 230us/step - loss: 0.3054 - accuracy: 0.8874 - val_loss: 0.3945 - val_accuracy: 0.8544\n",
            "Epoch 11/40\n",
            "24048/24048 [==============================] - 6s 230us/step - loss: 0.2883 - accuracy: 0.8937 - val_loss: 0.3910 - val_accuracy: 0.8559\n",
            "Epoch 12/40\n",
            "24048/24048 [==============================] - 5s 226us/step - loss: 0.2708 - accuracy: 0.9002 - val_loss: 0.3882 - val_accuracy: 0.8585\n",
            "Epoch 13/40\n",
            "24048/24048 [==============================] - 5s 227us/step - loss: 0.2589 - accuracy: 0.9028 - val_loss: 0.3866 - val_accuracy: 0.8593\n",
            "Epoch 14/40\n",
            "24048/24048 [==============================] - 5s 228us/step - loss: 0.2443 - accuracy: 0.9118 - val_loss: 0.3851 - val_accuracy: 0.8585\n",
            "Epoch 15/40\n",
            "24048/24048 [==============================] - 5s 228us/step - loss: 0.2312 - accuracy: 0.9145 - val_loss: 0.3845 - val_accuracy: 0.8619\n",
            "Epoch 16/40\n",
            "24048/24048 [==============================] - 5s 225us/step - loss: 0.2206 - accuracy: 0.9190 - val_loss: 0.3850 - val_accuracy: 0.8619\n",
            "Epoch 17/40\n",
            "24048/24048 [==============================] - 5s 226us/step - loss: 0.2098 - accuracy: 0.9236 - val_loss: 0.3862 - val_accuracy: 0.8615\n",
            "Epoch 18/40\n",
            "24048/24048 [==============================] - 5s 227us/step - loss: 0.1993 - accuracy: 0.9284 - val_loss: 0.3887 - val_accuracy: 0.8619\n",
            "Epoch 19/40\n",
            "24048/24048 [==============================] - 5s 227us/step - loss: 0.1900 - accuracy: 0.9333 - val_loss: 0.3930 - val_accuracy: 0.8634\n",
            "Epoch 20/40\n",
            "24048/24048 [==============================] - 6s 229us/step - loss: 0.1826 - accuracy: 0.9363 - val_loss: 0.3937 - val_accuracy: 0.8645\n",
            "Epoch 21/40\n",
            "24048/24048 [==============================] - 5s 227us/step - loss: 0.1740 - accuracy: 0.9398 - val_loss: 0.3969 - val_accuracy: 0.8660\n",
            "Epoch 22/40\n",
            "24048/24048 [==============================] - 5s 227us/step - loss: 0.1661 - accuracy: 0.9436 - val_loss: 0.3999 - val_accuracy: 0.8653\n",
            "Epoch 23/40\n",
            "24048/24048 [==============================] - 6s 230us/step - loss: 0.1588 - accuracy: 0.9464 - val_loss: 0.4030 - val_accuracy: 0.8653\n",
            "Epoch 24/40\n",
            "24048/24048 [==============================] - 5s 227us/step - loss: 0.1512 - accuracy: 0.9490 - val_loss: 0.4099 - val_accuracy: 0.8653\n",
            "Epoch 25/40\n",
            "24048/24048 [==============================] - 6s 232us/step - loss: 0.1461 - accuracy: 0.9521 - val_loss: 0.4108 - val_accuracy: 0.8664\n",
            "Epoch 26/40\n",
            "24048/24048 [==============================] - 5s 228us/step - loss: 0.1390 - accuracy: 0.9545 - val_loss: 0.4211 - val_accuracy: 0.8645\n",
            "Epoch 27/40\n",
            "24048/24048 [==============================] - 6s 233us/step - loss: 0.1346 - accuracy: 0.9561 - val_loss: 0.4236 - val_accuracy: 0.8630\n",
            "Epoch 28/40\n",
            "24048/24048 [==============================] - 5s 227us/step - loss: 0.1276 - accuracy: 0.9593 - val_loss: 0.4273 - val_accuracy: 0.8634\n",
            "Epoch 29/40\n",
            "24048/24048 [==============================] - 6s 233us/step - loss: 0.1219 - accuracy: 0.9600 - val_loss: 0.4341 - val_accuracy: 0.8626\n",
            "Epoch 30/40\n",
            "24048/24048 [==============================] - 6s 230us/step - loss: 0.1169 - accuracy: 0.9637 - val_loss: 0.4403 - val_accuracy: 0.8645\n",
            "Epoch 31/40\n",
            "24048/24048 [==============================] - 5s 229us/step - loss: 0.1139 - accuracy: 0.9636 - val_loss: 0.4458 - val_accuracy: 0.8634\n",
            "Epoch 32/40\n",
            "24048/24048 [==============================] - 6s 234us/step - loss: 0.1088 - accuracy: 0.9674 - val_loss: 0.4513 - val_accuracy: 0.8623\n",
            "Epoch 33/40\n",
            "24048/24048 [==============================] - 5s 227us/step - loss: 0.1039 - accuracy: 0.9681 - val_loss: 0.4590 - val_accuracy: 0.8626\n",
            "Epoch 34/40\n",
            "24048/24048 [==============================] - 6s 229us/step - loss: 0.1003 - accuracy: 0.9693 - val_loss: 0.4651 - val_accuracy: 0.8615\n",
            "Epoch 35/40\n",
            "24048/24048 [==============================] - 6s 238us/step - loss: 0.0958 - accuracy: 0.9705 - val_loss: 0.4728 - val_accuracy: 0.8619\n",
            "Epoch 36/40\n",
            "24048/24048 [==============================] - 6s 249us/step - loss: 0.0924 - accuracy: 0.9727 - val_loss: 0.4828 - val_accuracy: 0.8600\n",
            "Epoch 37/40\n",
            "24048/24048 [==============================] - 6s 251us/step - loss: 0.0911 - accuracy: 0.9717 - val_loss: 0.4844 - val_accuracy: 0.8582\n",
            "Epoch 38/40\n",
            "24048/24048 [==============================] - 6s 236us/step - loss: 0.0875 - accuracy: 0.9738 - val_loss: 0.4957 - val_accuracy: 0.8582\n",
            "Epoch 39/40\n",
            "24048/24048 [==============================] - 6s 240us/step - loss: 0.0828 - accuracy: 0.9757 - val_loss: 0.4999 - val_accuracy: 0.8582\n",
            "Epoch 40/40\n",
            "24048/24048 [==============================] - 6s 234us/step - loss: 0.0814 - accuracy: 0.9755 - val_loss: 0.5061 - val_accuracy: 0.8555\n"
          ]
        },
        {
          "output_type": "stream",
          "name": "stderr",
          "text": [
            "/usr/local/lib/python3.7/dist-packages/keras/engine/saving.py:165: UserWarning: TensorFlow optimizers do not make it possible to access optimizer attributes or optimizer state after instantiation. As a result, we cannot save the optimizer as part of the model save file.You will have to compile your model again after loading it. Prefer using a Keras optimizer instead (see keras.io/optimizers).\n",
            "  'TensorFlow optimizers do not '\n"
          ]
        },
        {
          "output_type": "stream",
          "name": "stdout",
          "text": [
            "[[5282   95  171]\n",
            " [ 230  128   86]\n",
            " [ 296   54  338]]\n",
            "F1 - micro: 0.8604790419161676\n",
            "F1 - macro: 0.604069882477699\n",
            "Accuracy: 0.8604790419161676\n"
          ]
        },
        {
          "output_type": "execute_result",
          "data": {
            "text/plain": [
              "<matplotlib.axes._subplots.AxesSubplot at 0x7fd6cd1f6710>"
            ]
          },
          "metadata": {},
          "execution_count": 29
        },
        {
          "output_type": "display_data",
          "data": {
            "image/png": "[encoded data removed]",
            "text/plain": [
              "<Figure size 432x288 with 2 Axes>"
            ]
          },
          "metadata": {
            "needs_background": "light"
          }
        }
      ],
      "source": [
        "# Text CNN \n",
        "import pandas as pd \n",
        "import numpy as np \n",
        "import re\n",
        "import pickle\n",
        "\n",
        "import seaborn as sn\n",
        "import pandas as pd\n",
        "import matplotlib.pyplot as plt\n",
        "\n",
        "from keras.layers import Input, Dense, Embedding, Conv2D, MaxPool2D\n",
        "from keras.layers import Reshape, Flatten, Dropout, Concatenate\n",
        "from keras.callbacks import ModelCheckpoint\n",
        "from tensorflow.keras.optimizers import Adam\n",
        "from keras.models import Model\n",
        "from tensorflow.keras.utils import to_categorical\n",
        "from keras.preprocessing import text, sequence\n",
        "\n",
        "from sklearn.metrics import f1_score, confusion_matrix, accuracy_score\n",
        "from sklearn.model_selection import train_test_split, StratifiedShuffleSplit\n",
        "\n",
        "train_X = preprocessing(X_train)\n",
        "dev_X = preprocessing(X_dev)\n",
        "test_X = preprocessing(X_test)\n",
        "\n",
        "train_y = y_train\n",
        "dev_y = y_dev\n",
        "test_y =y_test\n",
        "EMBEDDING_FILE = '/content/word2vec_vi_words_300dims.txt'\n",
        "MODEL_FILE = 'Text_CNN_model_4.h5'\n",
        "\n",
        "def make_featues(X, y, tokenizer, is_one_hot_label=True):\n",
        "    X = tokenizer.texts_to_sequences(X)\n",
        "    X = sequence.pad_sequences(X, maxlen=sequence_length)\n",
        "    if is_one_hot_label: \n",
        "        y = to_categorical(y, num_classes=3)\n",
        "\n",
        "    return X, y\n",
        "\n",
        "vocabulary_size = 10000\n",
        "sequence_length = 100\n",
        "\n",
        "embedding_dim = 300\n",
        "batch_size = 256\n",
        "epochs = 40\n",
        "drop = 0.5\n",
        "\n",
        "filter_sizes = [2,3,5]\n",
        "num_filters = 32\n",
        "\n",
        "# --------------LOAD WORD EMBEDDING -------------------------\n",
        "embeddings_index = {}\n",
        "with open(EMBEDDING_FILE, encoding='utf8') as f:\n",
        "    for line in f:\n",
        "        values = line.rstrip().rsplit(' ')\n",
        "        word = values[0]\n",
        "        coefs = np.asarray(values[1:], dtype='float32')\n",
        "        embeddings_index[word] = coefs\n",
        "\n",
        "\n",
        "tokenizer = text.Tokenizer(lower=False, filters='!\"#$%&()*+,-./:;<=>?@[\\\\]^`{|}~\\t\\n')\n",
        "tokenizer.fit_on_texts(train_X)\n",
        "with open('tokenizer.pickle', 'wb') as handle:\n",
        "    pickle.dump(tokenizer, handle, protocol=pickle.HIGHEST_PROTOCOL)\n",
        "\n",
        "word_index = tokenizer.word_index\n",
        "# num_words = min(vocabulary_size, len(word_index) + 1)\n",
        "num_words = len(word_index) + 1\n",
        "embedding_matrix = np.zeros((num_words, embedding_dim))\n",
        "\n",
        "for word, i in word_index.items():\n",
        "    if i >= vocabulary_size:\n",
        "        continue\n",
        "\n",
        "    embedding_vector = embeddings_index.get(word)\n",
        "    if embedding_vector is not None:\n",
        "        embedding_matrix[i] = embedding_vector\n",
        "\n",
        "# Make features\n",
        "train_X, train_y = make_featues(train_X, train_y, tokenizer)\n",
        "dev_X, dev_y = make_featues(dev_X, dev_y, tokenizer)\n",
        "test_X, test_y = make_featues(test_X, test_y, tokenizer, is_one_hot_label=False)\n",
        "\n",
        "\n",
        "inputs = Input(shape=(sequence_length,), dtype='int32')\n",
        "embedding = Embedding(input_dim=num_words, output_dim=embedding_dim, input_length=sequence_length, weights=[embedding_matrix])(inputs)\n",
        "reshape = Reshape((sequence_length,embedding_dim,1))(embedding)\n",
        "\n",
        "conv_0 = Conv2D(num_filters, kernel_size=(filter_sizes[0], embedding_dim), padding='valid', kernel_initializer='normal', activation='elu')(reshape)\n",
        "conv_1 = Conv2D(num_filters, kernel_size=(filter_sizes[1], embedding_dim), padding='valid', kernel_initializer='normal', activation='elu')(reshape)\n",
        "conv_2 = Conv2D(num_filters, kernel_size=(filter_sizes[2], embedding_dim), padding='valid', kernel_initializer='normal', activation='elu')(reshape)\n",
        "\n",
        "maxpool_0 = MaxPool2D(pool_size=(sequence_length - filter_sizes[0] + 1, 1), strides=(1,1), padding='valid')(conv_0)\n",
        "maxpool_1 = MaxPool2D(pool_size=(sequence_length - filter_sizes[1] + 1, 1), strides=(1,1), padding='valid')(conv_1)\n",
        "maxpool_2 = MaxPool2D(pool_size=(sequence_length - filter_sizes[2] + 1, 1), strides=(1,1), padding='valid')(conv_2)\n",
        "\n",
        "concatenated_tensor = Concatenate(axis=1)([maxpool_0, maxpool_1, maxpool_2])\n",
        "flatten = Flatten()(concatenated_tensor)\n",
        "dropout = Dropout(drop)(flatten)\n",
        "output = Dense(units=3, activation='softmax')(dropout)\n",
        "\n",
        "# this creates a model that includes\n",
        "model = Model(inputs=inputs, outputs=output)\n",
        "\n",
        "model.summary()\n",
        "\n",
        "checkpoint = ModelCheckpoint('weights.{epoch:03d}-{val_acc:.4f}.hdf5', monitor='val_acc', verbose=1, save_best_only=True, mode='auto')\n",
        "adam = Adam(lr=1e-4, beta_1=0.9, beta_2=0.999, epsilon=1e-08, decay=0.0)\n",
        "\n",
        "model.compile(optimizer=adam, loss='categorical_crossentropy', metrics=['accuracy'])\n",
        "\n",
        "model.fit(train_X, train_y, batch_size=batch_size, epochs=epochs, verbose=1, \n",
        "          validation_data=(dev_X, dev_y))  \n",
        "model.save(MODEL_FILE)\n",
        "\n",
        "prediction = model.predict(test_X, batch_size=batch_size, verbose=0)\n",
        "y_pred = prediction.argmax(axis=-1)\n",
        "\n",
        "cf1 = confusion_matrix(test_y, y_pred)\n",
        "print(cf1)\n",
        "\n",
        "evaluation = f1_score(test_y, y_pred, average='micro')\n",
        "\n",
        "print(\"F1 - micro: \" + str(evaluation))\n",
        "\n",
        "evaluation = f1_score(test_y, y_pred, average='macro')\n",
        "print(\"F1 - macro: \" + str(evaluation))\n",
        "\n",
        "evaluation = accuracy_score(test_y, y_pred)\n",
        "print(\"Accuracy: \" + str(evaluation))\n",
        "\n",
        "df_cm1 = pd.DataFrame(cf1, index = [\"clean\",\"offensive\",\"hate\"],\n",
        "                  columns = [\"clean\",\"offensive\",\"hate\"])\n",
        "plt.clf()\n",
        "sn.heatmap(df_cm1, annot=True, cmap=\"Greys\",fmt='g', cbar=True, annot_kws={\"size\": 30})"
      ]
    },
    {
      "cell_type": "markdown",
      "source": [
        "#**Mô hình BERT Pre-train**"
      ],
      "metadata": {
        "id": "Vl1aCq11hyA3"
      }
    },
    {
      "cell_type": "markdown",
      "metadata": {
        "id": "8YGYUHs7c8JK"
      },
      "source": [
        "##Library"
      ]
    },
    {
      "cell_type": "code",
      "metadata": {
        "id": "uIHHoXmOkKvn",
        "colab": {
          "base_uri": "https://localhost:8080/"
        },
        "outputId": "0a993623-1949-426c-b4c2-437add30e44a"
      },
      "source": [
        "from google.colab import drive\n",
        "drive.mount('/content/drive')"
      ],
      "execution_count": null,
      "outputs": [
        {
          "output_type": "stream",
          "name": "stdout",
          "text": [
            "Mounted at /content/drive\n"
          ]
        }
      ]
    },
    {
      "cell_type": "code",
      "metadata": {
        "id": "0kK-Qk5AOg2A",
        "colab": {
          "base_uri": "https://localhost:8080/"
        },
        "outputId": "337f5fc6-fc9a-4132-d706-f23b595dfcd3"
      },
      "source": [
        "pip install transformers==4.3.0"
      ],
      "execution_count": null,
      "outputs": [
        {
          "output_type": "stream",
          "name": "stdout",
          "text": [
            "Collecting transformers==4.3.0\n",
            "  Downloading transformers-4.3.0-py3-none-any.whl (1.8 MB)\n",
            "\u001b[K     |████████████████████████████████| 1.8 MB 5.4 MB/s \n",
            "\u001b[?25hCollecting sacremoses\n",
            "  Downloading sacremoses-0.0.46-py3-none-any.whl (895 kB)\n",
            "\u001b[K     |████████████████████████████████| 895 kB 42.6 MB/s \n",
            "\u001b[?25hRequirement already satisfied: importlib-metadata in /usr/local/lib/python3.7/dist-packages (from transformers==4.3.0) (4.8.2)\n",
            "Requirement already satisfied: filelock in /usr/local/lib/python3.7/dist-packages (from transformers==4.3.0) (3.4.0)\n",
            "Requirement already satisfied: regex!=2019.12.17 in /usr/local/lib/python3.7/dist-packages (from transformers==4.3.0) (2019.12.20)\n",
            "Requirement already satisfied: tqdm>=4.27 in /usr/local/lib/python3.7/dist-packages (from transformers==4.3.0) (4.62.3)\n",
            "Collecting tokenizers<0.11,>=0.10.1\n",
            "  Downloading tokenizers-0.10.3-cp37-cp37m-manylinux_2_5_x86_64.manylinux1_x86_64.manylinux_2_12_x86_64.manylinux2010_x86_64.whl (3.3 MB)\n",
            "\u001b[K     |████████████████████████████████| 3.3 MB 28.2 MB/s \n",
            "\u001b[?25hRequirement already satisfied: requests in /usr/local/lib/python3.7/dist-packages (from transformers==4.3.0) (2.23.0)\n",
            "Requirement already satisfied: packaging in /usr/local/lib/python3.7/dist-packages (from transformers==4.3.0) (21.3)\n",
            "Requirement already satisfied: numpy>=1.17 in /usr/local/lib/python3.7/dist-packages (from transformers==4.3.0) (1.19.5)\n",
            "Requirement already satisfied: zipp>=0.5 in /usr/local/lib/python3.7/dist-packages (from importlib-metadata->transformers==4.3.0) (3.6.0)\n",
            "Requirement already satisfied: typing-extensions>=3.6.4 in /usr/local/lib/python3.7/dist-packages (from importlib-metadata->transformers==4.3.0) (3.10.0.2)\n",
            "Requirement already satisfied: pyparsing!=3.0.5,>=2.0.2 in /usr/local/lib/python3.7/dist-packages (from packaging->transformers==4.3.0) (3.0.6)\n",
            "Requirement already satisfied: idna<3,>=2.5 in /usr/local/lib/python3.7/dist-packages (from requests->transformers==4.3.0) (2.10)\n",
            "Requirement already satisfied: urllib3!=1.25.0,!=1.25.1,<1.26,>=1.21.1 in /usr/local/lib/python3.7/dist-packages (from requests->transformers==4.3.0) (1.24.3)\n",
            "Requirement already satisfied: certifi>=2017.4.17 in /usr/local/lib/python3.7/dist-packages (from requests->transformers==4.3.0) (2021.10.8)\n",
            "Requirement already satisfied: chardet<4,>=3.0.2 in /usr/local/lib/python3.7/dist-packages (from requests->transformers==4.3.0) (3.0.4)\n",
            "Requirement already satisfied: joblib in /usr/local/lib/python3.7/dist-packages (from sacremoses->transformers==4.3.0) (1.1.0)\n",
            "Requirement already satisfied: six in /usr/local/lib/python3.7/dist-packages (from sacremoses->transformers==4.3.0) (1.15.0)\n",
            "Requirement already satisfied: click in /usr/local/lib/python3.7/dist-packages (from sacremoses->transformers==4.3.0) (7.1.2)\n",
            "Installing collected packages: tokenizers, sacremoses, transformers\n",
            "Successfully installed sacremoses-0.0.46 tokenizers-0.10.3 transformers-4.3.0\n"
          ]
        }
      ]
    },
    {
      "cell_type": "code",
      "source": [
        "pip install pyvi"
      ],
      "metadata": {
        "colab": {
          "base_uri": "https://localhost:8080/"
        },
        "id": "WRPf7VAbGaLY",
        "outputId": "1df9653c-f54b-4263-dd20-243cbdd8ed54"
      },
      "execution_count": null,
      "outputs": [
        {
          "output_type": "stream",
          "name": "stdout",
          "text": [
            "Collecting pyvi\n",
            "  Downloading pyvi-0.1.1-py2.py3-none-any.whl (8.5 MB)\n",
            "\u001b[K     |████████████████████████████████| 8.5 MB 5.7 MB/s \n",
            "\u001b[?25hCollecting sklearn-crfsuite\n",
            "  Downloading sklearn_crfsuite-0.3.6-py2.py3-none-any.whl (12 kB)\n",
            "Requirement already satisfied: scikit-learn in /usr/local/lib/python3.7/dist-packages (from pyvi) (1.0.1)\n",
            "Requirement already satisfied: scipy>=1.1.0 in /usr/local/lib/python3.7/dist-packages (from scikit-learn->pyvi) (1.4.1)\n",
            "Requirement already satisfied: joblib>=0.11 in /usr/local/lib/python3.7/dist-packages (from scikit-learn->pyvi) (1.1.0)\n",
            "Requirement already satisfied: threadpoolctl>=2.0.0 in /usr/local/lib/python3.7/dist-packages (from scikit-learn->pyvi) (3.0.0)\n",
            "Requirement already satisfied: numpy>=1.14.6 in /usr/local/lib/python3.7/dist-packages (from scikit-learn->pyvi) (1.19.5)\n",
            "Requirement already satisfied: tabulate in /usr/local/lib/python3.7/dist-packages (from sklearn-crfsuite->pyvi) (0.8.9)\n",
            "Requirement already satisfied: tqdm>=2.0 in /usr/local/lib/python3.7/dist-packages (from sklearn-crfsuite->pyvi) (4.62.3)\n",
            "Collecting python-crfsuite>=0.8.3\n",
            "  Downloading python_crfsuite-0.9.7-cp37-cp37m-manylinux1_x86_64.whl (743 kB)\n",
            "\u001b[K     |████████████████████████████████| 743 kB 40.2 MB/s \n",
            "\u001b[?25hRequirement already satisfied: six in /usr/local/lib/python3.7/dist-packages (from sklearn-crfsuite->pyvi) (1.15.0)\n",
            "Installing collected packages: python-crfsuite, sklearn-crfsuite, pyvi\n",
            "Successfully installed python-crfsuite-0.9.7 pyvi-0.1.1 sklearn-crfsuite-0.3.6\n"
          ]
        }
      ]
    },
    {
      "cell_type": "code",
      "metadata": {
        "id": "pIA54XX8QlQ8",
        "colab": {
          "base_uri": "https://localhost:8080/"
        },
        "outputId": "bb4cbecd-5509-429f-faa1-96156a7af59a"
      },
      "source": [
        "pip install vncorenlp"
      ],
      "execution_count": null,
      "outputs": [
        {
          "output_type": "stream",
          "name": "stdout",
          "text": [
            "Collecting vncorenlp\n",
            "  Downloading vncorenlp-1.0.3.tar.gz (2.6 MB)\n",
            "\u001b[K     |████████████████████████████████| 2.6 MB 5.4 MB/s \n",
            "\u001b[?25hRequirement already satisfied: requests in /usr/local/lib/python3.7/dist-packages (from vncorenlp) (2.23.0)\n",
            "Requirement already satisfied: urllib3!=1.25.0,!=1.25.1,<1.26,>=1.21.1 in /usr/local/lib/python3.7/dist-packages (from requests->vncorenlp) (1.24.3)\n",
            "Requirement already satisfied: idna<3,>=2.5 in /usr/local/lib/python3.7/dist-packages (from requests->vncorenlp) (2.10)\n",
            "Requirement already satisfied: certifi>=2017.4.17 in /usr/local/lib/python3.7/dist-packages (from requests->vncorenlp) (2021.10.8)\n",
            "Requirement already satisfied: chardet<4,>=3.0.2 in /usr/local/lib/python3.7/dist-packages (from requests->vncorenlp) (3.0.4)\n",
            "Building wheels for collected packages: vncorenlp\n",
            "  Building wheel for vncorenlp (setup.py) ... \u001b[?25l\u001b[?25hdone\n",
            "  Created wheel for vncorenlp: filename=vncorenlp-1.0.3-py3-none-any.whl size=2645951 sha256=60e5cf67a84f2b3c0a1faaa7e41ff30656f33df5c85bbaf00cc7e1c15ea90b4d\n",
            "  Stored in directory: /root/.cache/pip/wheels/0c/d8/f2/d28d97379b4f6479bf51247c8dfd57fa00932fa7a74b6aab29\n",
            "Successfully built vncorenlp\n",
            "Installing collected packages: vncorenlp\n",
            "Successfully installed vncorenlp-1.0.3\n"
          ]
        }
      ]
    },
    {
      "cell_type": "code",
      "metadata": {
        "id": "cRKP8KTDomE4",
        "colab": {
          "base_uri": "https://localhost:8080/"
        },
        "outputId": "efb7ba1e-2bd4-47e2-d590-338782312e71"
      },
      "source": [
        "!mkdir -p vncorenlp/models/wordsegmenter\n",
        "!wget https://raw.githubusercontent.com/vncorenlp/VnCoreNLP/master/VnCoreNLP-1.1.1.jar\n",
        "!wget https://raw.githubusercontent.com/vncorenlp/VnCoreNLP/master/models/wordsegmenter/vi-vocab\n",
        "!wget https://raw.githubusercontent.com/vncorenlp/VnCoreNLP/master/models/wordsegmenter/wordsegmenter.rdr\n",
        "!mv VnCoreNLP-1.1.1.jar vncorenlp/\n",
        "!mv vi-vocab vncorenlp/models/wordsegmenter/\n",
        "!mv wordsegmenter.rdr vncorenlp/models/wordsegmenter/"
      ],
      "execution_count": null,
      "outputs": [
        {
          "output_type": "stream",
          "name": "stdout",
          "text": [
            "--2021-12-21 08:15:50--  https://raw.githubusercontent.com/vncorenlp/VnCoreNLP/master/VnCoreNLP-1.1.1.jar\n",
            "Resolving raw.githubusercontent.com (raw.githubusercontent.com)... 185.199.109.133, 185.199.108.133, 185.199.110.133, ...\n",
            "Connecting to raw.githubusercontent.com (raw.githubusercontent.com)|185.199.109.133|:443... connected.\n",
            "HTTP request sent, awaiting response... 200 OK\n",
            "Length: 27412575 (26M) [application/octet-stream]\n",
            "Saving to: ‘VnCoreNLP-1.1.1.jar’\n",
            "\n",
            "VnCoreNLP-1.1.1.jar 100%[===================>]  26.14M   127MB/s    in 0.2s    \n",
            "\n",
            "2021-12-21 08:15:50 (127 MB/s) - ‘VnCoreNLP-1.1.1.jar’ saved [27412575/27412575]\n",
            "\n",
            "--2021-12-21 08:15:50--  https://raw.githubusercontent.com/vncorenlp/VnCoreNLP/master/models/wordsegmenter/vi-vocab\n",
            "Resolving raw.githubusercontent.com (raw.githubusercontent.com)... 185.199.109.133, 185.199.111.133, 185.199.108.133, ...\n",
            "Connecting to raw.githubusercontent.com (raw.githubusercontent.com)|185.199.109.133|:443... connected.\n",
            "HTTP request sent, awaiting response... 200 OK\n",
            "Length: 526544 (514K) [application/octet-stream]\n",
            "Saving to: ‘vi-vocab’\n",
            "\n",
            "vi-vocab            100%[===================>] 514.20K  --.-KB/s    in 0.04s   \n",
            "\n",
            "2021-12-21 08:15:51 (14.3 MB/s) - ‘vi-vocab’ saved [526544/526544]\n",
            "\n",
            "--2021-12-21 08:15:51--  https://raw.githubusercontent.com/vncorenlp/VnCoreNLP/master/models/wordsegmenter/wordsegmenter.rdr\n",
            "Resolving raw.githubusercontent.com (raw.githubusercontent.com)... 185.199.108.133, 185.199.109.133, 185.199.110.133, ...\n",
            "Connecting to raw.githubusercontent.com (raw.githubusercontent.com)|185.199.108.133|:443... connected.\n",
            "HTTP request sent, awaiting response... 200 OK\n",
            "Length: 128508 (125K) [text/plain]\n",
            "Saving to: ‘wordsegmenter.rdr’\n",
            "\n",
            "wordsegmenter.rdr   100%[===================>] 125.50K  --.-KB/s    in 0.02s   \n",
            "\n",
            "2021-12-21 08:15:51 (5.63 MB/s) - ‘wordsegmenter.rdr’ saved [128508/128508]\n",
            "\n"
          ]
        }
      ]
    },
    {
      "cell_type": "markdown",
      "metadata": {
        "id": "WrrLkesTdAf1"
      },
      "source": [
        "## Data loader and pre-processing"
      ]
    },
    {
      "cell_type": "code",
      "metadata": {
        "id": "KM2YfcbjPOwy",
        "colab": {
          "base_uri": "https://localhost:8080/"
        },
        "outputId": "52b30776-c9db-4881-f68b-65de4434587c"
      },
      "source": [
        "import pandas as pd\n",
        "# load data\n",
        "train = pd.read_csv(\"/content/drive/MyDrive/Kì 7/NLP trong KHDL/DOAN_NLPFORDS/Data/train.csv\", index_col=False)\n",
        "dev = pd.read_csv(\"/content/drive/MyDrive/Kì 7/NLP trong KHDL/DOAN_NLPFORDS/Data/dev.csv\", index_col=False)\n",
        "test = pd.read_csv(\"/content/drive/MyDrive/Kì 7/NLP trong KHDL/DOAN_NLPFORDS/Data/test.csv\", index_col=False)\n",
        "\n",
        "train.reset_index(drop=True)\n",
        "\n",
        "print(len(train))\n",
        "print(len(dev))\n",
        "print(len(test))"
      ],
      "execution_count": null,
      "outputs": [
        {
          "output_type": "stream",
          "name": "stdout",
          "text": [
            "24048\n",
            "2672\n",
            "6680\n"
          ]
        }
      ]
    },
    {
      "cell_type": "code",
      "metadata": {
        "id": "7Yd9d-GMR46v"
      },
      "source": [
        "from vncorenlp import VnCoreNLP\n",
        "\n",
        "vncorenlp = VnCoreNLP(\"vncorenlp/VnCoreNLP-1.1.1.jar\", annotators=\"wseg\", max_heap_size='-Xmx500m') "
      ],
      "execution_count": null,
      "outputs": []
    },
    {
      "cell_type": "code",
      "metadata": {
        "id": "geN_zRuT3zuV"
      },
      "source": [
        "import pandas as pd \n",
        "import numpy as np\n",
        "from sklearn.feature_extraction.text import CountVectorizer\n",
        "from sklearn.preprocessing import LabelEncoder\n",
        "from sklearn.pipeline import Pipeline\n",
        "import re\n",
        "import sys\n",
        "from pyvi.ViTokenizer import ViTokenizer\n",
        "import numpy as np"
      ],
      "execution_count": null,
      "outputs": []
    },
    {
      "cell_type": "code",
      "metadata": {
        "colab": {
          "base_uri": "https://localhost:8080/"
        },
        "id": "tjH4krQqHYaD",
        "outputId": "6e112c94-e028-416d-e610-391c5c50256c"
      },
      "source": [
        "pip install viet_text_tools\n"
      ],
      "execution_count": null,
      "outputs": [
        {
          "output_type": "stream",
          "name": "stdout",
          "text": [
            "Collecting viet_text_tools\n",
            "  Downloading viet_text_tools-0.1.4-py3-none-any.whl (3.7 kB)\n",
            "Installing collected packages: viet-text-tools\n",
            "Successfully installed viet-text-tools-0.1.4\n"
          ]
        }
      ]
    },
    {
      "cell_type": "markdown",
      "source": [
        "##Tiền xử lý"
      ],
      "metadata": {
        "id": "BJe97Z1ii46Y"
      }
    },
    {
      "cell_type": "code",
      "source": [
        "def pre_process_features(X, y, tokenized=True, lowercased=True):\n",
        "    X = [p for p in list(X)]\n",
        "    for idx, ele in enumerate(X):\n",
        "        if not ele:\n",
        "            np.delete(X, idx)\n",
        "            np.delete(y, idx)\n",
        "    return X, y"
      ],
      "metadata": {
        "id": "_0w2wqzDh2SO"
      },
      "execution_count": null,
      "outputs": []
    },
    {
      "cell_type": "code",
      "source": [
        "X_train = preprovessing(X_train)\n",
        "X_dev = preprovessing(X_dev)\n",
        "X_test = preprovessing(X_test)"
      ],
      "metadata": {
        "id": "NMZpsUKBip9T"
      },
      "execution_count": null,
      "outputs": []
    },
    {
      "cell_type": "code",
      "source": [
        ""
      ],
      "metadata": {
        "id": "jxr8Jodji9sh"
      },
      "execution_count": null,
      "outputs": []
    },
    {
      "cell_type": "markdown",
      "metadata": {
        "id": "pD0rg7aFdEC-"
      },
      "source": [
        "## Model\n"
      ]
    },
    {
      "cell_type": "markdown",
      "metadata": {
        "id": "-cT88Ks1jAJz"
      },
      "source": [
        "### PhoBERT"
      ]
    },
    {
      "cell_type": "code",
      "metadata": {
        "id": "Z0Zu0H2EPpYN",
        "colab": {
          "base_uri": "https://localhost:8080/",
          "height": 809
        },
        "outputId": "0a026039-f668-424e-fdca-133ec13fd0f8"
      },
      "source": [
        "# PhoBERT\n",
        "from sklearn.metrics import f1_score, confusion_matrix, accuracy_score, recall_score\n",
        "from transformers import AutoTokenizer, AutoModelForSequenceClassification, Trainer, TrainingArguments, BertTokenizer, BertForSequenceClassification\n",
        "\n",
        "import seaborn as sn\n",
        "import pandas as pd\n",
        "import matplotlib.pyplot as plt\n",
        "\n",
        "train_X, train_y = pre_process_features(X_train, y_train, tokenized=True, lowercased = False)\n",
        "dev_X, dev_y = pre_process_features(X_dev, y_dev, tokenized=True, lowercased = False)\n",
        "test_X, test_y = pre_process_features(X_test, y_test, tokenized=True, lowercased = False)\n",
        "  \n",
        "model = AutoModelForSequenceClassification.from_pretrained(\"vinai/phobert-base\", num_labels = 3)\n",
        "tokenizer = AutoTokenizer.from_pretrained(\"vinai/phobert-base\",use_fast=False)\n",
        "\n",
        "import torch\n",
        "\n",
        "class BuildDataset(torch.utils.data.Dataset):\n",
        "    def __init__(self, encodings, labels):\n",
        "        self.encodings = encodings\n",
        "        self.labels = labels\n",
        "\n",
        "    def __getitem__(self, idx):\n",
        "        item = {key: torch.tensor(val[idx]) for key, val in self.encodings.items()}\n",
        "        item['labels'] = torch.tensor(self.labels[idx])\n",
        "        return item\n",
        "\n",
        "    def __len__(self):\n",
        "        return len(self.labels)\n",
        "\n",
        "train_encodings = tokenizer(train_X, truncation=True, padding=True, max_length=100)\n",
        "dev_encodings = tokenizer(dev_X, truncation=True, padding=True, max_length=100)\n",
        "test_encodings = tokenizer(test_X, truncation=True, padding=True, max_length=100)\n",
        "\n",
        "train_dataset = BuildDataset(train_encodings, y_train)\n",
        "dev_dataset = BuildDataset(dev_encodings, y_dev)\n",
        "test_dataset = BuildDataset(test_encodings, y_test)\n",
        "\n",
        "training_args = TrainingArguments(\n",
        "    output_dir='/content/drive/MyDrive/Kì 7/NLP trong KHDL/DOAN_NLPFORDS/Code/Dũng/transformer_model/phobert-v3/',          \n",
        "    num_train_epochs=5,              \n",
        "    per_device_train_batch_size=32,  \n",
        "    per_device_eval_batch_size=32,   \n",
        "    warmup_steps=500,                \n",
        "    weight_decay=0.001,\n",
        "    no_cuda=False,\n",
        "    do_eval=True\n",
        ")\n",
        "\n",
        "trainer = Trainer(\n",
        "    model=model,                         \n",
        "    args=training_args,                  \n",
        "    train_dataset=train_dataset,         \n",
        "    eval_dataset=dev_dataset             \n",
        ")\n",
        "\n",
        "trainer.train()\n",
        "trainer.save_model(\"/content/drive/MyDrive/Kì 7/NLP trong KHDL/DOAN_NLPFORDS/Code/Dũng/transformer_model/phobert-v3/\")\n",
        "\n",
        "y_pred_classify = trainer.predict(test_dataset)\n",
        "\n",
        "y_pred = np.argmax(y_pred_classify.predictions, axis=-1)\n",
        "y_true = test_y\n",
        "\n",
        "cf1 = confusion_matrix(y_true, y_pred)\n",
        "print(cf1)\n",
        "\n",
        "evaluation = f1_score(y_true, y_pred, average='micro')\n",
        "\n",
        "print(\"F1 - micro: \" + str(evaluation))\n",
        "\n",
        "evaluation = f1_score(y_true, y_pred, average='macro')\n",
        "print(\"F1 - macro: \" + str(evaluation))\n",
        "evaluation = accuracy_score(y_true, y_pred)\n",
        "print(\"Accuracy: \" + str(evaluation))\n",
        "# Show out the confusion matrix\n",
        "df_cm1 = pd.DataFrame(cf1, index = [\"clean\",\"offensive\",\"hate\"],\n",
        "                  columns = [\"clean\",\"offensive\",\"hate\"])\n",
        "plt.clf()\n",
        "sn.heatmap(df_cm1, annot=True, cmap=\"Greys\",fmt='g', cbar=True, annot_kws={\"size\": 30})"
      ],
      "execution_count": null,
      "outputs": [
        {
          "output_type": "stream",
          "name": "stderr",
          "text": [
            "Some weights of the model checkpoint at vinai/phobert-base were not used when initializing RobertaForSequenceClassification: ['lm_head.bias', 'lm_head.dense.weight', 'lm_head.dense.bias', 'lm_head.layer_norm.weight', 'lm_head.layer_norm.bias', 'lm_head.decoder.weight', 'lm_head.decoder.bias', 'roberta.pooler.dense.weight', 'roberta.pooler.dense.bias']\n",
            "- This IS expected if you are initializing RobertaForSequenceClassification from the checkpoint of a model trained on another task or with another architecture (e.g. initializing a BertForSequenceClassification model from a BertForPreTraining model).\n",
            "- This IS NOT expected if you are initializing RobertaForSequenceClassification from the checkpoint of a model that you expect to be exactly identical (initializing a BertForSequenceClassification model from a BertForSequenceClassification model).\n",
            "Some weights of RobertaForSequenceClassification were not initialized from the model checkpoint at vinai/phobert-base and are newly initialized: ['classifier.dense.weight', 'classifier.dense.bias', 'classifier.out_proj.weight', 'classifier.out_proj.bias']\n",
            "You should probably TRAIN this model on a down-stream task to be able to use it for predictions and inference.\n",
            "Special tokens have been added in the vocabulary, make sure the associated word embedding are fine-tuned or trained.\n"
          ]
        },
        {
          "output_type": "display_data",
          "data": {
            "text/html": [
              "\n",
              "    <div>\n",
              "        <style>\n",
              "            /* Turns off some styling */\n",
              "            progress {\n",
              "                /* gets rid of default border in Firefox and Opera. */\n",
              "                border: none;\n",
              "                /* Needs to be in here for Safari polyfill so background images work as expected. */\n",
              "                background-size: auto;\n",
              "            }\n",
              "        </style>\n",
              "      \n",
              "      <progress value='3760' max='3760' style='width:300px; height:20px; vertical-align: middle;'></progress>\n",
              "      [3760/3760 1:11:29, Epoch 5/5]\n",
              "    </div>\n",
              "    <table border=\"1\" class=\"dataframe\">\n",
              "  <thead>\n",
              "    <tr style=\"text-align: left;\">\n",
              "      <th>Step</th>\n",
              "      <th>Training Loss</th>\n",
              "    </tr>\n",
              "  </thead>\n",
              "  <tbody>\n",
              "    <tr>\n",
              "      <td>500</td>\n",
              "      <td>0.537400</td>\n",
              "    </tr>\n",
              "    <tr>\n",
              "      <td>1000</td>\n",
              "      <td>0.375500</td>\n",
              "    </tr>\n",
              "    <tr>\n",
              "      <td>1500</td>\n",
              "      <td>0.336200</td>\n",
              "    </tr>\n",
              "    <tr>\n",
              "      <td>2000</td>\n",
              "      <td>0.266900</td>\n",
              "    </tr>\n",
              "    <tr>\n",
              "      <td>2500</td>\n",
              "      <td>0.224500</td>\n",
              "    </tr>\n",
              "    <tr>\n",
              "      <td>3000</td>\n",
              "      <td>0.199300</td>\n",
              "    </tr>\n",
              "    <tr>\n",
              "      <td>3500</td>\n",
              "      <td>0.154400</td>\n",
              "    </tr>\n",
              "  </tbody>\n",
              "</table><p>"
            ],
            "text/plain": [
              "<IPython.core.display.HTML object>"
            ]
          },
          "metadata": {}
        },
        {
          "output_type": "display_data",
          "data": {
            "text/html": [
              "\n",
              "    <div>\n",
              "        <style>\n",
              "            /* Turns off some styling */\n",
              "            progress {\n",
              "                /* gets rid of default border in Firefox and Opera. */\n",
              "                border: none;\n",
              "                /* Needs to be in here for Safari polyfill so background images work as expected. */\n",
              "                background-size: auto;\n",
              "            }\n",
              "        </style>\n",
              "      \n",
              "      <progress value='209' max='209' style='width:300px; height:20px; vertical-align: middle;'></progress>\n",
              "      [209/209 01:18]\n",
              "    </div>\n",
              "    "
            ],
            "text/plain": [
              "<IPython.core.display.HTML object>"
            ]
          },
          "metadata": {}
        },
        {
          "output_type": "stream",
          "name": "stdout",
          "text": [
            "[[5236  140  172]\n",
            " [ 200  156   88]\n",
            " [ 207   73  408]]\n",
            "F1 - micro: 0.8682634730538922\n",
            "F1 - macro: 0.6404285642229496\n",
            "Accuracy: 0.8682634730538922\n"
          ]
        },
        {
          "output_type": "execute_result",
          "data": {
            "text/plain": [
              "<matplotlib.axes._subplots.AxesSubplot at 0x7f24fe719910>"
            ]
          },
          "metadata": {},
          "execution_count": 16
        },
        {
          "output_type": "display_data",
          "data": {
            "image/png": "[encoded data removed]",
            "text/plain": [
              "<Figure size 432x288 with 2 Axes>"
            ]
          },
          "metadata": {
            "needs_background": "light"
          }
        }
      ]
    },
    {
      "cell_type": "markdown",
      "metadata": {
        "id": "JtFNBYbxdKFO"
      },
      "source": [
        "### BERT4News"
      ]
    },
    {
      "cell_type": "code",
      "metadata": {
        "colab": {
          "base_uri": "https://localhost:8080/",
          "referenced_widgets": [
            "35727038be9a40e88178540e03fc5f12",
            "8d2e5f06d7c748f19793a0b100e77f65",
            "c26f11d8027741d7aa98a3127aa5991e",
            "578f8c7d08814e08ab6321d742eafed9",
            "44513486edbb4ce2b3d555cc8e3484b2",
            "1728d944661246c381ffd7dbf29683c3",
            "c465e87dd21d4dbc9bcf33293cad7ca4",
            "d20fc89714ff4c2f9abb88e4dad43c01",
            "8caadd0542f047e890e3a4f71ba81e4e",
            "771cf0e936a9435cb45a075b183899ea",
            "fe09e974540d4887816f19f7dfdd926d",
            "0ee2dc2ae7ce4436a312c885dba25f93",
            "3d6a570e54b1427daf2983384272bf14",
            "3e82d3bf89074d57834fc0c312f966dc",
            "7d90422dc6e949a494dd77c688554f36",
            "39bf98ebd4c74d02889d18f5bcac565f",
            "e5f63ffce77d4a2aa04dfd19357f5e4b",
            "21a58d60d28b42bf90771968e008b9eb",
            "7cfa15806c3144f58534261067785d3e",
            "8c4d9ac594054e18b908b56b49c8b848",
            "894c6b8c4cce4cfea7447dbe26d2f9db",
            "f37af5b1a3014d368b5d3c0f83facb4f",
            "4f0f2a102b3442fb97602d4d5b8870b9",
            "1163ee72a71049f897ae27dd6c8b7248",
            "cf3659ca61b34ab4bcf50dc06428b01e",
            "786d569c12de4bfd88f866f97a933789",
            "c550af57fb094373913a090570067aad",
            "be18f14d3541444296251b0791466f6d",
            "60b6191e88654af7a90f375e6b34a131",
            "4f58beba32234041a2992ab5356a647c",
            "ca1996d17e1f4307b347ba9a0de759ee",
            "931270f9383f4f878f38a4f9e3738b7b",
            "b26831d352384eed8dacc5bfee16f2bc",
            "afcb6939c3ac4f1f8ae740ecfdd15d8d",
            "f084ac21940149ce8ad7eedb137ad3db",
            "6005615792a64de28e835734f628dc40",
            "032e3c8f94de4540b6f0c89291d92ed6",
            "211025cbe69a4de1874fa1456d90fc23",
            "c005a9b256ab48ceba3eb0f88d0cd17f",
            "3ae1f931768d49999c1ab8cbe2029365",
            "07cdeceeb72a45d991322d5dc92c559a",
            "95adeb8b02254d53b07bb507edc89a14",
            "ee8190869e88480a86c6301741fd377a",
            "8cd01d567dcb40989ed044ae03d6ae9d"
          ]
        },
        "id": "fZ9AOzuDAcCg",
        "outputId": "06228cc9-bd67-4eec-936f-8c038ea16508"
      },
      "source": [
        "# Bert4news\n",
        "from sklearn.metrics import f1_score, confusion_matrix, accuracy_score, recall_score\n",
        "from transformers import AutoTokenizer, AutoModelForSequenceClassification, Trainer, TrainingArguments, BertTokenizer, BertForSequenceClassification\n",
        "\n",
        "import seaborn as sn\n",
        "import pandas as pd\n",
        "import matplotlib.pyplot as plt\n",
        "\n",
        "train_X, train_y = pre_process_features(X_train, y_train, tokenized=False, lowercased = False)\n",
        "dev_X, dev_y = pre_process_features(X_dev, y_dev, tokenized=False, lowercased = False)\n",
        "test_X, test_y = pre_process_features(X_test, y_test, tokenized=False, lowercased = False)\n",
        "  \n",
        "model = AutoModelForSequenceClassification.from_pretrained(\"NlpHUST/vibert4news-base-cased\", num_labels = 3)\n",
        "tokenizer = AutoTokenizer.from_pretrained(\"NlpHUST/vibert4news-base-cased\",use_fast=False)\n",
        "\n",
        "import torch\n",
        "\n",
        "class BuildDataset(torch.utils.data.Dataset):\n",
        "    def __init__(self, encodings, labels):\n",
        "        self.encodings = encodings\n",
        "        self.labels = labels\n",
        "\n",
        "    def __getitem__(self, idx):\n",
        "        item = {key: torch.tensor(val[idx]) for key, val in self.encodings.items()}\n",
        "        item['labels'] = torch.tensor(self.labels[idx])\n",
        "        return item\n",
        "\n",
        "    def __len__(self):\n",
        "        return len(self.labels)\n",
        "\n",
        "train_encodings = tokenizer(train_X, truncation=True, padding=True, max_length=100)\n",
        "dev_encodings = tokenizer(dev_X, truncation=True, padding=True, max_length=100)\n",
        "test_encodings = tokenizer(test_X, truncation=True, padding=True, max_length=100)\n",
        "\n",
        "train_dataset = BuildDataset(train_encodings, train_y)\n",
        "dev_dataset = BuildDataset(dev_encodings, dev_y)\n",
        "test_dataset = BuildDataset(test_encodings, test_y)\n",
        "\n",
        "training_args = TrainingArguments(\n",
        "    output_dir='/content/drive/MyDrive/Kì 7/NLP trong KHDL/DOAN_NLPFORDS/Code/Dũng/bert4news-v8/',          \n",
        "    num_train_epochs=5,              \n",
        "    per_device_train_batch_size=32,  \n",
        "    per_device_eval_batch_size=32,   \n",
        "    warmup_steps=500,                \n",
        "    weight_decay=0.001,\n",
        "    no_cuda=False,\n",
        "    do_eval=True\n",
        ")\n",
        "\n",
        "trainer = Trainer(\n",
        "    model=model,                         \n",
        "    args=training_args,                  \n",
        "    train_dataset=train_dataset,         \n",
        "    eval_dataset=dev_dataset             \n",
        ")\n",
        "\n",
        "trainer.train()\n",
        "trainer.save_model(\"/content/drive/MyDrive/Kì 7/NLP trong KHDL/DOAN_NLPFORDS/Code/Dũng/bert4news-v9/\")\n",
        "\n",
        "y_pred_classify = trainer.predict(test_dataset)\n",
        "\n",
        "y_pred = np.argmax(y_pred_classify.predictions, axis=-1)\n",
        "y_true = test_y\n",
        "\n",
        "cf2 = confusion_matrix(y_true, y_pred)\n",
        "print(cf2)\n",
        "\n",
        "evaluation = f1_score(y_true, y_pred, average='micro')\n",
        "\n",
        "print(\"F1 - micro: \" + str(evaluation))\n",
        "\n",
        "evaluation = f1_score(y_true, y_pred, average='macro')\n",
        "print(\"F1 - macro: \" + str(evaluation))\n",
        "\n",
        "evaluation = accuracy_score(y_true, y_pred)\n",
        "print(\"Accuracy: \" + str(evaluation))\n",
        "# Show out the confusion matrix\n",
        "df_cm2 = pd.DataFrame(cf2, index = [\"clean\",\"offensive\",\"hate\"],\n",
        "                  columns = [\"clean\",\"offensive\",\"hate\"])\n",
        "plt.clf()\n",
        "sn.heatmap(df_cm2, annot=True, cmap=\"Greys\",fmt='g', cbar=True, annot_kws={\"size\": 30})"
      ],
      "execution_count": null,
      "outputs": [
        {
          "output_type": "display_data",
          "data": {
            "application/vnd.jupyter.widget-view+json": {
              "model_id": "35727038be9a40e88178540e03fc5f12",
              "version_minor": 0,
              "version_major": 2
            },
            "text/plain": [
              "Downloading:   0%|          | 0.00/551 [00:00<?, ?B/s]"
            ]
          },
          "metadata": {}
        },
        {
          "output_type": "display_data",
          "data": {
            "application/vnd.jupyter.widget-view+json": {
              "model_id": "0ee2dc2ae7ce4436a312c885dba25f93",
              "version_minor": 0,
              "version_major": 2
            },
            "text/plain": [
              "Downloading:   0%|          | 0.00/537M [00:00<?, ?B/s]"
            ]
          },
          "metadata": {}
        },
        {
          "output_type": "stream",
          "name": "stderr",
          "text": [
            "Some weights of the model checkpoint at NlpHUST/vibert4news-base-cased were not used when initializing BertForSequenceClassification: ['cls.predictions.bias', 'cls.predictions.transform.dense.weight', 'cls.predictions.transform.dense.bias', 'cls.predictions.transform.LayerNorm.weight', 'cls.predictions.transform.LayerNorm.bias', 'cls.predictions.decoder.weight', 'cls.seq_relationship.weight', 'cls.seq_relationship.bias']\n",
            "- This IS expected if you are initializing BertForSequenceClassification from the checkpoint of a model trained on another task or with another architecture (e.g. initializing a BertForSequenceClassification model from a BertForPreTraining model).\n",
            "- This IS NOT expected if you are initializing BertForSequenceClassification from the checkpoint of a model that you expect to be exactly identical (initializing a BertForSequenceClassification model from a BertForSequenceClassification model).\n",
            "Some weights of BertForSequenceClassification were not initialized from the model checkpoint at NlpHUST/vibert4news-base-cased and are newly initialized: ['classifier.weight', 'classifier.bias']\n",
            "You should probably TRAIN this model on a down-stream task to be able to use it for predictions and inference.\n"
          ]
        },
        {
          "output_type": "display_data",
          "data": {
            "application/vnd.jupyter.widget-view+json": {
              "model_id": "4f0f2a102b3442fb97602d4d5b8870b9",
              "version_minor": 0,
              "version_major": 2
            },
            "text/plain": [
              "Downloading:   0%|          | 0.00/411k [00:00<?, ?B/s]"
            ]
          },
          "metadata": {}
        },
        {
          "output_type": "display_data",
          "data": {
            "application/vnd.jupyter.widget-view+json": {
              "model_id": "afcb6939c3ac4f1f8ae740ecfdd15d8d",
              "version_minor": 0,
              "version_major": 2
            },
            "text/plain": [
              "Downloading:   0%|          | 0.00/28.0 [00:00<?, ?B/s]"
            ]
          },
          "metadata": {}
        },
        {
          "output_type": "display_data",
          "data": {
            "text/html": [
              "\n",
              "    <div>\n",
              "        <style>\n",
              "            /* Turns off some styling */\n",
              "            progress {\n",
              "                /* gets rid of default border in Firefox and Opera. */\n",
              "                border: none;\n",
              "                /* Needs to be in here for Safari polyfill so background images work as expected. */\n",
              "                background-size: auto;\n",
              "            }\n",
              "        </style>\n",
              "      \n",
              "      <progress value='3006' max='3006' style='width:300px; height:20px; vertical-align: middle;'></progress>\n",
              "      [3006/3006 33:59, Epoch 2/2]\n",
              "    </div>\n",
              "    <table border=\"1\" class=\"dataframe\">\n",
              "  <thead>\n",
              "    <tr style=\"text-align: left;\">\n",
              "      <th>Step</th>\n",
              "      <th>Training Loss</th>\n",
              "    </tr>\n",
              "  </thead>\n",
              "  <tbody>\n",
              "    <tr>\n",
              "      <td>500</td>\n",
              "      <td>0.509200</td>\n",
              "    </tr>\n",
              "    <tr>\n",
              "      <td>1000</td>\n",
              "      <td>0.421700</td>\n",
              "    </tr>\n",
              "    <tr>\n",
              "      <td>1500</td>\n",
              "      <td>0.398500</td>\n",
              "    </tr>\n",
              "    <tr>\n",
              "      <td>2000</td>\n",
              "      <td>0.311600</td>\n",
              "    </tr>\n",
              "    <tr>\n",
              "      <td>2500</td>\n",
              "      <td>0.292200</td>\n",
              "    </tr>\n",
              "    <tr>\n",
              "      <td>3000</td>\n",
              "      <td>0.290300</td>\n",
              "    </tr>\n",
              "  </tbody>\n",
              "</table><p>"
            ],
            "text/plain": [
              "<IPython.core.display.HTML object>"
            ]
          },
          "metadata": {}
        },
        {
          "output_type": "display_data",
          "data": {
            "text/html": [
              "\n",
              "    <div>\n",
              "        <style>\n",
              "            /* Turns off some styling */\n",
              "            progress {\n",
              "                /* gets rid of default border in Firefox and Opera. */\n",
              "                border: none;\n",
              "                /* Needs to be in here for Safari polyfill so background images work as expected. */\n",
              "                background-size: auto;\n",
              "            }\n",
              "        </style>\n",
              "      \n",
              "      <progress value='418' max='418' style='width:300px; height:20px; vertical-align: middle;'></progress>\n",
              "      [418/418 01:24]\n",
              "    </div>\n",
              "    "
            ],
            "text/plain": [
              "<IPython.core.display.HTML object>"
            ]
          },
          "metadata": {}
        },
        {
          "output_type": "stream",
          "name": "stdout",
          "text": [
            "[[5341   57  150]\n",
            " [ 232  117   95]\n",
            " [ 262   42  384]]\n",
            "F1 - micro: 0.8745508982035927\n",
            "F1 - macro: 0.6253686333521847\n",
            "Accuracy: 0.8745508982035928\n"
          ]
        },
        {
          "output_type": "execute_result",
          "data": {
            "text/plain": [
              "<matplotlib.axes._subplots.AxesSubplot at 0x7f16d17a9190>"
            ]
          },
          "metadata": {},
          "execution_count": 15
        },
        {
          "output_type": "display_data",
          "data": {
            "image/png": "[encoded data removed]",
            "text/plain": [
              "<Figure size 432x288 with 2 Axes>"
            ]
          },
          "metadata": {
            "needs_background": "light"
          }
        }
      ]
    },
    {
      "cell_type": "code",
      "source": [
        ""
      ],
      "metadata": {
        "id": "EcLQGKPsh2pi"
      },
      "execution_count": null,
      "outputs": []
    }
  ]
}