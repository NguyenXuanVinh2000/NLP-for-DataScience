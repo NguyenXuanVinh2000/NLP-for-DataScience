{
  "nbformat": 4,
  "nbformat_minor": 0,
  "metadata": {
    "colab": {
      "name": "18521655_Nguyen_Xuan_Vinh_BTTH1.ipynb",
      "provenance": [],
      "collapsed_sections": [
        "lPBvWvWgRvOp",
        "GkcPuUnREHNZ"
      ]
    },
    "kernelspec": {
      "name": "python3",
      "display_name": "Python 3"
    },
    "language_info": {
      "name": "python"
    }
  },
  "cells": [
    {
      "cell_type": "code",
      "metadata": {
        "colab": {
          "base_uri": "https://localhost:8080/"
        },
        "id": "7dutgkkaV-hS",
        "outputId": "9b2f76fb-de1c-4a38-a985-53fe4370a9f0"
      },
      "source": [
        "from google.colab import drive\n",
        "drive.mount('/content/drive')"
      ],
      "execution_count": null,
      "outputs": [
        {
          "output_type": "stream",
          "name": "stdout",
          "text": [
            "Drive already mounted at /content/drive; to attempt to forcibly remount, call drive.mount(\"/content/drive\", force_remount=True).\n"
          ]
        }
      ]
    },
    {
      "cell_type": "markdown",
      "metadata": {
        "id": "mvoG0VmrV_33"
      },
      "source": [
        "#Read dataset"
      ]
    },
    {
      "cell_type": "code",
      "metadata": {
        "id": "1kOGoY4vNXMZ"
      },
      "source": [
        "import pandas as pd\n",
        "\n",
        "X_train = pd.read_csv('/content/drive/MyDrive/ UIT-VSFC/train/sents.txt',  sep='\\n', header=None, index_col=None)\n",
        "X_train = X_train.iloc[:, 0]\n",
        "y_train = pd.read_csv('/content/drive/MyDrive/ UIT-VSFC/train/sentiments.txt',  sep='\\n', header=None, index_col=None)\n",
        "y_train_topic = pd.read_csv('/content/drive/MyDrive/ UIT-VSFC/train/topics.txt',  sep='\\n', header=None, index_col=None)\n",
        "\n",
        "X_dev = pd.read_csv('/content/drive/MyDrive/ UIT-VSFC/dev/sents.txt', sep='\\n', header=None, index_col=None)\n",
        "X_dev = X_dev.iloc[:, 0]\n",
        "y_dev = pd.read_csv('/content/drive/MyDrive/ UIT-VSFC/dev/sentiments.txt', sep='\\n', header=None, index_col=None)\n",
        "y_dev_topic = pd.read_csv('/content/drive/MyDrive/ UIT-VSFC/dev/topics.txt',  sep='\\n', header=None, index_col=None)\n",
        "\n",
        "\n",
        "X_test = pd.read_csv('/content/drive/MyDrive/ UIT-VSFC/test/sents.txt',  sep='\\n', header=None, index_col=None)\n",
        "X_test = X_test.iloc[:, 0]\n",
        "y_test = pd.read_csv('/content/drive/MyDrive/ UIT-VSFC/test/sentiments.txt',  sep='\\n', header=None, index_col=None)\n",
        "y_test_topic = pd.read_csv('/content/drive/MyDrive/ UIT-VSFC/test/topics.txt',  sep='\\n', header=None, index_col=None)\n",
        "\n",
        "\n",
        "y_train = y_train.values.flatten()\n",
        "y_dev = y_dev.values.flatten()\n",
        "y_test = y_test.values.flatten()\n",
        "y_train_topic = y_train_topic.values.flatten()\n",
        "y_dev_topic = y_dev_topic.values.flatten()\n",
        "y_test_topic = y_test_topic.values.flatten()"
      ],
      "execution_count": null,
      "outputs": []
    },
    {
      "cell_type": "code",
      "metadata": {
        "colab": {
          "base_uri": "https://localhost:8080/"
        },
        "id": "fcE3oAPyCKS_",
        "outputId": "2499757a-f919-41ca-b9cc-a2b72e36e1d1"
      },
      "source": [
        "X_train.head(10)"
      ],
      "execution_count": null,
      "outputs": [
        {
          "output_type": "execute_result",
          "data": {
            "text/plain": [
              "0                            slide giáo trình đầy đủ .\n",
              "1       nhiệt tình giảng dạy , gần gũi với sinh viên .\n",
              "2                 đi học đầy đủ full điểm chuyên cần .\n",
              "3    chưa áp dụng công nghệ thông tin và các thiết ...\n",
              "4    thầy giảng bài hay , có nhiều bài tập ví dụ ng...\n",
              "5    giảng viên đảm bảo thời gian lên lớp , tích cự...\n",
              "6    em sẽ nợ môn này , nhưng em sẽ học lại ở các h...\n",
              "7    thời lượng học quá dài , không đảm bảo tiếp th...\n",
              "8    nội dung môn học có phần thiếu trọng tâm , hầu...\n",
              "9    cần nói rõ hơn bằng cách trình bày lên bảng th...\n",
              "Name: 0, dtype: object"
            ]
          },
          "metadata": {},
          "execution_count": 3
        }
      ]
    },
    {
      "cell_type": "markdown",
      "metadata": {
        "id": "lPBvWvWgRvOp"
      },
      "source": [
        "# Naive Bayes "
      ]
    },
    {
      "cell_type": "code",
      "metadata": {
        "id": "dCiPelEwRt-w"
      },
      "source": [
        "from sklearn.feature_extraction.text import TfidfVectorizer\n",
        "\n",
        "tf_idf = TfidfVectorizer(analyzer='word', ngram_range=(2,2))\n",
        "tf_idf.fit(X_train)\n",
        "\n",
        "X_train_encoded = tf_idf.transform(X_train)\n",
        "X_dev_encoded = tf_idf.transform(X_dev)\n",
        "X_test_encoded = tf_idf.transform(X_test)\n"
      ],
      "execution_count": null,
      "outputs": []
    },
    {
      "cell_type": "code",
      "metadata": {
        "colab": {
          "base_uri": "https://localhost:8080/"
        },
        "id": "FNkfqP0bXPGN",
        "outputId": "156515d9-db6c-44b7-e4c9-7dfa0314213d"
      },
      "source": [
        "print(y_train_topic)"
      ],
      "execution_count": null,
      "outputs": [
        {
          "output_type": "stream",
          "name": "stdout",
          "text": [
            "[1 0 1 ... 0 0 0]\n"
          ]
        }
      ]
    },
    {
      "cell_type": "code",
      "metadata": {
        "colab": {
          "base_uri": "https://localhost:8080/"
        },
        "id": "sXYL7UWeCjJp",
        "outputId": "fc70e85d-699c-4a31-d40d-aabf10dd80cd"
      },
      "source": [
        "X_train_encoded.shape"
      ],
      "execution_count": null,
      "outputs": [
        {
          "output_type": "execute_result",
          "data": {
            "text/plain": [
              "(11426, 31384)"
            ]
          },
          "metadata": {},
          "execution_count": 6
        }
      ]
    },
    {
      "cell_type": "markdown",
      "metadata": {
        "id": "5ZurCOIFh9_O"
      },
      "source": [
        "##Sentiment"
      ]
    },
    {
      "cell_type": "code",
      "metadata": {
        "colab": {
          "base_uri": "https://localhost:8080/"
        },
        "id": "KZi3LHKkTlTa",
        "outputId": "2ea47541-429f-4306-9dd1-1358b39dae10"
      },
      "source": [
        "from sklearn.naive_bayes import MultinomialNB\n",
        "\n",
        "model1 = MultinomialNB()\n",
        "model1.fit(X_train_encoded, y_train)"
      ],
      "execution_count": null,
      "outputs": [
        {
          "output_type": "execute_result",
          "data": {
            "text/plain": [
              "MultinomialNB(alpha=1.0, class_prior=None, fit_prior=True)"
            ]
          },
          "metadata": {},
          "execution_count": 7
        }
      ]
    },
    {
      "cell_type": "code",
      "metadata": {
        "id": "mbPNnoD5UL6T"
      },
      "source": [
        "y_pred_dev = model1.predict(X_dev_encoded)\n",
        "y_pred_test = model1.predict(X_test_encoded)"
      ],
      "execution_count": null,
      "outputs": []
    },
    {
      "cell_type": "code",
      "metadata": {
        "colab": {
          "base_uri": "https://localhost:8080/"
        },
        "id": "yT5u-pxBUTqW",
        "outputId": "2a108113-08e9-413a-8101-0a0f49b63a7a"
      },
      "source": [
        "from sklearn.metrics import classification_report\n",
        "target_names = ['negative', 'neutral', 'positive']\n",
        "print(classification_report(y_test, y_pred_test, target_names=target_names))"
      ],
      "execution_count": null,
      "outputs": [
        {
          "output_type": "stream",
          "name": "stdout",
          "text": [
            "              precision    recall  f1-score   support\n",
            "\n",
            "    negative       0.84      0.92      0.88      1409\n",
            "     neutral       0.00      0.00      0.00       167\n",
            "    positive       0.88      0.91      0.90      1590\n",
            "\n",
            "    accuracy                           0.86      3166\n",
            "   macro avg       0.58      0.61      0.59      3166\n",
            "weighted avg       0.82      0.86      0.84      3166\n",
            "\n"
          ]
        },
        {
          "output_type": "stream",
          "name": "stderr",
          "text": [
            "/usr/local/lib/python3.7/dist-packages/sklearn/metrics/_classification.py:1272: UndefinedMetricWarning: Precision and F-score are ill-defined and being set to 0.0 in labels with no predicted samples. Use `zero_division` parameter to control this behavior.\n",
            "  _warn_prf(average, modifier, msg_start, len(result))\n"
          ]
        }
      ]
    },
    {
      "cell_type": "markdown",
      "metadata": {
        "id": "QpyaKM11iB3Z"
      },
      "source": [
        "##Topic"
      ]
    },
    {
      "cell_type": "code",
      "metadata": {
        "colab": {
          "base_uri": "https://localhost:8080/"
        },
        "id": "P_it1MlBh7Yq",
        "outputId": "5cabac78-06e9-4783-e6ee-6d8a22da6c41"
      },
      "source": [
        "model2 = MultinomialNB()\n",
        "model2.fit(X_train_encoded, y_train_topic)"
      ],
      "execution_count": null,
      "outputs": [
        {
          "output_type": "execute_result",
          "data": {
            "text/plain": [
              "MultinomialNB(alpha=1.0, class_prior=None, fit_prior=True)"
            ]
          },
          "metadata": {},
          "execution_count": 10
        }
      ]
    },
    {
      "cell_type": "code",
      "metadata": {
        "colab": {
          "base_uri": "https://localhost:8080/"
        },
        "id": "aOo7pyrCYV5k",
        "outputId": "f3a3862b-ec71-412b-944a-319c8a24cbb0"
      },
      "source": [
        "y_topic_pred_dev = model2.predict(X_dev_encoded)\n",
        "y_topic_pred_test = model2.predict(X_test_encoded)\n",
        "from sklearn.metrics import classification_report\n",
        "target_names = ['Lecturer', 'Curriculum', 'Facility', 'others']\n",
        "print(classification_report(y_test_topic, y_topic_pred_test, target_names=target_names))"
      ],
      "execution_count": null,
      "outputs": [
        {
          "output_type": "stream",
          "name": "stdout",
          "text": [
            "              precision    recall  f1-score   support\n",
            "\n",
            "    Lecturer       0.77      1.00      0.87      2290\n",
            "  Curriculum       0.79      0.21      0.33       572\n",
            "    Facility       1.00      0.37      0.54       145\n",
            "      others       0.00      0.00      0.00       159\n",
            "\n",
            "    accuracy                           0.78      3166\n",
            "   macro avg       0.64      0.39      0.43      3166\n",
            "weighted avg       0.75      0.78      0.71      3166\n",
            "\n"
          ]
        },
        {
          "output_type": "stream",
          "name": "stderr",
          "text": [
            "/usr/local/lib/python3.7/dist-packages/sklearn/metrics/_classification.py:1272: UndefinedMetricWarning: Precision and F-score are ill-defined and being set to 0.0 in labels with no predicted samples. Use `zero_division` parameter to control this behavior.\n",
            "  _warn_prf(average, modifier, msg_start, len(result))\n"
          ]
        }
      ]
    },
    {
      "cell_type": "markdown",
      "metadata": {
        "id": "omNCFwpMugit"
      },
      "source": [
        "#Logictis Regression"
      ]
    },
    {
      "cell_type": "markdown",
      "metadata": {
        "id": "S5Fv4BaIukXc"
      },
      "source": [
        "##Sentiment"
      ]
    },
    {
      "cell_type": "code",
      "metadata": {
        "colab": {
          "base_uri": "https://localhost:8080/"
        },
        "id": "kXWN6T1fudYu",
        "outputId": "7c935641-2ccf-4828-c317-50b970a81c11"
      },
      "source": [
        "from sklearn.linear_model import LogisticRegression\n",
        "model1 = LogisticRegression()\n",
        "model1.fit(X_train_encoded, y_train)"
      ],
      "execution_count": null,
      "outputs": [
        {
          "output_type": "stream",
          "name": "stderr",
          "text": [
            "/usr/local/lib/python3.7/dist-packages/sklearn/linear_model/_logistic.py:940: ConvergenceWarning: lbfgs failed to converge (status=1):\n",
            "STOP: TOTAL NO. of ITERATIONS REACHED LIMIT.\n",
            "\n",
            "Increase the number of iterations (max_iter) or scale the data as shown in:\n",
            "    https://scikit-learn.org/stable/modules/preprocessing.html\n",
            "Please also refer to the documentation for alternative solver options:\n",
            "    https://scikit-learn.org/stable/modules/linear_model.html#logistic-regression\n",
            "  extra_warning_msg=_LOGISTIC_SOLVER_CONVERGENCE_MSG)\n"
          ]
        },
        {
          "output_type": "execute_result",
          "data": {
            "text/plain": [
              "LogisticRegression(C=1.0, class_weight=None, dual=False, fit_intercept=True,\n",
              "                   intercept_scaling=1, l1_ratio=None, max_iter=100,\n",
              "                   multi_class='auto', n_jobs=None, penalty='l2',\n",
              "                   random_state=None, solver='lbfgs', tol=0.0001, verbose=0,\n",
              "                   warm_start=False)"
            ]
          },
          "metadata": {},
          "execution_count": 12
        }
      ]
    },
    {
      "cell_type": "code",
      "metadata": {
        "id": "v2zoEvsevaDw"
      },
      "source": [
        "y_pred_dev = model1.predict(X_dev_encoded)\n",
        "y_pred_test = model1.predict(X_test_encoded)"
      ],
      "execution_count": null,
      "outputs": []
    },
    {
      "cell_type": "code",
      "metadata": {
        "colab": {
          "base_uri": "https://localhost:8080/"
        },
        "id": "KVGOVKAdvaD6",
        "outputId": "49dea501-2ebd-4368-f6c6-32f698bc5cc4"
      },
      "source": [
        "from sklearn.metrics import classification_report\n",
        "target_names = ['negative', 'neutral', 'positive']\n",
        "print(classification_report(y_test, y_pred_test, target_names=target_names))"
      ],
      "execution_count": null,
      "outputs": [
        {
          "output_type": "stream",
          "name": "stdout",
          "text": [
            "              precision    recall  f1-score   support\n",
            "\n",
            "    negative       0.81      0.95      0.88      1409\n",
            "     neutral       0.60      0.05      0.10       167\n",
            "    positive       0.93      0.87      0.90      1590\n",
            "\n",
            "    accuracy                           0.86      3166\n",
            "   macro avg       0.78      0.62      0.62      3166\n",
            "weighted avg       0.86      0.86      0.84      3166\n",
            "\n"
          ]
        }
      ]
    },
    {
      "cell_type": "markdown",
      "metadata": {
        "id": "25CXcW_pumyr"
      },
      "source": [
        "##Topic"
      ]
    },
    {
      "cell_type": "code",
      "metadata": {
        "colab": {
          "base_uri": "https://localhost:8080/"
        },
        "id": "LAa5d8UWvgFl",
        "outputId": "89f78f7d-eaaa-4071-eeb0-b21867d52542"
      },
      "source": [
        "model2 = LogisticRegression()\n",
        "model2.fit(X_train_encoded, y_train_topic)"
      ],
      "execution_count": null,
      "outputs": [
        {
          "output_type": "stream",
          "name": "stderr",
          "text": [
            "/usr/local/lib/python3.7/dist-packages/sklearn/linear_model/_logistic.py:940: ConvergenceWarning: lbfgs failed to converge (status=1):\n",
            "STOP: TOTAL NO. of ITERATIONS REACHED LIMIT.\n",
            "\n",
            "Increase the number of iterations (max_iter) or scale the data as shown in:\n",
            "    https://scikit-learn.org/stable/modules/preprocessing.html\n",
            "Please also refer to the documentation for alternative solver options:\n",
            "    https://scikit-learn.org/stable/modules/linear_model.html#logistic-regression\n",
            "  extra_warning_msg=_LOGISTIC_SOLVER_CONVERGENCE_MSG)\n"
          ]
        },
        {
          "output_type": "execute_result",
          "data": {
            "text/plain": [
              "LogisticRegression(C=1.0, class_weight=None, dual=False, fit_intercept=True,\n",
              "                   intercept_scaling=1, l1_ratio=None, max_iter=100,\n",
              "                   multi_class='auto', n_jobs=None, penalty='l2',\n",
              "                   random_state=None, solver='lbfgs', tol=0.0001, verbose=0,\n",
              "                   warm_start=False)"
            ]
          },
          "metadata": {},
          "execution_count": 15
        }
      ]
    },
    {
      "cell_type": "code",
      "metadata": {
        "colab": {
          "base_uri": "https://localhost:8080/"
        },
        "id": "_HkJ4aO1vgFm",
        "outputId": "5ce76796-cc78-45a2-d92a-9bea857365a8"
      },
      "source": [
        "y_topic_pred_dev = model2.predict(X_dev_encoded)\n",
        "y_topic_pred_test = model2.predict(X_test_encoded)\n",
        "from sklearn.metrics import classification_report\n",
        "target_names = ['Lecturer', 'Curriculum', 'Facility', 'others']\n",
        "print(classification_report(y_test_topic, y_topic_pred_test, target_names=target_names))"
      ],
      "execution_count": null,
      "outputs": [
        {
          "output_type": "stream",
          "name": "stdout",
          "text": [
            "              precision    recall  f1-score   support\n",
            "\n",
            "    Lecturer       0.85      0.97      0.91      2290\n",
            "  Curriculum       0.75      0.60      0.67       572\n",
            "    Facility       0.98      0.68      0.80       145\n",
            "      others       0.82      0.11      0.20       159\n",
            "\n",
            "    accuracy                           0.84      3166\n",
            "   macro avg       0.85      0.59      0.64      3166\n",
            "weighted avg       0.84      0.84      0.82      3166\n",
            "\n"
          ]
        }
      ]
    },
    {
      "cell_type": "markdown",
      "metadata": {
        "id": "EnKtWBXVuZrR"
      },
      "source": [
        "#SVM"
      ]
    },
    {
      "cell_type": "markdown",
      "metadata": {
        "id": "96kELqgyuoxy"
      },
      "source": [
        "##Sentiment"
      ]
    },
    {
      "cell_type": "code",
      "metadata": {
        "colab": {
          "base_uri": "https://localhost:8080/"
        },
        "id": "pT3cDuiBuhci",
        "outputId": "7cae7453-7f5e-44b9-b34a-a9fa124904f9"
      },
      "source": [
        "from sklearn import svm\n",
        "model1 = svm.SVC()\n",
        "model1.fit(X_train_encoded, y_train)"
      ],
      "execution_count": null,
      "outputs": [
        {
          "output_type": "execute_result",
          "data": {
            "text/plain": [
              "SVC(C=1.0, break_ties=False, cache_size=200, class_weight=None, coef0=0.0,\n",
              "    decision_function_shape='ovr', degree=3, gamma='scale', kernel='rbf',\n",
              "    max_iter=-1, probability=False, random_state=None, shrinking=True,\n",
              "    tol=0.001, verbose=False)"
            ]
          },
          "metadata": {},
          "execution_count": 17
        }
      ]
    },
    {
      "cell_type": "code",
      "metadata": {
        "id": "wace_m6-v79Q"
      },
      "source": [
        "y_pred_dev = model1.predict(X_dev_encoded)\n",
        "y_pred_test = model1.predict(X_test_encoded)"
      ],
      "execution_count": null,
      "outputs": []
    },
    {
      "cell_type": "code",
      "metadata": {
        "colab": {
          "base_uri": "https://localhost:8080/"
        },
        "id": "WdL3c3WHv79R",
        "outputId": "456bb8b8-e69b-4caa-d378-3151ba2f38f4"
      },
      "source": [
        "from sklearn.metrics import classification_report\n",
        "target_names = ['negative', 'neutral', 'positive']\n",
        "print(classification_report(y_test, y_pred_test, target_names=target_names))"
      ],
      "execution_count": null,
      "outputs": [
        {
          "output_type": "stream",
          "name": "stdout",
          "text": [
            "              precision    recall  f1-score   support\n",
            "\n",
            "    negative       0.81      0.95      0.88      1409\n",
            "     neutral       0.67      0.07      0.13       167\n",
            "    positive       0.92      0.86      0.89      1590\n",
            "\n",
            "    accuracy                           0.86      3166\n",
            "   macro avg       0.80      0.63      0.63      3166\n",
            "weighted avg       0.86      0.86      0.85      3166\n",
            "\n"
          ]
        }
      ]
    },
    {
      "cell_type": "markdown",
      "metadata": {
        "id": "IdYylQsHuqoi"
      },
      "source": [
        "##Topic"
      ]
    },
    {
      "cell_type": "code",
      "metadata": {
        "colab": {
          "base_uri": "https://localhost:8080/"
        },
        "id": "sAtz4Jq2urhC",
        "outputId": "ba6fce03-33cc-4b7a-804d-02626d783a92"
      },
      "source": [
        "model2 = svm.SVC()\n",
        "model2.fit(X_train_encoded, y_train_topic)"
      ],
      "execution_count": null,
      "outputs": [
        {
          "output_type": "execute_result",
          "data": {
            "text/plain": [
              "SVC(C=1.0, break_ties=False, cache_size=200, class_weight=None, coef0=0.0,\n",
              "    decision_function_shape='ovr', degree=3, gamma='scale', kernel='rbf',\n",
              "    max_iter=-1, probability=False, random_state=None, shrinking=True,\n",
              "    tol=0.001, verbose=False)"
            ]
          },
          "metadata": {},
          "execution_count": 20
        }
      ]
    },
    {
      "cell_type": "code",
      "metadata": {
        "colab": {
          "base_uri": "https://localhost:8080/"
        },
        "id": "BJtPVkZvwCUx",
        "outputId": "a611a839-b2f8-487b-e3a9-0d84b0391532"
      },
      "source": [
        "y_topic_pred_dev = model2.predict(X_dev_encoded)\n",
        "y_topic_pred_test = model2.predict(X_test_encoded)\n",
        "from sklearn.metrics import classification_report\n",
        "target_names = ['Lecturer', 'Curriculum', 'Facility', 'others']\n",
        "print(classification_report(y_test_topic, y_topic_pred_test, target_names=target_names))"
      ],
      "execution_count": null,
      "outputs": [
        {
          "output_type": "stream",
          "name": "stdout",
          "text": [
            "              precision    recall  f1-score   support\n",
            "\n",
            "    Lecturer       0.84      0.97      0.90      2290\n",
            "  Curriculum       0.77      0.54      0.63       572\n",
            "    Facility       0.98      0.72      0.83       145\n",
            "      others       0.65      0.16      0.26       159\n",
            "\n",
            "    accuracy                           0.84      3166\n",
            "   macro avg       0.81      0.60      0.66      3166\n",
            "weighted avg       0.83      0.84      0.82      3166\n",
            "\n"
          ]
        }
      ]
    },
    {
      "cell_type": "markdown",
      "metadata": {
        "id": "GkcPuUnREHNZ"
      },
      "source": [
        "# Gensim - Build simple word embedding"
      ]
    },
    {
      "cell_type": "code",
      "metadata": {
        "colab": {
          "base_uri": "https://localhost:8080/"
        },
        "id": "xr7u8ZzQESNG",
        "outputId": "7da0dca3-e0e1-4ed6-ccbd-dbf25e72c720"
      },
      "source": [
        "pip install gensim"
      ],
      "execution_count": null,
      "outputs": [
        {
          "output_type": "stream",
          "name": "stdout",
          "text": [
            "Requirement already satisfied: gensim in /usr/local/lib/python3.7/dist-packages (3.6.0)\n",
            "Requirement already satisfied: scipy>=0.18.1 in /usr/local/lib/python3.7/dist-packages (from gensim) (1.4.1)\n",
            "Requirement already satisfied: smart-open>=1.2.1 in /usr/local/lib/python3.7/dist-packages (from gensim) (5.2.1)\n",
            "Requirement already satisfied: numpy>=1.11.3 in /usr/local/lib/python3.7/dist-packages (from gensim) (1.19.5)\n",
            "Requirement already satisfied: six>=1.5.0 in /usr/local/lib/python3.7/dist-packages (from gensim) (1.15.0)\n"
          ]
        }
      ]
    },
    {
      "cell_type": "code",
      "metadata": {
        "colab": {
          "base_uri": "https://localhost:8080/"
        },
        "id": "tfV8J_VAK6l6",
        "outputId": "c10522db-57c3-4985-e9a3-ad4fa150bcc7"
      },
      "source": [
        "pip install pyvi"
      ],
      "execution_count": null,
      "outputs": [
        {
          "output_type": "stream",
          "name": "stdout",
          "text": [
            "Requirement already satisfied: pyvi in /usr/local/lib/python3.7/dist-packages (0.1.1)\n",
            "Requirement already satisfied: sklearn-crfsuite in /usr/local/lib/python3.7/dist-packages (from pyvi) (0.3.6)\n",
            "Requirement already satisfied: scikit-learn in /usr/local/lib/python3.7/dist-packages (from pyvi) (0.22.2.post1)\n",
            "Requirement already satisfied: numpy>=1.11.0 in /usr/local/lib/python3.7/dist-packages (from scikit-learn->pyvi) (1.19.5)\n",
            "Requirement already satisfied: scipy>=0.17.0 in /usr/local/lib/python3.7/dist-packages (from scikit-learn->pyvi) (1.4.1)\n",
            "Requirement already satisfied: joblib>=0.11 in /usr/local/lib/python3.7/dist-packages (from scikit-learn->pyvi) (1.0.1)\n",
            "Requirement already satisfied: six in /usr/local/lib/python3.7/dist-packages (from sklearn-crfsuite->pyvi) (1.15.0)\n",
            "Requirement already satisfied: python-crfsuite>=0.8.3 in /usr/local/lib/python3.7/dist-packages (from sklearn-crfsuite->pyvi) (0.9.7)\n",
            "Requirement already satisfied: tqdm>=2.0 in /usr/local/lib/python3.7/dist-packages (from sklearn-crfsuite->pyvi) (4.62.3)\n",
            "Requirement already satisfied: tabulate in /usr/local/lib/python3.7/dist-packages (from sklearn-crfsuite->pyvi) (0.8.9)\n"
          ]
        }
      ]
    },
    {
      "cell_type": "code",
      "metadata": {
        "id": "RFlE4QTCEfOg"
      },
      "source": [
        "from pyvi import ViTokenizer\n",
        "\n",
        "sentences = X_train.values\n",
        "\n",
        "tokenized_sentences = []\n",
        "\n",
        "for s in sentences:\n",
        "    tokenized_sentences.append(ViTokenizer.tokenize(s).split())"
      ],
      "execution_count": null,
      "outputs": []
    },
    {
      "cell_type": "code",
      "metadata": {
        "id": "gyt89g84FqKW"
      },
      "source": [
        "import multiprocessing\n",
        "from gensim.models import Word2Vec\n",
        "\n",
        "w2v_model = Word2Vec(min_count=20, window=2, size=300)\n",
        "w2v_model.build_vocab(tokenized_sentences)"
      ],
      "execution_count": null,
      "outputs": []
    },
    {
      "cell_type": "code",
      "metadata": {
        "colab": {
          "base_uri": "https://localhost:8080/"
        },
        "id": "6bh7WengF26j",
        "outputId": "76dc36c4-3e60-4fc8-891d-66559410349f"
      },
      "source": [
        "w2v_model.train(tokenized_sentences, total_examples=w2v_model.corpus_count, epochs=30, report_delay=1)"
      ],
      "execution_count": null,
      "outputs": [
        {
          "output_type": "execute_result",
          "data": {
            "text/plain": [
              "(2134009, 3851460)"
            ]
          },
          "metadata": {},
          "execution_count": 26
        }
      ]
    },
    {
      "cell_type": "code",
      "metadata": {
        "id": "0bXS6npQHEgr"
      },
      "source": [
        "w2v_model.wv.vocab"
      ],
      "execution_count": null,
      "outputs": []
    },
    {
      "cell_type": "code",
      "metadata": {
        "colab": {
          "base_uri": "https://localhost:8080/"
        },
        "id": "LxQOgTmZHlfL",
        "outputId": "4771aa4c-997d-4a8f-b226-9dc699596b43"
      },
      "source": [
        "w2v_model.wv.most_similar(positive=[\"giảng_dạy\", \"đồ_án\"], negative=[\"kiểm_tra\"], topn=1)"
      ],
      "execution_count": null,
      "outputs": [
        {
          "output_type": "execute_result",
          "data": {
            "text/plain": [
              "[('thái_độ', 0.4018787741661072)]"
            ]
          },
          "metadata": {},
          "execution_count": 28
        }
      ]
    },
    {
      "cell_type": "code",
      "metadata": {
        "id": "q4bSjVfQMIlc"
      },
      "source": [
        "w2v_model.wv.save_word2vec_format('w2v_vsfc.txt', binary=False)"
      ],
      "execution_count": null,
      "outputs": []
    },
    {
      "cell_type": "code",
      "metadata": {
        "colab": {
          "base_uri": "https://localhost:8080/"
        },
        "id": "dHHSvBhZM3aL",
        "outputId": "7cd76a19-fc83-444a-ffb0-06a27ba5891f"
      },
      "source": [
        "print(w2v_model['dạy'])"
      ],
      "execution_count": null,
      "outputs": [
        {
          "output_type": "stream",
          "name": "stdout",
          "text": [
            "[-0.42708403  0.07445538 -0.04411411 -0.47181442 -0.2134336   0.6281002\n",
            "  0.21444178 -0.29006228 -0.3117757  -0.03807165 -0.14678589  0.4533726\n",
            " -0.6762346  -0.66237235 -0.26767838 -0.5667023  -0.2950392   0.09185568\n",
            "  0.10606465  0.33412957  0.50765496  0.61676055 -0.02084394  0.32826817\n",
            "  0.18109238  0.01132492  0.10198927 -0.07249711  0.16204132 -0.51741\n",
            " -0.09100675  0.12178203 -0.15505698 -0.02578353  0.14996308 -0.05986993\n",
            "  0.41677228 -0.02423351  0.05576582  0.14291471 -0.16363423 -0.47598636\n",
            "  0.3773029  -0.3079837   0.16310608  0.43489632 -0.08791956  0.18114191\n",
            "  0.4711848  -0.14813364  0.1616567   0.06054015  0.25770822  0.09204377\n",
            "  0.24757017 -0.3798137  -0.29665282  0.2376459  -0.01592735  0.05235772\n",
            " -0.09334402  0.07207152  0.18745327 -0.3240077  -0.05941153  0.29323295\n",
            " -0.60213363 -0.2837838   0.4041973  -0.10896737 -0.12923975  0.02528441\n",
            "  0.16737418 -0.12820815  0.05663207 -0.06073336  0.36384785  0.07149682\n",
            "  0.36956125 -0.47528568  0.04575323  0.05450787 -0.5030258  -0.39806202\n",
            "  0.5077721   0.08746611  0.3232066   0.12164262  0.08459897 -0.34248894\n",
            " -0.22681125 -0.15782207  0.2110987   0.3399716   0.3146613   0.1474072\n",
            "  0.01876253 -0.4159883   0.35562393 -0.35167882 -0.34460044 -0.5227927\n",
            " -0.3425698  -0.09145296 -0.24477623  0.5228637   0.538611    0.22084646\n",
            " -0.07146433 -0.3643107  -0.23944521  0.2889388  -0.2439407  -0.11089662\n",
            "  0.3043406  -0.26960573  0.08164252 -0.13144599 -0.09671525 -0.03455774\n",
            " -0.03616022  0.2859132  -0.22679286  0.06444747  0.4502562   0.02471174\n",
            "  0.07563468 -0.17389661 -0.16740397  0.411294   -0.03442685 -0.2027274\n",
            "  0.02742691 -0.02855526 -0.37591746  0.37227255 -0.06350352  0.27389953\n",
            " -0.4267077   0.13364679  0.14326236 -0.31797236 -0.16178793 -0.4387412\n",
            " -0.10146504  0.14276826 -0.23611714 -0.13635361  0.06396177  0.2708148\n",
            " -0.05891247  0.57319397  0.01535237  0.5587722   0.06158656 -0.3638574\n",
            "  0.14760032  0.10443695 -0.0477973   0.34197587 -0.40866825 -0.30397522\n",
            "  0.45927235 -0.07326412  0.05710485 -0.04067518 -0.31857383 -0.14165477\n",
            "  0.24647215 -0.08427015  0.40765172  0.0565143  -0.13127472 -0.15455504\n",
            " -0.63718027 -0.52027196 -0.37613297  0.5003883   0.24134655  0.17189369\n",
            "  0.1973859  -0.12676874 -0.25415042 -0.01258172  0.48093343  0.31111103\n",
            "  0.36609745  0.4991942   0.2624577   0.31286994  0.03617065 -0.36757788\n",
            " -0.14696716 -0.35935184 -0.3053322  -0.05130707 -0.45151287 -0.220115\n",
            " -0.14653991 -0.56650954 -0.6471251  -0.5530445   0.5352775   0.38372767\n",
            " -0.29144827  0.47648346  0.16997209  0.2111728  -0.2701411  -0.57739943\n",
            "  0.13397907  0.28569642 -0.00410596  0.09555772 -0.04125844  0.16614033\n",
            "  0.24658523 -0.5098941   0.65147454 -0.04621576  0.4656023   0.120827\n",
            "  0.31608972 -0.08502002  0.58013415  0.0453878   0.11379837 -0.09865576\n",
            " -0.23847178  0.24986497  0.27149332 -0.21891281 -0.08121147  0.05776994\n",
            " -0.3070574   0.22442365  0.09423412  0.18761289 -0.06190064  0.43843144\n",
            " -0.3251208  -0.03710232  0.23008259 -0.3943195   0.21912915  0.0973015\n",
            "  0.02345523  0.7050385  -0.33296597  0.05465577  0.3126012   0.05442647\n",
            " -0.49857992  0.10893343  0.35339355  0.2609234  -0.22291277 -0.09848645\n",
            "  0.51884186 -0.34959736  0.29862514  0.54052186  0.19780065  0.08181407\n",
            " -0.27933067  0.01111856  0.04861581  0.46376613  0.29884803  0.134268\n",
            " -0.11076137  0.12008678 -0.28098756 -0.01131146  0.47534046  0.2735607\n",
            " -0.38134125  0.19853267  0.29000577  0.7941394   0.56835777 -0.0900486\n",
            "  0.01349914 -0.543667    0.24025413 -0.12451392  0.18651299 -0.3877832\n",
            " -0.1393872  -0.18567708 -0.28533724  0.09345634  0.05708228  0.01917769\n",
            "  0.20413953 -0.4003084   0.20404519 -0.0377242   0.21560663  0.4294349 ]\n"
          ]
        },
        {
          "output_type": "stream",
          "name": "stderr",
          "text": [
            "/usr/local/lib/python3.7/dist-packages/ipykernel_launcher.py:1: DeprecationWarning: Call to deprecated `__getitem__` (Method will be removed in 4.0.0, use self.wv.__getitem__() instead).\n",
            "  \"\"\"Entry point for launching an IPython kernel.\n"
          ]
        }
      ]
    },
    {
      "cell_type": "markdown",
      "metadata": {
        "id": "pOumWfnCvmbq"
      },
      "source": [
        "# Word embeding "
      ]
    },
    {
      "cell_type": "code",
      "metadata": {
        "colab": {
          "base_uri": "https://localhost:8080/"
        },
        "id": "j3bQUCnOF0lS",
        "outputId": "84d222a5-fc91-492e-fe4d-8fd09bba86ae"
      },
      "source": [
        "pip install pyvi"
      ],
      "execution_count": null,
      "outputs": [
        {
          "output_type": "stream",
          "name": "stdout",
          "text": [
            "Requirement already satisfied: pyvi in /usr/local/lib/python3.7/dist-packages (0.1.1)\n",
            "Requirement already satisfied: scikit-learn in /usr/local/lib/python3.7/dist-packages (from pyvi) (0.22.2.post1)\n",
            "Requirement already satisfied: sklearn-crfsuite in /usr/local/lib/python3.7/dist-packages (from pyvi) (0.3.6)\n",
            "Requirement already satisfied: scipy>=0.17.0 in /usr/local/lib/python3.7/dist-packages (from scikit-learn->pyvi) (1.4.1)\n",
            "Requirement already satisfied: joblib>=0.11 in /usr/local/lib/python3.7/dist-packages (from scikit-learn->pyvi) (1.0.1)\n",
            "Requirement already satisfied: numpy>=1.11.0 in /usr/local/lib/python3.7/dist-packages (from scikit-learn->pyvi) (1.19.5)\n",
            "Requirement already satisfied: tqdm>=2.0 in /usr/local/lib/python3.7/dist-packages (from sklearn-crfsuite->pyvi) (4.62.3)\n",
            "Requirement already satisfied: python-crfsuite>=0.8.3 in /usr/local/lib/python3.7/dist-packages (from sklearn-crfsuite->pyvi) (0.9.7)\n",
            "Requirement already satisfied: tabulate in /usr/local/lib/python3.7/dist-packages (from sklearn-crfsuite->pyvi) (0.8.9)\n",
            "Requirement already satisfied: six in /usr/local/lib/python3.7/dist-packages (from sklearn-crfsuite->pyvi) (1.15.0)\n"
          ]
        }
      ]
    },
    {
      "cell_type": "code",
      "metadata": {
        "id": "iqg4hdbtvn9g"
      },
      "source": [
        "# make vocabulary \n",
        "from pyvi import ViTokenizer\n",
        "\n",
        "V = []\n",
        "\n",
        "for t in X_train:\n",
        "    tokenized_sentence = ViTokenizer.tokenize(t)\n",
        "    V = V + tokenized_sentence.split()\n",
        "\n",
        "V = list(set(V))"
      ],
      "execution_count": null,
      "outputs": []
    },
    {
      "cell_type": "code",
      "metadata": {
        "colab": {
          "base_uri": "https://localhost:8080/"
        },
        "id": "9PisUp5ZF7et",
        "outputId": "88b66518-9a82-4d77-ecb6-4737ed7c65b8"
      },
      "source": [
        "len(V)"
      ],
      "execution_count": null,
      "outputs": [
        {
          "output_type": "execute_result",
          "data": {
            "text/plain": [
              "3704"
            ]
          },
          "metadata": {},
          "execution_count": 33
        }
      ]
    },
    {
      "cell_type": "markdown",
      "metadata": {
        "id": "VIBX2gU5Dqet"
      },
      "source": [
        "## Cach 1: Tu build "
      ]
    },
    {
      "cell_type": "code",
      "metadata": {
        "id": "OL3UL8Huw75-"
      },
      "source": [
        "# Building dictionary \n",
        "word_to_index = {w : (i+2) for i, w in enumerate(V)}\n",
        "\n",
        "word_to_index['UNK'] = 1\n",
        "word_to_index['PAD'] = 0\n",
        "\n",
        "# Build index2w\n",
        "index_to_word = {i: w for w, i in word_to_index.items()}"
      ],
      "execution_count": null,
      "outputs": []
    },
    {
      "cell_type": "code",
      "metadata": {
        "id": "utRj5mICGIBv",
        "colab": {
          "base_uri": "https://localhost:8080/"
        },
        "outputId": "0a0bbed8-c751-493b-bb99-0b36e9fe5bcd"
      },
      "source": [
        "word_to_index"
      ],
      "execution_count": null,
      "outputs": [
        {
          "output_type": "execute_result",
          "data": {
            "text/plain": [
              "{'giảng_đường': 2,\n",
              " 'điểm_cao': 3,\n",
              " 'hi_hi_đồ': 4,\n",
              " 'hội_thảo': 5,\n",
              " 'chú_trọng': 6,\n",
              " 'quy_định': 7,\n",
              " 'lẹ': 8,\n",
              " 'hát': 9,\n",
              " 'ưu_tiên': 10,\n",
              " 'bước': 11,\n",
              " 'giải_thuật': 12,\n",
              " 'thời_sự': 13,\n",
              " 'wzjwz307': 14,\n",
              " 'thành_tích': 15,\n",
              " 'thảm_họa': 16,\n",
              " 'khoa': 17,\n",
              " '245': 18,\n",
              " 'truy_cập': 19,\n",
              " 'chuyên_nghiệp': 20,\n",
              " 'cdio': 21,\n",
              " 'tăng_tốc_độ': 22,\n",
              " 'tác_động': 23,\n",
              " 'cơ_hội': 24,\n",
              " 'bó': 25,\n",
              " 'thực_tại': 26,\n",
              " 'giàng': 27,\n",
              " 'wzjwz153': 28,\n",
              " 'khâm_phục': 29,\n",
              " 'chép': 30,\n",
              " 'vuông': 31,\n",
              " 'ý_muốn': 32,\n",
              " 'home': 33,\n",
              " 'giữ': 34,\n",
              " 'một': 35,\n",
              " 'mạch': 36,\n",
              " 'giãng': 37,\n",
              " 'cọ': 38,\n",
              " 'trạng': 39,\n",
              " 'kỳ': 40,\n",
              " 'kiểm_chứng': 41,\n",
              " 'giấc': 42,\n",
              " 'nổi_nóng': 43,\n",
              " 'khung': 44,\n",
              " 'khảo_sát': 45,\n",
              " 'thấm': 46,\n",
              " 'dầy': 47,\n",
              " 'màn_hình': 48,\n",
              " 'song_ngữ': 49,\n",
              " 'kiêm': 50,\n",
              " '85': 51,\n",
              " 'tham_khảo': 52,\n",
              " 'phích': 53,\n",
              " 'vặt': 54,\n",
              " 'như_ý': 55,\n",
              " 'một_mạch': 56,\n",
              " 'wzjwz281': 57,\n",
              " 'toán_học': 58,\n",
              " 'có_điều': 59,\n",
              " 'chửi': 60,\n",
              " 'phức_tạp_hóa': 61,\n",
              " 'lịch_sử': 62,\n",
              " 'rễ': 63,\n",
              " 'nà': 64,\n",
              " 'kém': 65,\n",
              " 'ước_tính': 66,\n",
              " 'sưu_tầm': 67,\n",
              " 'chậm': 68,\n",
              " 'wzjwz116': 69,\n",
              " 'trợ': 70,\n",
              " 'lạ': 71,\n",
              " 'tham': 72,\n",
              " 'phone': 73,\n",
              " 'thì': 74,\n",
              " 'góc': 75,\n",
              " 'giơ': 76,\n",
              " 'dạnh': 77,\n",
              " 'wzjwz74': 78,\n",
              " 'cách_nhiệt_huyết': 79,\n",
              " 'ạ': 80,\n",
              " 'minh_bạch': 81,\n",
              " 'áp_đặt': 82,\n",
              " 'cảm_ơn': 83,\n",
              " 'phê': 84,\n",
              " 'bổ_sung': 85,\n",
              " 'nói_suông': 86,\n",
              " 'tiện': 87,\n",
              " 'sinh_động': 88,\n",
              " 'chuỗi': 89,\n",
              " 'thảo': 90,\n",
              " 'dục': 91,\n",
              " 'module': 92,\n",
              " 'tăng': 93,\n",
              " 'thự': 94,\n",
              " 'lỗi_thời': 95,\n",
              " 'chân': 96,\n",
              " 'soạn': 97,\n",
              " 'rõ_rệt': 98,\n",
              " 'wzjwz274': 99,\n",
              " 'phát_hiện': 100,\n",
              " 'wzjwz178': 101,\n",
              " 'sẵn_sàng': 102,\n",
              " 'nghiền_ngẫm': 103,\n",
              " 'tưởng_tượng': 104,\n",
              " 'ví_dụ': 105,\n",
              " 'hóa_hợp': 106,\n",
              " 'đóng_góp_ý_kiến': 107,\n",
              " 'bầu': 108,\n",
              " 'tự_ái': 109,\n",
              " 'wzjwz37': 110,\n",
              " 'giải': 111,\n",
              " 'tình': 112,\n",
              " 'good': 113,\n",
              " 'cảm_thấy': 114,\n",
              " 'vinh_dự': 115,\n",
              " 'siêng_năng': 116,\n",
              " 'công_minh': 117,\n",
              " 'nfc': 118,\n",
              " 'lời_giải': 119,\n",
              " 'giờ': 120,\n",
              " 'kính': 121,\n",
              " 'tốn': 122,\n",
              " 'code': 123,\n",
              " 'dần_dần': 124,\n",
              " 'lặp': 125,\n",
              " 'hướng': 126,\n",
              " 'tập': 127,\n",
              " 'thỉnh_thoảng': 128,\n",
              " 'có_chăng': 129,\n",
              " 'nhồi_sọ': 130,\n",
              " 'nóng_bức': 131,\n",
              " 'wzjwz18': 132,\n",
              " 'and': 133,\n",
              " 'kiểm_soát': 134,\n",
              " 'nói_chuyện': 135,\n",
              " 'khuyến_nghị': 136,\n",
              " 'wzjwz277': 137,\n",
              " 'nghĩ': 138,\n",
              " 'thực_hiện': 139,\n",
              " 'hình': 140,\n",
              " 'ghen': 141,\n",
              " '13': 142,\n",
              " 'wzjwz181': 143,\n",
              " 'soạn_thảo': 144,\n",
              " 'nhà': 145,\n",
              " 'đã': 146,\n",
              " 'thẳng_thắn': 147,\n",
              " 'funny': 148,\n",
              " 'sâu_rộng': 149,\n",
              " '(': 150,\n",
              " 'tư_duy': 151,\n",
              " 'màn': 152,\n",
              " 'rung': 153,\n",
              " '19': 154,\n",
              " 'đặp': 155,\n",
              " 'ngầu': 156,\n",
              " 'tê': 157,\n",
              " 'đơ': 158,\n",
              " 'sử_dụng': 159,\n",
              " 'công_bằng': 160,\n",
              " 'truyền_đạt': 161,\n",
              " 'phân_bổ': 162,\n",
              " 'chỉnh_đốn': 163,\n",
              " 'vấn': 164,\n",
              " 'đang': 165,\n",
              " 'những': 166,\n",
              " 'văn_hoá': 167,\n",
              " 'bảo_trì': 168,\n",
              " 'wzjwz89': 169,\n",
              " 'hồi_âm': 170,\n",
              " 'hư_hỏng': 171,\n",
              " 'có_hạn': 172,\n",
              " 'chair': 173,\n",
              " 'ngay': 174,\n",
              " 'hoà_đồng': 175,\n",
              " 'mức': 176,\n",
              " 'sai_khiến': 177,\n",
              " 'có_thể': 178,\n",
              " 'sách_vở': 179,\n",
              " 'pc': 180,\n",
              " 'yêu_mến': 181,\n",
              " 'giáo_án': 182,\n",
              " 'hạn': 183,\n",
              " '=': 184,\n",
              " 'thay_vì_thế': 185,\n",
              " 'thắng': 186,\n",
              " 'bé': 187,\n",
              " 'cao_độ': 188,\n",
              " 'tự_vệ': 189,\n",
              " 'nhỏ': 190,\n",
              " 'hình_tượng': 191,\n",
              " 'dàn': 192,\n",
              " 'quận': 193,\n",
              " 'đắng': 194,\n",
              " 'phần_nhiều': 195,\n",
              " 'chết_đuối': 196,\n",
              " 'hi_vọng': 197,\n",
              " 'submit': 198,\n",
              " 'hợp_tác': 199,\n",
              " 'wzjwz205': 200,\n",
              " 'kiên_quyết': 201,\n",
              " 'bóng': 202,\n",
              " 'quét': 203,\n",
              " 'wzjwz112': 204,\n",
              " 'dealine': 205,\n",
              " 'học_thuật': 206,\n",
              " 'thông_báo': 207,\n",
              " 'hết_lòng': 208,\n",
              " 'chán_chường': 209,\n",
              " 'nào': 210,\n",
              " 'giang': 211,\n",
              " 'chuẩn': 212,\n",
              " 'không': 213,\n",
              " 'điện_tử': 214,\n",
              " 'wzjwz317': 215,\n",
              " 'vì_thế': 216,\n",
              " 'wzjwz326': 217,\n",
              " 'quăng': 218,\n",
              " 'quá_trình_báo_cáo': 219,\n",
              " 'mải': 220,\n",
              " 'số': 221,\n",
              " 'wzjwz36': 222,\n",
              " 'khái_niệm': 223,\n",
              " 'ô_nhiễm': 224,\n",
              " 'treo': 225,\n",
              " 'khó_tính': 226,\n",
              " 'tác': 227,\n",
              " 'tập_thể': 228,\n",
              " '-': 229,\n",
              " 'sắp_xếp': 230,\n",
              " 'chữ_viết': 231,\n",
              " 'viết': 232,\n",
              " 'dự_án': 233,\n",
              " 'wzjwz28': 234,\n",
              " 'codefun': 235,\n",
              " 'sai_lầm': 236,\n",
              " 'wzjwz227': 237,\n",
              " '4': 238,\n",
              " 'trigger': 239,\n",
              " 'nhu_cầu_tự': 240,\n",
              " 'công_trường': 241,\n",
              " '20': 242,\n",
              " 'wzjwz124': 243,\n",
              " 'tận_lực': 244,\n",
              " 'lịch_sự': 245,\n",
              " 'trục_trặc': 246,\n",
              " 'học_sinh_hoạt_động': 247,\n",
              " 'ngập': 248,\n",
              " 'tinh_thần_học_tập': 249,\n",
              " 'wzjwz295': 250,\n",
              " 'âu': 251,\n",
              " 'de2': 252,\n",
              " 'bộ': 253,\n",
              " 'gt': 254,\n",
              " 'xấu': 255,\n",
              " 'lớn': 256,\n",
              " 'phạt': 257,\n",
              " 'nản': 258,\n",
              " 'hạnh_phúc': 259,\n",
              " 'cao_cấp': 260,\n",
              " 'lung_tung': 261,\n",
              " 'đồ': 262,\n",
              " 'comment': 263,\n",
              " 'pl': 264,\n",
              " 'động_năng_nổ': 265,\n",
              " 'cảm': 266,\n",
              " 'đếm': 267,\n",
              " 'ấn_tượng': 268,\n",
              " 'miễn_sao': 269,\n",
              " 'đơn_giản': 270,\n",
              " 'trăn_trở': 271,\n",
              " 'ân_cần': 272,\n",
              " 'hiền': 273,\n",
              " 'nguyên': 274,\n",
              " 'gờ': 275,\n",
              " 'khuyết_điểm': 276,\n",
              " 'vắng_mặt': 277,\n",
              " 'best': 278,\n",
              " 'tự_giác': 279,\n",
              " 'quy_củ': 280,\n",
              " 'sống': 281,\n",
              " 'phó_thác': 282,\n",
              " 'cau': 283,\n",
              " 'severside': 284,\n",
              " 'nạp': 285,\n",
              " 'có_ích': 286,\n",
              " 'rập_khuôn': 287,\n",
              " 'cơ_hội_thao_tác': 288,\n",
              " 'writing': 289,\n",
              " 'miệt_mài': 290,\n",
              " 'driver': 291,\n",
              " 'phụ_thuộc': 292,\n",
              " 'nán': 293,\n",
              " 'paper': 294,\n",
              " 'nhiệt_huyết': 295,\n",
              " 'xao': 296,\n",
              " 'cẩn_thận': 297,\n",
              " 'định_nghĩa': 298,\n",
              " 'học_vị': 299,\n",
              " 'wzjwz79': 300,\n",
              " 'crt': 301,\n",
              " 'hồn': 302,\n",
              " 'bất_bình_thường': 303,\n",
              " '12': 304,\n",
              " '2009': 305,\n",
              " 'tinh_thần': 306,\n",
              " 'tế_nhị': 307,\n",
              " 'khuyên': 308,\n",
              " 'cám_ơn': 309,\n",
              " 'wzjwz323': 310,\n",
              " 'bôi': 311,\n",
              " 'khích_lệ': 312,\n",
              " 'chéo': 313,\n",
              " 'đạt': 314,\n",
              " 'giai_đoạn': 315,\n",
              " 'wzjwz139': 316,\n",
              " 'trừu_tượng': 317,\n",
              " 'class': 318,\n",
              " 'các': 319,\n",
              " 'điều_chỉnh': 320,\n",
              " 'cho_nên': 321,\n",
              " 'wzjwz138': 322,\n",
              " 'giỏi': 323,\n",
              " 'khí_chất': 324,\n",
              " 'dúng': 325,\n",
              " 'chuẩn_bị': 326,\n",
              " 'ích_lợi': 327,\n",
              " 'liền': 328,\n",
              " 'tư': 329,\n",
              " 'bó_tay': 330,\n",
              " 'đổi_mới': 331,\n",
              " 'suy_luận': 332,\n",
              " 'vô_bổ': 333,\n",
              " 'kết_quả_thực_hành': 334,\n",
              " 'thời_điểm': 335,\n",
              " 'wzjwz103': 336,\n",
              " 'khu': 337,\n",
              " 'tốc_độ': 338,\n",
              " 'cnpm': 339,\n",
              " 'thường': 340,\n",
              " 'hỏi_đáp': 341,\n",
              " 'kiểm_duyệt': 342,\n",
              " 'protues': 343,\n",
              " 'kết_nối_mạng': 344,\n",
              " 'dẽ': 345,\n",
              " 'màng': 346,\n",
              " 'trở_thành': 347,\n",
              " 'version': 348,\n",
              " 'thất_vọng': 349,\n",
              " 'hài': 350,\n",
              " 'jquery': 351,\n",
              " 'thử': 352,\n",
              " 'ánh_sáng': 353,\n",
              " 't_t': 354,\n",
              " 'biện_pháp': 355,\n",
              " 'trường_vốn': 356,\n",
              " 'sẵn': 357,\n",
              " 'phía': 358,\n",
              " 'chúc': 359,\n",
              " 'doubledot': 360,\n",
              " 'gấp_rút': 361,\n",
              " 'vệ_tinh': 362,\n",
              " 'hoc': 363,\n",
              " 'chắt_lọc': 364,\n",
              " 'thuyết_phục': 365,\n",
              " 'prolog': 366,\n",
              " 'chót': 367,\n",
              " 'vô_số': 368,\n",
              " 'bất_lợi': 369,\n",
              " 'kỳ_vọng': 370,\n",
              " 'wzjwz177': 371,\n",
              " 'tâm_huyết': 372,\n",
              " 'mới': 373,\n",
              " 'tối_ưu': 374,\n",
              " 'ngon': 375,\n",
              " 'giám': 376,\n",
              " '2007': 377,\n",
              " 'đóng_góp': 378,\n",
              " 'chấm': 379,\n",
              " 'quan_sát': 380,\n",
              " '1h': 381,\n",
              " 'quá_trình': 382,\n",
              " 'ảo': 383,\n",
              " 'nhà_trường_hủy_môn': 384,\n",
              " 'phép': 385,\n",
              " 'mẫu': 386,\n",
              " 'chế_tạo': 387,\n",
              " 'đồng_thời': 388,\n",
              " 'lơ': 389,\n",
              " 'ưa_thích': 390,\n",
              " 'chắc_hẳn': 391,\n",
              " 'xóa_file': 392,\n",
              " 'năng_nổ': 393,\n",
              " 'lỡ': 394,\n",
              " 'giật': 395,\n",
              " 'dẫn_chứng_minh_hoạ': 396,\n",
              " 'phương_hướng': 397,\n",
              " 'sô': 398,\n",
              " 'thực': 399,\n",
              " 'ảo_hóa': 400,\n",
              " 'từ': 401,\n",
              " 'wzjwz158': 402,\n",
              " 'kỹ_sư': 403,\n",
              " 'thiếu_cập': 404,\n",
              " 'danh_sách': 405,\n",
              " 'wzjwz264': 406,\n",
              " 'rát': 407,\n",
              " 'chức_năng': 408,\n",
              " 'wzjwz276': 409,\n",
              " 'chênh_lệch': 410,\n",
              " 'vừa': 411,\n",
              " 'chỉnh_sửa': 412,\n",
              " 'trẻ_con': 413,\n",
              " 'khản': 414,\n",
              " 'turnitindotcom': 415,\n",
              " 'vủi_vẻ': 416,\n",
              " '1983': 417,\n",
              " 'kỹ_thuật': 418,\n",
              " 'bấy_nhiêu': 419,\n",
              " 'gần': 420,\n",
              " 'thế_thì': 421,\n",
              " 'thi_thoảng': 422,\n",
              " 'wzjwz69': 423,\n",
              " 'chính_tả': 424,\n",
              " '9h45': 425,\n",
              " 'nay': 426,\n",
              " 'wzjwz310': 427,\n",
              " 'mốt': 428,\n",
              " 'kỳ_quặc': 429,\n",
              " 'wzjwz68': 430,\n",
              " 'trò_chuyện': 431,\n",
              " 'sinh': 432,\n",
              " 'đó': 433,\n",
              " 'nha': 434,\n",
              " 'phối_hợp': 435,\n",
              " 'bất_cập': 436,\n",
              " 'design': 437,\n",
              " 'ảnh_hưởng': 438,\n",
              " 'pha_trò': 439,\n",
              " '–': 440,\n",
              " 'mối': 441,\n",
              " 'đội': 442,\n",
              " 'thành_viên': 443,\n",
              " '2h': 444,\n",
              " 'quá_tải': 445,\n",
              " 'chủ_quan': 446,\n",
              " 'võ': 447,\n",
              " 'hôi': 448,\n",
              " 'web': 449,\n",
              " 'lỳ': 450,\n",
              " 'cảnh_cáo': 451,\n",
              " 'thực_hiện_tại': 452,\n",
              " 'kính_trọng': 453,\n",
              " 'assignments': 454,\n",
              " 'làm_bằng': 455,\n",
              " 'lập_lờ': 456,\n",
              " 'wzjwz312': 457,\n",
              " 'tự_tin': 458,\n",
              " 'cực_khổ': 459,\n",
              " 'tiệm': 460,\n",
              " 'in': 461,\n",
              " 'slide': 462,\n",
              " 'rõ': 463,\n",
              " 'đẹp': 464,\n",
              " 'hay_biết': 465,\n",
              " 'bâng_quơ': 466,\n",
              " 'copy': 467,\n",
              " 'ấm_áp': 468,\n",
              " 'nhất_quán': 469,\n",
              " 'tùy_hứng': 470,\n",
              " 'ỷ_lại': 471,\n",
              " 'tính_năng': 472,\n",
              " 'sữa': 473,\n",
              " '7h15': 474,\n",
              " 'nâng': 475,\n",
              " 'vector': 476,\n",
              " 'gộp': 477,\n",
              " 'wzjwz78': 478,\n",
              " 'công_tâm': 479,\n",
              " 'muốn': 480,\n",
              " 'gây_rối': 481,\n",
              " 'dài_dòng': 482,\n",
              " '15': 483,\n",
              " 'tâm': 484,\n",
              " 'nhầm': 485,\n",
              " 'khác_biệt': 486,\n",
              " '80': 487,\n",
              " 'cân_nhắc': 488,\n",
              " 'cửa': 489,\n",
              " 'bổ_túc': 490,\n",
              " 'căn_bản': 491,\n",
              " '60': 492,\n",
              " 'wzjwz120': 493,\n",
              " 'hay': 494,\n",
              " 'colonsurprise': 495,\n",
              " 'tăng_cường_độ': 496,\n",
              " 'wzjwz163': 497,\n",
              " 'lớp': 498,\n",
              " 'extensive': 499,\n",
              " 'đi_đôi': 500,\n",
              " 'thực_tế_hóa': 501,\n",
              " 'mỗi': 502,\n",
              " '45': 503,\n",
              " 'thiện': 504,\n",
              " 'truyện': 505,\n",
              " 'dotnet': 506,\n",
              " 'lạc_hậu': 507,\n",
              " 'trường_hợp_lý_thuyết': 508,\n",
              " 'gặp': 509,\n",
              " 'hầu_hết': 510,\n",
              " 'khách_hàng': 511,\n",
              " 'hình_như': 512,\n",
              " 'tỉnh': 513,\n",
              " 'bạnem': 514,\n",
              " 'tầm_cỡ': 515,\n",
              " 'nhạt_nhẽo': 516,\n",
              " 'thoải': 517,\n",
              " 'đỡ': 518,\n",
              " 'ước': 519,\n",
              " 'truy': 520,\n",
              " 'trí_tuệ': 521,\n",
              " 'nguy_cơ': 522,\n",
              " 'everything': 523,\n",
              " 'thông_tin': 524,\n",
              " 'đấy': 525,\n",
              " 'chút_xíu': 526,\n",
              " 'vấn_đáp': 527,\n",
              " 'đúng_đắn': 528,\n",
              " 'thân_thiện': 529,\n",
              " 'quạt_máy': 530,\n",
              " 'xung_quanh': 531,\n",
              " 'the': 532,\n",
              " 'tiềm_ẩn': 533,\n",
              " 'giấy': 534,\n",
              " 'y': 535,\n",
              " 'thích_hợp': 536,\n",
              " 'cực_kỳ': 537,\n",
              " 'hồi': 538,\n",
              " 'nắng_nóng': 539,\n",
              " 'ôn_luyện': 540,\n",
              " 'nhận_diện': 541,\n",
              " 'hiền_lành': 542,\n",
              " 'thua': 543,\n",
              " 'nghiêm_túc': 544,\n",
              " 'thách_đố': 545,\n",
              " 'bàn_phím': 546,\n",
              " 'not': 547,\n",
              " 'cứu': 548,\n",
              " 'nhiên': 549,\n",
              " 'wzjwz195': 550,\n",
              " 'đào_tạo': 551,\n",
              " 'wzjwz121': 552,\n",
              " 'hoàn_thành_công_việc': 553,\n",
              " 'chia_sẻ': 554,\n",
              " 'microsoft': 555,\n",
              " 'đáng': 556,\n",
              " 'xinh_đẹp': 557,\n",
              " 'lý': 558,\n",
              " 'hưng_phấn': 559,\n",
              " 'lấy': 560,\n",
              " 'cuả': 561,\n",
              " 'khoảng': 562,\n",
              " 'cố': 563,\n",
              " 'thay_đổi': 564,\n",
              " 'ý_kiến': 565,\n",
              " 'quát': 566,\n",
              " 'mắt': 567,\n",
              " 'khi': 568,\n",
              " 'trung_tâm': 569,\n",
              " 'huyến': 570,\n",
              " 'chu_đáo': 571,\n",
              " 'cao_su': 572,\n",
              " 'khôg': 573,\n",
              " 'tuyệt_vời': 574,\n",
              " 'hữu_ích': 575,\n",
              " 'ăn_ý': 576,\n",
              " 'bảng_hiệu_quả': 577,\n",
              " 'sub': 578,\n",
              " 'như_vậy': 579,\n",
              " 'mùa': 580,\n",
              " 'wzjwz224': 581,\n",
              " 'đánh_giá': 582,\n",
              " 'chạy': 583,\n",
              " 'cọc': 584,\n",
              " 'được': 585,\n",
              " 'phấn_đấu': 586,\n",
              " 'liệu': 587,\n",
              " 'thư_viện': 588,\n",
              " 'nội_dụng': 589,\n",
              " 'nẻo': 590,\n",
              " 'wzjwz131': 591,\n",
              " 'cụ_thể': 592,\n",
              " 'hạt': 593,\n",
              " 'lát': 594,\n",
              " 'nghiêm_khắc': 595,\n",
              " 'chuyên': 596,\n",
              " 'ghép': 597,\n",
              " 'đễ': 598,\n",
              " 'nghiêm_trọng': 599,\n",
              " 'ngoài': 600,\n",
              " 'công_việc': 601,\n",
              " 'bridge': 602,\n",
              " 'chuông': 603,\n",
              " 'rộng_lớn': 604,\n",
              " 'xác_thực': 605,\n",
              " 'trưa': 606,\n",
              " 'hoàn_toàn': 607,\n",
              " 'món': 608,\n",
              " 'cập': 609,\n",
              " 'ôm_đồm': 610,\n",
              " 'tài_liệu': 611,\n",
              " 'thi_viết': 612,\n",
              " 'khoan_dung': 613,\n",
              " 'nhớ': 614,\n",
              " 'thu': 615,\n",
              " 'sở': 616,\n",
              " 'cùng': 617,\n",
              " 'hứng_thú': 618,\n",
              " 'forum': 619,\n",
              " 'mở_rộng': 620,\n",
              " 'hết_mình': 621,\n",
              " 'biệt': 622,\n",
              " 'sơ_sài': 623,\n",
              " 'hy_vọng': 624,\n",
              " 'phân_quyền': 625,\n",
              " 'assembly': 626,\n",
              " '7h20': 627,\n",
              " 'không_kích_thích': 628,\n",
              " 'sáo_rỗng': 629,\n",
              " 'ngữ_pháp': 630,\n",
              " 'dễ_tính': 631,\n",
              " 'máy_tính': 632,\n",
              " 'vạ': 633,\n",
              " 'một_cách': 634,\n",
              " 'tiền_lương': 635,\n",
              " 'quà': 636,\n",
              " 'thơi': 637,\n",
              " 'bản_đồ': 638,\n",
              " 'kỹ': 639,\n",
              " 'dán': 640,\n",
              " 'quản': 641,\n",
              " 'khắt_khe': 642,\n",
              " 'xây_dựng': 643,\n",
              " 'topic': 644,\n",
              " 'thật_ra': 645,\n",
              " 'nghĩa': 646,\n",
              " 'wzjwz130': 647,\n",
              " 'tụi': 648,\n",
              " 'trợ_giảng_dạy': 649,\n",
              " 'kí_hiệu': 650,\n",
              " 'vậy_mà': 651,\n",
              " 'đầu_tư': 652,\n",
              " 'cải_tiến': 653,\n",
              " 'nhập_nhằng': 654,\n",
              " 'hụt': 655,\n",
              " 'dày': 656,\n",
              " 'phong_thái': 657,\n",
              " 'dồi_dào': 658,\n",
              " 'đi_sát': 659,\n",
              " 'cần_thiết_kế': 660,\n",
              " 'wzjwz321': 661,\n",
              " 'khách_quan': 662,\n",
              " 'nhân_tạo': 663,\n",
              " '13h30': 664,\n",
              " 'mờ_nhạt': 665,\n",
              " 'tốt_tính': 666,\n",
              " 'hú': 667,\n",
              " 'nói': 668,\n",
              " 'đảm_nhận': 669,\n",
              " 'tính_toán': 670,\n",
              " 'lặt_vặt': 671,\n",
              " 'sao_chép': 672,\n",
              " 'chủ_nhật': 673,\n",
              " 'mỏi': 674,\n",
              " 'tiếp_tục': 675,\n",
              " 'máy_nổ': 676,\n",
              " 'ké': 677,\n",
              " 'nhìn_chung': 678,\n",
              " 'khái_quát': 679,\n",
              " 'sản_phẩm': 680,\n",
              " 'chủ_đề_dẫn': 681,\n",
              " 'thiết_bị': 682,\n",
              " 'học_sinh': 683,\n",
              " 'động_cơ_học_tập': 684,\n",
              " 'ngay_thẳng': 685,\n",
              " 'hệ_thống_thiết_bị': 686,\n",
              " 'php': 687,\n",
              " 'thử_hỏi': 688,\n",
              " 'firmware': 689,\n",
              " 'giời': 690,\n",
              " '2011': 691,\n",
              " 'nữ': 692,\n",
              " 'xuyên': 693,\n",
              " 'cũ_kỹ': 694,\n",
              " 'hôm_nay': 695,\n",
              " 'bổ_ích': 696,\n",
              " 'bao_giờ': 697,\n",
              " 'wzjwz262': 698,\n",
              " 'xa_rời': 699,\n",
              " 'hẳn': 700,\n",
              " 'lước': 701,\n",
              " 'nope': 702,\n",
              " 'chuyên_sâu': 703,\n",
              " 'bục': 704,\n",
              " 'một_lèo': 705,\n",
              " 'trúng': 706,\n",
              " 'hướng_dẫn_giải': 707,\n",
              " '>': 708,\n",
              " 'wzjwz273': 709,\n",
              " '2k3': 710,\n",
              " 'thêm': 711,\n",
              " 'vững': 712,\n",
              " 'tưởng_chừng': 713,\n",
              " 'chang': 714,\n",
              " 'kaydotvn': 715,\n",
              " 'đại_số': 716,\n",
              " 'công_dụng': 717,\n",
              " 'android': 718,\n",
              " 'yêu_cầu_tự': 719,\n",
              " 'ghi': 720,\n",
              " 'thời_hạn': 721,\n",
              " 'bạn_bè': 722,\n",
              " 'hi_hi_rớt': 723,\n",
              " 'gợi_mở': 724,\n",
              " 'tiếc': 725,\n",
              " 'header': 726,\n",
              " 'phát_triển': 727,\n",
              " 'sai_bảo': 728,\n",
              " 'chị': 729,\n",
              " 'wzjwz146': 730,\n",
              " 'đề_án': 731,\n",
              " 'nhầm_lẫn': 732,\n",
              " 'giả': 733,\n",
              " 'bản_thân': 734,\n",
              " 'tà_la': 735,\n",
              " 'cứng_nhắc': 736,\n",
              " 'chèn': 737,\n",
              " 'cam_chịu': 738,\n",
              " 'trùng_lắp': 739,\n",
              " 'tinh': 740,\n",
              " 'mây': 741,\n",
              " 'vận_dụng': 742,\n",
              " 'nói_riêng': 743,\n",
              " 'vui_tính': 744,\n",
              " 'cổng': 745,\n",
              " 'trôi': 746,\n",
              " 'chơi': 747,\n",
              " 'chứ': 748,\n",
              " 'tình_hình_học_tập': 749,\n",
              " 'gán': 750,\n",
              " 'team': 751,\n",
              " 'tiêp': 752,\n",
              " 'siêng': 753,\n",
              " 'ngày_càng': 754,\n",
              " 'show': 755,\n",
              " 'năm_học': 756,\n",
              " 'máy': 757,\n",
              " 'thi_cử': 758,\n",
              " 'quyết_định': 759,\n",
              " 'top': 760,\n",
              " 'điểm_chuẩn_xác': 761,\n",
              " 'vô_ích': 762,\n",
              " 'silde': 763,\n",
              " 'phương_án': 764,\n",
              " 'english': 765,\n",
              " 'vì_sao': 766,\n",
              " 'wzjwz226': 767,\n",
              " 'cuốn_hút': 768,\n",
              " 'gọi_là': 769,\n",
              " 'tình_trạng': 770,\n",
              " 'rút_gọn': 771,\n",
              " 'khuôn_mẫu': 772,\n",
              " '92': 773,\n",
              " 'ngôn_ngữ': 774,\n",
              " 'kịp': 775,\n",
              " 'srum': 776,\n",
              " 'nhiệt_tâm': 777,\n",
              " 'cô_giáo': 778,\n",
              " 'biểu': 779,\n",
              " 'vui': 780,\n",
              " 'thị_trường': 781,\n",
              " 'động_não': 782,\n",
              " 'nản_chí': 783,\n",
              " 'wzjwz231': 784,\n",
              " 'trò': 785,\n",
              " 'ồn': 786,\n",
              " 'khuyến_khích': 787,\n",
              " 'wzjwz81': 788,\n",
              " 'lý_thú': 789,\n",
              " 'trể': 790,\n",
              " 'bấm': 791,\n",
              " 'wzjwz174': 792,\n",
              " 'hết': 793,\n",
              " 'thuận_lợi': 794,\n",
              " 'giọng': 795,\n",
              " 'trang_trí': 796,\n",
              " 'if': 797,\n",
              " 'chưa': 798,\n",
              " 'phút': 799,\n",
              " 'hệ': 800,\n",
              " 'tăng_cường': 801,\n",
              " 'bớt': 802,\n",
              " 'duy_trì': 803,\n",
              " 'kỹ_năng': 804,\n",
              " 'trùng': 805,\n",
              " 'wzjwz129': 806,\n",
              " 'sơ': 807,\n",
              " 'lời_giải_đáp': 808,\n",
              " 'đăng': 809,\n",
              " 'wzjwz99': 810,\n",
              " 'cơn': 811,\n",
              " 'ghi_nhận': 812,\n",
              " 'nhiệt': 813,\n",
              " 'love': 814,\n",
              " 'lao_đao': 815,\n",
              " 'sỡ': 816,\n",
              " 'kéo_điểm': 817,\n",
              " 'gói': 818,\n",
              " 'bảo_đảm': 819,\n",
              " 'để_dành': 820,\n",
              " 'vertical': 821,\n",
              " 'ùn': 822,\n",
              " 'mệt_mỏi': 823,\n",
              " 'đông': 824,\n",
              " 'truyền_tải': 825,\n",
              " 'thiên': 826,\n",
              " 'trách': 827,\n",
              " 'ít_ra': 828,\n",
              " '2013': 829,\n",
              " 'bài_tập': 830,\n",
              " 'tan': 831,\n",
              " 'mò': 832,\n",
              " 'trưởng': 833,\n",
              " 'phàn_nàn': 834,\n",
              " 'wzjwz104': 835,\n",
              " '49': 836,\n",
              " 'tỏ': 837,\n",
              " 'từng': 838,\n",
              " 'thực_hành_động': 839,\n",
              " 'mù_mờ': 840,\n",
              " 'khối_lượng': 841,\n",
              " 'trên': 842,\n",
              " 'rất': 843,\n",
              " 'nhờ': 844,\n",
              " 'test': 845,\n",
              " 'hù': 846,\n",
              " '320k': 847,\n",
              " 'công_bố': 848,\n",
              " 'tốt': 849,\n",
              " 'ram': 850,\n",
              " 'không_gian': 851,\n",
              " 'uổng': 852,\n",
              " 'bụng': 853,\n",
              " 'dùm': 854,\n",
              " 'tạt': 855,\n",
              " 'dung': 856,\n",
              " 'đồ_án': 857,\n",
              " 'kinh': 858,\n",
              " 'cụ': 859,\n",
              " 'chân_tình': 860,\n",
              " 'thực_trạng': 861,\n",
              " 'tập_trung_học': 862,\n",
              " 'phổ_biến': 863,\n",
              " 'unikey': 864,\n",
              " 'yêu_quý': 865,\n",
              " 'xã': 866,\n",
              " 'dây': 867,\n",
              " 'js': 868,\n",
              " 'nặng_nề': 869,\n",
              " 'chốn': 870,\n",
              " 'chẳng_hạn': 871,\n",
              " 'nợ': 872,\n",
              " 'thiện_cảm': 873,\n",
              " 'đột_xuất': 874,\n",
              " 'đươc': 875,\n",
              " 'trợ_giúp': 876,\n",
              " 'khoá': 877,\n",
              " 'nhất_là': 878,\n",
              " 'tin': 879,\n",
              " 'lối': 880,\n",
              " 'giải_thích': 881,\n",
              " 'sau': 882,\n",
              " 'xài': 883,\n",
              " 'lĩnh': 884,\n",
              " 'thành_ra': 885,\n",
              " 'hâm_mộ': 886,\n",
              " 'mô': 887,\n",
              " 'thế': 888,\n",
              " 'kỳ_lạ': 889,\n",
              " 'vở': 890,\n",
              " 'như_thường_xuyên': 891,\n",
              " 'thực_ra': 892,\n",
              " 'may_mắn': 893,\n",
              " 'ghế': 894,\n",
              " 'thiết_thực': 895,\n",
              " 'trau_chuốt': 896,\n",
              " 'đại': 897,\n",
              " 'dễ_dãi': 898,\n",
              " 'kiếm_hiệp': 899,\n",
              " 'wzjwz86': 900,\n",
              " 'một_vài': 901,\n",
              " 'reo': 902,\n",
              " 'tầm_vóc': 903,\n",
              " 'chán_ngán': 904,\n",
              " 'wzjwz71': 905,\n",
              " 'cao_trào': 906,\n",
              " 'trăc': 907,\n",
              " 'lắp': 908,\n",
              " 'đứng': 909,\n",
              " 'bốc_thăm': 910,\n",
              " 'bận_rộn': 911,\n",
              " 'wzjwz209': 912,\n",
              " 'cần_thiết_thực_sự': 913,\n",
              " 'xưng_tớ': 914,\n",
              " 'giạy': 915,\n",
              " 'nhí_nhảnh': 916,\n",
              " 'thuần': 917,\n",
              " 'cân_xứng': 918,\n",
              " 'free': 919,\n",
              " 'nếu': 920,\n",
              " 'học_viên': 921,\n",
              " 'table': 922,\n",
              " 'y_như': 923,\n",
              " 'hẹn': 924,\n",
              " 'nhanh_chóng': 925,\n",
              " 'chắc_chắn': 926,\n",
              " 'thế_là': 927,\n",
              " 'mẹ': 928,\n",
              " 'chuẩn_hóa': 929,\n",
              " 'lòng_vòng': 930,\n",
              " 'không_thể_nào': 931,\n",
              " 'wzjwz26': 932,\n",
              " 'ẩn_ý': 933,\n",
              " 'làm_biếng': 934,\n",
              " 'cày_cuốc': 935,\n",
              " 'programing': 936,\n",
              " 'wzjwz229': 937,\n",
              " 'wzjwz1': 938,\n",
              " 'kỹ_lưỡng': 939,\n",
              " 'cười': 940,\n",
              " 'hiểu_biết': 941,\n",
              " 'bận': 942,\n",
              " 'đế': 943,\n",
              " 'colonsad': 944,\n",
              " '1': 945,\n",
              " 'update': 946,\n",
              " 'tủ': 947,\n",
              " '7': 948,\n",
              " 'wrede': 949,\n",
              " 'tin_tức': 950,\n",
              " 'nhận': 951,\n",
              " 'giận_dỗi': 952,\n",
              " 'lẽ': 953,\n",
              " 'vói': 954,\n",
              " 'hỗ_trợ_giảng_dạy': 955,\n",
              " 'tiếp_thu': 956,\n",
              " 'quá': 957,\n",
              " 'ấy': 958,\n",
              " 'nhu_cầu': 959,\n",
              " 'đi_sâu': 960,\n",
              " 'thúy': 961,\n",
              " 'tự_lập': 962,\n",
              " 'thẩy': 963,\n",
              " 'học_phần': 964,\n",
              " 'tổng_số': 965,\n",
              " 'bật': 966,\n",
              " '64': 967,\n",
              " 'mật_mã': 968,\n",
              " 'kiễn': 969,\n",
              " 'tự_nhiên': 970,\n",
              " 'lãnh_đạm': 971,\n",
              " 'giây': 972,\n",
              " 'đống': 973,\n",
              " 'lỗi': 974,\n",
              " 'vai_trò': 975,\n",
              " '2015': 976,\n",
              " 'dừng': 977,\n",
              " 'theo_dõi': 978,\n",
              " 'khoá_luận': 979,\n",
              " 'giảng_kỹ': 980,\n",
              " 'tài_năng': 981,\n",
              " 'lực': 982,\n",
              " 'naive': 983,\n",
              " 'văn_hóa': 984,\n",
              " 'fraction': 985,\n",
              " 'kéo_dài': 986,\n",
              " 'cha': 987,\n",
              " 'wzjwz190': 988,\n",
              " 'nguyên_tắc': 989,\n",
              " 'sao': 990,\n",
              " 'xuống_cấp': 991,\n",
              " 'chuyển': 992,\n",
              " 'cute': 993,\n",
              " 'hăng_hái': 994,\n",
              " 'liều': 995,\n",
              " 'semimar': 996,\n",
              " '?': 997,\n",
              " 'đùa': 998,\n",
              " 'sinh_viên': 999,\n",
              " 'tra_tấn': 1000,\n",
              " 'đáp_ứng': 1001,\n",
              " ...}"
            ]
          },
          "metadata": {},
          "execution_count": 35
        }
      ]
    },
    {
      "cell_type": "code",
      "metadata": {
        "colab": {
          "base_uri": "https://localhost:8080/"
        },
        "id": "aMxuufRDGa_L",
        "outputId": "1852fe1e-4565-4784-bffc-c6643be9c31e"
      },
      "source": [
        "X_train.values"
      ],
      "execution_count": null,
      "outputs": [
        {
          "output_type": "execute_result",
          "data": {
            "text/plain": [
              "array(['slide giáo trình đầy đủ .',\n",
              "       'nhiệt tình giảng dạy , gần gũi với sinh viên .',\n",
              "       'đi học đầy đủ full điểm chuyên cần .', ...,\n",
              "       'giao bài tập quá nhiều .', 'giáo viên dạy dễ hiểu , nhiệt tình .',\n",
              "       'gói gọn doubledot hay , tận tình , phù hợp với mọi trình độ cũng như nhu cầu môn học .'],\n",
              "      dtype=object)"
            ]
          },
          "metadata": {},
          "execution_count": 36
        }
      ]
    },
    {
      "cell_type": "code",
      "metadata": {
        "colab": {
          "base_uri": "https://localhost:8080/",
          "height": 35
        },
        "id": "nPWUKKuOGirN",
        "outputId": "0a231f1b-da08-4a82-ead0-43398d87f84f"
      },
      "source": [
        "from pyvi import ViTokenizer\n",
        "\n",
        "ViTokenizer.tokenize(\"slide giáo trình đầy đủ \")"
      ],
      "execution_count": null,
      "outputs": [
        {
          "output_type": "execute_result",
          "data": {
            "application/vnd.google.colaboratory.intrinsic+json": {
              "type": "string"
            },
            "text/plain": [
              "'slide giáo_trình đầy_đủ'"
            ]
          },
          "metadata": {},
          "execution_count": 37
        }
      ]
    },
    {
      "cell_type": "code",
      "metadata": {
        "colab": {
          "base_uri": "https://localhost:8080/"
        },
        "id": "exZPdh8bHB-a",
        "outputId": "ab972dc9-aff4-4a2a-eeee-9cc058a85e1c"
      },
      "source": [
        "t = \"slide giáo_trình đầy_đủ\"\n",
        "t.split()"
      ],
      "execution_count": null,
      "outputs": [
        {
          "output_type": "execute_result",
          "data": {
            "text/plain": [
              "['slide', 'giáo_trình', 'đầy_đủ']"
            ]
          },
          "metadata": {},
          "execution_count": 38
        }
      ]
    },
    {
      "cell_type": "code",
      "metadata": {
        "colab": {
          "base_uri": "https://localhost:8080/"
        },
        "id": "xNvK3SiNHLJD",
        "outputId": "3ebce5a4-b18a-4df4-c380-0e7b86985593"
      },
      "source": [
        "word_to_index['đầy_đủ']"
      ],
      "execution_count": null,
      "outputs": [
        {
          "output_type": "execute_result",
          "data": {
            "text/plain": [
              "3405"
            ]
          },
          "metadata": {},
          "execution_count": 39
        }
      ]
    },
    {
      "cell_type": "code",
      "metadata": {
        "id": "cBR7358SHUWO"
      },
      "source": [
        "t_encode = [1996, 1097,  3242, 0, 0 ,0, 0 ]"
      ],
      "execution_count": null,
      "outputs": []
    },
    {
      "cell_type": "code",
      "metadata": {
        "colab": {
          "base_uri": "https://localhost:8080/"
        },
        "id": "9xootZL-Hx_V",
        "outputId": "4b60a085-67c6-48b4-e04e-48e33ca0c489"
      },
      "source": [
        "word_to_index[\"PAD\"]"
      ],
      "execution_count": null,
      "outputs": [
        {
          "output_type": "execute_result",
          "data": {
            "text/plain": [
              "0"
            ]
          },
          "metadata": {},
          "execution_count": 41
        }
      ]
    },
    {
      "cell_type": "code",
      "metadata": {
        "id": "28LxthfKyBr6"
      },
      "source": [
        "from tensorflow.keras.preprocessing.sequence import pad_sequences\n",
        "from pyvi import ViTokenizer\n",
        "\n",
        "max_len = 100\n",
        "\n",
        "def encoding(X):\n",
        "    sentences = []\n",
        "    \n",
        "    for t in X:\n",
        "        # tach tu \n",
        "        tokenized_sentence = ViTokenizer.tokenize(t)\n",
        "        sentences.append(tokenized_sentence)\n",
        "    \n",
        "    X = []\n",
        "    for s in sentences:\n",
        "        sent = []\n",
        "        for w in s.split():\n",
        "            try:\n",
        "                sent.append(word_to_index[w])\n",
        "            except:\n",
        "                sent.append(word_to_index[\"UNK\"])\n",
        "        X.append(sent)\n",
        "    \n",
        "    # Padding du lieu theo do dai cau (maxlen)\n",
        "    X = pad_sequences(maxlen = max_len, sequences = X, padding = \"post\", value = word_to_index[\"PAD\"])\n",
        "\n",
        "    return X"
      ],
      "execution_count": null,
      "outputs": []
    },
    {
      "cell_type": "code",
      "metadata": {
        "id": "z1aUdK5e7XvV"
      },
      "source": [
        "X_train_encoded = encoding(X_train)\n",
        "X_dev_encoded = encoding(X_dev)\n",
        "X_test_encoded = encoding(X_test)"
      ],
      "execution_count": null,
      "outputs": []
    },
    {
      "cell_type": "code",
      "metadata": {
        "colab": {
          "base_uri": "https://localhost:8080/"
        },
        "id": "7ETiP9ho7Xvf",
        "outputId": "5b6cf157-752a-4b93-f2be-cac1c22d3866"
      },
      "source": [
        "X_train_encoded"
      ],
      "execution_count": null,
      "outputs": [
        {
          "output_type": "execute_result",
          "data": {
            "text/plain": [
              "array([[ 462, 3326, 3405, ...,    0,    0,    0],\n",
              "       [1975, 1151, 1561, ...,    0,    0,    0],\n",
              "       [1089, 2727, 3405, ...,    0,    0,    0],\n",
              "       ...,\n",
              "       [2247,  830,  957, ...,    0,    0,    0],\n",
              "       [2530, 1925, 3027, ...,    0,    0,    0],\n",
              "       [ 818, 2066,  360, ...,    0,    0,    0]], dtype=int32)"
            ]
          },
          "metadata": {},
          "execution_count": 44
        }
      ]
    },
    {
      "cell_type": "markdown",
      "metadata": {
        "id": "jTaUvgX27Xvf"
      },
      "source": [
        "##Sentiment"
      ]
    },
    {
      "cell_type": "code",
      "metadata": {
        "colab": {
          "base_uri": "https://localhost:8080/"
        },
        "id": "wPQDRAoU7Xvg",
        "outputId": "b13d1c05-11ea-436e-863b-962b03ae2707"
      },
      "source": [
        "from keras.layers import Dense, Embedding, Flatten\n",
        "from keras.models import Model, Input\n",
        "from keras.initializers import Constant\n",
        "\n",
        "num_words = len(word_to_index)\n",
        "input = Input(shape = (max_len, ))\n",
        "emb = Embedding(input_dim=num_words+1,\n",
        "                    output_dim=300,\n",
        "                    input_length=max_len)(input)\n",
        "flat = Flatten()(emb)\n",
        "output = Dense(3, activation=\"sigmoid\")(flat)\n",
        "\n",
        "model = Model(input, output)\n",
        "model.compile(optimizer=\"adam\", loss='binary_crossentropy', metrics=['binary_accuracy'])\n",
        "\n",
        "model.summary()"
      ],
      "execution_count": null,
      "outputs": [
        {
          "output_type": "stream",
          "name": "stdout",
          "text": [
            "Model: \"model\"\n",
            "_________________________________________________________________\n",
            "Layer (type)                 Output Shape              Param #   \n",
            "=================================================================\n",
            "input_1 (InputLayer)         [(None, 100)]             0         \n",
            "_________________________________________________________________\n",
            "embedding (Embedding)        (None, 100, 300)          1112100   \n",
            "_________________________________________________________________\n",
            "flatten (Flatten)            (None, 30000)             0         \n",
            "_________________________________________________________________\n",
            "dense (Dense)                (None, 3)                 90003     \n",
            "=================================================================\n",
            "Total params: 1,202,103\n",
            "Trainable params: 1,202,103\n",
            "Non-trainable params: 0\n",
            "_________________________________________________________________\n"
          ]
        }
      ]
    },
    {
      "cell_type": "code",
      "metadata": {
        "colab": {
          "base_uri": "https://localhost:8080/"
        },
        "id": "qdIlFIY07Xvg",
        "outputId": "7a0fa93f-8ec6-4f5d-88df-b13bf2b37ed3"
      },
      "source": [
        "from tensorflow.keras.utils import to_categorical\n",
        "\n",
        "model.fit(X_train_encoded, to_categorical(y_train, num_classes=3), \n",
        "          validation_data=(X_dev_encoded, to_categorical(y_dev, num_classes=3)), \n",
        "          batch_size=128, epochs=10)\n"
      ],
      "execution_count": null,
      "outputs": [
        {
          "output_type": "stream",
          "name": "stdout",
          "text": [
            "Epoch 1/10\n",
            "90/90 [==============================] - 4s 41ms/step - loss: 0.3693 - binary_accuracy: 0.8385 - val_loss: 0.2326 - val_binary_accuracy: 0.9143\n",
            "Epoch 2/10\n",
            "90/90 [==============================] - 3s 39ms/step - loss: 0.1902 - binary_accuracy: 0.9355 - val_loss: 0.1856 - val_binary_accuracy: 0.9332\n",
            "Epoch 3/10\n",
            "90/90 [==============================] - 3s 38ms/step - loss: 0.1510 - binary_accuracy: 0.9482 - val_loss: 0.1749 - val_binary_accuracy: 0.9368\n",
            "Epoch 4/10\n",
            "90/90 [==============================] - 3s 39ms/step - loss: 0.1259 - binary_accuracy: 0.9584 - val_loss: 0.1736 - val_binary_accuracy: 0.9375\n",
            "Epoch 5/10\n",
            "90/90 [==============================] - 3s 39ms/step - loss: 0.1066 - binary_accuracy: 0.9645 - val_loss: 0.1715 - val_binary_accuracy: 0.9379\n",
            "Epoch 6/10\n",
            "90/90 [==============================] - 3s 38ms/step - loss: 0.0903 - binary_accuracy: 0.9718 - val_loss: 0.1793 - val_binary_accuracy: 0.9383\n",
            "Epoch 7/10\n",
            "90/90 [==============================] - 3s 39ms/step - loss: 0.0773 - binary_accuracy: 0.9763 - val_loss: 0.1771 - val_binary_accuracy: 0.9389\n",
            "Epoch 8/10\n",
            "90/90 [==============================] - 3s 38ms/step - loss: 0.0660 - binary_accuracy: 0.9807 - val_loss: 0.1837 - val_binary_accuracy: 0.9391\n",
            "Epoch 9/10\n",
            "90/90 [==============================] - 3s 39ms/step - loss: 0.0568 - binary_accuracy: 0.9846 - val_loss: 0.1864 - val_binary_accuracy: 0.9370\n",
            "Epoch 10/10\n",
            "90/90 [==============================] - 3s 38ms/step - loss: 0.0495 - binary_accuracy: 0.9870 - val_loss: 0.1929 - val_binary_accuracy: 0.9349\n"
          ]
        },
        {
          "output_type": "execute_result",
          "data": {
            "text/plain": [
              "<keras.callbacks.History at 0x7fc03ade4110>"
            ]
          },
          "metadata": {},
          "execution_count": 46
        }
      ]
    },
    {
      "cell_type": "code",
      "metadata": {
        "id": "_ES44qi47Xvg"
      },
      "source": [
        "import numpy as np\n",
        "y_pred_test = model.predict(X_test_encoded)\n",
        "y_pred_test = np.argmax(y_pred_test, axis=-1)"
      ],
      "execution_count": null,
      "outputs": []
    },
    {
      "cell_type": "code",
      "metadata": {
        "colab": {
          "base_uri": "https://localhost:8080/"
        },
        "id": "JtdOQ_z17Xvg",
        "outputId": "b764d99b-e335-4747-f0b8-f9bdf030f88c"
      },
      "source": [
        "from sklearn.metrics import classification_report\n",
        "target_names = ['negative', 'neutral', 'positive']\n",
        "print(classification_report(y_test, y_pred_test, target_names=target_names))"
      ],
      "execution_count": null,
      "outputs": [
        {
          "output_type": "stream",
          "name": "stdout",
          "text": [
            "              precision    recall  f1-score   support\n",
            "\n",
            "    negative       0.89      0.92      0.91      1409\n",
            "     neutral       0.58      0.27      0.37       167\n",
            "    positive       0.90      0.93      0.91      1590\n",
            "\n",
            "    accuracy                           0.89      3166\n",
            "   macro avg       0.79      0.71      0.73      3166\n",
            "weighted avg       0.88      0.89      0.88      3166\n",
            "\n"
          ]
        }
      ]
    },
    {
      "cell_type": "markdown",
      "metadata": {
        "id": "l_lph_c67Xvh"
      },
      "source": [
        "##Topic"
      ]
    },
    {
      "cell_type": "code",
      "metadata": {
        "colab": {
          "base_uri": "https://localhost:8080/"
        },
        "id": "9m52WHpZ7Xvh",
        "outputId": "32fd1627-070a-4243-d30d-683b1bf3e816"
      },
      "source": [
        "from keras.layers import Dense, Embedding, Flatten\n",
        "from keras.models import Model, Input\n",
        "from keras.initializers import Constant\n",
        "\n",
        "num_words = len(word_to_index)\n",
        "input = Input(shape = (max_len, ))\n",
        "emb = Embedding(input_dim=num_words+1,\n",
        "                    output_dim=300,\n",
        "                    input_length=max_len)(input)\n",
        "flat = Flatten()(emb)\n",
        "output = Dense(4, activation=\"sigmoid\")(flat)\n",
        "\n",
        "model = Model(input, output)\n",
        "model.compile(optimizer=\"adam\", loss='binary_crossentropy', metrics=['binary_accuracy'])\n",
        "\n",
        "model.summary()"
      ],
      "execution_count": null,
      "outputs": [
        {
          "output_type": "stream",
          "name": "stdout",
          "text": [
            "Model: \"model_1\"\n",
            "_________________________________________________________________\n",
            "Layer (type)                 Output Shape              Param #   \n",
            "=================================================================\n",
            "input_2 (InputLayer)         [(None, 100)]             0         \n",
            "_________________________________________________________________\n",
            "embedding_1 (Embedding)      (None, 100, 300)          1112100   \n",
            "_________________________________________________________________\n",
            "flatten_1 (Flatten)          (None, 30000)             0         \n",
            "_________________________________________________________________\n",
            "dense_1 (Dense)              (None, 4)                 120004    \n",
            "=================================================================\n",
            "Total params: 1,232,104\n",
            "Trainable params: 1,232,104\n",
            "Non-trainable params: 0\n",
            "_________________________________________________________________\n"
          ]
        }
      ]
    },
    {
      "cell_type": "code",
      "metadata": {
        "colab": {
          "base_uri": "https://localhost:8080/"
        },
        "id": "5vWKIbxG7Xvh",
        "outputId": "fb76f4a4-03e8-4974-c825-347319c41a0d"
      },
      "source": [
        "from tensorflow.keras.utils import to_categorical\n",
        "\n",
        "model.fit(X_train_encoded, to_categorical(y_train_topic, num_classes=4), \n",
        "          validation_data=(X_dev_encoded, to_categorical(y_dev_topic, num_classes=4)), \n",
        "          batch_size=128, epochs=10)"
      ],
      "execution_count": null,
      "outputs": [
        {
          "output_type": "stream",
          "name": "stdout",
          "text": [
            "Epoch 1/10\n",
            "90/90 [==============================] - 4s 39ms/step - loss: 0.3022 - binary_accuracy: 0.8723 - val_loss: 0.2094 - val_binary_accuracy: 0.9128\n",
            "Epoch 2/10\n",
            "90/90 [==============================] - 3s 37ms/step - loss: 0.1772 - binary_accuracy: 0.9306 - val_loss: 0.1654 - val_binary_accuracy: 0.9338\n",
            "Epoch 3/10\n",
            "90/90 [==============================] - 3s 37ms/step - loss: 0.1344 - binary_accuracy: 0.9507 - val_loss: 0.1553 - val_binary_accuracy: 0.9371\n",
            "Epoch 4/10\n",
            "90/90 [==============================] - 3s 37ms/step - loss: 0.1107 - binary_accuracy: 0.9606 - val_loss: 0.1552 - val_binary_accuracy: 0.9365\n",
            "Epoch 5/10\n",
            "90/90 [==============================] - 3s 37ms/step - loss: 0.0926 - binary_accuracy: 0.9678 - val_loss: 0.1579 - val_binary_accuracy: 0.9362\n",
            "Epoch 6/10\n",
            "90/90 [==============================] - 3s 37ms/step - loss: 0.0776 - binary_accuracy: 0.9746 - val_loss: 0.1650 - val_binary_accuracy: 0.9338\n",
            "Epoch 7/10\n",
            "90/90 [==============================] - 3s 38ms/step - loss: 0.0654 - binary_accuracy: 0.9800 - val_loss: 0.1703 - val_binary_accuracy: 0.9322\n",
            "Epoch 8/10\n",
            "90/90 [==============================] - 3s 37ms/step - loss: 0.0554 - binary_accuracy: 0.9840 - val_loss: 0.1789 - val_binary_accuracy: 0.9315\n",
            "Epoch 9/10\n",
            "90/90 [==============================] - 3s 38ms/step - loss: 0.0476 - binary_accuracy: 0.9862 - val_loss: 0.1851 - val_binary_accuracy: 0.9304\n",
            "Epoch 10/10\n",
            "90/90 [==============================] - 3s 38ms/step - loss: 0.0411 - binary_accuracy: 0.9887 - val_loss: 0.1953 - val_binary_accuracy: 0.9294\n"
          ]
        },
        {
          "output_type": "execute_result",
          "data": {
            "text/plain": [
              "<keras.callbacks.History at 0x7fc03897e290>"
            ]
          },
          "metadata": {},
          "execution_count": 50
        }
      ]
    },
    {
      "cell_type": "code",
      "metadata": {
        "id": "En7QuQkD7Xvi"
      },
      "source": [
        "import numpy as np\n",
        "y_topic_pred_test = model.predict(X_test_encoded)\n",
        "y_topic_pred_test = np.argmax(y_topic_pred_test, axis=-1)"
      ],
      "execution_count": null,
      "outputs": []
    },
    {
      "cell_type": "code",
      "metadata": {
        "colab": {
          "base_uri": "https://localhost:8080/"
        },
        "id": "pPcogFm87Xvi",
        "outputId": "1454440c-8ab1-4726-de7c-d087b091890a"
      },
      "source": [
        "from sklearn.metrics import classification_report\n",
        "target_names = ['Lecturer', 'Curriculum', 'Facility', 'others']\n",
        "print(classification_report(y_test_topic, y_topic_pred_test, target_names=target_names))"
      ],
      "execution_count": null,
      "outputs": [
        {
          "output_type": "stream",
          "name": "stdout",
          "text": [
            "              precision    recall  f1-score   support\n",
            "\n",
            "    Lecturer       0.93      0.92      0.92      2290\n",
            "  Curriculum       0.70      0.77      0.73       572\n",
            "    Facility       0.94      0.93      0.94       145\n",
            "      others       0.52      0.37      0.43       159\n",
            "\n",
            "    accuracy                           0.87      3166\n",
            "   macro avg       0.77      0.75      0.76      3166\n",
            "weighted avg       0.87      0.87      0.87      3166\n",
            "\n"
          ]
        }
      ]
    },
    {
      "cell_type": "markdown",
      "metadata": {
        "id": "10vuN8WWDuAS"
      },
      "source": [
        "## Cach 2: dung ham co san trong Keras "
      ]
    },
    {
      "cell_type": "code",
      "metadata": {
        "id": "oUBrW8tb3S4M"
      },
      "source": [
        "from tensorflow.keras.preprocessing.sequence import pad_sequences\n",
        "from pyvi import ViTokenizer\n",
        "from keras.preprocessing.text import Tokenizer\n",
        "\n",
        "max_len = 100\n",
        "\n",
        "\n",
        "word_tokenizer = Tokenizer(oov_token=-1)\n",
        "word_tokenizer.fit_on_texts(X_train)\n",
        "\n",
        "word_2_index = word_tokenizer.word_index\n",
        "word_2_index['pad'] = 0\n",
        "word_2_index['unk'] = -1\n",
        "\n",
        "\n",
        "index_to_word = {i: w for w, i in word_to_index.items()}\n",
        "\n",
        "def encoding(X):\n",
        "    sentences = []\n",
        "    \n",
        "    for t in X:\n",
        "        tokenized_sentence = ViTokenizer.tokenize(t)\n",
        "        sentences.append(tokenized_sentence)\n",
        "    \n",
        "    X = word_tokenizer.texts_to_sequences(sentences)\n",
        "    X = pad_sequences(maxlen = max_len, sequences = X, padding = \"post\", value = word_2_index['pad'])\n",
        "\n",
        "    return X"
      ],
      "execution_count": null,
      "outputs": []
    },
    {
      "cell_type": "code",
      "metadata": {
        "id": "AwzbnA5kyjx2"
      },
      "source": [
        "X_train_encoded = encoding(X_train)\n",
        "X_dev_encoded = encoding(X_dev)\n",
        "X_test_encoded = encoding(X_test)"
      ],
      "execution_count": null,
      "outputs": []
    },
    {
      "cell_type": "code",
      "metadata": {
        "id": "7RC0pNS0IuMd",
        "colab": {
          "base_uri": "https://localhost:8080/"
        },
        "outputId": "24162674-d008-4f6a-d266-860a7c70aeab"
      },
      "source": [
        "X_train_encoded"
      ],
      "execution_count": null,
      "outputs": [
        {
          "output_type": "execute_result",
          "data": {
            "text/plain": [
              "array([[ 120,   46,   52, ...,    0,    0,    0],\n",
              "       [  14,    9,    3, ...,    0,    0,    0],\n",
              "       [ 100,    7,  123, ...,    0,    0,    0],\n",
              "       ...,\n",
              "       [ 333,    8,   18, ...,    0,    0,    0],\n",
              "       [  46,    2,    4, ...,    0,    0,    0],\n",
              "       [1295,  505,  293, ...,    0,    0,    0]], dtype=int32)"
            ]
          },
          "metadata": {},
          "execution_count": 55
        }
      ]
    },
    {
      "cell_type": "markdown",
      "metadata": {
        "id": "F1A2UZfEiXQS"
      },
      "source": [
        "##Sentiment"
      ]
    },
    {
      "cell_type": "code",
      "metadata": {
        "colab": {
          "base_uri": "https://localhost:8080/"
        },
        "id": "BiYZ5u0Oyu-j",
        "outputId": "0128ca03-0017-4811-af49-7dc0f2118c7e"
      },
      "source": [
        "from keras.layers import Dense, Embedding, Flatten\n",
        "from keras.models import Model, Input\n",
        "from keras.initializers import Constant\n",
        "\n",
        "num_words = len(word_2_index)\n",
        "input = Input(shape = (max_len, ))\n",
        "emb = Embedding(input_dim=num_words+1,\n",
        "                    output_dim=300,\n",
        "                    input_length=max_len)(input)\n",
        "flat = Flatten()(emb)\n",
        "output = Dense(3, activation=\"sigmoid\")(flat)\n",
        "\n",
        "model = Model(input, output)\n",
        "model.compile(optimizer=\"adam\", loss='binary_crossentropy', metrics=['binary_accuracy'])\n",
        "\n",
        "model.summary()"
      ],
      "execution_count": null,
      "outputs": [
        {
          "output_type": "stream",
          "name": "stdout",
          "text": [
            "Model: \"model_2\"\n",
            "_________________________________________________________________\n",
            "Layer (type)                 Output Shape              Param #   \n",
            "=================================================================\n",
            "input_3 (InputLayer)         [(None, 100)]             0         \n",
            "_________________________________________________________________\n",
            "embedding_2 (Embedding)      (None, 100, 300)          747600    \n",
            "_________________________________________________________________\n",
            "flatten_2 (Flatten)          (None, 30000)             0         \n",
            "_________________________________________________________________\n",
            "dense_2 (Dense)              (None, 3)                 90003     \n",
            "=================================================================\n",
            "Total params: 837,603\n",
            "Trainable params: 837,603\n",
            "Non-trainable params: 0\n",
            "_________________________________________________________________\n"
          ]
        }
      ]
    },
    {
      "cell_type": "code",
      "metadata": {
        "colab": {
          "base_uri": "https://localhost:8080/"
        },
        "id": "RwtsZbUDy_jN",
        "outputId": "8ad6e55a-2a4b-46b2-add5-bf468336c9e3"
      },
      "source": [
        "from tensorflow.keras.utils import to_categorical\n",
        "\n",
        "model.fit(X_train_encoded, to_categorical(y_train, num_classes=3), \n",
        "          validation_data=(X_dev_encoded, to_categorical(y_dev, num_classes=3)), \n",
        "          batch_size=128, epochs=10)\n"
      ],
      "execution_count": null,
      "outputs": [
        {
          "output_type": "stream",
          "name": "stdout",
          "text": [
            "Epoch 1/10\n",
            "90/90 [==============================] - 4s 38ms/step - loss: 0.3670 - binary_accuracy: 0.8369 - val_loss: 0.2375 - val_binary_accuracy: 0.9175\n",
            "Epoch 2/10\n",
            "90/90 [==============================] - 3s 36ms/step - loss: 0.1921 - binary_accuracy: 0.9347 - val_loss: 0.1876 - val_binary_accuracy: 0.9345\n",
            "Epoch 3/10\n",
            "90/90 [==============================] - 3s 36ms/step - loss: 0.1558 - binary_accuracy: 0.9470 - val_loss: 0.1756 - val_binary_accuracy: 0.9385\n",
            "Epoch 4/10\n",
            "90/90 [==============================] - 3s 35ms/step - loss: 0.1341 - binary_accuracy: 0.9545 - val_loss: 0.1703 - val_binary_accuracy: 0.9398\n",
            "Epoch 5/10\n",
            "90/90 [==============================] - 3s 36ms/step - loss: 0.1163 - binary_accuracy: 0.9619 - val_loss: 0.1733 - val_binary_accuracy: 0.9377\n",
            "Epoch 6/10\n",
            "90/90 [==============================] - 3s 36ms/step - loss: 0.1005 - binary_accuracy: 0.9670 - val_loss: 0.1737 - val_binary_accuracy: 0.9402\n",
            "Epoch 7/10\n",
            "90/90 [==============================] - 3s 35ms/step - loss: 0.0872 - binary_accuracy: 0.9734 - val_loss: 0.1807 - val_binary_accuracy: 0.9372\n",
            "Epoch 8/10\n",
            "90/90 [==============================] - 3s 36ms/step - loss: 0.0754 - binary_accuracy: 0.9777 - val_loss: 0.1845 - val_binary_accuracy: 0.9375\n",
            "Epoch 9/10\n",
            "90/90 [==============================] - 3s 35ms/step - loss: 0.0659 - binary_accuracy: 0.9810 - val_loss: 0.1909 - val_binary_accuracy: 0.9339\n",
            "Epoch 10/10\n",
            "90/90 [==============================] - 3s 35ms/step - loss: 0.0582 - binary_accuracy: 0.9840 - val_loss: 0.1988 - val_binary_accuracy: 0.9330\n"
          ]
        },
        {
          "output_type": "execute_result",
          "data": {
            "text/plain": [
              "<keras.callbacks.History at 0x7fc038756910>"
            ]
          },
          "metadata": {},
          "execution_count": 57
        }
      ]
    },
    {
      "cell_type": "code",
      "metadata": {
        "id": "c4VJu-_0zCE7"
      },
      "source": [
        "import numpy as np\n",
        "y_pred_test = model.predict(X_test_encoded)\n",
        "y_pred_test = np.argmax(y_pred_test, axis=-1)"
      ],
      "execution_count": null,
      "outputs": []
    },
    {
      "cell_type": "code",
      "metadata": {
        "colab": {
          "base_uri": "https://localhost:8080/"
        },
        "id": "oJK5zPzlzLIc",
        "outputId": "799cc0ec-445c-413a-a30d-dc479f86e19f"
      },
      "source": [
        "from sklearn.metrics import classification_report\n",
        "target_names = ['negative', 'neutral', 'positive']\n",
        "print(classification_report(y_test, y_pred_test, target_names=target_names))"
      ],
      "execution_count": null,
      "outputs": [
        {
          "output_type": "stream",
          "name": "stdout",
          "text": [
            "              precision    recall  f1-score   support\n",
            "\n",
            "    negative       0.88      0.93      0.91      1409\n",
            "     neutral       0.60      0.17      0.27       167\n",
            "    positive       0.90      0.92      0.91      1590\n",
            "\n",
            "    accuracy                           0.89      3166\n",
            "   macro avg       0.80      0.68      0.70      3166\n",
            "weighted avg       0.88      0.89      0.88      3166\n",
            "\n"
          ]
        }
      ]
    },
    {
      "cell_type": "markdown",
      "metadata": {
        "id": "3181RYKviauW"
      },
      "source": [
        "##Topic"
      ]
    },
    {
      "cell_type": "code",
      "metadata": {
        "colab": {
          "base_uri": "https://localhost:8080/"
        },
        "id": "pshPMIPSaMs4",
        "outputId": "f5d76993-48bc-4fa0-872e-cdf65e7ff699"
      },
      "source": [
        "from keras.layers import Dense, Embedding, Flatten\n",
        "from keras.models import Model, Input\n",
        "from keras.initializers import Constant\n",
        "\n",
        "num_words = len(word_2_index)\n",
        "input = Input(shape = (max_len, ))\n",
        "emb = Embedding(input_dim=num_words+1,\n",
        "                    output_dim=300,\n",
        "                    input_length=max_len)(input)\n",
        "flat = Flatten()(emb)\n",
        "output = Dense(4, activation=\"sigmoid\")(flat)\n",
        "\n",
        "model = Model(input, output)\n",
        "model.compile(optimizer=\"adam\", loss='binary_crossentropy', metrics=['binary_accuracy'])\n",
        "\n",
        "model.summary()"
      ],
      "execution_count": null,
      "outputs": [
        {
          "output_type": "stream",
          "name": "stdout",
          "text": [
            "Model: \"model_3\"\n",
            "_________________________________________________________________\n",
            "Layer (type)                 Output Shape              Param #   \n",
            "=================================================================\n",
            "input_4 (InputLayer)         [(None, 100)]             0         \n",
            "_________________________________________________________________\n",
            "embedding_3 (Embedding)      (None, 100, 300)          747600    \n",
            "_________________________________________________________________\n",
            "flatten_3 (Flatten)          (None, 30000)             0         \n",
            "_________________________________________________________________\n",
            "dense_3 (Dense)              (None, 4)                 120004    \n",
            "=================================================================\n",
            "Total params: 867,604\n",
            "Trainable params: 867,604\n",
            "Non-trainable params: 0\n",
            "_________________________________________________________________\n"
          ]
        }
      ]
    },
    {
      "cell_type": "code",
      "metadata": {
        "colab": {
          "base_uri": "https://localhost:8080/"
        },
        "id": "lSJFRpdXaTAL",
        "outputId": "08b86c40-12fc-43a7-83d0-8e133c5ca119"
      },
      "source": [
        "from tensorflow.keras.utils import to_categorical\n",
        "\n",
        "model.fit(X_train_encoded, to_categorical(y_train_topic, num_classes=4), \n",
        "          validation_data=(X_dev_encoded, to_categorical(y_dev_topic, num_classes=4)), \n",
        "          batch_size=128, epochs=10)"
      ],
      "execution_count": null,
      "outputs": [
        {
          "output_type": "stream",
          "name": "stdout",
          "text": [
            "Epoch 1/10\n",
            "90/90 [==============================] - 4s 38ms/step - loss: 0.2927 - binary_accuracy: 0.8782 - val_loss: 0.2006 - val_binary_accuracy: 0.9150\n",
            "Epoch 2/10\n",
            "90/90 [==============================] - 3s 34ms/step - loss: 0.1702 - binary_accuracy: 0.9322 - val_loss: 0.1594 - val_binary_accuracy: 0.9345\n",
            "Epoch 3/10\n",
            "90/90 [==============================] - 3s 34ms/step - loss: 0.1341 - binary_accuracy: 0.9488 - val_loss: 0.1526 - val_binary_accuracy: 0.9368\n",
            "Epoch 4/10\n",
            "90/90 [==============================] - 3s 34ms/step - loss: 0.1146 - binary_accuracy: 0.9579 - val_loss: 0.1532 - val_binary_accuracy: 0.9383\n",
            "Epoch 5/10\n",
            "90/90 [==============================] - 3s 34ms/step - loss: 0.0985 - binary_accuracy: 0.9653 - val_loss: 0.1556 - val_binary_accuracy: 0.9364\n",
            "Epoch 6/10\n",
            "90/90 [==============================] - 3s 34ms/step - loss: 0.0854 - binary_accuracy: 0.9711 - val_loss: 0.1615 - val_binary_accuracy: 0.9343\n",
            "Epoch 7/10\n",
            "90/90 [==============================] - 3s 34ms/step - loss: 0.0728 - binary_accuracy: 0.9776 - val_loss: 0.1668 - val_binary_accuracy: 0.9362\n",
            "Epoch 8/10\n",
            "90/90 [==============================] - 3s 35ms/step - loss: 0.0629 - binary_accuracy: 0.9812 - val_loss: 0.1737 - val_binary_accuracy: 0.9334\n",
            "Epoch 9/10\n",
            "90/90 [==============================] - 3s 34ms/step - loss: 0.0547 - binary_accuracy: 0.9843 - val_loss: 0.1815 - val_binary_accuracy: 0.9316\n",
            "Epoch 10/10\n",
            "90/90 [==============================] - 3s 33ms/step - loss: 0.0479 - binary_accuracy: 0.9870 - val_loss: 0.1916 - val_binary_accuracy: 0.9326\n"
          ]
        },
        {
          "output_type": "execute_result",
          "data": {
            "text/plain": [
              "<keras.callbacks.History at 0x7fc0386763d0>"
            ]
          },
          "metadata": {},
          "execution_count": 61
        }
      ]
    },
    {
      "cell_type": "code",
      "metadata": {
        "id": "Dq3hQ_WJaepb"
      },
      "source": [
        "import numpy as np\n",
        "y_topic_pred_test = model.predict(X_test_encoded)\n",
        "y_topic_pred_test = np.argmax(y_topic_pred_test, axis=-1)"
      ],
      "execution_count": null,
      "outputs": []
    },
    {
      "cell_type": "code",
      "metadata": {
        "colab": {
          "base_uri": "https://localhost:8080/"
        },
        "id": "MCUf5CvZaepb",
        "outputId": "7af1cc6e-e3e9-4fcf-cecc-56b538b558d0"
      },
      "source": [
        "from sklearn.metrics import classification_report\n",
        "target_names = ['Lecturer', 'Curriculum', 'Facility', 'others']\n",
        "print(classification_report(y_test_topic, y_topic_pred_test, target_names=target_names))"
      ],
      "execution_count": null,
      "outputs": [
        {
          "output_type": "stream",
          "name": "stdout",
          "text": [
            "              precision    recall  f1-score   support\n",
            "\n",
            "    Lecturer       0.93      0.93      0.93      2290\n",
            "  Curriculum       0.69      0.78      0.73       572\n",
            "    Facility       0.94      0.87      0.90       145\n",
            "      others       0.59      0.40      0.47       159\n",
            "\n",
            "    accuracy                           0.87      3166\n",
            "   macro avg       0.79      0.74      0.76      3166\n",
            "weighted avg       0.87      0.87      0.87      3166\n",
            "\n"
          ]
        }
      ]
    },
    {
      "cell_type": "markdown",
      "metadata": {
        "id": "cF8kx3jzU0mx"
      },
      "source": [
        "# Pre-trained Embedding "
      ]
    },
    {
      "cell_type": "code",
      "metadata": {
        "colab": {
          "base_uri": "https://localhost:8080/"
        },
        "id": "79TKWhrMW0BG",
        "outputId": "4b27ccaf-3cef-42be-ec62-df14f5581e1c"
      },
      "source": [
        "pip install pyvi"
      ],
      "execution_count": null,
      "outputs": [
        {
          "output_type": "stream",
          "name": "stdout",
          "text": [
            "Requirement already satisfied: pyvi in /usr/local/lib/python3.7/dist-packages (0.1.1)\n",
            "Requirement already satisfied: sklearn-crfsuite in /usr/local/lib/python3.7/dist-packages (from pyvi) (0.3.6)\n",
            "Requirement already satisfied: scikit-learn in /usr/local/lib/python3.7/dist-packages (from pyvi) (0.22.2.post1)\n",
            "Requirement already satisfied: joblib>=0.11 in /usr/local/lib/python3.7/dist-packages (from scikit-learn->pyvi) (1.0.1)\n",
            "Requirement already satisfied: scipy>=0.17.0 in /usr/local/lib/python3.7/dist-packages (from scikit-learn->pyvi) (1.4.1)\n",
            "Requirement already satisfied: numpy>=1.11.0 in /usr/local/lib/python3.7/dist-packages (from scikit-learn->pyvi) (1.19.5)\n",
            "Requirement already satisfied: tabulate in /usr/local/lib/python3.7/dist-packages (from sklearn-crfsuite->pyvi) (0.8.9)\n",
            "Requirement already satisfied: python-crfsuite>=0.8.3 in /usr/local/lib/python3.7/dist-packages (from sklearn-crfsuite->pyvi) (0.9.7)\n",
            "Requirement already satisfied: tqdm>=2.0 in /usr/local/lib/python3.7/dist-packages (from sklearn-crfsuite->pyvi) (4.62.3)\n",
            "Requirement already satisfied: six in /usr/local/lib/python3.7/dist-packages (from sklearn-crfsuite->pyvi) (1.15.0)\n"
          ]
        }
      ]
    },
    {
      "cell_type": "code",
      "metadata": {
        "colab": {
          "base_uri": "https://localhost:8080/"
        },
        "id": "kvlxke8pU26f",
        "outputId": "2662a842-7978-4bc1-f51c-b6634adbae0c"
      },
      "source": [
        "# Read embedding\n",
        "word_dict = []\n",
        "embeddings_index = {}\n",
        "embedding_dim = 300\n",
        "max_feature = len(embeddings_index) + 2\n",
        "\n",
        "f = open('/content/drive/MyDrive/Download(Win11)/W2V_ner.vec/W2V_ner.vec')\n",
        "for line in f:\n",
        "    values = line.split(' ')\n",
        "    word = values[0] \n",
        "    word_dict.append(word)\n",
        "    try:\n",
        "        coefs = np.asarray(values[1:], dtype='float32')\n",
        "        embeddings_index[word] = coefs\n",
        "    except Exception as e:\n",
        "        pass\n",
        "f.close()\n",
        "\n",
        "print('Embedding data loaded')"
      ],
      "execution_count": null,
      "outputs": [
        {
          "output_type": "stream",
          "name": "stdout",
          "text": [
            "Embedding data loaded\n"
          ]
        }
      ]
    },
    {
      "cell_type": "code",
      "metadata": {
        "id": "DSZzC5Gk7nzY"
      },
      "source": [
        "from tensorflow.keras.preprocessing.sequence import pad_sequences\n",
        "from pyvi import ViTokenizer\n",
        "from keras.preprocessing.text import Tokenizer\n",
        "\n",
        "max_len = 100\n",
        "\n",
        "word_tokenizer = Tokenizer(oov_token=-1)\n",
        "word_tokenizer.fit_on_texts(X_train.values)\n",
        "word_to_index = word_tokenizer.word_index\n",
        "word_to_index['pad'] = 0\n",
        "word_to_index['unk'] = -1\n",
        "\n",
        "index_to_word = {i: w for w, i in word_to_index.items()}\n",
        "\n",
        "def encoding(X):\n",
        "    sentences = []\n",
        "    \n",
        "    for t in X:\n",
        "        tokenized_sentence = ViTokenizer.tokenize(t)\n",
        "        sentences.append(tokenized_sentence)\n",
        "    \n",
        "    X = word_tokenizer.texts_to_sequences(sentences)\n",
        "    X = pad_sequences(maxlen = max_len, sequences = X, padding = \"post\", value = word_to_index['pad'])\n",
        "\n",
        "    return X"
      ],
      "execution_count": null,
      "outputs": []
    },
    {
      "cell_type": "code",
      "metadata": {
        "id": "YwX146sL8tyk"
      },
      "source": [
        "import numpy as np \n",
        "# first create a matrix of zeros, this is our embedding matrix\n",
        "num_words = len(word_to_index)\n",
        "\n",
        "embedding_matrix = np.zeros((num_words, embedding_dim))\n",
        "\n",
        "# for each word in out tokenizer lets try to find that work in our w2v model\n",
        "for word, i in word_to_index.items():\n",
        "    if i > max_feature:\n",
        "        continue\n",
        "    embedding_vector = embeddings_index.get(word)\n",
        "    if embedding_vector is not None:\n",
        "        embedding_matrix[i] = embedding_vector\n",
        "    else:\n",
        "        # doesn't exist, assign a random vector\n",
        "        embedding_matrix[i] = np.random.randn(embedding_dim)"
      ],
      "execution_count": null,
      "outputs": []
    },
    {
      "cell_type": "code",
      "metadata": {
        "id": "GTW2RFvCYTwW"
      },
      "source": [
        "X_train_encoded = encoding(X_train)\n",
        "X_dev_encoded = encoding(X_dev)\n",
        "X_test_encoded = encoding(X_test)"
      ],
      "execution_count": null,
      "outputs": []
    },
    {
      "cell_type": "markdown",
      "metadata": {
        "id": "ytmml55Hivri"
      },
      "source": [
        "##Sentiment"
      ]
    },
    {
      "cell_type": "code",
      "metadata": {
        "colab": {
          "base_uri": "https://localhost:8080/"
        },
        "id": "UZTauR7jbCD-",
        "outputId": "879b8014-a903-48e2-d5c3-2e5aac1eb5ee"
      },
      "source": [
        "from keras.layers import Dense, Embedding, Flatten\n",
        "from keras.models import Model, Input\n",
        "from keras.initializers import Constant\n",
        "\n",
        "num_words = len(word_to_index)\n",
        "\n",
        "input = Input(shape = (max_len, ))\n",
        "emb = Embedding(input_dim=num_words,\n",
        "                    output_dim=embedding_dim,\n",
        "                    embeddings_initializer=Constant(embedding_matrix),\n",
        "                    input_length=max_len,\n",
        "                    trainable=True)(input)\n",
        "flat = Flatten()(emb)\n",
        "output = Dense(3, activation=\"sigmoid\")(flat)\n",
        "\n",
        "model = Model(input, output)\n",
        "model.compile(optimizer=\"adam\", loss='binary_crossentropy', metrics=['binary_accuracy'])\n",
        "\n",
        "model.summary()"
      ],
      "execution_count": null,
      "outputs": [
        {
          "output_type": "stream",
          "name": "stdout",
          "text": [
            "Model: \"model_4\"\n",
            "_________________________________________________________________\n",
            "Layer (type)                 Output Shape              Param #   \n",
            "=================================================================\n",
            "input_5 (InputLayer)         [(None, 100)]             0         \n",
            "_________________________________________________________________\n",
            "embedding_4 (Embedding)      (None, 100, 300)          747300    \n",
            "_________________________________________________________________\n",
            "flatten_4 (Flatten)          (None, 30000)             0         \n",
            "_________________________________________________________________\n",
            "dense_4 (Dense)              (None, 3)                 90003     \n",
            "=================================================================\n",
            "Total params: 837,303\n",
            "Trainable params: 837,303\n",
            "Non-trainable params: 0\n",
            "_________________________________________________________________\n"
          ]
        }
      ]
    },
    {
      "cell_type": "code",
      "metadata": {
        "colab": {
          "base_uri": "https://localhost:8080/"
        },
        "id": "RqHCG6qughYT",
        "outputId": "83a2ff59-ddad-4da2-8d0a-39457764f953"
      },
      "source": [
        "from tensorflow.keras.utils import to_categorical\n",
        "\n",
        "model.fit(X_train_encoded, to_categorical(y_train, num_classes=3), \n",
        "          validation_data=(X_dev_encoded, to_categorical(y_dev, num_classes=3)), batch_size=128, epochs=10)"
      ],
      "execution_count": null,
      "outputs": [
        {
          "output_type": "stream",
          "name": "stdout",
          "text": [
            "Epoch 1/10\n",
            "90/90 [==============================] - 4s 38ms/step - loss: 0.8702 - binary_accuracy: 0.7589 - val_loss: 0.3510 - val_binary_accuracy: 0.8764\n",
            "Epoch 2/10\n",
            "90/90 [==============================] - 3s 36ms/step - loss: 0.2570 - binary_accuracy: 0.9055 - val_loss: 0.2303 - val_binary_accuracy: 0.9099\n",
            "Epoch 3/10\n",
            "90/90 [==============================] - 3s 36ms/step - loss: 0.2141 - binary_accuracy: 0.9222 - val_loss: 0.3225 - val_binary_accuracy: 0.8490\n",
            "Epoch 4/10\n",
            "90/90 [==============================] - 3s 36ms/step - loss: 0.2821 - binary_accuracy: 0.9320 - val_loss: 0.2369 - val_binary_accuracy: 0.9061\n",
            "Epoch 5/10\n",
            "90/90 [==============================] - 3s 36ms/step - loss: 0.1803 - binary_accuracy: 0.9411 - val_loss: 0.2310 - val_binary_accuracy: 0.9255\n",
            "Epoch 6/10\n",
            "90/90 [==============================] - 3s 36ms/step - loss: 0.1499 - binary_accuracy: 0.9486 - val_loss: 0.1969 - val_binary_accuracy: 0.9360\n",
            "Epoch 7/10\n",
            "90/90 [==============================] - 3s 36ms/step - loss: 0.1584 - binary_accuracy: 0.9521 - val_loss: 0.2409 - val_binary_accuracy: 0.9257\n",
            "Epoch 8/10\n",
            "90/90 [==============================] - 3s 36ms/step - loss: 0.1407 - binary_accuracy: 0.9526 - val_loss: 0.1994 - val_binary_accuracy: 0.9370\n",
            "Epoch 9/10\n",
            "90/90 [==============================] - 3s 36ms/step - loss: 0.1319 - binary_accuracy: 0.9537 - val_loss: 0.2182 - val_binary_accuracy: 0.9215\n",
            "Epoch 10/10\n",
            "90/90 [==============================] - 3s 36ms/step - loss: 0.1169 - binary_accuracy: 0.9615 - val_loss: 0.2033 - val_binary_accuracy: 0.9280\n"
          ]
        },
        {
          "output_type": "execute_result",
          "data": {
            "text/plain": [
              "<keras.callbacks.History at 0x7fc030fb5a90>"
            ]
          },
          "metadata": {},
          "execution_count": 70
        }
      ]
    },
    {
      "cell_type": "code",
      "metadata": {
        "id": "G4iUGKbgbG_V"
      },
      "source": [
        "import numpy as np\n",
        "y_pred_test = model.predict(X_test_encoded)\n",
        "y_pred_test = np.argmax(y_pred_test, axis=-1)"
      ],
      "execution_count": null,
      "outputs": []
    },
    {
      "cell_type": "code",
      "metadata": {
        "colab": {
          "base_uri": "https://localhost:8080/"
        },
        "id": "7yeMoq3SbIrh",
        "outputId": "997a5328-285f-4a31-eafd-fed0cdd4710f"
      },
      "source": [
        "from sklearn.metrics import classification_report\n",
        "target_names = ['negative', 'neutral', 'positive']\n",
        "print(classification_report(y_test, y_pred_test, target_names=target_names))"
      ],
      "execution_count": null,
      "outputs": [
        {
          "output_type": "stream",
          "name": "stdout",
          "text": [
            "              precision    recall  f1-score   support\n",
            "\n",
            "    negative       0.90      0.92      0.91      1409\n",
            "     neutral       0.45      0.34      0.38       167\n",
            "    positive       0.91      0.92      0.92      1590\n",
            "\n",
            "    accuracy                           0.89      3166\n",
            "   macro avg       0.75      0.72      0.74      3166\n",
            "weighted avg       0.88      0.89      0.89      3166\n",
            "\n"
          ]
        }
      ]
    },
    {
      "cell_type": "markdown",
      "metadata": {
        "id": "MxWShWB6ixsu"
      },
      "source": [
        "##Topic"
      ]
    },
    {
      "cell_type": "code",
      "metadata": {
        "colab": {
          "base_uri": "https://localhost:8080/"
        },
        "id": "Xc0VF1Uhb6U-",
        "outputId": "06da48bb-b97f-4bea-b9a1-112edce2fd51"
      },
      "source": [
        "from keras.layers import Dense, Embedding, Flatten\n",
        "from keras.models import Model, Input\n",
        "from keras.initializers import Constant\n",
        "\n",
        "num_words = len(word_to_index)\n",
        "\n",
        "input = Input(shape = (max_len, ))\n",
        "emb = Embedding(input_dim=num_words,\n",
        "                    output_dim=embedding_dim,\n",
        "                    embeddings_initializer=Constant(embedding_matrix),\n",
        "                    input_length=max_len,\n",
        "                    trainable=True)(input)\n",
        "flat = Flatten()(emb)\n",
        "output = Dense(4, activation=\"sigmoid\")(flat)\n",
        "\n",
        "model = Model(input, output)\n",
        "model.compile(optimizer=\"adam\", loss='binary_crossentropy', metrics=['binary_accuracy'])\n",
        "\n",
        "model.summary()"
      ],
      "execution_count": null,
      "outputs": [
        {
          "output_type": "stream",
          "name": "stdout",
          "text": [
            "Model: \"model_5\"\n",
            "_________________________________________________________________\n",
            "Layer (type)                 Output Shape              Param #   \n",
            "=================================================================\n",
            "input_6 (InputLayer)         [(None, 100)]             0         \n",
            "_________________________________________________________________\n",
            "embedding_5 (Embedding)      (None, 100, 300)          747300    \n",
            "_________________________________________________________________\n",
            "flatten_5 (Flatten)          (None, 30000)             0         \n",
            "_________________________________________________________________\n",
            "dense_5 (Dense)              (None, 4)                 120004    \n",
            "=================================================================\n",
            "Total params: 867,304\n",
            "Trainable params: 867,304\n",
            "Non-trainable params: 0\n",
            "_________________________________________________________________\n"
          ]
        }
      ]
    },
    {
      "cell_type": "code",
      "metadata": {
        "colab": {
          "base_uri": "https://localhost:8080/"
        },
        "id": "vMUGx5Dob6VI",
        "outputId": "218ac325-b1ed-4b90-9b42-3e05385d2d3a"
      },
      "source": [
        "from tensorflow.keras.utils import to_categorical\n",
        "\n",
        "model.fit(X_train_encoded, to_categorical(y_train_topic, num_classes=4), \n",
        "          validation_data=(X_dev_encoded, to_categorical(y_dev_topic, num_classes=4)), batch_size=64, epochs=10)"
      ],
      "execution_count": null,
      "outputs": [
        {
          "output_type": "stream",
          "name": "stdout",
          "text": [
            "Epoch 1/10\n",
            "179/179 [==============================] - 5s 26ms/step - loss: 0.5306 - binary_accuracy: 0.8673 - val_loss: 0.2178 - val_binary_accuracy: 0.9093\n",
            "Epoch 2/10\n",
            "179/179 [==============================] - 4s 25ms/step - loss: 0.2391 - binary_accuracy: 0.9110 - val_loss: 0.2320 - val_binary_accuracy: 0.9289\n",
            "Epoch 3/10\n",
            "179/179 [==============================] - 4s 24ms/step - loss: 0.2001 - binary_accuracy: 0.9284 - val_loss: 0.1856 - val_binary_accuracy: 0.9261\n",
            "Epoch 4/10\n",
            "179/179 [==============================] - 4s 24ms/step - loss: 0.1626 - binary_accuracy: 0.9383 - val_loss: 0.2057 - val_binary_accuracy: 0.9226\n",
            "Epoch 5/10\n",
            "179/179 [==============================] - 4s 25ms/step - loss: 0.1441 - binary_accuracy: 0.9459 - val_loss: 0.1766 - val_binary_accuracy: 0.9308\n",
            "Epoch 6/10\n",
            "179/179 [==============================] - 5s 25ms/step - loss: 0.1253 - binary_accuracy: 0.9532 - val_loss: 0.2444 - val_binary_accuracy: 0.9190\n",
            "Epoch 7/10\n",
            "179/179 [==============================] - 4s 24ms/step - loss: 0.1452 - binary_accuracy: 0.9475 - val_loss: 0.3050 - val_binary_accuracy: 0.9210\n",
            "Epoch 8/10\n",
            "179/179 [==============================] - 4s 25ms/step - loss: 0.1211 - binary_accuracy: 0.9563 - val_loss: 0.2027 - val_binary_accuracy: 0.9337\n",
            "Epoch 9/10\n",
            "179/179 [==============================] - 4s 25ms/step - loss: 0.1061 - binary_accuracy: 0.9611 - val_loss: 0.2030 - val_binary_accuracy: 0.9256\n",
            "Epoch 10/10\n",
            "179/179 [==============================] - 4s 25ms/step - loss: 0.0970 - binary_accuracy: 0.9648 - val_loss: 0.2104 - val_binary_accuracy: 0.9256\n"
          ]
        },
        {
          "output_type": "execute_result",
          "data": {
            "text/plain": [
              "<keras.callbacks.History at 0x7fc031299890>"
            ]
          },
          "metadata": {},
          "execution_count": 74
        }
      ]
    },
    {
      "cell_type": "code",
      "metadata": {
        "id": "rEok-QuAb6VJ"
      },
      "source": [
        "import numpy as np\n",
        "y_topic_pred_test = model.predict(X_test_encoded)\n",
        "y_topic_pred_test = np.argmax(y_topic_pred_test, axis=-1)"
      ],
      "execution_count": null,
      "outputs": []
    },
    {
      "cell_type": "code",
      "metadata": {
        "colab": {
          "base_uri": "https://localhost:8080/"
        },
        "id": "ec4yhqu1b6VJ",
        "outputId": "8bb63a83-0697-4764-c54f-19273626397b"
      },
      "source": [
        "\n",
        "from sklearn.metrics import classification_report\n",
        "target_names = ['Lecturer', 'Curriculum', 'Facility', 'others']\n",
        "print(classification_report(y_test_topic, y_topic_pred_test, target_names=target_names))"
      ],
      "execution_count": null,
      "outputs": [
        {
          "output_type": "stream",
          "name": "stdout",
          "text": [
            "              precision    recall  f1-score   support\n",
            "\n",
            "    Lecturer       0.93      0.92      0.92      2290\n",
            "  Curriculum       0.71      0.76      0.74       572\n",
            "    Facility       0.93      0.85      0.89       145\n",
            "      others       0.48      0.51      0.50       159\n",
            "\n",
            "    accuracy                           0.87      3166\n",
            "   macro avg       0.76      0.76      0.76      3166\n",
            "weighted avg       0.87      0.87      0.87      3166\n",
            "\n"
          ]
        }
      ]
    },
    {
      "cell_type": "markdown",
      "metadata": {
        "id": "AV_ktvB282ij"
      },
      "source": [
        "#Results comparison graph"
      ]
    },
    {
      "cell_type": "markdown",
      "metadata": {
        "id": "71v6mhvJKEdB"
      },
      "source": [
        "![result.png](data:image/png;base64,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)"
      ]
    }
  ]
}